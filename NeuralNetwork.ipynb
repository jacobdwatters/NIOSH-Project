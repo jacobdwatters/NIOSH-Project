{
  "nbformat": 4,
  "nbformat_minor": 0,
  "metadata": {
    "colab": {
      "provenance": [],
      "authorship_tag": "ABX9TyMy6sZYS5x1Ob5dom3OlGXe",
      "include_colab_link": true
    },
    "kernelspec": {
      "name": "python3",
      "display_name": "Python 3"
    },
    "language_info": {
      "name": "python"
    }
  },
  "cells": [
    {
      "cell_type": "markdown",
      "metadata": {
        "id": "view-in-github",
        "colab_type": "text"
      },
      "source": [
        "<a href=\"https://colab.research.google.com/github/jacobdwatters/NIOSH-Project/blob/main/NeuralNetwork.ipynb\" target=\"_parent\"><img src=\"https://colab.research.google.com/assets/colab-badge.svg\" alt=\"Open In Colab\"/></a>"
      ]
    },
    {
      "cell_type": "code",
      "execution_count": 92,
      "metadata": {
        "colab": {
          "base_uri": "https://localhost:8080/"
        },
        "id": "F2S4P4nfO4ij",
        "outputId": "7503de5a-49be-4df6-90a9-3a829e20bdbc"
      },
      "outputs": [
        {
          "output_type": "stream",
          "name": "stdout",
          "text": [
            "Looking in indexes: https://pypi.org/simple, https://us-python.pkg.dev/colab-wheels/public/simple/\n",
            "Collecting torchmetrics\n",
            "  Downloading torchmetrics-0.10.2-py3-none-any.whl (529 kB)\n",
            "\u001b[K     |████████████████████████████████| 529 kB 32.4 MB/s \n",
            "\u001b[?25hRequirement already satisfied: packaging in /usr/local/lib/python3.7/dist-packages (from torchmetrics) (21.3)\n",
            "Requirement already satisfied: torch>=1.3.1 in /usr/local/lib/python3.7/dist-packages (from torchmetrics) (1.12.1+cu113)\n",
            "Requirement already satisfied: numpy>=1.17.2 in /usr/local/lib/python3.7/dist-packages (from torchmetrics) (1.21.6)\n",
            "Requirement already satisfied: typing-extensions in /usr/local/lib/python3.7/dist-packages (from torchmetrics) (4.1.1)\n",
            "Requirement already satisfied: pyparsing!=3.0.5,>=2.0.2 in /usr/local/lib/python3.7/dist-packages (from packaging->torchmetrics) (3.0.9)\n",
            "Installing collected packages: torchmetrics\n",
            "Successfully installed torchmetrics-0.10.2\n"
          ]
        }
      ],
      "source": [
        "!pip install torchmetrics\n",
        "\n",
        "import numpy as np\n",
        "import pandas as pd\n",
        "import seaborn as sns\n",
        "import matplotlib.pyplot as plt\n",
        "import torch\n",
        "from torch import nn, tensor\n",
        "from torch.optim import SGD\n",
        "from torch.utils.data import DataLoader, Dataset\n",
        "from datetime import datetime\n",
        "from sklearn.preprocessing import StandardScaler, OneHotEncoder\n",
        "from sklearn.model_selection import train_test_split\n",
        "\n",
        "from torchmetrics import R2Score\n",
        "\n",
        "pd.set_option('display.max_rows', 100)\n",
        "pd.set_option('display.max_columns', 100)\n",
        "pd.set_option('display.width', 1000)"
      ]
    },
    {
      "cell_type": "code",
      "source": [
        "from google.colab import drive\n",
        "drive.mount('/content/gdrive')"
      ],
      "metadata": {
        "colab": {
          "base_uri": "https://localhost:8080/"
        },
        "id": "X2cvhQjPPP7e",
        "outputId": "90733331-1289-44df-e6c7-3f9ece3c2f1b"
      },
      "execution_count": 39,
      "outputs": [
        {
          "output_type": "stream",
          "name": "stdout",
          "text": [
            "Drive already mounted at /content/gdrive; to attempt to forcibly remount, call drive.mount(\"/content/gdrive\", force_remount=True).\n"
          ]
        }
      ]
    },
    {
      "cell_type": "code",
      "source": [
        "violation_data = pd.read_csv('/content/gdrive/My Drive/NIOSH Project/data/violations_processed.csv', index_col=0)"
      ],
      "metadata": {
        "id": "Z84R8RhbPeHn"
      },
      "execution_count": 40,
      "outputs": []
    },
    {
      "cell_type": "code",
      "source": [
        "FEATURES = ['MINE_TYPE', 'COAL_METAL_IND', 'SIG_SUB', 'LIKELIHOOD', \n",
        "            'INJ_ILLNESS', 'NO_AFFECTED', 'NEGLIGENCE', 'VIOLATOR_VIOLATION_CNT',\n",
        "            'VIOLATOR_INSPECTION_DAY_CNT']\n",
        "TARGETS = ['PROPOSED_PENALTY']\n",
        "\n",
        "X = violation_data[FEATURES]\n",
        "y = violation_data[TARGETS]"
      ],
      "metadata": {
        "id": "zDe_NdjgtCsg"
      },
      "execution_count": 41,
      "outputs": []
    },
    {
      "cell_type": "code",
      "source": [
        "# Define which columns should be encoded vs scaled\n",
        "columns_to_encode = ['MINE_TYPE', 'COAL_METAL_IND', 'LIKELIHOOD', 'INJ_ILLNESS', 'SIG_SUB', 'NEGLIGENCE']\n",
        "columns_to_scale  = ['VIOLATOR_VIOLATION_CNT', 'NO_AFFECTED', 'VIOLATOR_INSPECTION_DAY_CNT']\n",
        "\n",
        "# Instantiate encoder/scaler\n",
        "scaler = StandardScaler()\n",
        "ohe = OneHotEncoder(sparse=False)\n",
        "\n",
        "target_scaler = StandardScaler()\n",
        "\n",
        "# Scale and Encode Separate Columns\n",
        "scaled_columns  = scaler.fit_transform(X[columns_to_scale])\n",
        "encoded_columns = ohe.fit_transform(X[columns_to_encode])\n",
        "\n",
        "# Concatenate (Column-Bind) Processed Columns Back Together\n",
        "X_pre = np.concatenate([scaled_columns, encoded_columns], axis=1)\n",
        "np.nan_to_num(X_pre, copy=False)\n",
        "\n",
        "y_pre = target_scaler.fit_transform(y)\n",
        "\n",
        "print('Features shape:', X_pre.shape)"
      ],
      "metadata": {
        "colab": {
          "base_uri": "https://localhost:8080/"
        },
        "id": "_d-_82gjPleY",
        "outputId": "cdd24046-b7bc-4cc3-e130-71df632c0d68"
      },
      "execution_count": 42,
      "outputs": [
        {
          "output_type": "stream",
          "name": "stdout",
          "text": [
            "Features shape: (2755922, 24)\n"
          ]
        }
      ]
    },
    {
      "cell_type": "code",
      "source": [
        "X_train, X_test, y_train, y_test = train_test_split(X_pre, y_pre, test_size = 0.25, random_state = 0)\n",
        "\n",
        "X_train = X_train.astype(np.float32)\n",
        "X_test = X_test.astype(np.float32)\n",
        "y_train = y_train.astype(np.float32)\n",
        "y_test = y_test.astype(np.float32)\n",
        "\n",
        "class ViolationDataset(Dataset):\n",
        "    def __init__(self, features, targets):\n",
        "        self.features = tensor(features)\n",
        "        self.targets = tensor(targets)\n",
        "    \n",
        "    def __len__(self):\n",
        "        return len(self.targets)\n",
        "      \n",
        "    def __getitem__(self, index):\n",
        "        return self.features[index], self.targets[index]\n",
        "\n",
        "train_dataset = ViolationDataset(X_train, y_train)\n",
        "test_dataset = ViolationDataset(X_test, y_test)\n",
        "\n",
        "train_loader = DataLoader(train_dataset, batch_size=8, shuffle=True)\n",
        "test_loader = DataLoader(train_dataset, batch_size=8, shuffle=True)"
      ],
      "metadata": {
        "id": "_MOlFmT-QvXJ"
      },
      "execution_count": 102,
      "outputs": []
    },
    {
      "cell_type": "code",
      "source": [],
      "metadata": {
        "colab": {
          "base_uri": "https://localhost:8080/"
        },
        "id": "Rz5i2CA-zhx0",
        "outputId": "c4027edc-7bfb-48a0-fd92-19b0b4fdb0d2"
      },
      "execution_count": 52,
      "outputs": [
        {
          "output_type": "execute_result",
          "data": {
            "text/plain": [
              "(tensor([0.9049, 0.5556, 0.3927, 0.0000, 0.0000, 1.0000, 1.0000, 0.0000, 0.0000,\n",
              "         0.0000, 0.0000, 0.0000, 1.0000, 0.0000, 0.0000, 0.0000, 1.0000, 1.0000,\n",
              "         0.0000, 0.0000, 0.0000, 1.0000, 0.0000, 0.0000]), tensor([0.6788]))"
            ]
          },
          "metadata": {},
          "execution_count": 52
        }
      ]
    },
    {
      "cell_type": "code",
      "source": [
        "device = \"cuda\" if torch.cuda.is_available() else \"cpu\"\n",
        "print(f\"Using {device} device\")"
      ],
      "metadata": {
        "colab": {
          "base_uri": "https://localhost:8080/"
        },
        "id": "7LYfVocStd4N",
        "outputId": "1378f8bb-5f1d-46fe-e5d4-63ba20322c78"
      },
      "execution_count": 96,
      "outputs": [
        {
          "output_type": "stream",
          "name": "stdout",
          "text": [
            "Using cpu device\n"
          ]
        }
      ]
    },
    {
      "cell_type": "code",
      "source": [
        "class NeuralNetwork(nn.Module):\n",
        "    def __init__(self):\n",
        "        super(NeuralNetwork, self).__init__()\n",
        "        self.linear_relu_stack = nn.Sequential(\n",
        "            nn.Linear(24, 48),\n",
        "            nn.ReLU(),\n",
        "            nn.Linear(48, 48),\n",
        "            nn.ReLU(),\n",
        "            nn.Linear(48, 24),\n",
        "            nn.ReLU(),\n",
        "            nn.Linear(24, 1)\n",
        "        )\n",
        "\n",
        "    def forward(self, x):\n",
        "        logits = self.linear_relu_stack(x)\n",
        "        return logits"
      ],
      "metadata": {
        "id": "NrZh4lMSt_Cl"
      },
      "execution_count": 103,
      "outputs": []
    },
    {
      "cell_type": "code",
      "source": [
        "model = NeuralNetwork().to(device)\n",
        "print(model)"
      ],
      "metadata": {
        "colab": {
          "base_uri": "https://localhost:8080/"
        },
        "id": "_rWlzcbwujnn",
        "outputId": "381a8b2f-5e0f-4c5e-f721-156a56ce6686"
      },
      "execution_count": 104,
      "outputs": [
        {
          "output_type": "stream",
          "name": "stdout",
          "text": [
            "NeuralNetwork(\n",
            "  (linear_relu_stack): Sequential(\n",
            "    (0): Linear(in_features=24, out_features=48, bias=True)\n",
            "    (1): ReLU()\n",
            "    (2): Linear(in_features=48, out_features=48, bias=True)\n",
            "    (3): ReLU()\n",
            "    (4): Linear(in_features=48, out_features=24, bias=True)\n",
            "    (5): ReLU()\n",
            "    (6): Linear(in_features=24, out_features=1, bias=True)\n",
            "  )\n",
            ")\n"
          ]
        }
      ]
    },
    {
      "cell_type": "code",
      "source": [
        "criterion = nn.MSELoss()\n",
        "optimizer = SGD(model.parameters(), lr=0.0001, momentum=0.9)\n",
        "try:\n",
        "    model.train()\n",
        "    for epoch in range(2):  # loop over the dataset multiple times\n",
        "        running_loss = 0.0\n",
        "        for i, data in enumerate(train_loader, 0):\n",
        "            # get the inputs; data is a list of [inputs, labels]\n",
        "            inputs, labels = data\n",
        "\n",
        "            # zero the parameter gradients\n",
        "            optimizer.zero_grad()\n",
        "\n",
        "            # forward + backward + optimize\n",
        "            outputs = model(inputs)\n",
        "            loss = criterion(outputs, labels)\n",
        "            loss.backward()\n",
        "            optimizer.step()\n",
        "\n",
        "            # print statistics\n",
        "            running_loss += loss.item()\n",
        "            if i % 2000 == 1999:    # print every 2000 mini-batches\n",
        "                print(f'[{epoch + 1}, {i + 1:5d}] loss: {running_loss / 2000:.3f}')\n",
        "                running_loss = 0.0\n",
        "except KeyboardInterrupt:\n",
        "    pass\n",
        "\n",
        "model.eval()\n",
        "print('Finished Training')"
      ],
      "metadata": {
        "colab": {
          "base_uri": "https://localhost:8080/"
        },
        "id": "T1EQJ_CkvSRa",
        "outputId": "ef898674-2403-42fa-852d-35cf3ab3d88d"
      },
      "execution_count": 105,
      "outputs": [
        {
          "output_type": "stream",
          "name": "stdout",
          "text": [
            "[1,  2000] loss: 1.234\n",
            "[1,  4000] loss: 0.933\n",
            "[1,  6000] loss: 0.896\n",
            "[1,  8000] loss: 0.772\n",
            "[1, 10000] loss: 0.825\n",
            "[1, 12000] loss: 0.764\n",
            "[1, 14000] loss: 1.208\n",
            "[1, 16000] loss: 1.032\n",
            "[1, 18000] loss: 0.865\n",
            "[1, 20000] loss: 1.306\n",
            "[1, 22000] loss: 0.934\n",
            "[1, 24000] loss: 0.798\n",
            "[1, 26000] loss: 1.157\n",
            "[1, 28000] loss: 0.654\n",
            "[1, 30000] loss: 1.352\n",
            "[1, 32000] loss: 0.706\n",
            "[1, 34000] loss: 0.937\n",
            "[1, 36000] loss: 0.813\n",
            "[1, 38000] loss: 0.983\n",
            "[1, 40000] loss: 0.784\n",
            "[1, 42000] loss: 0.760\n",
            "[1, 44000] loss: 1.226\n",
            "[1, 46000] loss: 0.528\n",
            "[1, 48000] loss: 0.650\n",
            "[1, 50000] loss: 0.480\n",
            "[1, 52000] loss: 0.471\n",
            "[1, 54000] loss: 0.751\n",
            "[1, 56000] loss: 0.486\n",
            "[1, 58000] loss: 1.333\n",
            "[1, 60000] loss: 0.642\n",
            "[1, 62000] loss: 0.905\n",
            "[1, 64000] loss: 0.788\n",
            "[1, 66000] loss: 0.757\n",
            "[1, 68000] loss: 0.656\n",
            "[1, 70000] loss: 0.885\n",
            "[1, 72000] loss: 0.638\n",
            "[1, 74000] loss: 0.612\n",
            "[1, 76000] loss: 0.659\n",
            "[1, 78000] loss: 0.627\n",
            "[1, 80000] loss: 0.588\n",
            "[1, 82000] loss: 0.386\n",
            "[1, 84000] loss: 0.645\n",
            "[1, 86000] loss: 0.462\n",
            "[1, 88000] loss: 0.640\n",
            "[1, 90000] loss: 0.564\n",
            "[1, 92000] loss: 0.492\n",
            "[1, 94000] loss: 0.601\n",
            "[1, 96000] loss: 0.522\n",
            "[1, 98000] loss: 1.164\n",
            "[1, 100000] loss: 0.763\n",
            "[1, 102000] loss: 0.500\n",
            "[1, 104000] loss: 0.427\n",
            "[1, 106000] loss: 0.723\n",
            "[1, 108000] loss: 0.470\n",
            "[1, 110000] loss: 0.749\n",
            "[1, 112000] loss: 0.463\n",
            "[1, 114000] loss: 0.616\n",
            "[1, 116000] loss: 0.569\n",
            "[1, 118000] loss: 0.534\n",
            "[1, 120000] loss: 0.676\n",
            "[1, 122000] loss: 0.478\n",
            "[1, 124000] loss: 0.373\n",
            "[1, 126000] loss: 0.380\n",
            "[1, 128000] loss: 0.572\n",
            "[1, 130000] loss: 0.317\n",
            "[1, 132000] loss: 0.491\n",
            "[1, 134000] loss: 0.523\n",
            "[1, 136000] loss: 0.895\n",
            "[1, 138000] loss: 0.815\n",
            "[1, 140000] loss: 0.461\n",
            "[1, 142000] loss: 0.573\n",
            "[1, 144000] loss: 0.642\n",
            "[1, 146000] loss: 1.095\n",
            "[1, 148000] loss: 0.791\n",
            "[1, 150000] loss: 0.748\n",
            "[1, 152000] loss: 0.688\n",
            "[1, 154000] loss: 0.426\n",
            "[1, 156000] loss: 0.616\n",
            "[1, 158000] loss: 0.454\n",
            "[1, 160000] loss: 0.364\n",
            "[1, 162000] loss: 0.818\n",
            "[1, 164000] loss: 0.668\n",
            "[1, 166000] loss: 0.570\n",
            "[1, 168000] loss: 0.649\n",
            "[1, 170000] loss: 0.394\n",
            "[1, 172000] loss: 0.453\n",
            "[1, 174000] loss: 0.569\n",
            "[1, 176000] loss: 0.810\n",
            "[1, 178000] loss: 0.603\n",
            "[1, 180000] loss: 0.429\n",
            "[1, 182000] loss: 0.781\n",
            "[1, 184000] loss: 0.532\n",
            "[1, 186000] loss: 0.864\n",
            "[1, 188000] loss: 0.591\n",
            "[1, 190000] loss: 0.852\n",
            "[1, 192000] loss: 0.595\n",
            "[1, 194000] loss: 0.624\n",
            "[1, 196000] loss: 0.475\n",
            "[1, 198000] loss: 0.689\n",
            "[1, 200000] loss: 0.752\n",
            "[1, 202000] loss: 0.565\n",
            "[1, 204000] loss: 0.658\n",
            "[1, 206000] loss: 0.436\n",
            "[1, 208000] loss: 0.696\n",
            "[1, 210000] loss: 0.716\n",
            "[1, 212000] loss: 0.444\n",
            "[1, 214000] loss: 0.393\n",
            "[1, 216000] loss: 0.541\n",
            "[1, 218000] loss: 0.362\n",
            "[1, 220000] loss: 0.572\n",
            "[1, 222000] loss: 0.469\n",
            "[1, 224000] loss: 0.664\n",
            "[1, 226000] loss: 0.469\n",
            "[1, 228000] loss: 0.644\n",
            "[1, 230000] loss: 0.659\n",
            "[1, 232000] loss: 0.672\n",
            "[1, 234000] loss: 0.587\n",
            "[1, 236000] loss: 0.519\n",
            "[1, 238000] loss: 0.831\n",
            "[1, 240000] loss: 0.438\n",
            "Finished Training\n"
          ]
        }
      ]
    },
    {
      "cell_type": "code",
      "source": [
        "y_pred = model(tensor(X_test))\n",
        "R2Score()(y_pred, tensor(y_test))"
      ],
      "metadata": {
        "colab": {
          "base_uri": "https://localhost:8080/"
        },
        "id": "rb9oPm9V5NX3",
        "outputId": "e6d5a759-34c7-46dd-a323-c5031691dc21"
      },
      "execution_count": 106,
      "outputs": [
        {
          "output_type": "execute_result",
          "data": {
            "text/plain": [
              "tensor(0.4278, grad_fn=<SqueezeBackward0>)"
            ]
          },
          "metadata": {},
          "execution_count": 106
        }
      ]
    }
  ]
}