{
  "nbformat": 4,
  "nbformat_minor": 0,
  "metadata": {
    "colab": {
      "provenance": [],
      "authorship_tag": "ABX9TyPc8BZg0y3UcO2BSq5q+FHs",
      "include_colab_link": true
    },
    "kernelspec": {
      "name": "python3",
      "display_name": "Python 3"
    },
    "language_info": {
      "name": "python"
    }
  },
  "cells": [
    {
      "cell_type": "markdown",
      "metadata": {
        "id": "view-in-github",
        "colab_type": "text"
      },
      "source": [
        "<a href=\"https://colab.research.google.com/github/jacobdwatters/NIOSH-Project/blob/main/RandomForest.ipynb\" target=\"_parent\"><img src=\"https://colab.research.google.com/assets/colab-badge.svg\" alt=\"Open In Colab\"/></a>"
      ]
    },
    {
      "cell_type": "markdown",
      "source": [
        "## Imports and Setup"
      ],
      "metadata": {
        "id": "S6py-5FdtKkQ"
      }
    },
    {
      "cell_type": "code",
      "execution_count": 7,
      "metadata": {
        "id": "cRG1vouBtI8d"
      },
      "outputs": [],
      "source": [
        "import numpy as np\n",
        "import pandas as pd\n",
        "import seaborn as sns\n",
        "import matplotlib.pyplot as plt\n",
        "\n",
        "import sklearn\n",
        "from sklearn.preprocessing import StandardScaler\n",
        "from sklearn.preprocessing import OneHotEncoder\n",
        "from sklearn.model_selection import train_test_split\n",
        "from sklearn.metrics import mean_absolute_error\n",
        "from sklearn.metrics import r2_score\n",
        "from sklearn.model_selection import cross_val_score\n",
        "from sklearn.ensemble import RandomForestRegressor\n",
        "\n",
        "import scipy as sp\n",
        "from scipy import stats"
      ]
    },
    {
      "cell_type": "code",
      "source": [
        "from google.colab import drive\n",
        "drive.mount('/content/gdrive')"
      ],
      "metadata": {
        "colab": {
          "base_uri": "https://localhost:8080/"
        },
        "id": "jyvlFew5tmQG",
        "outputId": "9d09a529-809a-4faf-a8e5-f9ce71fb9a88"
      },
      "execution_count": 2,
      "outputs": [
        {
          "output_type": "stream",
          "name": "stdout",
          "text": [
            "Mounted at /content/gdrive\n"
          ]
        }
      ]
    },
    {
      "cell_type": "markdown",
      "source": [
        "## Load and Process Data"
      ],
      "metadata": {
        "id": "vcr5sOAFtopj"
      }
    },
    {
      "cell_type": "code",
      "source": [
        "path_after_2010 = '/content/gdrive/My Drive/NIOSH Project/data/violations_processed_after_2010.csv'\n",
        "violation_data = pd.read_csv(path_after_2010)"
      ],
      "metadata": {
        "id": "HipfK3c9tq_3"
      },
      "execution_count": 3,
      "outputs": []
    },
    {
      "cell_type": "code",
      "source": [
        "FEATURES = ['MINE_TYPE', 'COAL_METAL_IND', 'SIG_SUB', 'LIKELIHOOD', \n",
        "            'INJ_ILLNESS', 'NO_AFFECTED', 'NEGLIGENCE', 'VIOLATOR_VIOLATION_CNT',\n",
        "            'VIOLATOR_INSPECTION_DAY_CNT']\n",
        "TARGETS = ['PROPOSED_PENALTY']\n",
        "\n",
        "X = violation_data[FEATURES]\n",
        "y = violation_data[TARGETS]"
      ],
      "metadata": {
        "id": "kFzCRM9_trtI"
      },
      "execution_count": 4,
      "outputs": []
    },
    {
      "cell_type": "code",
      "source": [
        "# Define which columns should be encoded vs scaled\n",
        "columns_to_encode = ['MINE_TYPE', 'COAL_METAL_IND', 'LIKELIHOOD', 'INJ_ILLNESS', 'SIG_SUB', 'NEGLIGENCE']\n",
        "columns_to_scale  = ['VIOLATOR_VIOLATION_CNT', 'NO_AFFECTED', 'VIOLATOR_INSPECTION_DAY_CNT']\n",
        "\n",
        "# Instantiate encoder/scaler\n",
        "scaler = StandardScaler()\n",
        "ohe = OneHotEncoder(sparse=False)\n",
        "\n",
        "# Scale and Encode Separate Columns\n",
        "scaled_columns  = scaler.fit_transform(X[columns_to_scale])\n",
        "encoded_columns = ohe.fit_transform(X[columns_to_encode])\n",
        "\n",
        "# Concatenate (Column-Bind) Processed Columns Back Together\n",
        "X_pre = np.concatenate([scaled_columns, encoded_columns], axis=1)\n",
        "np.nan_to_num(X_pre, copy=False)\n",
        "\n",
        "print('Features shape:', X_pre.shape)"
      ],
      "metadata": {
        "colab": {
          "base_uri": "https://localhost:8080/"
        },
        "id": "hdxMpaKYttMa",
        "outputId": "9beeb348-bbcc-4c6f-eb67-3faaa5bf29b9"
      },
      "execution_count": 5,
      "outputs": [
        {
          "output_type": "stream",
          "name": "stdout",
          "text": [
            "Features shape: (1429135, 24)\n"
          ]
        }
      ]
    },
    {
      "cell_type": "code",
      "source": [
        "X_train, X_test, y_train, y_test = train_test_split(X_pre, y, test_size = 0.25, random_state = 0)\n",
        "\n",
        "print('X_train shape:', X_train.shape)\n",
        "print('X_test shape:', X_test.shape)\n",
        "print('y_train shape:', y_train.shape)\n",
        "print('y_train shape:', y_test.shape)"
      ],
      "metadata": {
        "colab": {
          "base_uri": "https://localhost:8080/"
        },
        "id": "EoFAQnWStvxn",
        "outputId": "f19bf0ec-83be-4ae9-c33c-c11bca201764"
      },
      "execution_count": 6,
      "outputs": [
        {
          "output_type": "stream",
          "name": "stdout",
          "text": [
            "X_train shape: (1071851, 24)\n",
            "X_test shape: (357284, 24)\n",
            "y_train shape: (1071851, 1)\n",
            "y_train shape: (357284, 1)\n"
          ]
        }
      ]
    },
    {
      "cell_type": "markdown",
      "source": [
        "## Train Model"
      ],
      "metadata": {
        "id": "_mXLy8K2ubRC"
      }
    },
    {
      "cell_type": "code",
      "source": [
        "regr = RandomForestRegressor(max_depth=15, random_state=0)\n",
        "regr.fit(X_train, y_train)\n",
        "\n",
        "r2 = regr.score(X_test, y_test)\n",
        "print('R2 %.3f' % r2)"
      ],
      "metadata": {
        "colab": {
          "base_uri": "https://localhost:8080/"
        },
        "id": "pjUejVKduc0U",
        "outputId": "3d8092cc-81c2-4096-ec97-b6d1e6fb5939"
      },
      "execution_count": 10,
      "outputs": [
        {
          "output_type": "stream",
          "name": "stderr",
          "text": [
            "/usr/local/lib/python3.7/dist-packages/ipykernel_launcher.py:2: DataConversionWarning: A column-vector y was passed when a 1d array was expected. Please change the shape of y to (n_samples,), for example using ravel().\n",
            "  \n"
          ]
        },
        {
          "output_type": "stream",
          "name": "stdout",
          "text": [
            "R2 0.588\n"
          ]
        }
      ]
    },
    {
      "cell_type": "markdown",
      "source": [
        "## Prepare inlier Data"
      ],
      "metadata": {
        "id": "dFPYgDgXQjw9"
      }
    },
    {
      "cell_type": "code",
      "source": [
        "MAX_VALUE = 1000\n",
        "violations_cliped = violation_data[violation_data['PROPOSED_PENALTY'] <= MAX_VALUE]\n",
        "\n",
        "print('Total samples = %d' % len(violation_data))\n",
        "print('Total samples with PROPOSED_PENALTY <= %d: %d' % (MAX_VALUE, len(violations_cliped)))"
      ],
      "metadata": {
        "colab": {
          "base_uri": "https://localhost:8080/"
        },
        "id": "tkjEigmuQidJ",
        "outputId": "44e2f502-3f5c-4d05-ec80-5a83a5aee546"
      },
      "execution_count": 12,
      "outputs": [
        {
          "output_type": "stream",
          "name": "stdout",
          "text": [
            "Total samples = 1429135\n",
            "Total samples with PROPOSED_PENALTY <= 1000: 1259626\n"
          ]
        }
      ]
    },
    {
      "cell_type": "code",
      "source": [
        "X_inliers = violations_cliped[FEATURES]\n",
        "y_inliers = violations_cliped[TARGETS]\n",
        "\n",
        "# Instantiate encoder/scaler\n",
        "scaler = StandardScaler()\n",
        "ohe = OneHotEncoder(sparse=False)\n",
        "\n",
        "# Scale and Encode Separate Columns\n",
        "scaled_columns_inliers  = scaler.fit_transform(X_inliers[columns_to_scale])\n",
        "encoded_columns_inliers = ohe.fit_transform(X_inliers[columns_to_encode])\n",
        "\n",
        "# Concatenate (Column-Bind) Processed Columns Back Together\n",
        "X_pre_inliers = np.concatenate([scaled_columns_inliers, encoded_columns_inliers], axis=1)\n",
        "np.nan_to_num(X_pre_inliers, copy=False)\n",
        "\n",
        "X_train_inliers, X_test_inliers, y_train_inliers, y_test_inliers = train_test_split(X_pre_inliers, y_inliers, test_size = 0.25, random_state = 0)"
      ],
      "metadata": {
        "id": "1-A8-o22Qoxl"
      },
      "execution_count": 13,
      "outputs": []
    },
    {
      "cell_type": "markdown",
      "source": [
        "## Inlier Model"
      ],
      "metadata": {
        "id": "Yra8r-lRQqrs"
      }
    },
    {
      "cell_type": "code",
      "source": [
        "regr_inliers = RandomForestRegressor(max_depth=15, random_state=0)\n",
        "regr_inliers.fit(X_train_inliers, y_train_inliers)\n",
        "\n",
        "r2_inlier = regr_inliers.score(X_test_inliers, y_test_inliers)\n",
        "print('R2 %.3f' % r2_inlier)"
      ],
      "metadata": {
        "colab": {
          "base_uri": "https://localhost:8080/"
        },
        "id": "Kf9I068zQszb",
        "outputId": "abcf0da9-dada-4eaa-d455-a6328cc3efc7"
      },
      "execution_count": 14,
      "outputs": [
        {
          "output_type": "stream",
          "name": "stderr",
          "text": [
            "/usr/local/lib/python3.7/dist-packages/ipykernel_launcher.py:2: DataConversionWarning: A column-vector y was passed when a 1d array was expected. Please change the shape of y to (n_samples,), for example using ravel().\n",
            "  \n"
          ]
        },
        {
          "output_type": "stream",
          "name": "stdout",
          "text": [
            "R2 0.735\n"
          ]
        }
      ]
    },
    {
      "cell_type": "markdown",
      "source": [
        "## Prepare Outlier Data"
      ],
      "metadata": {
        "id": "foyhveU8ScDc"
      }
    },
    {
      "cell_type": "code",
      "source": [
        "violations_outliers = violation_data[violation_data['PROPOSED_PENALTY'] > MAX_VALUE]\n",
        "\n",
        "print('Total samples = %d' % len(violation_data))\n",
        "print('Total samples with PROPOSED_PENALTY > %d: %d' % (MAX_VALUE, len(violations_outliers)))"
      ],
      "metadata": {
        "colab": {
          "base_uri": "https://localhost:8080/"
        },
        "id": "-RIny0qPSfH2",
        "outputId": "fa5a5fb2-c9b3-43b6-cad2-56c376b427ec"
      },
      "execution_count": 15,
      "outputs": [
        {
          "output_type": "stream",
          "name": "stdout",
          "text": [
            "Total samples = 1429135\n",
            "Total samples with PROPOSED_PENALTY > 1000: 169509\n"
          ]
        }
      ]
    },
    {
      "cell_type": "code",
      "source": [
        "X_outliers = violations_outliers[FEATURES]\n",
        "y_outliers = violations_outliers[TARGETS]\n",
        "\n",
        "# Instantiate encoder/scaler\n",
        "scaler = StandardScaler()\n",
        "ohe = OneHotEncoder(sparse=False)\n",
        "\n",
        "# Scale and Encode Separate Columns\n",
        "scaled_columns_outliers  = scaler.fit_transform(X_outliers[columns_to_scale])\n",
        "encoded_columns_outliers = ohe.fit_transform(X_outliers[columns_to_encode])\n",
        "\n",
        "# Concatenate (Column-Bind) Processed Columns Back Together\n",
        "X_pre_outliers = np.concatenate([scaled_columns_outliers, encoded_columns_outliers], axis=1)\n",
        "np.nan_to_num(X_pre_outliers, copy=False)\n",
        "\n",
        "X_train_outliers, X_test_outliers, y_train_outliers, y_test_outliers = train_test_split(X_pre_outliers, y_outliers, test_size = 0.25, random_state = 0)"
      ],
      "metadata": {
        "id": "1Ew3ExsCSh_z"
      },
      "execution_count": 16,
      "outputs": []
    },
    {
      "cell_type": "markdown",
      "source": [
        "## Outlier Model"
      ],
      "metadata": {
        "id": "4xl3VygaSmDE"
      }
    },
    {
      "cell_type": "code",
      "source": [
        "regr_outliers = RandomForestRegressor(max_depth=10, random_state=42)\n",
        "regr_outliers.fit(X_train_outliers, y_train_outliers)\n",
        "\n",
        "r2_outliers = regr_inliers.score(X_test_outliers, y_test_outliers)\n",
        "print('R2 %.3f' % r2_outliers)"
      ],
      "metadata": {
        "colab": {
          "base_uri": "https://localhost:8080/"
        },
        "id": "LI4LskXSSoDw",
        "outputId": "e0b048fc-cdce-412b-99dd-012a2faf8ee5"
      },
      "execution_count": 19,
      "outputs": [
        {
          "output_type": "stream",
          "name": "stderr",
          "text": [
            "/usr/local/lib/python3.7/dist-packages/ipykernel_launcher.py:2: DataConversionWarning: A column-vector y was passed when a 1d array was expected. Please change the shape of y to (n_samples,), for example using ravel().\n",
            "  \n"
          ]
        },
        {
          "output_type": "stream",
          "name": "stdout",
          "text": [
            "R2 -0.166\n"
          ]
        }
      ]
    }
  ]
}