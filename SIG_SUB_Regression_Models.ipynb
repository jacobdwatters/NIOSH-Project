{
  "nbformat": 4,
  "nbformat_minor": 0,
  "metadata": {
    "colab": {
      "provenance": [],
      "authorship_tag": "ABX9TyMMlZEFQD9skOFH66A+DVBj",
      "include_colab_link": true
    },
    "kernelspec": {
      "name": "python3",
      "display_name": "Python 3"
    },
    "language_info": {
      "name": "python"
    }
  },
  "cells": [
    {
      "cell_type": "markdown",
      "metadata": {
        "id": "view-in-github",
        "colab_type": "text"
      },
      "source": [
        "<a href=\"https://colab.research.google.com/github/jacobdwatters/NIOSH-Project/blob/main/SIG_SUB_Regression_Models.ipynb\" target=\"_parent\"><img src=\"https://colab.research.google.com/assets/colab-badge.svg\" alt=\"Open In Colab\"/></a>"
      ]
    },
    {
      "cell_type": "code",
      "execution_count": 20,
      "metadata": {
        "id": "6jiu0b7x_ihn"
      },
      "outputs": [],
      "source": [
        "import numpy as np\n",
        "import pandas as pd\n",
        "import seaborn as sns\n",
        "import matplotlib.pyplot as plt\n",
        "\n",
        "import sklearn\n",
        "from sklearn.preprocessing import StandardScaler\n",
        "from sklearn.preprocessing import OneHotEncoder\n",
        "from sklearn.model_selection import train_test_split\n",
        "from sklearn.metrics import mean_absolute_error\n",
        "from sklearn.metrics import r2_score\n",
        "from sklearn.datasets import load_diabetes\n",
        "from sklearn.model_selection import cross_val_score\n",
        "from sklearn.tree import DecisionTreeRegressor\n",
        "from sklearn.ensemble import AdaBoostRegressor\n",
        "from sklearn.model_selection import cross_val_score\n",
        "\n",
        "from tensorflow import keras\n",
        "from tensorflow.keras import layers\n",
        "import tensorflow as tf\n",
        "\n",
        "import scipy as sp\n",
        "from scipy import stats"
      ]
    },
    {
      "cell_type": "code",
      "source": [
        "from google.colab import drive\n",
        "drive.mount('/content/gdrive')"
      ],
      "metadata": {
        "colab": {
          "base_uri": "https://localhost:8080/"
        },
        "id": "lA3BtUpn_nZN",
        "outputId": "678f0e50-0dd5-443b-9899-083aa547dcba"
      },
      "execution_count": 21,
      "outputs": [
        {
          "output_type": "stream",
          "name": "stdout",
          "text": [
            "Drive already mounted at /content/gdrive; to attempt to forcibly remount, call drive.mount(\"/content/gdrive\", force_remount=True).\n"
          ]
        }
      ]
    },
    {
      "cell_type": "code",
      "source": [
        "FEATURES = ['VIOLATION_OCCUR_DT', 'MINE_ID', 'MINE_TYPE', 'COAL_METAL_IND', 'SIG_SUB', \n",
        "            'INJ_ILLNESS', 'NO_AFFECTED', 'NEGLIGENCE', 'VIOLATOR_VIOLATION_CNT',\n",
        "            'VIOLATOR_INSPECTION_DAY_CNT']\n",
        "TARGETS = ['PROPOSED_PENALTY']"
      ],
      "metadata": {
        "id": "jbswFkyt_n0U"
      },
      "execution_count": 39,
      "outputs": []
    },
    {
      "cell_type": "code",
      "source": [
        "path = '/content/gdrive/My Drive/NIOSH Project/data/violations_processed_after_2010.csv'\n",
        "violation_data = pd.read_csv(path)\n",
        "\n",
        "print('Samples in dataset: ', len(violation_data))"
      ],
      "metadata": {
        "colab": {
          "base_uri": "https://localhost:8080/"
        },
        "id": "wJGALcVp_rTB",
        "outputId": "258192e8-b069-41c9-f5e2-8604b92e2c50"
      },
      "execution_count": 40,
      "outputs": [
        {
          "output_type": "stream",
          "name": "stdout",
          "text": [
            "Samples in dataset:  1429135\n"
          ]
        }
      ]
    },
    {
      "cell_type": "code",
      "source": [
        "significant_data = violation_data[violation_data['SIG_SUB'] == 'Y']\n",
        "print('Significant and substantial samples in dataset: ', len(significant_data))"
      ],
      "metadata": {
        "colab": {
          "base_uri": "https://localhost:8080/"
        },
        "id": "1JfDWvz_AT6Q",
        "outputId": "11ba7c89-bef1-428c-b686-06f3f2614674"
      },
      "execution_count": 41,
      "outputs": [
        {
          "output_type": "stream",
          "name": "stdout",
          "text": [
            "Significant and substantial samples in dataset:  342474\n"
          ]
        }
      ]
    },
    {
      "cell_type": "markdown",
      "source": [
        "## Prepare and Split Significant Data"
      ],
      "metadata": {
        "id": "m2YeZ4f3AvXO"
      }
    },
    {
      "cell_type": "code",
      "source": [
        "FEATURES = ['MINE_TYPE', 'COAL_METAL_IND', 'LIKELIHOOD', \n",
        "            'INJ_ILLNESS', 'NO_AFFECTED', 'NEGLIGENCE', 'VIOLATOR_VIOLATION_CNT',\n",
        "            'VIOLATOR_INSPECTION_DAY_CNT']\n",
        "TARGETS = ['PROPOSED_PENALTY']\n",
        "\n",
        "X = significant_data[FEATURES]\n",
        "y = significant_data[TARGETS]\n",
        "\n",
        "# Define which columns should be encoded vs scaled\n",
        "columns_to_encode = ['MINE_TYPE', 'COAL_METAL_IND', 'LIKELIHOOD', 'INJ_ILLNESS', 'NEGLIGENCE']\n",
        "columns_to_scale  = ['VIOLATOR_VIOLATION_CNT', 'NO_AFFECTED', 'VIOLATOR_INSPECTION_DAY_CNT']\n",
        "\n",
        "# Instantiate encoder/scaler\n",
        "scaler = StandardScaler()\n",
        "ohe = OneHotEncoder(sparse=False)\n",
        "\n",
        "# Scale and Encode Separate Columns\n",
        "scaled_columns  = scaler.fit_transform(X[columns_to_scale])\n",
        "encoded_columns = ohe.fit_transform(X[columns_to_encode])\n",
        "\n",
        "# Concatenate (Column-Bind) Processed Columns Back Together\n",
        "X_pre = np.concatenate([scaled_columns, encoded_columns], axis=1)\n",
        "np.nan_to_num(X_pre, copy=False)\n",
        "\n",
        "print('Features shape:', X_pre.shape)\n",
        "\n",
        "X_train, X_test, y_train, y_test = train_test_split(X_pre, y, test_size = 0.25, random_state = 0)\n",
        "\n",
        "print('X_train shape:', X_train.shape)\n",
        "print('X_test shape:', X_test.shape)\n",
        "print('y_train shape:', y_train.shape)\n",
        "print('y_train shape:', y_test.shape)"
      ],
      "metadata": {
        "colab": {
          "base_uri": "https://localhost:8080/"
        },
        "id": "Ejn4CWIkAuy0",
        "outputId": "5ca0c05d-cfd9-4d0f-bde5-a958657dd1d0"
      },
      "execution_count": 42,
      "outputs": [
        {
          "output_type": "stream",
          "name": "stdout",
          "text": [
            "Features shape: (342474, 22)\n",
            "X_train shape: (256855, 22)\n",
            "X_test shape: (85619, 22)\n",
            "y_train shape: (256855, 1)\n",
            "y_train shape: (85619, 1)\n"
          ]
        }
      ]
    },
    {
      "cell_type": "markdown",
      "source": [
        "## Train Desicion Tree"
      ],
      "metadata": {
        "id": "bsVhMezEB_dD"
      }
    },
    {
      "cell_type": "code",
      "source": [
        "tree_regressor_adaboost = AdaBoostRegressor(\n",
        "    DecisionTreeRegressor(max_depth=12), n_estimators=5, random_state=0\n",
        ")\n",
        "tree_regressor_adaboost.fit(X_train, np.ravel(y_train))"
      ],
      "metadata": {
        "colab": {
          "base_uri": "https://localhost:8080/"
        },
        "id": "KRS12RYmBPdJ",
        "outputId": "253b6d5c-df3c-4e0d-f238-5bf15f925104"
      },
      "execution_count": 43,
      "outputs": [
        {
          "output_type": "execute_result",
          "data": {
            "text/plain": [
              "AdaBoostRegressor(base_estimator=DecisionTreeRegressor(max_depth=12),\n",
              "                  n_estimators=5, random_state=0)"
            ]
          },
          "metadata": {},
          "execution_count": 43
        }
      ]
    },
    {
      "cell_type": "code",
      "source": [
        "tree_regressor_adaboost_y_pred_train = tree_regressor_adaboost.predict(X_train)\n",
        "tree_regressor_adaboost_y_pred_test = tree_regressor_adaboost.predict(X_test)\n",
        "\n",
        "tree_regressor_adaboost_r_squared_train = r2_score(y_train, tree_regressor_adaboost_y_pred_train)\n",
        "tree_regressor_adaboost_r_squared_test = r2_score(y_test, tree_regressor_adaboost_y_pred_test)\n",
        "\n",
        "tree_regressor_adaboost_mae_train = mean_absolute_error(y_train, tree_regressor_adaboost_y_pred_train)\n",
        "tree_regressor_adaboost_mae_test = mean_absolute_error(y_test, tree_regressor_adaboost_y_pred_test)\n",
        "\n",
        "print('Decision Tree Regression with AdaBoost Scores:')\n",
        "print('Training R^2 = %.3f' % tree_regressor_adaboost_r_squared_train)\n",
        "print('Training MAE = %.3f' % tree_regressor_adaboost_mae_train)\n",
        "\n",
        "print('\\nTesting R^2 = %.3f' % tree_regressor_adaboost_r_squared_test)\n",
        "print('Testing MAE = %.3f' % tree_regressor_adaboost_mae_test)"
      ],
      "metadata": {
        "colab": {
          "base_uri": "https://localhost:8080/"
        },
        "id": "NRzgovdMBRts",
        "outputId": "fef1a11d-c40c-4a26-bfee-b89ccae0cc9e"
      },
      "execution_count": 44,
      "outputs": [
        {
          "output_type": "stream",
          "name": "stdout",
          "text": [
            "Decision Tree Regression with AdaBoost Scores:\n",
            "Training R^2 = 0.751\n",
            "Training MAE = 1055.381\n",
            "\n",
            "Testing R^2 = 0.539\n",
            "Testing MAE = 1207.748\n"
          ]
        }
      ]
    },
    {
      "cell_type": "markdown",
      "source": [
        "#### Using 5-fold cross-validation"
      ],
      "metadata": {
        "id": "W09CdIvZTHav"
      }
    },
    {
      "cell_type": "code",
      "source": [
        "scores = cross_val_score(tree_regressor_adaboost, X_train, np.ravel(y_train), cv=5)\n",
        "print(\"r2 = %0.2f with a standard deviation of %0.2f\" % (scores.mean(), scores.std()))"
      ],
      "metadata": {
        "id": "5CIk4ZL_StiD",
        "outputId": "b98b7820-f525-4996-9262-e594745772b0",
        "colab": {
          "base_uri": "https://localhost:8080/"
        }
      },
      "execution_count": 48,
      "outputs": [
        {
          "output_type": "stream",
          "name": "stdout",
          "text": [
            "r2 = 0.50 with a standard deviation of 0.02\n"
          ]
        }
      ]
    },
    {
      "cell_type": "code",
      "source": [
        "scores = cross_val_score(tree_regressor_adaboost, X_train, np.ravel(y_train), cv=5, scoring=\"neg_mean_absolute_error\")\n",
        "print(\"MAE = %0.2f with a standard deviation of %0.2f\" % (-scores.mean(), scores.std()))"
      ],
      "metadata": {
        "id": "4wU88XE8U6jD",
        "outputId": "1ff3ab87-f22d-4b09-f30f-4448a482f9c4",
        "colab": {
          "base_uri": "https://localhost:8080/"
        }
      },
      "execution_count": 51,
      "outputs": [
        {
          "output_type": "stream",
          "name": "stdout",
          "text": [
            "MAE = 1248.44 with a standard deviation of 33.72\n"
          ]
        }
      ]
    },
    {
      "cell_type": "markdown",
      "source": [
        "## Train Neural Network"
      ],
      "metadata": {
        "id": "nxN3Egj_CDiw"
      }
    },
    {
      "cell_type": "code",
      "source": [
        "def scheduler(epoch, lr):\n",
        "  if epoch < 85:\n",
        "    return lr\n",
        "  else: # Drop learning rate after the first 85 epochs\n",
        "    return lr*np.exp(-0.05)"
      ],
      "metadata": {
        "id": "G0-n-ch8CCj4"
      },
      "execution_count": null,
      "outputs": []
    },
    {
      "cell_type": "code",
      "source": [
        "batch_size = 4096*2\n",
        "epochs = 45\n",
        "callback = tf.keras.callbacks.LearningRateScheduler(scheduler)\n",
        "\n",
        "model = keras.Sequential()\n",
        "\n",
        "model.add(keras.Input(shape = (len(X_train[0]), ) ))\n",
        "model.add(layers.Dense(64, activation=\"relu\"))\n",
        "model.add(layers.Dense(32, activation=\"relu\"))\n",
        "model.add(layers.Dense(16, activation=\"relu\"))\n",
        "model.add(layers.Dense(8, activation=\"relu\"))\n",
        "model.add(layers.Dense(8, activation=\"relu\"))\n",
        "model.add(layers.Dense(8, activation=\"relu\"))\n",
        "model.add(layers.Dense(1, activation=\"linear\"))\n",
        "\n",
        "\n",
        "opt = keras.optimizers.Adam(learning_rate=0.01)\n",
        "model.compile(loss=\"mse\", optimizer=opt)\n",
        "history = model.fit(X_train, y_train, epochs=epochs, batch_size=batch_size, \n",
        "                    callbacks=[callback], validation_data=(X_test, y_test))"
      ],
      "metadata": {
        "colab": {
          "base_uri": "https://localhost:8080/"
        },
        "id": "BKLIxnJLCKR1",
        "outputId": "ed3a221c-6e3d-402b-a07b-0852b65cece2"
      },
      "execution_count": null,
      "outputs": [
        {
          "output_type": "stream",
          "name": "stdout",
          "text": [
            "Epoch 1/45\n",
            "32/32 [==============================] - 3s 41ms/step - loss: 45314344.0000 - val_loss: 42103940.0000 - lr: 0.0100\n",
            "Epoch 2/45\n",
            "32/32 [==============================] - 1s 26ms/step - loss: 37331460.0000 - val_loss: 34606052.0000 - lr: 0.0100\n",
            "Epoch 3/45\n",
            "32/32 [==============================] - 1s 18ms/step - loss: 30265620.0000 - val_loss: 27545068.0000 - lr: 0.0100\n",
            "Epoch 4/45\n",
            "32/32 [==============================] - 1s 17ms/step - loss: 25264764.0000 - val_loss: 23662118.0000 - lr: 0.0100\n",
            "Epoch 5/45\n",
            "32/32 [==============================] - 1s 18ms/step - loss: 23036390.0000 - val_loss: 22625368.0000 - lr: 0.0100\n",
            "Epoch 6/45\n",
            "32/32 [==============================] - 1s 19ms/step - loss: 22787180.0000 - val_loss: 22304572.0000 - lr: 0.0100\n",
            "Epoch 7/45\n",
            "32/32 [==============================] - 1s 18ms/step - loss: 22417292.0000 - val_loss: 22093014.0000 - lr: 0.0100\n",
            "Epoch 8/45\n",
            "32/32 [==============================] - 1s 18ms/step - loss: 21996378.0000 - val_loss: 21506044.0000 - lr: 0.0100\n",
            "Epoch 9/45\n",
            "32/32 [==============================] - 1s 18ms/step - loss: 21465038.0000 - val_loss: 20996160.0000 - lr: 0.0100\n",
            "Epoch 10/45\n",
            "32/32 [==============================] - 1s 19ms/step - loss: 20735186.0000 - val_loss: 20278692.0000 - lr: 0.0100\n",
            "Epoch 11/45\n",
            "32/32 [==============================] - 1s 17ms/step - loss: 19961608.0000 - val_loss: 19603956.0000 - lr: 0.0100\n",
            "Epoch 12/45\n",
            "32/32 [==============================] - 1s 18ms/step - loss: 19615960.0000 - val_loss: 19347580.0000 - lr: 0.0100\n",
            "Epoch 13/45\n",
            "32/32 [==============================] - 1s 18ms/step - loss: 19484438.0000 - val_loss: 19378394.0000 - lr: 0.0100\n",
            "Epoch 14/45\n",
            "32/32 [==============================] - 1s 18ms/step - loss: 19379414.0000 - val_loss: 19380726.0000 - lr: 0.0100\n",
            "Epoch 15/45\n",
            "32/32 [==============================] - 1s 18ms/step - loss: 19341862.0000 - val_loss: 19464278.0000 - lr: 0.0100\n",
            "Epoch 16/45\n",
            "32/32 [==============================] - 1s 17ms/step - loss: 19171128.0000 - val_loss: 19453502.0000 - lr: 0.0100\n",
            "Epoch 17/45\n",
            "32/32 [==============================] - 1s 18ms/step - loss: 19064594.0000 - val_loss: 19135168.0000 - lr: 0.0100\n",
            "Epoch 18/45\n",
            "32/32 [==============================] - 1s 18ms/step - loss: 18846544.0000 - val_loss: 19435612.0000 - lr: 0.0100\n",
            "Epoch 19/45\n",
            "32/32 [==============================] - 1s 19ms/step - loss: 18776586.0000 - val_loss: 19323482.0000 - lr: 0.0100\n",
            "Epoch 20/45\n",
            "32/32 [==============================] - 1s 30ms/step - loss: 18948546.0000 - val_loss: 19186732.0000 - lr: 0.0100\n",
            "Epoch 21/45\n",
            "32/32 [==============================] - 1s 31ms/step - loss: 18656960.0000 - val_loss: 18965498.0000 - lr: 0.0100\n",
            "Epoch 22/45\n",
            "32/32 [==============================] - 1s 28ms/step - loss: 18828266.0000 - val_loss: 19373378.0000 - lr: 0.0100\n",
            "Epoch 23/45\n",
            "32/32 [==============================] - 1s 35ms/step - loss: 18538712.0000 - val_loss: 19342078.0000 - lr: 0.0100\n",
            "Epoch 24/45\n",
            "32/32 [==============================] - 1s 40ms/step - loss: 18511790.0000 - val_loss: 19161242.0000 - lr: 0.0100\n",
            "Epoch 25/45\n",
            "32/32 [==============================] - 1s 37ms/step - loss: 18692700.0000 - val_loss: 19265426.0000 - lr: 0.0100\n",
            "Epoch 26/45\n",
            "32/32 [==============================] - 1s 36ms/step - loss: 18561334.0000 - val_loss: 18881688.0000 - lr: 0.0100\n",
            "Epoch 27/45\n",
            "32/32 [==============================] - 1s 33ms/step - loss: 18369144.0000 - val_loss: 18833500.0000 - lr: 0.0100\n",
            "Epoch 28/45\n",
            "32/32 [==============================] - 1s 35ms/step - loss: 18254266.0000 - val_loss: 18983502.0000 - lr: 0.0100\n",
            "Epoch 29/45\n",
            "32/32 [==============================] - 1s 34ms/step - loss: 18241710.0000 - val_loss: 19000550.0000 - lr: 0.0100\n",
            "Epoch 30/45\n",
            "32/32 [==============================] - 1s 30ms/step - loss: 18273720.0000 - val_loss: 18812164.0000 - lr: 0.0100\n",
            "Epoch 31/45\n",
            "32/32 [==============================] - 1s 18ms/step - loss: 18128844.0000 - val_loss: 18933342.0000 - lr: 0.0100\n",
            "Epoch 32/45\n",
            "32/32 [==============================] - 1s 18ms/step - loss: 18163510.0000 - val_loss: 19129622.0000 - lr: 0.0100\n",
            "Epoch 33/45\n",
            "32/32 [==============================] - 1s 18ms/step - loss: 18077922.0000 - val_loss: 18874022.0000 - lr: 0.0100\n",
            "Epoch 34/45\n",
            "32/32 [==============================] - 1s 20ms/step - loss: 18324720.0000 - val_loss: 19175418.0000 - lr: 0.0100\n",
            "Epoch 35/45\n",
            "32/32 [==============================] - 1s 18ms/step - loss: 18123934.0000 - val_loss: 18761136.0000 - lr: 0.0100\n",
            "Epoch 36/45\n",
            "32/32 [==============================] - 1s 24ms/step - loss: 17957408.0000 - val_loss: 18890726.0000 - lr: 0.0100\n",
            "Epoch 37/45\n",
            "32/32 [==============================] - 1s 28ms/step - loss: 18048458.0000 - val_loss: 19046724.0000 - lr: 0.0100\n",
            "Epoch 38/45\n",
            "32/32 [==============================] - 1s 30ms/step - loss: 18022328.0000 - val_loss: 19028446.0000 - lr: 0.0100\n",
            "Epoch 39/45\n",
            "32/32 [==============================] - 1s 29ms/step - loss: 17895114.0000 - val_loss: 18728504.0000 - lr: 0.0100\n",
            "Epoch 40/45\n",
            "32/32 [==============================] - 1s 28ms/step - loss: 17800496.0000 - val_loss: 18778726.0000 - lr: 0.0100\n",
            "Epoch 41/45\n",
            "32/32 [==============================] - 1s 28ms/step - loss: 17756812.0000 - val_loss: 18708986.0000 - lr: 0.0100\n",
            "Epoch 42/45\n",
            "32/32 [==============================] - 1s 19ms/step - loss: 17732698.0000 - val_loss: 18845152.0000 - lr: 0.0100\n",
            "Epoch 43/45\n",
            "32/32 [==============================] - 1s 17ms/step - loss: 17761650.0000 - val_loss: 18986582.0000 - lr: 0.0100\n",
            "Epoch 44/45\n",
            "32/32 [==============================] - 1s 18ms/step - loss: 17649982.0000 - val_loss: 18867460.0000 - lr: 0.0100\n",
            "Epoch 45/45\n",
            "32/32 [==============================] - 1s 17ms/step - loss: 17661688.0000 - val_loss: 18742994.0000 - lr: 0.0100\n"
          ]
        }
      ]
    },
    {
      "cell_type": "code",
      "source": [
        "y_pred = model.predict(X_test)\n",
        "r2 = r2_score(y_test, y_pred)\n",
        "\n",
        "print('r2 = %.3f' % r2)"
      ],
      "metadata": {
        "colab": {
          "base_uri": "https://localhost:8080/"
        },
        "id": "JTAbOW6PCP10",
        "outputId": "bd0b70a0-143b-44df-ca21-4e07c6bf7597"
      },
      "execution_count": null,
      "outputs": [
        {
          "output_type": "stream",
          "name": "stdout",
          "text": [
            "2676/2676 [==============================] - 5s 2ms/step\n",
            "r2 = 0.580\n"
          ]
        }
      ]
    },
    {
      "cell_type": "code",
      "source": [
        "# summarize history for loss\n",
        "plt.plot(history.history['loss'])\n",
        "plt.plot(history.history['val_loss'])\n",
        "plt.title('model loss')\n",
        "plt.ylabel('loss')\n",
        "plt.xlabel('epoch')\n",
        "plt.legend(['train', 'test'], loc='upper left')\n",
        "plt.show()"
      ],
      "metadata": {
        "colab": {
          "base_uri": "https://localhost:8080/",
          "height": 295
        },
        "id": "FykBP4mHCWzo",
        "outputId": "7980900d-7563-40bd-fdc2-b486524e27c5"
      },
      "execution_count": null,
      "outputs": [
        {
          "output_type": "display_data",
          "data": {
            "text/plain": [
              "<Figure size 432x288 with 1 Axes>"
            ],
            "image/png": "[encoded data removed]"
          },
          "metadata": {
            "needs_background": "light"
          }
        }
      ]
    }
  ]
}