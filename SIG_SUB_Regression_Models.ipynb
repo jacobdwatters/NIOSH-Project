{
  "nbformat": 4,
  "nbformat_minor": 0,
  "metadata": {
    "colab": {
      "provenance": [],
      "toc_visible": true,
      "authorship_tag": "ABX9TyNSPcfgu+thvuvz0h7o5a0v",
      "include_colab_link": true
    },
    "kernelspec": {
      "name": "python3",
      "display_name": "Python 3"
    },
    "language_info": {
      "name": "python"
    }
  },
  "cells": [
    {
      "cell_type": "markdown",
      "metadata": {
        "id": "view-in-github",
        "colab_type": "text"
      },
      "source": [
        "<a href=\"https://colab.research.google.com/github/jacobdwatters/NIOSH-Project/blob/main/SIG_SUB_Regression_Models.ipynb\" target=\"_parent\"><img src=\"https://colab.research.google.com/assets/colab-badge.svg\" alt=\"Open In Colab\"/></a>"
      ]
    },
    {
      "cell_type": "code",
      "source": [
        "%pip install scikeras[tensorflow]"
      ],
      "metadata": {
        "id": "AkHWcvOWWy3I",
        "outputId": "88a9d70f-6cec-4590-f305-241583ad3861",
        "colab": {
          "base_uri": "https://localhost:8080/"
        }
      },
      "execution_count": 2,
      "outputs": [
        {
          "output_type": "stream",
          "name": "stdout",
          "text": [
            "Looking in indexes: https://pypi.org/simple, https://us-python.pkg.dev/colab-wheels/public/simple/\n",
            "Collecting scikeras[tensorflow]\n",
            "  Downloading scikeras-0.10.0-py3-none-any.whl (27 kB)\n",
            "Requirement already satisfied: packaging>=0.21 in /usr/local/lib/python3.9/dist-packages (from scikeras[tensorflow]) (23.0)\n",
            "Requirement already satisfied: scikit-learn>=1.0.0 in /usr/local/lib/python3.9/dist-packages (from scikeras[tensorflow]) (1.2.1)\n",
            "Requirement already satisfied: tensorflow>=2.11.0 in /usr/local/lib/python3.9/dist-packages (from scikeras[tensorflow]) (2.11.0)\n",
            "Requirement already satisfied: threadpoolctl>=2.0.0 in /usr/local/lib/python3.9/dist-packages (from scikit-learn>=1.0.0->scikeras[tensorflow]) (3.1.0)\n",
            "Requirement already satisfied: numpy>=1.17.3 in /usr/local/lib/python3.9/dist-packages (from scikit-learn>=1.0.0->scikeras[tensorflow]) (1.22.4)\n",
            "Requirement already satisfied: joblib>=1.1.1 in /usr/local/lib/python3.9/dist-packages (from scikit-learn>=1.0.0->scikeras[tensorflow]) (1.2.0)\n",
            "Requirement already satisfied: scipy>=1.3.2 in /usr/local/lib/python3.9/dist-packages (from scikit-learn>=1.0.0->scikeras[tensorflow]) (1.10.1)\n",
            "Requirement already satisfied: protobuf<3.20,>=3.9.2 in /usr/local/lib/python3.9/dist-packages (from tensorflow>=2.11.0->scikeras[tensorflow]) (3.19.6)\n",
            "Requirement already satisfied: h5py>=2.9.0 in /usr/local/lib/python3.9/dist-packages (from tensorflow>=2.11.0->scikeras[tensorflow]) (3.1.0)\n",
            "Requirement already satisfied: keras<2.12,>=2.11.0 in /usr/local/lib/python3.9/dist-packages (from tensorflow>=2.11.0->scikeras[tensorflow]) (2.11.0)\n",
            "Requirement already satisfied: termcolor>=1.1.0 in /usr/local/lib/python3.9/dist-packages (from tensorflow>=2.11.0->scikeras[tensorflow]) (2.2.0)\n",
            "Requirement already satisfied: tensorflow-io-gcs-filesystem>=0.23.1 in /usr/local/lib/python3.9/dist-packages (from tensorflow>=2.11.0->scikeras[tensorflow]) (0.31.0)\n",
            "Requirement already satisfied: setuptools in /usr/local/lib/python3.9/dist-packages (from tensorflow>=2.11.0->scikeras[tensorflow]) (57.4.0)\n",
            "Requirement already satisfied: opt-einsum>=2.3.2 in /usr/local/lib/python3.9/dist-packages (from tensorflow>=2.11.0->scikeras[tensorflow]) (3.3.0)\n",
            "Requirement already satisfied: tensorboard<2.12,>=2.11 in /usr/local/lib/python3.9/dist-packages (from tensorflow>=2.11.0->scikeras[tensorflow]) (2.11.2)\n",
            "Requirement already satisfied: astunparse>=1.6.0 in /usr/local/lib/python3.9/dist-packages (from tensorflow>=2.11.0->scikeras[tensorflow]) (1.6.3)\n",
            "Requirement already satisfied: typing-extensions>=3.6.6 in /usr/local/lib/python3.9/dist-packages (from tensorflow>=2.11.0->scikeras[tensorflow]) (4.5.0)\n",
            "Requirement already satisfied: absl-py>=1.0.0 in /usr/local/lib/python3.9/dist-packages (from tensorflow>=2.11.0->scikeras[tensorflow]) (1.4.0)\n",
            "Requirement already satisfied: six>=1.12.0 in /usr/local/lib/python3.9/dist-packages (from tensorflow>=2.11.0->scikeras[tensorflow]) (1.15.0)\n",
            "Requirement already satisfied: tensorflow-estimator<2.12,>=2.11.0 in /usr/local/lib/python3.9/dist-packages (from tensorflow>=2.11.0->scikeras[tensorflow]) (2.11.0)\n",
            "Requirement already satisfied: gast<=0.4.0,>=0.2.1 in /usr/local/lib/python3.9/dist-packages (from tensorflow>=2.11.0->scikeras[tensorflow]) (0.4.0)\n",
            "Requirement already satisfied: libclang>=13.0.0 in /usr/local/lib/python3.9/dist-packages (from tensorflow>=2.11.0->scikeras[tensorflow]) (15.0.6.1)\n",
            "Requirement already satisfied: flatbuffers>=2.0 in /usr/local/lib/python3.9/dist-packages (from tensorflow>=2.11.0->scikeras[tensorflow]) (23.3.3)\n",
            "Requirement already satisfied: google-pasta>=0.1.1 in /usr/local/lib/python3.9/dist-packages (from tensorflow>=2.11.0->scikeras[tensorflow]) (0.2.0)\n",
            "Requirement already satisfied: wrapt>=1.11.0 in /usr/local/lib/python3.9/dist-packages (from tensorflow>=2.11.0->scikeras[tensorflow]) (1.15.0)\n",
            "Requirement already satisfied: grpcio<2.0,>=1.24.3 in /usr/local/lib/python3.9/dist-packages (from tensorflow>=2.11.0->scikeras[tensorflow]) (1.51.3)\n",
            "Requirement already satisfied: wheel<1.0,>=0.23.0 in /usr/local/lib/python3.9/dist-packages (from astunparse>=1.6.0->tensorflow>=2.11.0->scikeras[tensorflow]) (0.38.4)\n",
            "Requirement already satisfied: werkzeug>=1.0.1 in /usr/local/lib/python3.9/dist-packages (from tensorboard<2.12,>=2.11->tensorflow>=2.11.0->scikeras[tensorflow]) (2.2.3)\n",
            "Requirement already satisfied: markdown>=2.6.8 in /usr/local/lib/python3.9/dist-packages (from tensorboard<2.12,>=2.11->tensorflow>=2.11.0->scikeras[tensorflow]) (3.4.1)\n",
            "Requirement already satisfied: requests<3,>=2.21.0 in /usr/local/lib/python3.9/dist-packages (from tensorboard<2.12,>=2.11->tensorflow>=2.11.0->scikeras[tensorflow]) (2.25.1)\n",
            "Requirement already satisfied: google-auth-oauthlib<0.5,>=0.4.1 in /usr/local/lib/python3.9/dist-packages (from tensorboard<2.12,>=2.11->tensorflow>=2.11.0->scikeras[tensorflow]) (0.4.6)\n",
            "Requirement already satisfied: tensorboard-plugin-wit>=1.6.0 in /usr/local/lib/python3.9/dist-packages (from tensorboard<2.12,>=2.11->tensorflow>=2.11.0->scikeras[tensorflow]) (1.8.1)\n",
            "Requirement already satisfied: tensorboard-data-server<0.7.0,>=0.6.0 in /usr/local/lib/python3.9/dist-packages (from tensorboard<2.12,>=2.11->tensorflow>=2.11.0->scikeras[tensorflow]) (0.6.1)\n",
            "Requirement already satisfied: google-auth<3,>=1.6.3 in /usr/local/lib/python3.9/dist-packages (from tensorboard<2.12,>=2.11->tensorflow>=2.11.0->scikeras[tensorflow]) (2.16.2)\n",
            "Requirement already satisfied: rsa<5,>=3.1.4 in /usr/local/lib/python3.9/dist-packages (from google-auth<3,>=1.6.3->tensorboard<2.12,>=2.11->tensorflow>=2.11.0->scikeras[tensorflow]) (4.9)\n",
            "Requirement already satisfied: cachetools<6.0,>=2.0.0 in /usr/local/lib/python3.9/dist-packages (from google-auth<3,>=1.6.3->tensorboard<2.12,>=2.11->tensorflow>=2.11.0->scikeras[tensorflow]) (5.3.0)\n",
            "Requirement already satisfied: pyasn1-modules>=0.2.1 in /usr/local/lib/python3.9/dist-packages (from google-auth<3,>=1.6.3->tensorboard<2.12,>=2.11->tensorflow>=2.11.0->scikeras[tensorflow]) (0.2.8)\n",
            "Requirement already satisfied: requests-oauthlib>=0.7.0 in /usr/local/lib/python3.9/dist-packages (from google-auth-oauthlib<0.5,>=0.4.1->tensorboard<2.12,>=2.11->tensorflow>=2.11.0->scikeras[tensorflow]) (1.3.1)\n",
            "Requirement already satisfied: importlib-metadata>=4.4 in /usr/local/lib/python3.9/dist-packages (from markdown>=2.6.8->tensorboard<2.12,>=2.11->tensorflow>=2.11.0->scikeras[tensorflow]) (6.0.0)\n",
            "Requirement already satisfied: urllib3<1.27,>=1.21.1 in /usr/local/lib/python3.9/dist-packages (from requests<3,>=2.21.0->tensorboard<2.12,>=2.11->tensorflow>=2.11.0->scikeras[tensorflow]) (1.26.14)\n",
            "Requirement already satisfied: chardet<5,>=3.0.2 in /usr/local/lib/python3.9/dist-packages (from requests<3,>=2.21.0->tensorboard<2.12,>=2.11->tensorflow>=2.11.0->scikeras[tensorflow]) (4.0.0)\n",
            "Requirement already satisfied: certifi>=2017.4.17 in /usr/local/lib/python3.9/dist-packages (from requests<3,>=2.21.0->tensorboard<2.12,>=2.11->tensorflow>=2.11.0->scikeras[tensorflow]) (2022.12.7)\n",
            "Requirement already satisfied: idna<3,>=2.5 in /usr/local/lib/python3.9/dist-packages (from requests<3,>=2.21.0->tensorboard<2.12,>=2.11->tensorflow>=2.11.0->scikeras[tensorflow]) (2.10)\n",
            "Requirement already satisfied: MarkupSafe>=2.1.1 in /usr/local/lib/python3.9/dist-packages (from werkzeug>=1.0.1->tensorboard<2.12,>=2.11->tensorflow>=2.11.0->scikeras[tensorflow]) (2.1.2)\n",
            "Requirement already satisfied: zipp>=0.5 in /usr/local/lib/python3.9/dist-packages (from importlib-metadata>=4.4->markdown>=2.6.8->tensorboard<2.12,>=2.11->tensorflow>=2.11.0->scikeras[tensorflow]) (3.15.0)\n",
            "Requirement already satisfied: pyasn1<0.5.0,>=0.4.6 in /usr/local/lib/python3.9/dist-packages (from pyasn1-modules>=0.2.1->google-auth<3,>=1.6.3->tensorboard<2.12,>=2.11->tensorflow>=2.11.0->scikeras[tensorflow]) (0.4.8)\n",
            "Requirement already satisfied: oauthlib>=3.0.0 in /usr/local/lib/python3.9/dist-packages (from requests-oauthlib>=0.7.0->google-auth-oauthlib<0.5,>=0.4.1->tensorboard<2.12,>=2.11->tensorflow>=2.11.0->scikeras[tensorflow]) (3.2.2)\n",
            "Installing collected packages: scikeras\n",
            "Successfully installed scikeras-0.10.0\n"
          ]
        }
      ]
    },
    {
      "cell_type": "code",
      "execution_count": 3,
      "metadata": {
        "id": "6jiu0b7x_ihn"
      },
      "outputs": [],
      "source": [
        "import numpy as np\n",
        "import pandas as pd\n",
        "import seaborn as sns\n",
        "import matplotlib.pyplot as plt\n",
        "\n",
        "import sklearn\n",
        "from sklearn.preprocessing import StandardScaler\n",
        "from sklearn.preprocessing import OneHotEncoder\n",
        "from sklearn.model_selection import train_test_split\n",
        "from sklearn.metrics import mean_absolute_error\n",
        "from sklearn.metrics import r2_score\n",
        "from sklearn.model_selection import cross_val_score\n",
        "from sklearn.tree import DecisionTreeRegressor\n",
        "from sklearn.ensemble import AdaBoostRegressor\n",
        "from sklearn.model_selection import cross_val_score\n",
        "from sklearn.model_selection import cross_validate\n",
        "from sklearn.model_selection import GridSearchCV\n",
        "\n",
        "from tensorflow import keras\n",
        "from tensorflow.keras import layers\n",
        "import tensorflow as tf\n",
        "\n",
        "from scikeras.wrappers import KerasRegressor\n",
        "\n",
        "import scipy as sp\n",
        "from scipy import stats"
      ]
    },
    {
      "cell_type": "code",
      "source": [
        "from google.colab import drive\n",
        "drive.mount('/content/gdrive')"
      ],
      "metadata": {
        "colab": {
          "base_uri": "https://localhost:8080/"
        },
        "id": "lA3BtUpn_nZN",
        "outputId": "ebe139b3-e7ed-431f-c460-ecad695b8234"
      },
      "execution_count": 4,
      "outputs": [
        {
          "output_type": "stream",
          "name": "stdout",
          "text": [
            "Mounted at /content/gdrive\n"
          ]
        }
      ]
    },
    {
      "cell_type": "code",
      "source": [
        "FEATURES = ['VIOLATION_OCCUR_DT', 'MINE_ID', 'MINE_TYPE', 'COAL_METAL_IND', 'SIG_SUB', \n",
        "            'INJ_ILLNESS', 'NO_AFFECTED', 'NEGLIGENCE', 'VIOLATOR_VIOLATION_CNT',\n",
        "            'VIOLATOR_INSPECTION_DAY_CNT']\n",
        "TARGETS = ['PROPOSED_PENALTY']"
      ],
      "metadata": {
        "id": "jbswFkyt_n0U"
      },
      "execution_count": 5,
      "outputs": []
    },
    {
      "cell_type": "code",
      "source": [
        "path = '/content/gdrive/My Drive/NIOSH Project/data/violations_processed_after_2010.csv'\n",
        "violation_data = pd.read_csv(path)\n",
        "\n",
        "print('Samples in dataset: ', len(violation_data))"
      ],
      "metadata": {
        "colab": {
          "base_uri": "https://localhost:8080/"
        },
        "id": "wJGALcVp_rTB",
        "outputId": "5887ff71-0048-453e-e842-1c5f0cbb037f"
      },
      "execution_count": 6,
      "outputs": [
        {
          "output_type": "stream",
          "name": "stdout",
          "text": [
            "Samples in dataset:  1429135\n"
          ]
        }
      ]
    },
    {
      "cell_type": "code",
      "source": [
        "significant_data = violation_data[violation_data['SIG_SUB'] == 'Y']\n",
        "print('Significant and substantial samples in dataset: ', len(significant_data))"
      ],
      "metadata": {
        "colab": {
          "base_uri": "https://localhost:8080/"
        },
        "id": "1JfDWvz_AT6Q",
        "outputId": "3e8a91b7-f163-4465-cc19-9b90c8cfe428"
      },
      "execution_count": 7,
      "outputs": [
        {
          "output_type": "stream",
          "name": "stdout",
          "text": [
            "Significant and substantial samples in dataset:  342474\n"
          ]
        }
      ]
    },
    {
      "cell_type": "markdown",
      "source": [
        "## Prepare and Split Significant Data"
      ],
      "metadata": {
        "id": "m2YeZ4f3AvXO"
      }
    },
    {
      "cell_type": "code",
      "source": [
        "FEATURES = ['MINE_TYPE', 'COAL_METAL_IND', 'LIKELIHOOD', \n",
        "            'INJ_ILLNESS', 'NO_AFFECTED', 'NEGLIGENCE', 'VIOLATOR_VIOLATION_CNT',\n",
        "            'VIOLATOR_INSPECTION_DAY_CNT']\n",
        "TARGETS = ['PROPOSED_PENALTY']\n",
        "\n",
        "X = significant_data[FEATURES]\n",
        "y = significant_data[TARGETS]\n",
        "\n",
        "# Define which columns should be encoded vs scaled\n",
        "columns_to_encode = ['MINE_TYPE', 'COAL_METAL_IND', 'LIKELIHOOD', 'INJ_ILLNESS', 'NEGLIGENCE']\n",
        "columns_to_scale  = ['VIOLATOR_VIOLATION_CNT', 'NO_AFFECTED', 'VIOLATOR_INSPECTION_DAY_CNT']\n",
        "\n",
        "# Instantiate encoder/scaler\n",
        "scaler = StandardScaler()\n",
        "ohe = OneHotEncoder(sparse=False)\n",
        "\n",
        "# Scale and Encode Separate Columns\n",
        "scaled_columns  = scaler.fit_transform(X[columns_to_scale])\n",
        "encoded_columns = ohe.fit_transform(X[columns_to_encode])\n",
        "\n",
        "# Concatenate (Column-Bind) Processed Columns Back Together\n",
        "X_pre = np.concatenate([scaled_columns, encoded_columns], axis=1)\n",
        "np.nan_to_num(X_pre, copy=False)\n",
        "\n",
        "print('Features shape:', X_pre.shape)\n",
        "\n",
        "X_train, X_test, y_train, y_test = train_test_split(X_pre, y, test_size = 0.25, random_state = 0)\n",
        "\n",
        "print('X_train shape:', X_train.shape)\n",
        "print('X_test shape:', X_test.shape)\n",
        "print('y_train shape:', y_train.shape)\n",
        "print('y_train shape:', y_test.shape)"
      ],
      "metadata": {
        "colab": {
          "base_uri": "https://localhost:8080/"
        },
        "id": "Ejn4CWIkAuy0",
        "outputId": "cda8b7de-29e6-46f7-929c-b8948db49502"
      },
      "execution_count": 8,
      "outputs": [
        {
          "output_type": "stream",
          "name": "stderr",
          "text": [
            "/usr/local/lib/python3.9/dist-packages/sklearn/preprocessing/_encoders.py:828: FutureWarning: `sparse` was renamed to `sparse_output` in version 1.2 and will be removed in 1.4. `sparse_output` is ignored unless you leave `sparse` to its default value.\n",
            "  warnings.warn(\n"
          ]
        },
        {
          "output_type": "stream",
          "name": "stdout",
          "text": [
            "Features shape: (342474, 22)\n",
            "X_train shape: (256855, 22)\n",
            "X_test shape: (85619, 22)\n",
            "y_train shape: (256855, 1)\n",
            "y_train shape: (85619, 1)\n"
          ]
        }
      ]
    },
    {
      "cell_type": "markdown",
      "source": [
        "## Desicion Tree Model With AdaBoost\n",
        "Apply hyper parameter tuning using cross-validation and gridsearch."
      ],
      "metadata": {
        "id": "bsVhMezEB_dD"
      }
    },
    {
      "cell_type": "code",
      "source": [
        "n_estimators_range = np.arange(2, 11, 2)\n",
        "max_depth_range = [DecisionTreeRegressor(max_depth=x) for x in range(2, 17, 2)]\n",
        "hyper_param_grid = dict(estimator=max_depth_range, n_estimators=n_estimators_range)\n",
        "\n",
        "tree_regressor_adaboost = AdaBoostRegressor()\n",
        "\n",
        "grid = GridSearchCV(tree_regressor_adaboost, hyper_param_grid, cv=5, return_train_score=False, refit=True, n_jobs=-1)\n",
        "grid.fit(X_train, y_train.values.ravel())\n",
        "\n",
        "tree_regressor_adaboost_optimal = grid.best_estimator_"
      ],
      "metadata": {
        "id": "KRS12RYmBPdJ"
      },
      "execution_count": 56,
      "outputs": []
    },
    {
      "cell_type": "markdown",
      "source": [
        "### Cross Validation Results\n"
      ],
      "metadata": {
        "id": "W09CdIvZTHav"
      }
    },
    {
      "cell_type": "code",
      "source": [
        "print('Mean cross-validated r2 score +/- stdev: %.3f +/- %.2f' % (grid.best_score_, grid.cv_results_['std_test_score'][grid.best_index_]))\n",
        "print('Best Parameters: ', grid.best_params_)"
      ],
      "metadata": {
        "id": "5CIk4ZL_StiD",
        "outputId": "177af2f8-2fbf-42cb-85e1-5ead016f0d7d",
        "colab": {
          "base_uri": "https://localhost:8080/"
        }
      },
      "execution_count": 57,
      "outputs": [
        {
          "output_type": "stream",
          "name": "stdout",
          "text": [
            "Mean cross-validated r2 score +/- stdev: 0.501 +/- 0.02\n",
            "Best Parameters:  {'estimator': DecisionTreeRegressor(max_depth=12), 'n_estimators': 4}\n"
          ]
        }
      ]
    },
    {
      "cell_type": "markdown",
      "source": [
        "#### Final Testing Scores"
      ],
      "metadata": {
        "id": "YyHpXsqrLwss"
      }
    },
    {
      "cell_type": "code",
      "source": [
        "tree_regressor_adaboost_y_pred_train = tree_regressor_adaboost_optimal.predict(X_train)\n",
        "tree_regressor_adaboost_y_pred_test = tree_regressor_adaboost_optimal.predict(X_test)\n",
        "\n",
        "tree_regressor_adaboost_r_squared_train = r2_score(y_train, tree_regressor_adaboost_y_pred_train)\n",
        "tree_regressor_adaboost_r_squared_test = r2_score(y_test, tree_regressor_adaboost_y_pred_test)\n",
        "\n",
        "tree_regressor_adaboost_mae_train = mean_absolute_error(y_train, tree_regressor_adaboost_y_pred_train)\n",
        "tree_regressor_adaboost_mae_test = mean_absolute_error(y_test, tree_regressor_adaboost_y_pred_test)\n",
        "\n",
        "print('Decision Tree Regression with AdaBoost Scores:')\n",
        "print('Training R^2 = %.3f' % tree_regressor_adaboost_r_squared_train)\n",
        "print('Training MAE = $%.2f' % tree_regressor_adaboost_mae_train)\n",
        "\n",
        "print('\\nTesting R^2 = %.3f' % tree_regressor_adaboost_r_squared_test)\n",
        "print('Testing MAE = $%.2f' % tree_regressor_adaboost_mae_test)"
      ],
      "metadata": {
        "colab": {
          "base_uri": "https://localhost:8080/"
        },
        "id": "TvTodilbLv9i",
        "outputId": "ca03e16f-f678-4d89-e9d1-b91d78ceb417"
      },
      "execution_count": 59,
      "outputs": [
        {
          "output_type": "stream",
          "name": "stdout",
          "text": [
            "Decision Tree Regression with AdaBoost Scores:\n",
            "Training R^2 = 0.736\n",
            "Training MAE = $1084.82\n",
            "\n",
            "Testing R^2 = 0.511\n",
            "Testing MAE = $1243.93\n"
          ]
        }
      ]
    },
    {
      "cell_type": "markdown",
      "source": [
        "### Save Final Model"
      ],
      "metadata": {
        "id": "jwDNxmLpqZZF"
      }
    },
    {
      "cell_type": "code",
      "source": [
        "# Save the model\n",
        "filename = '/content/gdrive/My Drive/SIG_SUB_tree_regressor_adaboost_model_final.joblib'\n",
        "dump(tree_regressor_adaboost_optimal, filename)"
      ],
      "metadata": {
        "colab": {
          "base_uri": "https://localhost:8080/"
        },
        "id": "Ss4_8A1Sin8T",
        "outputId": "24a60f83-66f8-48b3-c4b0-62c6d469f4c5"
      },
      "execution_count": null,
      "outputs": [
        {
          "output_type": "execute_result",
          "data": {
            "text/plain": [
              "['/content/gdrive/My Drive/SIG_SUB_tree_regressor_adaboost_model_final.joblib']"
            ]
          },
          "metadata": {},
          "execution_count": 55
        }
      ]
    },
    {
      "cell_type": "markdown",
      "source": [
        "## Train Neural Network"
      ],
      "metadata": {
        "id": "nxN3Egj_CDiw"
      }
    },
    {
      "cell_type": "code",
      "source": [
        "def scheduler(epoch, lr):\n",
        "  if epoch < 85:\n",
        "    return lr\n",
        "  else: # Drop learning rate after the first 85 epochs\n",
        "    return lr*np.exp(-0.05)"
      ],
      "metadata": {
        "id": "G0-n-ch8CCj4"
      },
      "execution_count": 10,
      "outputs": []
    },
    {
      "cell_type": "code",
      "source": [
        "batch_size = 4096*2\n",
        "epochs = 120\n",
        "callback = tf.keras.callbacks.LearningRateScheduler(scheduler)\n",
        "\n",
        "def build_keras_model():\n",
        "  keras_model = keras.Sequential()\n",
        "\n",
        "  keras_model.add(keras.Input(shape = (len(X_train[0]), ) ))\n",
        "  keras_model.add(layers.Dense(64, activation=\"relu\"))\n",
        "  keras_model.add(layers.Dense(32, activation=\"relu\"))\n",
        "  keras_model.add(layers.Dense(16, activation=\"relu\"))\n",
        "  keras_model.add(layers.Dense(8, activation=\"relu\"))\n",
        "  keras_model.add(layers.Dense(8, activation=\"relu\"))\n",
        "  keras_model.add(layers.Dense(8, activation=\"relu\"))\n",
        "  keras_model.add(layers.Dense(1, activation=\"linear\"))\n",
        "\n",
        "  keras_model.compile(loss=\"mse\")\n",
        "\n",
        "  return keras_model\n",
        "\n",
        "# Wrap in KerasRegressor object\n",
        "keras_model = KerasRegressor(model = build_keras_model)\n",
        "\n",
        "# Create hyper parameter grid.\n",
        "learning_rate_grid = [0.1, 0.01, 0.001, 0.0001]\n",
        "# beta_1_grid = [0.9, 0.85, 0.8]\n",
        "# beta_2_grid = [0.99, 0.95, 0.9]\n",
        "keras_param_grid = dict(optimizer__learning_rate = learning_rate_grid, \n",
        "                        batch_size = [batch_size], \n",
        "                        epochs = [epochs], \n",
        "                        callbacks = [callback])\n",
        "\n",
        "# Apply grid search with cross-validation for hyper parameter optimization.\n",
        "keras_grid = GridSearchCV(keras_model, keras_param_grid, cv=10, return_train_score=False, refit=True, n_jobs=-1)\n",
        "keras_grid.fit(X_train, y_train.values.ravel())\n",
        "\n",
        "# history = model.fit(X_train, y_train, epochs=epochs, batch_size=batch_size, \n",
        "#                     callbacks=[callback], validation_data=(X_test, y_test))"
      ],
      "metadata": {
        "colab": {
          "base_uri": "https://localhost:8080/",
          "height": 1000
        },
        "id": "BKLIxnJLCKR1",
        "outputId": "adc79400-f39a-466f-a0a4-02d66e7e5cba"
      },
      "execution_count": 30,
      "outputs": [
        {
          "metadata": {
            "tags": null
          },
          "name": "stderr",
          "output_type": "stream",
          "text": [
            "/usr/local/lib/python3.9/dist-packages/joblib/externals/loky/process_executor.py:700: UserWarning: A worker stopped while some jobs were given to the executor. This can be caused by a too short worker timeout or by a memory leak.\n",
            "  warnings.warn(\n"
          ]
        },
        {
          "output_type": "stream",
          "name": "stdout",
          "text": [
            "Epoch 1/120\n",
            "32/32 [==============================] - 1s 14ms/step - loss: 47104488.0000 - lr: 0.0010\n",
            "Epoch 2/120\n",
            "32/32 [==============================] - 0s 14ms/step - loss: 47006264.0000 - lr: 0.0010\n",
            "Epoch 3/120\n",
            "32/32 [==============================] - 0s 15ms/step - loss: 46623580.0000 - lr: 0.0010\n",
            "Epoch 4/120\n",
            "32/32 [==============================] - 1s 16ms/step - loss: 45621528.0000 - lr: 0.0010\n",
            "Epoch 5/120\n",
            "32/32 [==============================] - 0s 15ms/step - loss: 43854744.0000 - lr: 0.0010\n",
            "Epoch 6/120\n",
            "32/32 [==============================] - 0s 15ms/step - loss: 42033768.0000 - lr: 0.0010\n",
            "Epoch 7/120\n",
            "32/32 [==============================] - 0s 9ms/step - loss: 40875572.0000 - lr: 0.0010\n",
            "Epoch 8/120\n",
            "32/32 [==============================] - 0s 10ms/step - loss: 39900520.0000 - lr: 0.0010\n",
            "Epoch 9/120\n",
            "32/32 [==============================] - 0s 10ms/step - loss: 38726640.0000 - lr: 0.0010\n",
            "Epoch 10/120\n",
            "32/32 [==============================] - 0s 10ms/step - loss: 37375516.0000 - lr: 0.0010\n",
            "Epoch 11/120\n",
            "32/32 [==============================] - 0s 10ms/step - loss: 35963512.0000 - lr: 0.0010\n",
            "Epoch 12/120\n",
            "32/32 [==============================] - 0s 10ms/step - loss: 34554816.0000 - lr: 0.0010\n",
            "Epoch 13/120\n",
            "32/32 [==============================] - 0s 12ms/step - loss: 33195424.0000 - lr: 0.0010\n",
            "Epoch 14/120\n",
            "32/32 [==============================] - 0s 13ms/step - loss: 31980890.0000 - lr: 0.0010\n",
            "Epoch 15/120\n",
            "32/32 [==============================] - 0s 10ms/step - loss: 30844092.0000 - lr: 0.0010\n",
            "Epoch 16/120\n",
            "32/32 [==============================] - 0s 10ms/step - loss: 29828882.0000 - lr: 0.0010\n",
            "Epoch 17/120\n",
            "32/32 [==============================] - 0s 10ms/step - loss: 28752674.0000 - lr: 0.0010\n",
            "Epoch 18/120\n",
            "32/32 [==============================] - 0s 10ms/step - loss: 27808064.0000 - lr: 0.0010\n",
            "Epoch 19/120\n",
            "32/32 [==============================] - 0s 10ms/step - loss: 26954956.0000 - lr: 0.0010\n",
            "Epoch 20/120\n",
            "32/32 [==============================] - 0s 11ms/step - loss: 26228010.0000 - lr: 0.0010\n",
            "Epoch 21/120\n",
            "32/32 [==============================] - 0s 11ms/step - loss: 25555226.0000 - lr: 0.0010\n",
            "Epoch 22/120\n",
            "32/32 [==============================] - 0s 11ms/step - loss: 24966608.0000 - lr: 0.0010\n",
            "Epoch 23/120\n",
            "32/32 [==============================] - 0s 10ms/step - loss: 24371126.0000 - lr: 0.0010\n",
            "Epoch 24/120\n",
            "32/32 [==============================] - 0s 10ms/step - loss: 23878206.0000 - lr: 0.0010\n",
            "Epoch 25/120\n",
            "32/32 [==============================] - 0s 9ms/step - loss: 23399130.0000 - lr: 0.0010\n",
            "Epoch 26/120\n",
            "32/32 [==============================] - 0s 11ms/step - loss: 22962344.0000 - lr: 0.0010\n",
            "Epoch 27/120\n",
            "32/32 [==============================] - 0s 10ms/step - loss: 22565462.0000 - lr: 0.0010\n",
            "Epoch 28/120\n",
            "32/32 [==============================] - 0s 10ms/step - loss: 22261136.0000 - lr: 0.0010\n",
            "Epoch 29/120\n",
            "32/32 [==============================] - 0s 10ms/step - loss: 22042584.0000 - lr: 0.0010\n",
            "Epoch 30/120\n",
            "32/32 [==============================] - 0s 10ms/step - loss: 21850660.0000 - lr: 0.0010\n",
            "Epoch 31/120\n",
            "32/32 [==============================] - 0s 10ms/step - loss: 21672138.0000 - lr: 0.0010\n",
            "Epoch 32/120\n",
            "32/32 [==============================] - 0s 10ms/step - loss: 21502132.0000 - lr: 0.0010\n",
            "Epoch 33/120\n",
            "32/32 [==============================] - 0s 10ms/step - loss: 21364254.0000 - lr: 0.0010\n",
            "Epoch 34/120\n",
            "32/32 [==============================] - 0s 10ms/step - loss: 21229862.0000 - lr: 0.0010\n",
            "Epoch 35/120\n",
            "32/32 [==============================] - 0s 10ms/step - loss: 21109896.0000 - lr: 0.0010\n",
            "Epoch 36/120\n",
            "32/32 [==============================] - 0s 10ms/step - loss: 20992318.0000 - lr: 0.0010\n",
            "Epoch 37/120\n",
            "32/32 [==============================] - 0s 15ms/step - loss: 20884862.0000 - lr: 0.0010\n",
            "Epoch 38/120\n",
            "32/32 [==============================] - 1s 16ms/step - loss: 20766758.0000 - lr: 0.0010\n",
            "Epoch 39/120\n",
            "32/32 [==============================] - 1s 16ms/step - loss: 20664280.0000 - lr: 0.0010\n",
            "Epoch 40/120\n",
            "32/32 [==============================] - 1s 16ms/step - loss: 20576590.0000 - lr: 0.0010\n",
            "Epoch 41/120\n",
            "32/32 [==============================] - 0s 15ms/step - loss: 20470648.0000 - lr: 0.0010\n",
            "Epoch 42/120\n",
            "32/32 [==============================] - 0s 12ms/step - loss: 20380702.0000 - lr: 0.0010\n",
            "Epoch 43/120\n",
            "32/32 [==============================] - 0s 11ms/step - loss: 20336218.0000 - lr: 0.0010\n",
            "Epoch 44/120\n",
            "32/32 [==============================] - 0s 10ms/step - loss: 20225030.0000 - lr: 0.0010\n",
            "Epoch 45/120\n",
            "32/32 [==============================] - 0s 10ms/step - loss: 20171664.0000 - lr: 0.0010\n",
            "Epoch 46/120\n",
            "32/32 [==============================] - 0s 10ms/step - loss: 20104174.0000 - lr: 0.0010\n",
            "Epoch 47/120\n",
            "32/32 [==============================] - 0s 10ms/step - loss: 20046866.0000 - lr: 0.0010\n",
            "Epoch 48/120\n",
            "32/32 [==============================] - 0s 10ms/step - loss: 19968324.0000 - lr: 0.0010\n",
            "Epoch 49/120\n",
            "32/32 [==============================] - 0s 10ms/step - loss: 19904466.0000 - lr: 0.0010\n",
            "Epoch 50/120\n",
            "32/32 [==============================] - 0s 10ms/step - loss: 19850746.0000 - lr: 0.0010\n",
            "Epoch 51/120\n",
            "32/32 [==============================] - 0s 10ms/step - loss: 19802508.0000 - lr: 0.0010\n",
            "Epoch 52/120\n",
            "32/32 [==============================] - 0s 9ms/step - loss: 19754480.0000 - lr: 0.0010\n",
            "Epoch 53/120\n",
            "32/32 [==============================] - 0s 10ms/step - loss: 19687258.0000 - lr: 0.0010\n",
            "Epoch 54/120\n",
            "32/32 [==============================] - 0s 11ms/step - loss: 19663138.0000 - lr: 0.0010\n",
            "Epoch 55/120\n",
            "32/32 [==============================] - 0s 10ms/step - loss: 19624798.0000 - lr: 0.0010\n",
            "Epoch 56/120\n",
            "32/32 [==============================] - 0s 10ms/step - loss: 19556618.0000 - lr: 0.0010\n",
            "Epoch 57/120\n",
            "32/32 [==============================] - 0s 10ms/step - loss: 19514838.0000 - lr: 0.0010\n",
            "Epoch 58/120\n",
            "32/32 [==============================] - 0s 10ms/step - loss: 19490860.0000 - lr: 0.0010\n",
            "Epoch 59/120\n",
            "32/32 [==============================] - 0s 11ms/step - loss: 19433420.0000 - lr: 0.0010\n",
            "Epoch 60/120\n",
            "32/32 [==============================] - 0s 11ms/step - loss: 19406122.0000 - lr: 0.0010\n",
            "Epoch 61/120\n",
            "32/32 [==============================] - 0s 10ms/step - loss: 19377960.0000 - lr: 0.0010\n",
            "Epoch 62/120\n",
            "32/32 [==============================] - 0s 10ms/step - loss: 19343456.0000 - lr: 0.0010\n",
            "Epoch 63/120\n",
            "32/32 [==============================] - 0s 11ms/step - loss: 19304822.0000 - lr: 0.0010\n",
            "Epoch 64/120\n",
            "32/32 [==============================] - 0s 10ms/step - loss: 19271514.0000 - lr: 0.0010\n",
            "Epoch 65/120\n",
            "32/32 [==============================] - 0s 9ms/step - loss: 19255532.0000 - lr: 0.0010\n",
            "Epoch 66/120\n",
            "32/32 [==============================] - 0s 11ms/step - loss: 19223478.0000 - lr: 0.0010\n",
            "Epoch 67/120\n",
            "32/32 [==============================] - 0s 10ms/step - loss: 19170898.0000 - lr: 0.0010\n",
            "Epoch 68/120\n",
            "32/32 [==============================] - 0s 10ms/step - loss: 19161824.0000 - lr: 0.0010\n",
            "Epoch 69/120\n",
            "32/32 [==============================] - 0s 10ms/step - loss: 19128570.0000 - lr: 0.0010\n",
            "Epoch 70/120\n",
            "32/32 [==============================] - 0s 10ms/step - loss: 19118426.0000 - lr: 0.0010\n",
            "Epoch 71/120\n",
            "32/32 [==============================] - 0s 10ms/step - loss: 19094938.0000 - lr: 0.0010\n",
            "Epoch 72/120\n",
            "32/32 [==============================] - 0s 14ms/step - loss: 19055846.0000 - lr: 0.0010\n",
            "Epoch 73/120\n",
            "32/32 [==============================] - 0s 15ms/step - loss: 19026878.0000 - lr: 0.0010\n",
            "Epoch 74/120\n",
            "32/32 [==============================] - 0s 15ms/step - loss: 19013790.0000 - lr: 0.0010\n",
            "Epoch 75/120\n",
            "32/32 [==============================] - 0s 15ms/step - loss: 19011232.0000 - lr: 0.0010\n",
            "Epoch 76/120\n",
            "32/32 [==============================] - 1s 16ms/step - loss: 18978990.0000 - lr: 0.0010\n",
            "Epoch 77/120\n",
            "32/32 [==============================] - 0s 15ms/step - loss: 18938996.0000 - lr: 0.0010\n",
            "Epoch 78/120\n",
            "32/32 [==============================] - 0s 10ms/step - loss: 18945504.0000 - lr: 0.0010\n",
            "Epoch 79/120\n",
            "32/32 [==============================] - 0s 10ms/step - loss: 18922424.0000 - lr: 0.0010\n",
            "Epoch 80/120\n",
            "32/32 [==============================] - 0s 10ms/step - loss: 18896506.0000 - lr: 0.0010\n",
            "Epoch 81/120\n",
            "32/32 [==============================] - 0s 9ms/step - loss: 18873046.0000 - lr: 0.0010\n",
            "Epoch 82/120\n",
            "32/32 [==============================] - 0s 11ms/step - loss: 18850840.0000 - lr: 0.0010\n",
            "Epoch 83/120\n",
            "32/32 [==============================] - 0s 10ms/step - loss: 18853072.0000 - lr: 0.0010\n",
            "Epoch 84/120\n",
            "32/32 [==============================] - 0s 10ms/step - loss: 18798958.0000 - lr: 0.0010\n",
            "Epoch 85/120\n",
            "32/32 [==============================] - 0s 10ms/step - loss: 18807550.0000 - lr: 0.0010\n",
            "Epoch 86/120\n",
            "32/32 [==============================] - 0s 10ms/step - loss: 18779400.0000 - lr: 9.5123e-04\n",
            "Epoch 87/120\n",
            "32/32 [==============================] - 0s 10ms/step - loss: 18753010.0000 - lr: 9.0484e-04\n",
            "Epoch 88/120\n",
            "32/32 [==============================] - 0s 10ms/step - loss: 18748002.0000 - lr: 8.6071e-04\n",
            "Epoch 89/120\n",
            "32/32 [==============================] - 0s 10ms/step - loss: 18720332.0000 - lr: 8.1873e-04\n",
            "Epoch 90/120\n",
            "32/32 [==============================] - 0s 10ms/step - loss: 18713258.0000 - lr: 7.7880e-04\n",
            "Epoch 91/120\n",
            "32/32 [==============================] - 0s 10ms/step - loss: 18701702.0000 - lr: 7.4082e-04\n",
            "Epoch 92/120\n",
            "32/32 [==============================] - 0s 10ms/step - loss: 18679812.0000 - lr: 7.0469e-04\n",
            "Epoch 93/120\n",
            "32/32 [==============================] - 0s 10ms/step - loss: 18659912.0000 - lr: 6.7032e-04\n",
            "Epoch 94/120\n",
            "32/32 [==============================] - 0s 10ms/step - loss: 18642442.0000 - lr: 6.3763e-04\n",
            "Epoch 95/120\n",
            "32/32 [==============================] - 0s 10ms/step - loss: 18640714.0000 - lr: 6.0653e-04\n",
            "Epoch 96/120\n",
            "32/32 [==============================] - 0s 10ms/step - loss: 18628106.0000 - lr: 5.7695e-04\n",
            "Epoch 97/120\n",
            "32/32 [==============================] - 0s 10ms/step - loss: 18618218.0000 - lr: 5.4881e-04\n",
            "Epoch 98/120\n",
            "32/32 [==============================] - 0s 10ms/step - loss: 18607978.0000 - lr: 5.2205e-04\n",
            "Epoch 99/120\n",
            "32/32 [==============================] - 0s 9ms/step - loss: 18589752.0000 - lr: 4.9659e-04\n",
            "Epoch 100/120\n",
            "32/32 [==============================] - 0s 10ms/step - loss: 18590716.0000 - lr: 4.7237e-04\n",
            "Epoch 101/120\n",
            "32/32 [==============================] - 0s 10ms/step - loss: 18580674.0000 - lr: 4.4933e-04\n",
            "Epoch 102/120\n",
            "32/32 [==============================] - 0s 10ms/step - loss: 18572734.0000 - lr: 4.2741e-04\n",
            "Epoch 103/120\n",
            "32/32 [==============================] - 0s 10ms/step - loss: 18556800.0000 - lr: 4.0657e-04\n",
            "Epoch 104/120\n",
            "32/32 [==============================] - 0s 10ms/step - loss: 18551994.0000 - lr: 3.8674e-04\n",
            "Epoch 105/120\n",
            "32/32 [==============================] - 0s 10ms/step - loss: 18541932.0000 - lr: 3.6788e-04\n",
            "Epoch 106/120\n",
            "32/32 [==============================] - 0s 10ms/step - loss: 18536124.0000 - lr: 3.4994e-04\n",
            "Epoch 107/120\n",
            "32/32 [==============================] - 0s 10ms/step - loss: 18532568.0000 - lr: 3.3287e-04\n",
            "Epoch 108/120\n",
            "32/32 [==============================] - 0s 11ms/step - loss: 18522666.0000 - lr: 3.1664e-04\n",
            "Epoch 109/120\n",
            "32/32 [==============================] - 1s 15ms/step - loss: 18513588.0000 - lr: 3.0119e-04\n",
            "Epoch 110/120\n",
            "32/32 [==============================] - 0s 15ms/step - loss: 18510768.0000 - lr: 2.8650e-04\n",
            "Epoch 111/120\n",
            "32/32 [==============================] - 0s 15ms/step - loss: 18507200.0000 - lr: 2.7253e-04\n",
            "Epoch 112/120\n",
            "32/32 [==============================] - 0s 15ms/step - loss: 18502644.0000 - lr: 2.5924e-04\n",
            "Epoch 113/120\n",
            "32/32 [==============================] - 0s 15ms/step - loss: 18496832.0000 - lr: 2.4660e-04\n",
            "Epoch 114/120\n",
            "32/32 [==============================] - 0s 13ms/step - loss: 18490028.0000 - lr: 2.3457e-04\n",
            "Epoch 115/120\n",
            "32/32 [==============================] - 0s 10ms/step - loss: 18487250.0000 - lr: 2.2313e-04\n",
            "Epoch 116/120\n",
            "32/32 [==============================] - 0s 10ms/step - loss: 18479616.0000 - lr: 2.1225e-04\n",
            "Epoch 117/120\n",
            "32/32 [==============================] - 0s 10ms/step - loss: 18475142.0000 - lr: 2.0190e-04\n",
            "Epoch 118/120\n",
            "32/32 [==============================] - 0s 10ms/step - loss: 18470404.0000 - lr: 1.9205e-04\n",
            "Epoch 119/120\n",
            "32/32 [==============================] - 0s 10ms/step - loss: 18469308.0000 - lr: 1.8268e-04\n",
            "Epoch 120/120\n",
            "32/32 [==============================] - 0s 10ms/step - loss: 18464892.0000 - lr: 1.7377e-04\n"
          ]
        },
        {
          "output_type": "execute_result",
          "data": {
            "text/plain": [
              "GridSearchCV(cv=10,\n",
              "             estimator=KerasRegressor(model=<function build_keras_model at 0x7f4beda264c0>),\n",
              "             n_jobs=-1,\n",
              "             param_grid={'batch_size': [8192],\n",
              "                         'callbacks': [<keras.callbacks.LearningRateScheduler object at 0x7f4c132ef610>],\n",
              "                         'epochs': [120],\n",
              "                         'optimizer__learning_rate': [0.1, 0.01, 0.001,\n",
              "                                                      0.0001]})"
            ],
            "text/html": [
              "<style>#sk-container-id-4 {color: black;background-color: white;}#sk-container-id-4 pre{padding: 0;}#sk-container-id-4 div.sk-toggleable {background-color: white;}#sk-container-id-4 label.sk-toggleable__label {cursor: pointer;display: block;width: 100%;margin-bottom: 0;padding: 0.3em;box-sizing: border-box;text-align: center;}#sk-container-id-4 label.sk-toggleable__label-arrow:before {content: \"▸\";float: left;margin-right: 0.25em;color: #696969;}#sk-container-id-4 label.sk-toggleable__label-arrow:hover:before {color: black;}#sk-container-id-4 div.sk-estimator:hover label.sk-toggleable__label-arrow:before {color: black;}#sk-container-id-4 div.sk-toggleable__content {max-height: 0;max-width: 0;overflow: hidden;text-align: left;background-color: #f0f8ff;}#sk-container-id-4 div.sk-toggleable__content pre {margin: 0.2em;color: black;border-radius: 0.25em;background-color: #f0f8ff;}#sk-container-id-4 input.sk-toggleable__control:checked~div.sk-toggleable__content {max-height: 200px;max-width: 100%;overflow: auto;}#sk-container-id-4 input.sk-toggleable__control:checked~label.sk-toggleable__label-arrow:before {content: \"▾\";}#sk-container-id-4 div.sk-estimator input.sk-toggleable__control:checked~label.sk-toggleable__label {background-color: #d4ebff;}#sk-container-id-4 div.sk-label input.sk-toggleable__control:checked~label.sk-toggleable__label {background-color: #d4ebff;}#sk-container-id-4 input.sk-hidden--visually {border: 0;clip: rect(1px 1px 1px 1px);clip: rect(1px, 1px, 1px, 1px);height: 1px;margin: -1px;overflow: hidden;padding: 0;position: absolute;width: 1px;}#sk-container-id-4 div.sk-estimator {font-family: monospace;background-color: #f0f8ff;border: 1px dotted black;border-radius: 0.25em;box-sizing: border-box;margin-bottom: 0.5em;}#sk-container-id-4 div.sk-estimator:hover {background-color: #d4ebff;}#sk-container-id-4 div.sk-parallel-item::after {content: \"\";width: 100%;border-bottom: 1px solid gray;flex-grow: 1;}#sk-container-id-4 div.sk-label:hover label.sk-toggleable__label {background-color: #d4ebff;}#sk-container-id-4 div.sk-serial::before {content: \"\";position: absolute;border-left: 1px solid gray;box-sizing: border-box;top: 0;bottom: 0;left: 50%;z-index: 0;}#sk-container-id-4 div.sk-serial {display: flex;flex-direction: column;align-items: center;background-color: white;padding-right: 0.2em;padding-left: 0.2em;position: relative;}#sk-container-id-4 div.sk-item {position: relative;z-index: 1;}#sk-container-id-4 div.sk-parallel {display: flex;align-items: stretch;justify-content: center;background-color: white;position: relative;}#sk-container-id-4 div.sk-item::before, #sk-container-id-4 div.sk-parallel-item::before {content: \"\";position: absolute;border-left: 1px solid gray;box-sizing: border-box;top: 0;bottom: 0;left: 50%;z-index: -1;}#sk-container-id-4 div.sk-parallel-item {display: flex;flex-direction: column;z-index: 1;position: relative;background-color: white;}#sk-container-id-4 div.sk-parallel-item:first-child::after {align-self: flex-end;width: 50%;}#sk-container-id-4 div.sk-parallel-item:last-child::after {align-self: flex-start;width: 50%;}#sk-container-id-4 div.sk-parallel-item:only-child::after {width: 0;}#sk-container-id-4 div.sk-dashed-wrapped {border: 1px dashed gray;margin: 0 0.4em 0.5em 0.4em;box-sizing: border-box;padding-bottom: 0.4em;background-color: white;}#sk-container-id-4 div.sk-label label {font-family: monospace;font-weight: bold;display: inline-block;line-height: 1.2em;}#sk-container-id-4 div.sk-label-container {text-align: center;}#sk-container-id-4 div.sk-container {/* jupyter's `normalize.less` sets `[hidden] { display: none; }` but bootstrap.min.css set `[hidden] { display: none !important; }` so we also need the `!important` here to be able to override the default hidden behavior on the sphinx rendered scikit-learn.org. See: https://github.com/scikit-learn/scikit-learn/issues/21755 */display: inline-block !important;position: relative;}#sk-container-id-4 div.sk-text-repr-fallback {display: none;}</style><div id=\"sk-container-id-4\" class=\"sk-top-container\"><div class=\"sk-text-repr-fallback\"><pre>GridSearchCV(cv=10,\n",
              "             estimator=KerasRegressor(model=&lt;function build_keras_model at 0x7f4beda264c0&gt;),\n",
              "             n_jobs=-1,\n",
              "             param_grid={&#x27;batch_size&#x27;: [8192],\n",
              "                         &#x27;callbacks&#x27;: [&lt;keras.callbacks.LearningRateScheduler object at 0x7f4c132ef610&gt;],\n",
              "                         &#x27;epochs&#x27;: [120],\n",
              "                         &#x27;optimizer__learning_rate&#x27;: [0.1, 0.01, 0.001,\n",
              "                                                      0.0001]})</pre><b>In a Jupyter environment, please rerun this cell to show the HTML representation or trust the notebook. <br />On GitHub, the HTML representation is unable to render, please try loading this page with nbviewer.org.</b></div><div class=\"sk-container\" hidden><div class=\"sk-item sk-dashed-wrapped\"><div class=\"sk-label-container\"><div class=\"sk-label sk-toggleable\"><input class=\"sk-toggleable__control sk-hidden--visually\" id=\"sk-estimator-id-10\" type=\"checkbox\" ><label for=\"sk-estimator-id-10\" class=\"sk-toggleable__label sk-toggleable__label-arrow\">GridSearchCV</label><div class=\"sk-toggleable__content\"><pre>GridSearchCV(cv=10,\n",
              "             estimator=KerasRegressor(model=&lt;function build_keras_model at 0x7f4beda264c0&gt;),\n",
              "             n_jobs=-1,\n",
              "             param_grid={&#x27;batch_size&#x27;: [8192],\n",
              "                         &#x27;callbacks&#x27;: [&lt;keras.callbacks.LearningRateScheduler object at 0x7f4c132ef610&gt;],\n",
              "                         &#x27;epochs&#x27;: [120],\n",
              "                         &#x27;optimizer__learning_rate&#x27;: [0.1, 0.01, 0.001,\n",
              "                                                      0.0001]})</pre></div></div></div><div class=\"sk-parallel\"><div class=\"sk-parallel-item\"><div class=\"sk-item\"><div class=\"sk-label-container\"><div class=\"sk-label sk-toggleable\"><input class=\"sk-toggleable__control sk-hidden--visually\" id=\"sk-estimator-id-11\" type=\"checkbox\" ><label for=\"sk-estimator-id-11\" class=\"sk-toggleable__label sk-toggleable__label-arrow\">estimator: KerasRegressor</label><div class=\"sk-toggleable__content\"><pre>KerasRegressor(\n",
              "\tmodel=&lt;function build_keras_model at 0x7f4beda264c0&gt;\n",
              "\tbuild_fn=None\n",
              "\twarm_start=False\n",
              "\trandom_state=None\n",
              "\toptimizer=rmsprop\n",
              "\tloss=None\n",
              "\tmetrics=None\n",
              "\tbatch_size=None\n",
              "\tvalidation_batch_size=None\n",
              "\tverbose=1\n",
              "\tcallbacks=None\n",
              "\tvalidation_split=0.0\n",
              "\tshuffle=True\n",
              "\trun_eagerly=False\n",
              "\tepochs=1\n",
              ")</pre></div></div></div><div class=\"sk-serial\"><div class=\"sk-item\"><div class=\"sk-estimator sk-toggleable\"><input class=\"sk-toggleable__control sk-hidden--visually\" id=\"sk-estimator-id-12\" type=\"checkbox\" ><label for=\"sk-estimator-id-12\" class=\"sk-toggleable__label sk-toggleable__label-arrow\">KerasRegressor</label><div class=\"sk-toggleable__content\"><pre>KerasRegressor(\n",
              "\tmodel=&lt;function build_keras_model at 0x7f4beda264c0&gt;\n",
              "\tbuild_fn=None\n",
              "\twarm_start=False\n",
              "\trandom_state=None\n",
              "\toptimizer=rmsprop\n",
              "\tloss=None\n",
              "\tmetrics=None\n",
              "\tbatch_size=None\n",
              "\tvalidation_batch_size=None\n",
              "\tverbose=1\n",
              "\tcallbacks=None\n",
              "\tvalidation_split=0.0\n",
              "\tshuffle=True\n",
              "\trun_eagerly=False\n",
              "\tepochs=1\n",
              ")</pre></div></div></div></div></div></div></div></div></div></div>"
            ]
          },
          "metadata": {},
          "execution_count": 30
        }
      ]
    },
    {
      "cell_type": "code",
      "source": [
        "keras_model_optimal = keras_grid.best_estimator_\n",
        "\n",
        "print('Mean cross-validated r2 score +/- stdev: %.3f +/- %.2f' % (keras_grid.best_score_, keras_grid.cv_results_['std_test_score'][keras_grid.best_index_]))\n",
        "print(\"Best Parameters:\", keras_grid.best_params_)"
      ],
      "metadata": {
        "id": "DKyvD7iVaOxa",
        "outputId": "b78f1ce5-83a6-4206-dc1d-99f9c82b2393",
        "colab": {
          "base_uri": "https://localhost:8080/"
        }
      },
      "execution_count": 52,
      "outputs": [
        {
          "output_type": "stream",
          "name": "stdout",
          "text": [
            "Mean cross-validated r2 score +/- stdev: 0.553 +/- 0.03\n",
            "Best Parameters: {'batch_size': 8192, 'callbacks': <keras.callbacks.LearningRateScheduler object at 0x7f4c132ef610>, 'epochs': 120, 'optimizer__learning_rate': 0.01}\n"
          ]
        }
      ]
    },
    {
      "cell_type": "markdown",
      "source": [
        "#### Final Testing Score"
      ],
      "metadata": {
        "id": "M6MZDK67nudH"
      }
    },
    {
      "cell_type": "code",
      "source": [
        "y_pred = keras_model_optimal.predict(X_test)\n",
        "r2 = r2_score(y_test, y_pred)\n",
        "mae = mean_absolute_error(y_test, y_pred)\n",
        "\n",
        "print('Testing r2 = %.3f' % r2)\n",
        "print('MAE = $%.2f' % mae)"
      ],
      "metadata": {
        "colab": {
          "base_uri": "https://localhost:8080/"
        },
        "id": "JTAbOW6PCP10",
        "outputId": "01ecbe86-7ff6-4b16-d38c-5fdcf7015dce"
      },
      "execution_count": 39,
      "outputs": [
        {
          "output_type": "stream",
          "name": "stdout",
          "text": [
            "11/11 [==============================] - 0s 4ms/step\n",
            "Testing r2 = 0.579\n",
            "MAE = $1149.39\n"
          ]
        }
      ]
    }
  ]
}