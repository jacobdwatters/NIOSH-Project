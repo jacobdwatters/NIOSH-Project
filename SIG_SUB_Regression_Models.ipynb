{
  "nbformat": 4,
  "nbformat_minor": 0,
  "metadata": {
    "colab": {
      "provenance": [],
      "authorship_tag": "ABX9TyPUCXVEQ0Ylx2aXdzRYvjaH",
      "include_colab_link": true
    },
    "kernelspec": {
      "name": "python3",
      "display_name": "Python 3"
    },
    "language_info": {
      "name": "python"
    }
  },
  "cells": [
    {
      "cell_type": "markdown",
      "metadata": {
        "id": "view-in-github",
        "colab_type": "text"
      },
      "source": [
        "<a href=\"https://colab.research.google.com/github/jacobdwatters/NIOSH-Project/blob/main/SIG_SUB_Regression_Models.ipynb\" target=\"_parent\"><img src=\"https://colab.research.google.com/assets/colab-badge.svg\" alt=\"Open In Colab\"/></a>"
      ]
    },
    {
      "cell_type": "code",
      "execution_count": 21,
      "metadata": {
        "id": "6jiu0b7x_ihn"
      },
      "outputs": [],
      "source": [
        "import numpy as np\n",
        "import pandas as pd\n",
        "import seaborn as sns\n",
        "import matplotlib.pyplot as plt\n",
        "\n",
        "import sklearn\n",
        "from sklearn.preprocessing import StandardScaler\n",
        "from sklearn.preprocessing import OneHotEncoder\n",
        "from sklearn.model_selection import train_test_split\n",
        "from sklearn.metrics import mean_absolute_error\n",
        "from sklearn.metrics import r2_score\n",
        "from sklearn.datasets import load_diabetes\n",
        "from sklearn.model_selection import cross_val_score\n",
        "from sklearn.tree import DecisionTreeRegressor\n",
        "from sklearn.ensemble import AdaBoostRegressor\n",
        "\n",
        "from tensorflow import keras\n",
        "from tensorflow.keras import layers\n",
        "import tensorflow as tf\n",
        "\n",
        "import scipy as sp\n",
        "from scipy import stats"
      ]
    },
    {
      "cell_type": "code",
      "source": [
        "from google.colab import drive\n",
        "drive.mount('/content/gdrive')"
      ],
      "metadata": {
        "colab": {
          "base_uri": "https://localhost:8080/"
        },
        "id": "lA3BtUpn_nZN",
        "outputId": "424aeddd-9658-41f9-dd7c-4d5f238980c8"
      },
      "execution_count": 2,
      "outputs": [
        {
          "output_type": "stream",
          "name": "stdout",
          "text": [
            "Mounted at /content/gdrive\n"
          ]
        }
      ]
    },
    {
      "cell_type": "code",
      "source": [
        "FEATURES = ['VIOLATION_OCCUR_DT', 'MINE_ID', 'MINE_TYPE', 'COAL_METAL_IND', 'SIG_SUB', 'LIKELIHOOD', \n",
        "            'INJ_ILLNESS', 'NO_AFFECTED', 'NEGLIGENCE', 'VIOLATOR_VIOLATION_CNT',\n",
        "            'VIOLATOR_INSPECTION_DAY_CNT']\n",
        "TARGETS = ['PROPOSED_PENALTY']"
      ],
      "metadata": {
        "id": "jbswFkyt_n0U"
      },
      "execution_count": 32,
      "outputs": []
    },
    {
      "cell_type": "code",
      "source": [
        "path = '/content/gdrive/My Drive/NIOSH Project/data/violations_processed_after_2010.csv'\n",
        "violation_data = pd.read_csv(path)\n",
        "\n",
        "print('Samples in dataset: ', len(violation_data))"
      ],
      "metadata": {
        "colab": {
          "base_uri": "https://localhost:8080/"
        },
        "id": "wJGALcVp_rTB",
        "outputId": "19e6afc8-eee2-412b-bda2-db5f75709caf"
      },
      "execution_count": 33,
      "outputs": [
        {
          "output_type": "stream",
          "name": "stdout",
          "text": [
            "Samples in dataset:  1429135\n"
          ]
        }
      ]
    },
    {
      "cell_type": "code",
      "source": [
        "significant_data = violation_data[violation_data['SIG_SUB'] == 'Y']\n",
        "print('Significant and substantial samples in dataset: ', len(significant_data))"
      ],
      "metadata": {
        "colab": {
          "base_uri": "https://localhost:8080/"
        },
        "id": "1JfDWvz_AT6Q",
        "outputId": "6be132a4-c7fd-4cf9-dc04-e4e31eecbc9f"
      },
      "execution_count": 34,
      "outputs": [
        {
          "output_type": "stream",
          "name": "stdout",
          "text": [
            "Significant and substantial samples in dataset:  342474\n"
          ]
        }
      ]
    },
    {
      "cell_type": "markdown",
      "source": [
        "## Prepare and Split Significant Data"
      ],
      "metadata": {
        "id": "m2YeZ4f3AvXO"
      }
    },
    {
      "cell_type": "code",
      "source": [
        "FEATURES = ['MINE_TYPE', 'COAL_METAL_IND', 'LIKELIHOOD', \n",
        "            'INJ_ILLNESS', 'NO_AFFECTED', 'NEGLIGENCE', 'VIOLATOR_VIOLATION_CNT',\n",
        "            'VIOLATOR_INSPECTION_DAY_CNT']\n",
        "TARGETS = ['PROPOSED_PENALTY']\n",
        "\n",
        "X = significant_data[FEATURES]\n",
        "y = significant_data[TARGETS]\n",
        "\n",
        "# Define which columns should be encoded vs scaled\n",
        "columns_to_encode = ['MINE_TYPE', 'COAL_METAL_IND', 'LIKELIHOOD', 'INJ_ILLNESS', 'NEGLIGENCE']\n",
        "columns_to_scale  = ['VIOLATOR_VIOLATION_CNT', 'NO_AFFECTED', 'VIOLATOR_INSPECTION_DAY_CNT']\n",
        "\n",
        "# Instantiate encoder/scaler\n",
        "scaler = StandardScaler()\n",
        "ohe = OneHotEncoder(sparse=False)\n",
        "\n",
        "# Scale and Encode Separate Columns\n",
        "scaled_columns  = scaler.fit_transform(X[columns_to_scale])\n",
        "encoded_columns = ohe.fit_transform(X[columns_to_encode])\n",
        "\n",
        "# Concatenate (Column-Bind) Processed Columns Back Together\n",
        "X_pre = np.concatenate([scaled_columns, encoded_columns], axis=1)\n",
        "np.nan_to_num(X_pre, copy=False)\n",
        "\n",
        "print('Features shape:', X_pre.shape)\n",
        "\n",
        "X_train, X_test, y_train, y_test = train_test_split(X_pre, y, test_size = 0.25, random_state = 0)\n",
        "\n",
        "print('X_train shape:', X_train.shape)\n",
        "print('X_test shape:', X_test.shape)\n",
        "print('y_train shape:', y_train.shape)\n",
        "print('y_train shape:', y_test.shape)"
      ],
      "metadata": {
        "colab": {
          "base_uri": "https://localhost:8080/"
        },
        "id": "Ejn4CWIkAuy0",
        "outputId": "92b655c8-5bdd-484b-b525-a536edfca5bf"
      },
      "execution_count": 35,
      "outputs": [
        {
          "output_type": "stream",
          "name": "stdout",
          "text": [
            "Features shape: (342474, 22)\n",
            "X_train shape: (256855, 22)\n",
            "X_test shape: (85619, 22)\n",
            "y_train shape: (256855, 1)\n",
            "y_train shape: (85619, 1)\n"
          ]
        }
      ]
    },
    {
      "cell_type": "markdown",
      "source": [
        "## Train Desicion Tree"
      ],
      "metadata": {
        "id": "bsVhMezEB_dD"
      }
    },
    {
      "cell_type": "code",
      "source": [
        "tree_regressor_adaboost = AdaBoostRegressor(\n",
        "    DecisionTreeRegressor(max_depth=12), n_estimators=5, random_state=0\n",
        ")\n",
        "tree_regressor_adaboost.fit(X_train, np.ravel(y_train))"
      ],
      "metadata": {
        "colab": {
          "base_uri": "https://localhost:8080/"
        },
        "id": "KRS12RYmBPdJ",
        "outputId": "1d010646-1fc8-4b21-8e5e-04f7c1caeff9"
      },
      "execution_count": 36,
      "outputs": [
        {
          "output_type": "execute_result",
          "data": {
            "text/plain": [
              "AdaBoostRegressor(base_estimator=DecisionTreeRegressor(max_depth=12),\n",
              "                  n_estimators=5, random_state=0)"
            ]
          },
          "metadata": {},
          "execution_count": 36
        }
      ]
    },
    {
      "cell_type": "code",
      "source": [
        "tree_regressor_adaboost_y_pred_train = tree_regressor_adaboost.predict(X_train)\n",
        "tree_regressor_adaboost_y_pred_test = tree_regressor_adaboost.predict(X_test)\n",
        "\n",
        "tree_regressor_adaboost_r_squared_train = r2_score(y_train, tree_regressor_adaboost_y_pred_train)\n",
        "tree_regressor_adaboost_r_squared_test = r2_score(y_test, tree_regressor_adaboost_y_pred_test)\n",
        "\n",
        "tree_regressor_adaboost_mae_train = mean_absolute_error(y_train, tree_regressor_adaboost_y_pred_train)\n",
        "tree_regressor_adaboost_mae_test = mean_absolute_error(y_test, tree_regressor_adaboost_y_pred_test)\n",
        "\n",
        "print('Decision Tree Regression with AdaBoost Scores:')\n",
        "print('Training R^2 = %.3f' % tree_regressor_adaboost_r_squared_train)\n",
        "print('Training MAE = %.3f' % tree_regressor_adaboost_mae_train)\n",
        "\n",
        "print('\\nTesting R^2 = %.3f' % tree_regressor_adaboost_r_squared_test)\n",
        "print('Testing MAE = %.3f' % tree_regressor_adaboost_mae_test)"
      ],
      "metadata": {
        "colab": {
          "base_uri": "https://localhost:8080/"
        },
        "id": "NRzgovdMBRts",
        "outputId": "55ad8d76-c540-4c5f-a50f-1f2eae676570"
      },
      "execution_count": 37,
      "outputs": [
        {
          "output_type": "stream",
          "name": "stdout",
          "text": [
            "Decision Tree Regression with AdaBoost Scores:\n",
            "Training R^2 = 0.751\n",
            "Training MAE = 1055.381\n",
            "\n",
            "Testing R^2 = 0.539\n",
            "Testing MAE = 1207.748\n"
          ]
        }
      ]
    },
    {
      "cell_type": "markdown",
      "source": [
        "## Train Neural Network"
      ],
      "metadata": {
        "id": "nxN3Egj_CDiw"
      }
    },
    {
      "cell_type": "code",
      "source": [
        "def scheduler(epoch, lr):\n",
        "  if epoch < 85:\n",
        "    return lr\n",
        "  else: # Drop learning rate after the first 85 epochs\n",
        "    return lr*np.exp(-0.05)"
      ],
      "metadata": {
        "id": "G0-n-ch8CCj4"
      },
      "execution_count": 40,
      "outputs": []
    },
    {
      "cell_type": "code",
      "source": [
        "batch_size = 4096*2\n",
        "epochs = 45\n",
        "callback = tf.keras.callbacks.LearningRateScheduler(scheduler)\n",
        "\n",
        "model = keras.Sequential()\n",
        "\n",
        "model.add(keras.Input(shape = (len(X_train[0]), ) ))\n",
        "model.add(layers.Dense(64, activation=\"relu\"))\n",
        "model.add(layers.Dense(32, activation=\"relu\"))\n",
        "model.add(layers.Dense(16, activation=\"relu\"))\n",
        "model.add(layers.Dense(8, activation=\"relu\"))\n",
        "model.add(layers.Dense(8, activation=\"relu\"))\n",
        "model.add(layers.Dense(8, activation=\"relu\"))\n",
        "model.add(layers.Dense(1, activation=\"linear\"))\n",
        "\n",
        "\n",
        "opt = keras.optimizers.Adam(learning_rate=0.01)\n",
        "model.compile(loss=\"mse\", optimizer=opt)\n",
        "history = model.fit(X_train, y_train, epochs=epochs, batch_size=batch_size, \n",
        "                    callbacks=[callback], validation_data=(X_test, y_test))"
      ],
      "metadata": {
        "colab": {
          "base_uri": "https://localhost:8080/"
        },
        "id": "BKLIxnJLCKR1",
        "outputId": "d595abc0-4a18-45c9-82ca-ec994460ffeb"
      },
      "execution_count": 45,
      "outputs": [
        {
          "output_type": "stream",
          "name": "stdout",
          "text": [
            "Epoch 1/45\n",
            "32/32 [==============================] - 2s 22ms/step - loss: 45438908.0000 - val_loss: 42435212.0000 - lr: 0.0100\n",
            "Epoch 2/45\n",
            "32/32 [==============================] - 1s 17ms/step - loss: 37299012.0000 - val_loss: 34265096.0000 - lr: 0.0100\n",
            "Epoch 3/45\n",
            "32/32 [==============================] - 1s 17ms/step - loss: 30417670.0000 - val_loss: 28056974.0000 - lr: 0.0100\n",
            "Epoch 4/45\n",
            "32/32 [==============================] - 1s 17ms/step - loss: 25566798.0000 - val_loss: 23930680.0000 - lr: 0.0100\n",
            "Epoch 5/45\n",
            "32/32 [==============================] - 0s 15ms/step - loss: 23201484.0000 - val_loss: 22519200.0000 - lr: 0.0100\n",
            "Epoch 6/45\n",
            "32/32 [==============================] - 1s 16ms/step - loss: 22704126.0000 - val_loss: 22425312.0000 - lr: 0.0100\n",
            "Epoch 7/45\n",
            "32/32 [==============================] - 1s 16ms/step - loss: 22359282.0000 - val_loss: 21875184.0000 - lr: 0.0100\n",
            "Epoch 8/45\n",
            "32/32 [==============================] - 1s 17ms/step - loss: 21743054.0000 - val_loss: 21035208.0000 - lr: 0.0100\n",
            "Epoch 9/45\n",
            "32/32 [==============================] - 1s 23ms/step - loss: 21064722.0000 - val_loss: 20835874.0000 - lr: 0.0100\n",
            "Epoch 10/45\n",
            "32/32 [==============================] - 1s 27ms/step - loss: 20594452.0000 - val_loss: 20122248.0000 - lr: 0.0100\n",
            "Epoch 11/45\n",
            "32/32 [==============================] - 1s 27ms/step - loss: 20159272.0000 - val_loss: 19963898.0000 - lr: 0.0100\n",
            "Epoch 12/45\n",
            "32/32 [==============================] - 1s 27ms/step - loss: 19832950.0000 - val_loss: 19663400.0000 - lr: 0.0100\n",
            "Epoch 13/45\n",
            "32/32 [==============================] - 1s 27ms/step - loss: 19520472.0000 - val_loss: 19353260.0000 - lr: 0.0100\n",
            "Epoch 14/45\n",
            "32/32 [==============================] - 1s 24ms/step - loss: 19470194.0000 - val_loss: 19330980.0000 - lr: 0.0100\n",
            "Epoch 15/45\n",
            "32/32 [==============================] - 1s 16ms/step - loss: 19318558.0000 - val_loss: 19172350.0000 - lr: 0.0100\n",
            "Epoch 16/45\n",
            "32/32 [==============================] - 1s 16ms/step - loss: 19201236.0000 - val_loss: 19778216.0000 - lr: 0.0100\n",
            "Epoch 17/45\n",
            "32/32 [==============================] - 1s 17ms/step - loss: 19086406.0000 - val_loss: 19190358.0000 - lr: 0.0100\n",
            "Epoch 18/45\n",
            "32/32 [==============================] - 1s 16ms/step - loss: 18870568.0000 - val_loss: 19233616.0000 - lr: 0.0100\n",
            "Epoch 19/45\n",
            "32/32 [==============================] - 1s 17ms/step - loss: 18860580.0000 - val_loss: 18977012.0000 - lr: 0.0100\n",
            "Epoch 20/45\n",
            "32/32 [==============================] - 1s 18ms/step - loss: 18719806.0000 - val_loss: 18850694.0000 - lr: 0.0100\n",
            "Epoch 21/45\n",
            "32/32 [==============================] - 1s 17ms/step - loss: 18690860.0000 - val_loss: 19014714.0000 - lr: 0.0100\n",
            "Epoch 22/45\n",
            "32/32 [==============================] - 1s 16ms/step - loss: 18574936.0000 - val_loss: 18868074.0000 - lr: 0.0100\n",
            "Epoch 23/45\n",
            "32/32 [==============================] - 1s 17ms/step - loss: 18733044.0000 - val_loss: 19106256.0000 - lr: 0.0100\n",
            "Epoch 24/45\n",
            "32/32 [==============================] - 1s 16ms/step - loss: 18660012.0000 - val_loss: 18709332.0000 - lr: 0.0100\n",
            "Epoch 25/45\n",
            "32/32 [==============================] - 1s 16ms/step - loss: 18366894.0000 - val_loss: 18601240.0000 - lr: 0.0100\n",
            "Epoch 26/45\n",
            "32/32 [==============================] - 1s 16ms/step - loss: 18256998.0000 - val_loss: 18621314.0000 - lr: 0.0100\n",
            "Epoch 27/45\n",
            "32/32 [==============================] - 1s 17ms/step - loss: 18219740.0000 - val_loss: 18554500.0000 - lr: 0.0100\n",
            "Epoch 28/45\n",
            "32/32 [==============================] - 1s 16ms/step - loss: 18177470.0000 - val_loss: 18601108.0000 - lr: 0.0100\n",
            "Epoch 29/45\n",
            "32/32 [==============================] - 1s 16ms/step - loss: 18352414.0000 - val_loss: 18714850.0000 - lr: 0.0100\n",
            "Epoch 30/45\n",
            "32/32 [==============================] - 1s 16ms/step - loss: 18335250.0000 - val_loss: 19224376.0000 - lr: 0.0100\n",
            "Epoch 31/45\n",
            "32/32 [==============================] - 0s 16ms/step - loss: 18400794.0000 - val_loss: 18642640.0000 - lr: 0.0100\n",
            "Epoch 32/45\n",
            "32/32 [==============================] - 1s 16ms/step - loss: 18018734.0000 - val_loss: 18857748.0000 - lr: 0.0100\n",
            "Epoch 33/45\n",
            "32/32 [==============================] - 1s 20ms/step - loss: 18077464.0000 - val_loss: 18572984.0000 - lr: 0.0100\n",
            "Epoch 34/45\n",
            "32/32 [==============================] - 1s 26ms/step - loss: 18117530.0000 - val_loss: 19461352.0000 - lr: 0.0100\n",
            "Epoch 35/45\n",
            "32/32 [==============================] - 1s 28ms/step - loss: 18202958.0000 - val_loss: 18423076.0000 - lr: 0.0100\n",
            "Epoch 36/45\n",
            "32/32 [==============================] - 1s 30ms/step - loss: 18014166.0000 - val_loss: 18828722.0000 - lr: 0.0100\n",
            "Epoch 37/45\n",
            "32/32 [==============================] - 1s 27ms/step - loss: 17887552.0000 - val_loss: 18699762.0000 - lr: 0.0100\n",
            "Epoch 38/45\n",
            "32/32 [==============================] - 1s 25ms/step - loss: 17843422.0000 - val_loss: 18694360.0000 - lr: 0.0100\n",
            "Epoch 39/45\n",
            "32/32 [==============================] - 1s 17ms/step - loss: 17858492.0000 - val_loss: 18496952.0000 - lr: 0.0100\n",
            "Epoch 40/45\n",
            "32/32 [==============================] - 1s 16ms/step - loss: 17924804.0000 - val_loss: 18538144.0000 - lr: 0.0100\n",
            "Epoch 41/45\n",
            "32/32 [==============================] - 1s 16ms/step - loss: 17835686.0000 - val_loss: 18580556.0000 - lr: 0.0100\n",
            "Epoch 42/45\n",
            "32/32 [==============================] - 0s 16ms/step - loss: 17775824.0000 - val_loss: 18683842.0000 - lr: 0.0100\n",
            "Epoch 43/45\n",
            "32/32 [==============================] - 1s 16ms/step - loss: 17742020.0000 - val_loss: 18457842.0000 - lr: 0.0100\n",
            "Epoch 44/45\n",
            "32/32 [==============================] - 1s 16ms/step - loss: 17759480.0000 - val_loss: 18483902.0000 - lr: 0.0100\n",
            "Epoch 45/45\n",
            "32/32 [==============================] - 1s 16ms/step - loss: 17644504.0000 - val_loss: 18460412.0000 - lr: 0.0100\n"
          ]
        }
      ]
    },
    {
      "cell_type": "code",
      "source": [
        "y_pred = model.predict(X_test)\n",
        "r2 = r2_score(y_test, y_pred)\n",
        "\n",
        "print('r2 = %.3f' % r2)"
      ],
      "metadata": {
        "colab": {
          "base_uri": "https://localhost:8080/"
        },
        "id": "JTAbOW6PCP10",
        "outputId": "8a5c6b17-c6dd-4793-f14a-608e4bf52c26"
      },
      "execution_count": 46,
      "outputs": [
        {
          "output_type": "stream",
          "name": "stdout",
          "text": [
            "2676/2676 [==============================] - 4s 1ms/step\n",
            "r2 = 0.586\n"
          ]
        }
      ]
    },
    {
      "cell_type": "code",
      "source": [
        "# summarize history for loss\n",
        "plt.plot(history.history['loss'])\n",
        "plt.plot(history.history['val_loss'])\n",
        "plt.title('model loss')\n",
        "plt.ylabel('loss')\n",
        "plt.xlabel('epoch')\n",
        "plt.legend(['train', 'test'], loc='upper left')\n",
        "plt.show()"
      ],
      "metadata": {
        "colab": {
          "base_uri": "https://localhost:8080/",
          "height": 295
        },
        "id": "FykBP4mHCWzo",
        "outputId": "7980900d-7563-40bd-fdc2-b486524e27c5"
      },
      "execution_count": 47,
      "outputs": [
        {
          "output_type": "display_data",
          "data": {
            "text/plain": [
              "<Figure size 432x288 with 1 Axes>"
            ],
            "image/png": "[encoded data removed]"
          },
          "metadata": {
            "needs_background": "light"
          }
        }
      ]
    }
  ]
}