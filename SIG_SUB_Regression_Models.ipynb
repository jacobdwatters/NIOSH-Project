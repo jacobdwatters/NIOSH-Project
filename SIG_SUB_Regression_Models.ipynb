{
  "nbformat": 4,
  "nbformat_minor": 0,
  "metadata": {
    "colab": {
      "provenance": [],
      "toc_visible": true,
      "authorship_tag": "ABX9TyMH44p9ur8sb92+6+MPOKMv",
      "include_colab_link": true
    },
    "kernelspec": {
      "name": "python3",
      "display_name": "Python 3"
    },
    "language_info": {
      "name": "python"
    }
  },
  "cells": [
    {
      "cell_type": "markdown",
      "metadata": {
        "id": "view-in-github",
        "colab_type": "text"
      },
      "source": [
        "<a href=\"https://colab.research.google.com/github/jacobdwatters/NIOSH-Project/blob/main/SIG_SUB_Regression_Models.ipynb\" target=\"_parent\"><img src=\"https://colab.research.google.com/assets/colab-badge.svg\" alt=\"Open In Colab\"/></a>"
      ]
    },
    {
      "cell_type": "code",
      "execution_count": 30,
      "metadata": {
        "id": "6jiu0b7x_ihn"
      },
      "outputs": [],
      "source": [
        "import numpy as np\n",
        "import pandas as pd\n",
        "import seaborn as sns\n",
        "import matplotlib.pyplot as plt\n",
        "\n",
        "import sklearn\n",
        "from sklearn.preprocessing import StandardScaler\n",
        "from sklearn.preprocessing import OneHotEncoder\n",
        "from sklearn.model_selection import train_test_split\n",
        "from sklearn.metrics import mean_absolute_error\n",
        "from sklearn.metrics import r2_score\n",
        "from sklearn.model_selection import cross_val_score\n",
        "from sklearn.tree import DecisionTreeRegressor\n",
        "from sklearn.ensemble import AdaBoostRegressor\n",
        "from sklearn.model_selection import cross_val_score\n",
        "from sklearn.model_selection import cross_validate\n",
        "from sklearn.model_selection import GridSearchCV\n",
        "from keras.wrappers.scikit_learn import KerasClassifier\n",
        "\n",
        "from tensorflow import keras\n",
        "from tensorflow.keras import layers\n",
        "import tensorflow as tf\n",
        "\n",
        "import scipy as sp\n",
        "from scipy import stats"
      ]
    },
    {
      "cell_type": "code",
      "source": [
        "from google.colab import drive\n",
        "drive.mount('/content/gdrive')"
      ],
      "metadata": {
        "colab": {
          "base_uri": "https://localhost:8080/"
        },
        "id": "lA3BtUpn_nZN",
        "outputId": "fbc8e228-200d-4c24-b62b-e507cafd9f81"
      },
      "execution_count": 6,
      "outputs": [
        {
          "output_type": "stream",
          "name": "stdout",
          "text": [
            "Drive already mounted at /content/gdrive; to attempt to forcibly remount, call drive.mount(\"/content/gdrive\", force_remount=True).\n"
          ]
        }
      ]
    },
    {
      "cell_type": "code",
      "source": [
        "FEATURES = ['VIOLATION_OCCUR_DT', 'MINE_ID', 'MINE_TYPE', 'COAL_METAL_IND', 'SIG_SUB', \n",
        "            'INJ_ILLNESS', 'NO_AFFECTED', 'NEGLIGENCE', 'VIOLATOR_VIOLATION_CNT',\n",
        "            'VIOLATOR_INSPECTION_DAY_CNT']\n",
        "TARGETS = ['PROPOSED_PENALTY']"
      ],
      "metadata": {
        "id": "jbswFkyt_n0U"
      },
      "execution_count": 7,
      "outputs": []
    },
    {
      "cell_type": "code",
      "source": [
        "path = '/content/gdrive/My Drive/NIOSH Project/data/violations_processed_after_2010.csv'\n",
        "violation_data = pd.read_csv(path)\n",
        "\n",
        "print('Samples in dataset: ', len(violation_data))"
      ],
      "metadata": {
        "colab": {
          "base_uri": "https://localhost:8080/"
        },
        "id": "wJGALcVp_rTB",
        "outputId": "09163375-2f08-4b8a-b2f4-7c586b0a497d"
      },
      "execution_count": 8,
      "outputs": [
        {
          "output_type": "stream",
          "name": "stdout",
          "text": [
            "Samples in dataset:  1429135\n"
          ]
        }
      ]
    },
    {
      "cell_type": "code",
      "source": [
        "significant_data = violation_data[violation_data['SIG_SUB'] == 'Y']\n",
        "print('Significant and substantial samples in dataset: ', len(significant_data))"
      ],
      "metadata": {
        "colab": {
          "base_uri": "https://localhost:8080/"
        },
        "id": "1JfDWvz_AT6Q",
        "outputId": "4efe37e8-81b3-4c9a-e765-08ba50508520"
      },
      "execution_count": 9,
      "outputs": [
        {
          "output_type": "stream",
          "name": "stdout",
          "text": [
            "Significant and substantial samples in dataset:  342474\n"
          ]
        }
      ]
    },
    {
      "cell_type": "markdown",
      "source": [
        "## Prepare and Split Significant Data"
      ],
      "metadata": {
        "id": "m2YeZ4f3AvXO"
      }
    },
    {
      "cell_type": "code",
      "source": [
        "FEATURES = ['MINE_TYPE', 'COAL_METAL_IND', 'LIKELIHOOD', \n",
        "            'INJ_ILLNESS', 'NO_AFFECTED', 'NEGLIGENCE', 'VIOLATOR_VIOLATION_CNT',\n",
        "            'VIOLATOR_INSPECTION_DAY_CNT']\n",
        "TARGETS = ['PROPOSED_PENALTY']\n",
        "\n",
        "X = significant_data[FEATURES]\n",
        "y = significant_data[TARGETS]\n",
        "\n",
        "# Define which columns should be encoded vs scaled\n",
        "columns_to_encode = ['MINE_TYPE', 'COAL_METAL_IND', 'LIKELIHOOD', 'INJ_ILLNESS', 'NEGLIGENCE']\n",
        "columns_to_scale  = ['VIOLATOR_VIOLATION_CNT', 'NO_AFFECTED', 'VIOLATOR_INSPECTION_DAY_CNT']\n",
        "\n",
        "# Instantiate encoder/scaler\n",
        "scaler = StandardScaler()\n",
        "ohe = OneHotEncoder(sparse=False)\n",
        "\n",
        "# Scale and Encode Separate Columns\n",
        "scaled_columns  = scaler.fit_transform(X[columns_to_scale])\n",
        "encoded_columns = ohe.fit_transform(X[columns_to_encode])\n",
        "\n",
        "# Concatenate (Column-Bind) Processed Columns Back Together\n",
        "X_pre = np.concatenate([scaled_columns, encoded_columns], axis=1)\n",
        "np.nan_to_num(X_pre, copy=False)\n",
        "\n",
        "print('Features shape:', X_pre.shape)\n",
        "\n",
        "X_train, X_test, y_train, y_test = train_test_split(X_pre, y, test_size = 0.25, random_state = 0)\n",
        "\n",
        "print('X_train shape:', X_train.shape)\n",
        "print('X_test shape:', X_test.shape)\n",
        "print('y_train shape:', y_train.shape)\n",
        "print('y_train shape:', y_test.shape)"
      ],
      "metadata": {
        "colab": {
          "base_uri": "https://localhost:8080/"
        },
        "id": "Ejn4CWIkAuy0",
        "outputId": "a71e88a1-daf7-4916-90ec-97adef4b45a1"
      },
      "execution_count": 10,
      "outputs": [
        {
          "output_type": "stream",
          "name": "stderr",
          "text": [
            "/usr/local/lib/python3.8/dist-packages/sklearn/preprocessing/_encoders.py:828: FutureWarning: `sparse` was renamed to `sparse_output` in version 1.2 and will be removed in 1.4. `sparse_output` is ignored unless you leave `sparse` to its default value.\n",
            "  warnings.warn(\n"
          ]
        },
        {
          "output_type": "stream",
          "name": "stdout",
          "text": [
            "Features shape: (342474, 22)\n",
            "X_train shape: (256855, 22)\n",
            "X_test shape: (85619, 22)\n",
            "y_train shape: (256855, 1)\n",
            "y_train shape: (85619, 1)\n"
          ]
        }
      ]
    },
    {
      "cell_type": "markdown",
      "source": [
        "## Desicion Tree Model With AdaBoost\n",
        "Apply hyper parameter tuning using cross-validation and gridsearch."
      ],
      "metadata": {
        "id": "bsVhMezEB_dD"
      }
    },
    {
      "cell_type": "code",
      "source": [
        "n_estimators_range = np.arange(2, 11, 2)\n",
        "max_depth_range = [DecisionTreeRegressor(max_depth=x) for x in range(2, 17, 2)]\n",
        "hyper_param_grid = dict(estimator=max_depth_range, n_estimators=n_estimators_range)\n",
        "\n",
        "tree_regressor_adaboost = AdaBoostRegressor()\n",
        "\n",
        "grid = GridSearchCV(tree_regressor_adaboost, hyper_param_grid, cv=5, return_train_score=False, refit=True, n_jobs=-1)\n",
        "grid.fit(X_train, y_train.values.ravel())\n",
        "\n",
        "tree_regressor_adaboost_optimal = grid.best_estimator_"
      ],
      "metadata": {
        "colab": {
          "base_uri": "https://localhost:8080/"
        },
        "id": "KRS12RYmBPdJ",
        "outputId": "4f55b426-379c-41ba-b3bc-5966ca66b7a0"
      },
      "execution_count": 53,
      "outputs": [
        {
          "output_type": "stream",
          "name": "stdout",
          "text": [
            "Best r2 Score:  0.4983829609149536\n",
            "Best Parameters:  {'estimator': DecisionTreeRegressor(max_depth=12), 'n_estimators': 4}\n"
          ]
        }
      ]
    },
    {
      "cell_type": "markdown",
      "source": [
        "### Cross Validation Results\n"
      ],
      "metadata": {
        "id": "W09CdIvZTHav"
      }
    },
    {
      "cell_type": "code",
      "source": [
        "print('Mean cross-validated r2 score: ', grid.best_score_)\n",
        "print('Best Parameters: ', grid.best_params_)"
      ],
      "metadata": {
        "id": "5CIk4ZL_StiD",
        "outputId": "1cd067f4-0f33-40e5-e460-c16e8aaca7c6",
        "colab": {
          "base_uri": "https://localhost:8080/"
        }
      },
      "execution_count": 59,
      "outputs": [
        {
          "output_type": "stream",
          "name": "stdout",
          "text": [
            "Mean cross-validated r2 score:  0.4983829609149536\n",
            "Best Parameters:  {'estimator': DecisionTreeRegressor(max_depth=12), 'n_estimators': 4}\n"
          ]
        }
      ]
    },
    {
      "cell_type": "markdown",
      "source": [
        "#### Compute Final Testing Scores"
      ],
      "metadata": {
        "id": "YyHpXsqrLwss"
      }
    },
    {
      "cell_type": "code",
      "source": [
        "tree_regressor_adaboost_y_pred_train = tree_regressor_adaboost_optimal.predict(X_train)\n",
        "tree_regressor_adaboost_y_pred_test = tree_regressor_adaboost_optimal.predict(X_test)\n",
        "\n",
        "tree_regressor_adaboost_r_squared_train = r2_score(y_train, tree_regressor_adaboost_y_pred_train)\n",
        "tree_regressor_adaboost_r_squared_test = r2_score(y_test, tree_regressor_adaboost_y_pred_test)\n",
        "\n",
        "tree_regressor_adaboost_mae_train = mean_absolute_error(y_train, tree_regressor_adaboost_y_pred_train)\n",
        "tree_regressor_adaboost_mae_test = mean_absolute_error(y_test, tree_regressor_adaboost_y_pred_test)\n",
        "\n",
        "print('Decision Tree Regression with AdaBoost Scores:')\n",
        "print('Training R^2 = %.3f' % tree_regressor_adaboost_r_squared_train)\n",
        "print('Training MAE = $%.2f' % tree_regressor_adaboost_mae_train)\n",
        "\n",
        "print('\\nTesting R^2 = %.3f' % tree_regressor_adaboost_r_squared_test)\n",
        "print('Testing MAE = $%.2f' % tree_regressor_adaboost_mae_test)"
      ],
      "metadata": {
        "id": "TvTodilbLv9i",
        "outputId": "456297b4-8a2b-4fed-8a1e-0e9f4740ce19",
        "colab": {
          "base_uri": "https://localhost:8080/"
        }
      },
      "execution_count": 54,
      "outputs": [
        {
          "output_type": "stream",
          "name": "stdout",
          "text": [
            "Decision Tree Regression with AdaBoost Scores:\n",
            "Training R^2 = 0.748\n",
            "Training MAE = $1004.79\n",
            "\n",
            "Testing R^2 = 0.530\n",
            "Testing MAE = $1154.12\n"
          ]
        }
      ]
    },
    {
      "cell_type": "markdown",
      "source": [
        "### Save Final Model"
      ],
      "metadata": {
        "id": "jwDNxmLpqZZF"
      }
    },
    {
      "cell_type": "code",
      "source": [
        "# Save the model\n",
        "filename = '/content/gdrive/My Drive/SIG_SUB_tree_regressor_adaboost_model_final.joblib'\n",
        "dump(tree_regressor_adaboost_optimal, filename)"
      ],
      "metadata": {
        "id": "Ss4_8A1Sin8T",
        "outputId": "24a60f83-66f8-48b3-c4b0-62c6d469f4c5",
        "colab": {
          "base_uri": "https://localhost:8080/"
        }
      },
      "execution_count": 55,
      "outputs": [
        {
          "output_type": "execute_result",
          "data": {
            "text/plain": [
              "['/content/gdrive/My Drive/SIG_SUB_tree_regressor_adaboost_model_final.joblib']"
            ]
          },
          "metadata": {},
          "execution_count": 55
        }
      ]
    },
    {
      "cell_type": "markdown",
      "source": [
        "## Train Neural Network"
      ],
      "metadata": {
        "id": "nxN3Egj_CDiw"
      }
    },
    {
      "cell_type": "code",
      "source": [
        "def scheduler(epoch, lr):\n",
        "  if epoch < 85:\n",
        "    return lr\n",
        "  else: # Drop learning rate after the first 85 epochs\n",
        "    return lr*np.exp(-0.05)"
      ],
      "metadata": {
        "id": "G0-n-ch8CCj4"
      },
      "execution_count": 23,
      "outputs": []
    },
    {
      "cell_type": "code",
      "source": [
        "batch_size = 4096*2\n",
        "epochs = 120\n",
        "callback = tf.keras.callbacks.LearningRateScheduler(scheduler)\n",
        "\n",
        "model = keras.Sequential()\n",
        "\n",
        "model.add(keras.Input(shape = (len(X_train[0]), ) ))\n",
        "model.add(layers.Dense(64, activation=\"relu\"))\n",
        "model.add(layers.Dense(32, activation=\"relu\"))\n",
        "model.add(layers.Dense(16, activation=\"relu\"))\n",
        "model.add(layers.Dense(8, activation=\"relu\"))\n",
        "model.add(layers.Dense(8, activation=\"relu\"))\n",
        "model.add(layers.Dense(8, activation=\"relu\"))\n",
        "model.add(layers.Dense(1, activation=\"linear\"))\n",
        "\n",
        "\n",
        "opt = keras.optimizers.Adam(learning_rate=0.01)\n",
        "model.compile(loss=\"mse\", optimizer=opt)\n",
        "history = model.fit(X_train, y_train, epochs=epochs, batch_size=batch_size, \n",
        "                    callbacks=[callback], validation_data=(X_test, y_test))"
      ],
      "metadata": {
        "colab": {
          "base_uri": "https://localhost:8080/"
        },
        "id": "BKLIxnJLCKR1",
        "outputId": "54b7fa1c-42f7-4e9b-e312-1a35b24e5685"
      },
      "execution_count": 24,
      "outputs": [
        {
          "output_type": "stream",
          "name": "stdout",
          "text": [
            "Epoch 1/120\n",
            "32/32 [==============================] - 2s 25ms/step - loss: 47114180.0000 - val_loss: 48527564.0000 - lr: 0.0100\n",
            "Epoch 2/120\n",
            "32/32 [==============================] - 1s 17ms/step - loss: 45972520.0000 - val_loss: 42875732.0000 - lr: 0.0100\n",
            "Epoch 3/120\n",
            "32/32 [==============================] - 1s 17ms/step - loss: 38816668.0000 - val_loss: 36564640.0000 - lr: 0.0100\n",
            "Epoch 4/120\n",
            "32/32 [==============================] - 1s 18ms/step - loss: 32339162.0000 - val_loss: 30185592.0000 - lr: 0.0100\n",
            "Epoch 5/120\n",
            "32/32 [==============================] - 1s 17ms/step - loss: 27099322.0000 - val_loss: 25719076.0000 - lr: 0.0100\n",
            "Epoch 6/120\n",
            "32/32 [==============================] - 1s 18ms/step - loss: 24227474.0000 - val_loss: 23186046.0000 - lr: 0.0100\n",
            "Epoch 7/120\n",
            "32/32 [==============================] - 1s 17ms/step - loss: 23026070.0000 - val_loss: 23005250.0000 - lr: 0.0100\n",
            "Epoch 8/120\n",
            "32/32 [==============================] - 1s 27ms/step - loss: 22680308.0000 - val_loss: 22477556.0000 - lr: 0.0100\n",
            "Epoch 9/120\n",
            "32/32 [==============================] - 1s 27ms/step - loss: 22480274.0000 - val_loss: 22221460.0000 - lr: 0.0100\n",
            "Epoch 10/120\n",
            "32/32 [==============================] - 1s 29ms/step - loss: 22366674.0000 - val_loss: 22168938.0000 - lr: 0.0100\n",
            "Epoch 11/120\n",
            "32/32 [==============================] - 1s 30ms/step - loss: 22320778.0000 - val_loss: 22025148.0000 - lr: 0.0100\n",
            "Epoch 12/120\n",
            "32/32 [==============================] - 1s 30ms/step - loss: 22174704.0000 - val_loss: 21957948.0000 - lr: 0.0100\n",
            "Epoch 13/120\n",
            "32/32 [==============================] - 1s 22ms/step - loss: 22130094.0000 - val_loss: 21821364.0000 - lr: 0.0100\n",
            "Epoch 14/120\n",
            "32/32 [==============================] - 1s 17ms/step - loss: 21998726.0000 - val_loss: 21864882.0000 - lr: 0.0100\n",
            "Epoch 15/120\n",
            "32/32 [==============================] - 1s 18ms/step - loss: 21815724.0000 - val_loss: 21729426.0000 - lr: 0.0100\n",
            "Epoch 16/120\n",
            "32/32 [==============================] - 1s 18ms/step - loss: 21622618.0000 - val_loss: 21328302.0000 - lr: 0.0100\n",
            "Epoch 17/120\n",
            "32/32 [==============================] - 1s 17ms/step - loss: 21434980.0000 - val_loss: 21103104.0000 - lr: 0.0100\n",
            "Epoch 18/120\n",
            "32/32 [==============================] - 1s 17ms/step - loss: 20858348.0000 - val_loss: 20567552.0000 - lr: 0.0100\n",
            "Epoch 19/120\n",
            "32/32 [==============================] - 1s 18ms/step - loss: 20366000.0000 - val_loss: 20003690.0000 - lr: 0.0100\n",
            "Epoch 20/120\n",
            "32/32 [==============================] - 1s 17ms/step - loss: 19931710.0000 - val_loss: 19567720.0000 - lr: 0.0100\n",
            "Epoch 21/120\n",
            "32/32 [==============================] - 1s 16ms/step - loss: 19582240.0000 - val_loss: 19598216.0000 - lr: 0.0100\n",
            "Epoch 22/120\n",
            "32/32 [==============================] - 1s 18ms/step - loss: 19319030.0000 - val_loss: 19201336.0000 - lr: 0.0100\n",
            "Epoch 23/120\n",
            "32/32 [==============================] - 1s 17ms/step - loss: 19084596.0000 - val_loss: 19349406.0000 - lr: 0.0100\n",
            "Epoch 24/120\n",
            "32/32 [==============================] - 1s 17ms/step - loss: 18958376.0000 - val_loss: 19087668.0000 - lr: 0.0100\n",
            "Epoch 25/120\n",
            "32/32 [==============================] - 1s 18ms/step - loss: 18795168.0000 - val_loss: 19017628.0000 - lr: 0.0100\n",
            "Epoch 26/120\n",
            "32/32 [==============================] - 1s 17ms/step - loss: 18650402.0000 - val_loss: 18794560.0000 - lr: 0.0100\n",
            "Epoch 27/120\n",
            "32/32 [==============================] - 1s 18ms/step - loss: 18514120.0000 - val_loss: 18770192.0000 - lr: 0.0100\n",
            "Epoch 28/120\n",
            "32/32 [==============================] - 1s 17ms/step - loss: 18541154.0000 - val_loss: 18721332.0000 - lr: 0.0100\n",
            "Epoch 29/120\n",
            "32/32 [==============================] - 1s 17ms/step - loss: 18550998.0000 - val_loss: 18710182.0000 - lr: 0.0100\n",
            "Epoch 30/120\n",
            "32/32 [==============================] - 1s 19ms/step - loss: 18396832.0000 - val_loss: 18871026.0000 - lr: 0.0100\n",
            "Epoch 31/120\n",
            "32/32 [==============================] - 1s 28ms/step - loss: 18275916.0000 - val_loss: 18655824.0000 - lr: 0.0100\n",
            "Epoch 32/120\n",
            "32/32 [==============================] - 1s 30ms/step - loss: 18195216.0000 - val_loss: 18674778.0000 - lr: 0.0100\n",
            "Epoch 33/120\n",
            "32/32 [==============================] - 1s 29ms/step - loss: 18115010.0000 - val_loss: 18497704.0000 - lr: 0.0100\n",
            "Epoch 34/120\n",
            "32/32 [==============================] - 2s 56ms/step - loss: 18115798.0000 - val_loss: 18661508.0000 - lr: 0.0100\n",
            "Epoch 35/120\n",
            "32/32 [==============================] - 1s 34ms/step - loss: 18142410.0000 - val_loss: 18441546.0000 - lr: 0.0100\n",
            "Epoch 36/120\n",
            "32/32 [==============================] - 1s 18ms/step - loss: 18000200.0000 - val_loss: 18537980.0000 - lr: 0.0100\n",
            "Epoch 37/120\n",
            "32/32 [==============================] - 1s 17ms/step - loss: 17941010.0000 - val_loss: 18541252.0000 - lr: 0.0100\n",
            "Epoch 38/120\n",
            "32/32 [==============================] - 1s 18ms/step - loss: 18035106.0000 - val_loss: 18668982.0000 - lr: 0.0100\n",
            "Epoch 39/120\n",
            "32/32 [==============================] - 1s 17ms/step - loss: 17945354.0000 - val_loss: 18560120.0000 - lr: 0.0100\n",
            "Epoch 40/120\n",
            "32/32 [==============================] - 1s 19ms/step - loss: 17898420.0000 - val_loss: 18398942.0000 - lr: 0.0100\n",
            "Epoch 41/120\n",
            "32/32 [==============================] - 1s 17ms/step - loss: 17829184.0000 - val_loss: 18717564.0000 - lr: 0.0100\n",
            "Epoch 42/120\n",
            "32/32 [==============================] - 1s 18ms/step - loss: 18070656.0000 - val_loss: 18659670.0000 - lr: 0.0100\n",
            "Epoch 43/120\n",
            "32/32 [==============================] - 2s 47ms/step - loss: 17968032.0000 - val_loss: 18426822.0000 - lr: 0.0100\n",
            "Epoch 44/120\n",
            "32/32 [==============================] - 1s 21ms/step - loss: 17755990.0000 - val_loss: 18574690.0000 - lr: 0.0100\n",
            "Epoch 45/120\n",
            "32/32 [==============================] - 1s 24ms/step - loss: 17709384.0000 - val_loss: 18357940.0000 - lr: 0.0100\n",
            "Epoch 46/120\n",
            "32/32 [==============================] - 1s 21ms/step - loss: 17578552.0000 - val_loss: 18290328.0000 - lr: 0.0100\n",
            "Epoch 47/120\n",
            "32/32 [==============================] - 1s 21ms/step - loss: 17578832.0000 - val_loss: 18513886.0000 - lr: 0.0100\n",
            "Epoch 48/120\n",
            "32/32 [==============================] - 1s 21ms/step - loss: 17557192.0000 - val_loss: 18923142.0000 - lr: 0.0100\n",
            "Epoch 49/120\n",
            "32/32 [==============================] - 1s 24ms/step - loss: 17588362.0000 - val_loss: 18461008.0000 - lr: 0.0100\n",
            "Epoch 50/120\n",
            "32/32 [==============================] - 1s 45ms/step - loss: 17577878.0000 - val_loss: 18661302.0000 - lr: 0.0100\n",
            "Epoch 51/120\n",
            "32/32 [==============================] - 1s 40ms/step - loss: 17489098.0000 - val_loss: 18303216.0000 - lr: 0.0100\n",
            "Epoch 52/120\n",
            "32/32 [==============================] - 1s 28ms/step - loss: 17462634.0000 - val_loss: 18484952.0000 - lr: 0.0100\n",
            "Epoch 53/120\n",
            "32/32 [==============================] - 1s 28ms/step - loss: 17456862.0000 - val_loss: 18368912.0000 - lr: 0.0100\n",
            "Epoch 54/120\n",
            "32/32 [==============================] - 1s 27ms/step - loss: 17445450.0000 - val_loss: 18284266.0000 - lr: 0.0100\n",
            "Epoch 55/120\n",
            "32/32 [==============================] - 1s 28ms/step - loss: 17338416.0000 - val_loss: 18366164.0000 - lr: 0.0100\n",
            "Epoch 56/120\n",
            "32/32 [==============================] - 1s 18ms/step - loss: 17351254.0000 - val_loss: 18749034.0000 - lr: 0.0100\n",
            "Epoch 57/120\n",
            "32/32 [==============================] - 1s 17ms/step - loss: 17339542.0000 - val_loss: 18431638.0000 - lr: 0.0100\n",
            "Epoch 58/120\n",
            "32/32 [==============================] - 1s 17ms/step - loss: 17266206.0000 - val_loss: 18855834.0000 - lr: 0.0100\n",
            "Epoch 59/120\n",
            "32/32 [==============================] - 1s 17ms/step - loss: 17388058.0000 - val_loss: 18362980.0000 - lr: 0.0100\n",
            "Epoch 60/120\n",
            "32/32 [==============================] - 1s 17ms/step - loss: 17148900.0000 - val_loss: 18447380.0000 - lr: 0.0100\n",
            "Epoch 61/120\n",
            "32/32 [==============================] - 1s 18ms/step - loss: 17310106.0000 - val_loss: 18360638.0000 - lr: 0.0100\n",
            "Epoch 62/120\n",
            "32/32 [==============================] - 1s 17ms/step - loss: 17217748.0000 - val_loss: 19049066.0000 - lr: 0.0100\n",
            "Epoch 63/120\n",
            "32/32 [==============================] - 1s 18ms/step - loss: 17436310.0000 - val_loss: 18572224.0000 - lr: 0.0100\n",
            "Epoch 64/120\n",
            "32/32 [==============================] - 1s 17ms/step - loss: 17359436.0000 - val_loss: 18545012.0000 - lr: 0.0100\n",
            "Epoch 65/120\n",
            "32/32 [==============================] - 1s 18ms/step - loss: 17194076.0000 - val_loss: 18474370.0000 - lr: 0.0100\n",
            "Epoch 66/120\n",
            "32/32 [==============================] - 1s 17ms/step - loss: 17168930.0000 - val_loss: 18368100.0000 - lr: 0.0100\n",
            "Epoch 67/120\n",
            "32/32 [==============================] - 1s 18ms/step - loss: 17139030.0000 - val_loss: 18438832.0000 - lr: 0.0100\n",
            "Epoch 68/120\n",
            "32/32 [==============================] - 1s 17ms/step - loss: 17173936.0000 - val_loss: 18443116.0000 - lr: 0.0100\n",
            "Epoch 69/120\n",
            "32/32 [==============================] - 1s 17ms/step - loss: 17057150.0000 - val_loss: 18402452.0000 - lr: 0.0100\n",
            "Epoch 70/120\n",
            "32/32 [==============================] - 1s 17ms/step - loss: 17138644.0000 - val_loss: 19100648.0000 - lr: 0.0100\n",
            "Epoch 71/120\n",
            "32/32 [==============================] - 1s 17ms/step - loss: 17162444.0000 - val_loss: 18572390.0000 - lr: 0.0100\n",
            "Epoch 72/120\n",
            "32/32 [==============================] - 1s 18ms/step - loss: 17044524.0000 - val_loss: 18384400.0000 - lr: 0.0100\n",
            "Epoch 73/120\n",
            "32/32 [==============================] - 1s 17ms/step - loss: 17062376.0000 - val_loss: 18360800.0000 - lr: 0.0100\n",
            "Epoch 74/120\n",
            "32/32 [==============================] - 1s 27ms/step - loss: 17040414.0000 - val_loss: 18558998.0000 - lr: 0.0100\n",
            "Epoch 75/120\n",
            "32/32 [==============================] - 1s 27ms/step - loss: 16951760.0000 - val_loss: 18522814.0000 - lr: 0.0100\n",
            "Epoch 76/120\n",
            "32/32 [==============================] - 1s 28ms/step - loss: 16989394.0000 - val_loss: 18364314.0000 - lr: 0.0100\n",
            "Epoch 77/120\n",
            "32/32 [==============================] - 1s 28ms/step - loss: 16947118.0000 - val_loss: 18668922.0000 - lr: 0.0100\n",
            "Epoch 78/120\n",
            "32/32 [==============================] - 1s 27ms/step - loss: 16849908.0000 - val_loss: 18497370.0000 - lr: 0.0100\n",
            "Epoch 79/120\n",
            "32/32 [==============================] - 1s 29ms/step - loss: 16984086.0000 - val_loss: 18477864.0000 - lr: 0.0100\n",
            "Epoch 80/120\n",
            "32/32 [==============================] - 1s 22ms/step - loss: 16780446.0000 - val_loss: 18382034.0000 - lr: 0.0100\n",
            "Epoch 81/120\n",
            "32/32 [==============================] - 1s 28ms/step - loss: 16953888.0000 - val_loss: 18645226.0000 - lr: 0.0100\n",
            "Epoch 82/120\n",
            "32/32 [==============================] - 1s 28ms/step - loss: 16858956.0000 - val_loss: 18167232.0000 - lr: 0.0100\n",
            "Epoch 83/120\n",
            "32/32 [==============================] - 1s 29ms/step - loss: 16790566.0000 - val_loss: 18515938.0000 - lr: 0.0100\n",
            "Epoch 84/120\n",
            "32/32 [==============================] - 1s 29ms/step - loss: 16764513.0000 - val_loss: 18220770.0000 - lr: 0.0100\n",
            "Epoch 85/120\n",
            "32/32 [==============================] - 1s 28ms/step - loss: 16752766.0000 - val_loss: 18527422.0000 - lr: 0.0100\n",
            "Epoch 86/120\n",
            "32/32 [==============================] - 1s 20ms/step - loss: 16778254.0000 - val_loss: 18630946.0000 - lr: 0.0095\n",
            "Epoch 87/120\n",
            "32/32 [==============================] - 1s 17ms/step - loss: 16760616.0000 - val_loss: 18277782.0000 - lr: 0.0090\n",
            "Epoch 88/120\n",
            "32/32 [==============================] - 1s 17ms/step - loss: 16750714.0000 - val_loss: 18392344.0000 - lr: 0.0086\n",
            "Epoch 89/120\n",
            "32/32 [==============================] - 1s 17ms/step - loss: 16577263.0000 - val_loss: 18329714.0000 - lr: 0.0082\n",
            "Epoch 90/120\n",
            "32/32 [==============================] - 1s 18ms/step - loss: 16547718.0000 - val_loss: 18370606.0000 - lr: 0.0078\n",
            "Epoch 91/120\n",
            "32/32 [==============================] - 1s 17ms/step - loss: 16580959.0000 - val_loss: 18409438.0000 - lr: 0.0074\n",
            "Epoch 92/120\n",
            "32/32 [==============================] - 1s 18ms/step - loss: 16426498.0000 - val_loss: 18424898.0000 - lr: 0.0070\n",
            "Epoch 93/120\n",
            "32/32 [==============================] - 1s 17ms/step - loss: 16436162.0000 - val_loss: 18526628.0000 - lr: 0.0067\n",
            "Epoch 94/120\n",
            "32/32 [==============================] - 1s 26ms/step - loss: 16336181.0000 - val_loss: 18106364.0000 - lr: 0.0064\n",
            "Epoch 95/120\n",
            "32/32 [==============================] - 2s 53ms/step - loss: 16349086.0000 - val_loss: 18343522.0000 - lr: 0.0061\n",
            "Epoch 96/120\n",
            "32/32 [==============================] - 1s 43ms/step - loss: 16276711.0000 - val_loss: 18220414.0000 - lr: 0.0058\n",
            "Epoch 97/120\n",
            "32/32 [==============================] - 1s 28ms/step - loss: 16360795.0000 - val_loss: 18336602.0000 - lr: 0.0055\n",
            "Epoch 98/120\n",
            "32/32 [==============================] - 1s 27ms/step - loss: 16217837.0000 - val_loss: 18350338.0000 - lr: 0.0052\n",
            "Epoch 99/120\n",
            "32/32 [==============================] - 1s 18ms/step - loss: 16290973.0000 - val_loss: 18348642.0000 - lr: 0.0050\n",
            "Epoch 100/120\n",
            "32/32 [==============================] - 1s 17ms/step - loss: 16192327.0000 - val_loss: 18286736.0000 - lr: 0.0047\n",
            "Epoch 101/120\n",
            "32/32 [==============================] - 1s 17ms/step - loss: 16175012.0000 - val_loss: 18354690.0000 - lr: 0.0045\n",
            "Epoch 102/120\n",
            "32/32 [==============================] - 1s 18ms/step - loss: 16199893.0000 - val_loss: 18223670.0000 - lr: 0.0043\n",
            "Epoch 103/120\n",
            "32/32 [==============================] - 1s 18ms/step - loss: 16168790.0000 - val_loss: 18370560.0000 - lr: 0.0041\n",
            "Epoch 104/120\n",
            "32/32 [==============================] - 1s 18ms/step - loss: 16095628.0000 - val_loss: 18258836.0000 - lr: 0.0039\n",
            "Epoch 105/120\n",
            "32/32 [==============================] - 1s 17ms/step - loss: 16106638.0000 - val_loss: 18506380.0000 - lr: 0.0037\n",
            "Epoch 106/120\n",
            "32/32 [==============================] - 1s 17ms/step - loss: 16212398.0000 - val_loss: 18251474.0000 - lr: 0.0035\n",
            "Epoch 107/120\n",
            "32/32 [==============================] - 1s 18ms/step - loss: 16057922.0000 - val_loss: 18341728.0000 - lr: 0.0033\n",
            "Epoch 108/120\n",
            "32/32 [==============================] - 1s 18ms/step - loss: 16045489.0000 - val_loss: 18276314.0000 - lr: 0.0032\n",
            "Epoch 109/120\n",
            "32/32 [==============================] - 1s 18ms/step - loss: 16002833.0000 - val_loss: 18340240.0000 - lr: 0.0030\n",
            "Epoch 110/120\n",
            "32/32 [==============================] - 1s 17ms/step - loss: 16032309.0000 - val_loss: 18327168.0000 - lr: 0.0029\n",
            "Epoch 111/120\n",
            "32/32 [==============================] - 1s 17ms/step - loss: 15988977.0000 - val_loss: 18342832.0000 - lr: 0.0027\n",
            "Epoch 112/120\n",
            "32/32 [==============================] - 1s 17ms/step - loss: 16024901.0000 - val_loss: 18377350.0000 - lr: 0.0026\n",
            "Epoch 113/120\n",
            "32/32 [==============================] - 1s 17ms/step - loss: 15942607.0000 - val_loss: 18380880.0000 - lr: 0.0025\n",
            "Epoch 114/120\n",
            "32/32 [==============================] - 1s 19ms/step - loss: 15962661.0000 - val_loss: 18357882.0000 - lr: 0.0023\n",
            "Epoch 115/120\n",
            "32/32 [==============================] - 1s 18ms/step - loss: 15944891.0000 - val_loss: 18402766.0000 - lr: 0.0022\n",
            "Epoch 116/120\n",
            "32/32 [==============================] - 1s 23ms/step - loss: 15933072.0000 - val_loss: 18308596.0000 - lr: 0.0021\n",
            "Epoch 117/120\n",
            "32/32 [==============================] - 1s 28ms/step - loss: 15931752.0000 - val_loss: 18356708.0000 - lr: 0.0020\n",
            "Epoch 118/120\n",
            "32/32 [==============================] - 1s 30ms/step - loss: 15871600.0000 - val_loss: 18296998.0000 - lr: 0.0019\n",
            "Epoch 119/120\n",
            "32/32 [==============================] - 1s 29ms/step - loss: 15904942.0000 - val_loss: 18322716.0000 - lr: 0.0018\n",
            "Epoch 120/120\n",
            "32/32 [==============================] - 1s 30ms/step - loss: 15875321.0000 - val_loss: 18260684.0000 - lr: 0.0017\n"
          ]
        }
      ]
    },
    {
      "cell_type": "code",
      "source": [
        "y_pred = model.predict(X_test)\n",
        "r2 = r2_score(y_test, y_pred)\n",
        "\n",
        "print('Testing r2 = %.3f' % r2)"
      ],
      "metadata": {
        "colab": {
          "base_uri": "https://localhost:8080/"
        },
        "id": "JTAbOW6PCP10",
        "outputId": "84ff075e-fcc7-4df5-a041-20c05824ebc6"
      },
      "execution_count": 27,
      "outputs": [
        {
          "output_type": "stream",
          "name": "stdout",
          "text": [
            "2676/2676 [==============================] - 9s 3ms/step\n",
            "Testing r2 = 0.591\n"
          ]
        }
      ]
    },
    {
      "cell_type": "code",
      "source": [
        "# summarize history for loss\n",
        "plt.plot(history.history['loss'])\n",
        "plt.plot(history.history['val_loss'])\n",
        "plt.title('model loss')\n",
        "plt.ylabel('loss')\n",
        "plt.xlabel('epoch')\n",
        "plt.legend(['train', 'test'], loc='upper left')\n",
        "plt.show()"
      ],
      "metadata": {
        "colab": {
          "base_uri": "https://localhost:8080/",
          "height": 295
        },
        "id": "FykBP4mHCWzo",
        "outputId": "35436461-6a5f-4fb3-e7ff-e7be8febabff"
      },
      "execution_count": 26,
      "outputs": [
        {
          "output_type": "display_data",
          "data": {
            "text/plain": [
              "<Figure size 432x288 with 1 Axes>"
            ],
            "image/png": "[encoded data removed]"
          },
          "metadata": {
            "needs_background": "light"
          }
        }
      ]
    }
  ]
}