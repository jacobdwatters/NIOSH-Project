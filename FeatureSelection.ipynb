{
 "cells": [
  {
   "cell_type": "code",
   "execution_count": 3,
   "id": "04f67e2b",
   "metadata": {},
   "outputs": [],
   "source": [
    "import violation_common\n",
    "from copy import deepcopy\n",
    "from importlib import reload\n",
    "from scipy.stats import chi2_contingency, pointbiserialr, pearsonr\n",
    "import pandas as pd\n",
    "import numpy as np\n",
    "# run this cell after updating violation_common\n",
    "reload(violation_common)\n",
    "from sklearn.feature_selection import SelectKBest\n",
    "from sklearn.feature_selection import mutual_info_classif, mutual_info_regression"
   ]
  },
  {
   "cell_type": "code",
   "execution_count": 15,
   "id": "ad93eeb2",
   "metadata": {},
   "outputs": [],
   "source": [
    "data = violation_common.get_processed_violation_data()"
   ]
  },
  {
   "cell_type": "code",
   "execution_count": 17,
   "id": "94923d73",
   "metadata": {},
   "outputs": [
    {
     "data": {
      "text/html": [
       "<div>\n",
       "<style scoped>\n",
       "    .dataframe tbody tr th:only-of-type {\n",
       "        vertical-align: middle;\n",
       "    }\n",
       "\n",
       "    .dataframe tbody tr th {\n",
       "        vertical-align: top;\n",
       "    }\n",
       "\n",
       "    .dataframe thead th {\n",
       "        text-align: right;\n",
       "    }\n",
       "</style>\n",
       "<table border=\"1\" class=\"dataframe\">\n",
       "  <thead>\n",
       "    <tr style=\"text-align: right;\">\n",
       "      <th></th>\n",
       "      <th>VIOLATOR_TYPE_CD</th>\n",
       "      <th>MINE_TYPE</th>\n",
       "      <th>COAL_METAL_IND</th>\n",
       "      <th>SIG_SUB</th>\n",
       "      <th>PRIMARY_OR_MILL</th>\n",
       "      <th>PROPOSED_PENALTY</th>\n",
       "      <th>VIOLATOR_VIOLATION_CNT</th>\n",
       "      <th>VIOLATOR_INSPECTION_DAY_CNT</th>\n",
       "      <th>YEAR_OCCUR</th>\n",
       "    </tr>\n",
       "  </thead>\n",
       "  <tbody>\n",
       "    <tr>\n",
       "      <th>0</th>\n",
       "      <td>Operator</td>\n",
       "      <td>Surface</td>\n",
       "      <td>M</td>\n",
       "      <td>N</td>\n",
       "      <td>Primary</td>\n",
       "      <td>55.0</td>\n",
       "      <td>0.0</td>\n",
       "      <td>0.0</td>\n",
       "      <td>2000</td>\n",
       "    </tr>\n",
       "    <tr>\n",
       "      <th>1</th>\n",
       "      <td>Operator</td>\n",
       "      <td>Surface</td>\n",
       "      <td>M</td>\n",
       "      <td>N</td>\n",
       "      <td>Primary</td>\n",
       "      <td>55.0</td>\n",
       "      <td>0.0</td>\n",
       "      <td>0.0</td>\n",
       "      <td>2000</td>\n",
       "    </tr>\n",
       "    <tr>\n",
       "      <th>2</th>\n",
       "      <td>Operator</td>\n",
       "      <td>Surface</td>\n",
       "      <td>M</td>\n",
       "      <td>N</td>\n",
       "      <td>Primary</td>\n",
       "      <td>55.0</td>\n",
       "      <td>0.0</td>\n",
       "      <td>0.0</td>\n",
       "      <td>2000</td>\n",
       "    </tr>\n",
       "    <tr>\n",
       "      <th>3</th>\n",
       "      <td>Operator</td>\n",
       "      <td>Surface</td>\n",
       "      <td>M</td>\n",
       "      <td>Y</td>\n",
       "      <td>Primary</td>\n",
       "      <td>196.0</td>\n",
       "      <td>0.0</td>\n",
       "      <td>0.0</td>\n",
       "      <td>2000</td>\n",
       "    </tr>\n",
       "    <tr>\n",
       "      <th>4</th>\n",
       "      <td>Operator</td>\n",
       "      <td>Surface</td>\n",
       "      <td>M</td>\n",
       "      <td>N</td>\n",
       "      <td>Primary</td>\n",
       "      <td>55.0</td>\n",
       "      <td>0.0</td>\n",
       "      <td>0.0</td>\n",
       "      <td>2000</td>\n",
       "    </tr>\n",
       "    <tr>\n",
       "      <th>...</th>\n",
       "      <td>...</td>\n",
       "      <td>...</td>\n",
       "      <td>...</td>\n",
       "      <td>...</td>\n",
       "      <td>...</td>\n",
       "      <td>...</td>\n",
       "      <td>...</td>\n",
       "      <td>...</td>\n",
       "      <td>...</td>\n",
       "    </tr>\n",
       "    <tr>\n",
       "      <th>2809262</th>\n",
       "      <td>Operator</td>\n",
       "      <td>Surface</td>\n",
       "      <td>M</td>\n",
       "      <td>Y</td>\n",
       "      <td>Primary</td>\n",
       "      <td>2282.0</td>\n",
       "      <td>14.0</td>\n",
       "      <td>5.0</td>\n",
       "      <td>2012</td>\n",
       "    </tr>\n",
       "    <tr>\n",
       "      <th>2809263</th>\n",
       "      <td>Operator</td>\n",
       "      <td>Surface</td>\n",
       "      <td>M</td>\n",
       "      <td>N</td>\n",
       "      <td>Primary</td>\n",
       "      <td>460.0</td>\n",
       "      <td>14.0</td>\n",
       "      <td>5.0</td>\n",
       "      <td>2012</td>\n",
       "    </tr>\n",
       "    <tr>\n",
       "      <th>2809264</th>\n",
       "      <td>Operator</td>\n",
       "      <td>Surface</td>\n",
       "      <td>M</td>\n",
       "      <td>N</td>\n",
       "      <td>Primary</td>\n",
       "      <td>207.0</td>\n",
       "      <td>14.0</td>\n",
       "      <td>6.0</td>\n",
       "      <td>2012</td>\n",
       "    </tr>\n",
       "    <tr>\n",
       "      <th>2809265</th>\n",
       "      <td>Operator</td>\n",
       "      <td>Surface</td>\n",
       "      <td>M</td>\n",
       "      <td>N</td>\n",
       "      <td>Primary</td>\n",
       "      <td>127.0</td>\n",
       "      <td>14.0</td>\n",
       "      <td>6.0</td>\n",
       "      <td>2012</td>\n",
       "    </tr>\n",
       "    <tr>\n",
       "      <th>2809266</th>\n",
       "      <td>Operator</td>\n",
       "      <td>Surface</td>\n",
       "      <td>M</td>\n",
       "      <td>N</td>\n",
       "      <td>Primary</td>\n",
       "      <td>100.0</td>\n",
       "      <td>14.0</td>\n",
       "      <td>6.0</td>\n",
       "      <td>2012</td>\n",
       "    </tr>\n",
       "  </tbody>\n",
       "</table>\n",
       "<p>2745217 rows × 9 columns</p>\n",
       "</div>"
      ],
      "text/plain": [
       "        VIOLATOR_TYPE_CD MINE_TYPE COAL_METAL_IND SIG_SUB PRIMARY_OR_MILL   \n",
       "0               Operator   Surface              M       N         Primary  \\\n",
       "1               Operator   Surface              M       N         Primary   \n",
       "2               Operator   Surface              M       N         Primary   \n",
       "3               Operator   Surface              M       Y         Primary   \n",
       "4               Operator   Surface              M       N         Primary   \n",
       "...                  ...       ...            ...     ...             ...   \n",
       "2809262         Operator   Surface              M       Y         Primary   \n",
       "2809263         Operator   Surface              M       N         Primary   \n",
       "2809264         Operator   Surface              M       N         Primary   \n",
       "2809265         Operator   Surface              M       N         Primary   \n",
       "2809266         Operator   Surface              M       N         Primary   \n",
       "\n",
       "         PROPOSED_PENALTY  VIOLATOR_VIOLATION_CNT   \n",
       "0                    55.0                     0.0  \\\n",
       "1                    55.0                     0.0   \n",
       "2                    55.0                     0.0   \n",
       "3                   196.0                     0.0   \n",
       "4                    55.0                     0.0   \n",
       "...                   ...                     ...   \n",
       "2809262            2282.0                    14.0   \n",
       "2809263             460.0                    14.0   \n",
       "2809264             207.0                    14.0   \n",
       "2809265             127.0                    14.0   \n",
       "2809266             100.0                    14.0   \n",
       "\n",
       "         VIOLATOR_INSPECTION_DAY_CNT  YEAR_OCCUR  \n",
       "0                                0.0        2000  \n",
       "1                                0.0        2000  \n",
       "2                                0.0        2000  \n",
       "3                                0.0        2000  \n",
       "4                                0.0        2000  \n",
       "...                              ...         ...  \n",
       "2809262                          5.0        2012  \n",
       "2809263                          5.0        2012  \n",
       "2809264                          6.0        2012  \n",
       "2809265                          6.0        2012  \n",
       "2809266                          6.0        2012  \n",
       "\n",
       "[2745217 rows x 9 columns]"
      ]
     },
     "execution_count": 17,
     "metadata": {},
     "output_type": "execute_result"
    }
   ],
   "source": [
    "data"
   ]
  },
  {
   "cell_type": "code",
   "execution_count": 19,
   "id": "b0fb13e5",
   "metadata": {},
   "outputs": [],
   "source": [
    "after_2010 = data.query('YEAR_OCCUR > 2010')\n",
    "after_2010.to_csv('data/after_2010.csv')"
   ]
  },
  {
   "cell_type": "code",
   "execution_count": 4,
   "id": "9981c3c6",
   "metadata": {},
   "outputs": [],
   "source": [
    "after_2010 = pd.read_csv('data/after_2010.csv', index_col=0)"
   ]
  },
  {
   "cell_type": "code",
   "execution_count": 17,
   "id": "25765aeb",
   "metadata": {},
   "outputs": [
    {
     "data": {
      "text/plain": [
       "4.721410093785144"
      ]
     },
     "execution_count": 17,
     "metadata": {},
     "output_type": "execute_result"
    }
   ],
   "source": [
    "np.std(after_2010['PROPOSED_PENALTY']) / np.mean(after_2010['PROPOSED_PENALTY'])"
   ]
  },
  {
   "cell_type": "code",
   "execution_count": 34,
   "id": "2d1c1810",
   "metadata": {},
   "outputs": [
    {
     "name": "stdout",
     "output_type": "stream",
     "text": [
      "Proposed Pentalty Stats:\n",
      "n: 1279508\n",
      "Mean: 684.474\n",
      "Median: 138.0\n",
      "Std. Dev: 3224.218\n",
      "CV: 4.711\n",
      "\n",
      "S&S Stats:\n",
      "S&S samples: 296136 (0.231)\n",
      "Non-S&S samples: 983372 (0.769)\n"
     ]
    }
   ],
   "source": [
    "_, (num_non_sig, num_sig) = np.unique(after_2010['SIG_SUB'], return_counts=True)\n",
    "num_samples = len(after_2010)\n",
    "pp_mean = np.mean(after_2010['PROPOSED_PENALTY'])\n",
    "pp_median = np.median(after_2010['PROPOSED_PENALTY'])\n",
    "pp_std = np.std(after_2010['PROPOSED_PENALTY'])\n",
    "pp_cv = pp_std / pp_mean\n",
    "freq_sig = num_sig / num_samples\n",
    "freq_non_sig = num_non_sig / num_samples\n",
    "\n",
    "print('Proposed Pentalty Stats:')\n",
    "print(f'''n: {num_samples}\n",
    "Mean: {pp_mean:.3f}\n",
    "Median: {pp_median}\n",
    "Std. Dev: {pp_std:.3f}\n",
    "CV: {pp_cv:.3f}\n",
    "\n",
    "S&S Stats:\n",
    "S&S samples: {num_sig} ({freq_sig:.3f})\n",
    "Non-S&S samples: {num_non_sig} ({freq_non_sig:.3f})''')"
   ]
  },
  {
   "cell_type": "code",
   "execution_count": 43,
   "id": "044e3744",
   "metadata": {},
   "outputs": [
    {
     "name": "stdout",
     "output_type": "stream",
     "text": [
      "Chi Square Results\n",
      "                        p-value         V         stat\n",
      "PRIMARY_OR_MILL   2.932445e-139  0.022329   637.966983\n",
      "COAL_METAL_IND    2.394633e-108  0.019549   488.963979\n",
      "MINE_TYPE          6.158087e-53  0.013708   240.438488\n",
      "VIOLATOR_TYPE_CD   0.000000e+00  0.047323  2865.400331\n"
     ]
    }
   ],
   "source": [
    "# comparing SIG_SUB to categorical columns\n",
    "\n",
    "categorical_cols = ['PRIMARY_OR_MILL', 'COAL_METAL_IND', 'MINE_TYPE', 'VIOLATOR_TYPE_CD']\n",
    "chi2_results_ss = dict()\n",
    "for col in categorical_cols:\n",
    "    contingency_table = pd.crosstab(after_2010['SIG_SUB'], after_2010[col])\n",
    "    observed = contingency_table.values\n",
    "    n = contingency_table.sum().sum()\n",
    "    chi2, p_value, dof, expected = chi2_contingency(contingency_table)\n",
    "    V = np.sqrt(chi2 / (n * (min(observed.shape) - 1)))\n",
    "    chi2_results_ss[col] = {'p-value': p_value, 'V': V, 'stat': chi2}\n",
    "\n",
    "print('Chi Square Results SIG_SUB')\n",
    "print(pd.DataFrame.from_dict(chi2_results_ss, orient='index'))"
   ]
  },
  {
   "cell_type": "code",
   "execution_count": 50,
   "id": "2d2c8432",
   "metadata": {},
   "outputs": [
    {
     "name": "stdout",
     "output_type": "stream",
     "text": [
      "Point Biserial Results SIG_SUB\n",
      "                                    R       p-value\n",
      "VIOLATOR_INSPECTION_DAY_CNT -0.011480  1.459256e-38\n",
      "VIOLATOR_VIOLATION_CNT      -0.007927  3.054101e-19\n",
      "YEAR_OCCUR                  -0.077026  0.000000e+00\n"
     ]
    }
   ],
   "source": [
    "# comparing SIG_SUG to continuous columns\n",
    "\n",
    "numerical_cols = ['VIOLATOR_INSPECTION_DAY_CNT', 'VIOLATOR_VIOLATION_CNT', 'YEAR_OCCUR']\n",
    "point_biserial_results_ss = dict()\n",
    "for col in numerical_cols:\n",
    "    r, p = pointbiserialr(after_2010['SIG_SUB'] == 'Y', after_2010[col])\n",
    "    point_biserial_results_ss[col] = {'R': r, 'p-value': p}\n",
    "\n",
    "print(\"Point Biserial Results SIG_SUB\")\n",
    "print(pd.DataFrame.from_dict(point_biserial_results_ss, orient='index'))"
   ]
  },
  {
   "cell_type": "code",
   "execution_count": 52,
   "id": "7098ec2d",
   "metadata": {},
   "outputs": [],
   "source": [
    "# comparing PROPOSED_PENALTY to categorical columns\n",
    "\n",
    "categorical_cols = ['PRIMARY_OR_MILL', 'COAL_METAL_IND', 'MINE_TYPE', 'VIOLATOR_TYPE_CD', 'SIG_SUB']"
   ]
  },
  {
   "cell_type": "code",
   "execution_count": 53,
   "id": "1de3ee84",
   "metadata": {},
   "outputs": [
    {
     "name": "stdout",
     "output_type": "stream",
     "text": [
      "Pearson Correlation Results PROPOSED_PENALTY\n",
      "                                    R  p-value\n",
      "VIOLATOR_INSPECTION_DAY_CNT  0.061799      0.0\n",
      "VIOLATOR_VIOLATION_CNT       0.103475      0.0\n",
      "YEAR_OCCUR                  -0.037152      0.0\n"
     ]
    }
   ],
   "source": [
    "# comparing PROPOSED_PENALTY to numerical columns\n",
    "\n",
    "numerical_cols = ['VIOLATOR_INSPECTION_DAY_CNT', 'VIOLATOR_VIOLATION_CNT', 'YEAR_OCCUR']\n",
    "pearson_results_pp = dict()\n",
    "for col in numerical_cols:\n",
    "    r, p = pearsonr(after_2010['PROPOSED_PENALTY'], after_2010[col])\n",
    "    pearson_results_pp[col] = {'R': r, 'p-value': p}\n",
    "\n",
    "print(\"Pearson Correlation Results PROPOSED_PENALTY\")\n",
    "print(pd.DataFrame.from_dict(pearson_results_pp, orient='index'))"
   ]
  },
  {
   "cell_type": "code",
   "execution_count": 24,
   "id": "fe0eb905",
   "metadata": {},
   "outputs": [
    {
     "name": "stdout",
     "output_type": "stream",
     "text": [
      "YEAR_OCCUR                     0.023600\n",
      "VIOLATOR_INSPECTION_DAY_CNT    0.001881\n",
      "VIOLATOR_VIOLATION_CNT         0.001658\n",
      "VIOLATOR_TYPE_CD               0.001054\n",
      "PRIMARY_OR_MILL                0.000249\n",
      "COAL_METAL_IND                 0.000191\n",
      "MINE_TYPE                      0.000094\n",
      "dtype: float64\n"
     ]
    }
   ],
   "source": [
    "# feature selection with mutual information for SIG_SUB\n",
    "\n",
    "categorical_cols = ['PRIMARY_OR_MILL', 'COAL_METAL_IND', 'MINE_TYPE', 'VIOLATOR_TYPE_CD']\n",
    "numerical_cols = ['VIOLATOR_INSPECTION_DAY_CNT', 'VIOLATOR_VIOLATION_CNT', 'YEAR_OCCUR']\n",
    "\n",
    "X = after_2010[categorical_cols + numerical_cols].copy()\n",
    "for col in categorical_cols:\n",
    "    X[col] = X[col].factorize()[0]\n",
    "\n",
    "y = after_2010['SIG_SUB'].factorize()[0]\n",
    "\n",
    "discrete_indices = list(range(len(categorical_cols)))\n",
    "mutual_info = mutual_info_classif(X, y, discrete_features=discrete_indices, random_state=0)\n",
    "\n",
    "mutual_info_series = pd.Series(mutual_info, index=X.columns)\n",
    "mutual_info_series.sort_values(ascending=False, inplace=True)\n",
    "print(mutual_info_series)"
   ]
  },
  {
   "cell_type": "code",
   "execution_count": 5,
   "id": "dc921bca",
   "metadata": {},
   "outputs": [
    {
     "name": "stdout",
     "output_type": "stream",
     "text": [
      "YEAR_OCCUR                     1.437295\n",
      "VIOLATOR_VIOLATION_CNT         0.318062\n",
      "VIOLATOR_INSPECTION_DAY_CNT    0.205223\n",
      "SIG_SUB                        0.155703\n",
      "MINE_TYPE                      0.048345\n",
      "PRIMARY_OR_MILL                0.047417\n",
      "COAL_METAL_IND                 0.037030\n",
      "VIOLATOR_TYPE_CD               0.008511\n",
      "dtype: float64\n"
     ]
    }
   ],
   "source": [
    "# feature selection with mutual information for PROPOSED_PENALTY\n",
    "\n",
    "categorical_cols = ['PRIMARY_OR_MILL', 'COAL_METAL_IND', 'MINE_TYPE', 'VIOLATOR_TYPE_CD', 'SIG_SUB']\n",
    "numerical_cols = ['VIOLATOR_INSPECTION_DAY_CNT', 'VIOLATOR_VIOLATION_CNT', 'YEAR_OCCUR']\n",
    "\n",
    "X = after_2010[categorical_cols + numerical_cols].copy()\n",
    "for col in categorical_cols:\n",
    "    X[col] = X[col].factorize()[0]\n",
    "\n",
    "y = after_2010['PROPOSED_PENALTY'].copy()\n",
    "\n",
    "discrete_indices = list(range(len(categorical_cols)))\n",
    "mutual_info = mutual_info_regression(X, y, discrete_features=discrete_indices, random_state=0)\n",
    "\n",
    "mutual_info_series = pd.Series(mutual_info, index=X.columns)\n",
    "mutual_info_series.sort_values(ascending=False, inplace=True)\n",
    "print(mutual_info_series)"
   ]
  },
  {
   "cell_type": "code",
   "execution_count": 14,
   "id": "277957cd",
   "metadata": {},
   "outputs": [
    {
     "data": {
      "text/plain": [
       "['YEAR_OCCUR',\n",
       " 'VIOLATOR_VIOLATION_CNT',\n",
       " 'VIOLATOR_INSPECTION_DAY_CNT',\n",
       " 'SIG_SUB',\n",
       " 'MINE_TYPE',\n",
       " 'PRIMARY_OR_MILL',\n",
       " 'COAL_METAL_IND',\n",
       " 'VIOLATOR_TYPE_CD']"
      ]
     },
     "execution_count": 14,
     "metadata": {},
     "output_type": "execute_result"
    }
   ],
   "source": [
    "mutual_info_series.index.to_list()"
   ]
  }
 ],
 "metadata": {
  "kernelspec": {
   "display_name": "Python 3 (ipykernel)",
   "language": "python",
   "name": "python3"
  },
  "language_info": {
   "codemirror_mode": {
    "name": "ipython",
    "version": 3
   },
   "file_extension": ".py",
   "mimetype": "text/x-python",
   "name": "python",
   "nbconvert_exporter": "python",
   "pygments_lexer": "ipython3",
   "version": "3.10.10"
  }
 },
 "nbformat": 4,
 "nbformat_minor": 5
}
