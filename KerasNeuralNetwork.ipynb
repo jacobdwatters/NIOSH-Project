{
  "nbformat": 4,
  "nbformat_minor": 0,
  "metadata": {
    "colab": {
      "provenance": [],
      "machine_shape": "hm",
      "authorship_tag": "ABX9TyMTCGOFsNdkTEs+hx/BHNcD",
      "include_colab_link": true
    },
    "kernelspec": {
      "name": "python3",
      "display_name": "Python 3"
    },
    "language_info": {
      "name": "python"
    },
    "accelerator": "GPU",
    "gpuClass": "standard"
  },
  "cells": [
    {
      "cell_type": "markdown",
      "metadata": {
        "id": "view-in-github",
        "colab_type": "text"
      },
      "source": [
        "<a href=\"https://colab.research.google.com/github/jacobdwatters/NIOSH-Project/blob/main/KerasNeuralNetwork.ipynb\" target=\"_parent\"><img src=\"https://colab.research.google.com/assets/colab-badge.svg\" alt=\"Open In Colab\"/></a>"
      ]
    },
    {
      "cell_type": "markdown",
      "source": [
        "## Imports and Setups"
      ],
      "metadata": {
        "id": "kksCVOwmWIyk"
      }
    },
    {
      "cell_type": "code",
      "execution_count": 72,
      "metadata": {
        "id": "1QV40HghV7bg"
      },
      "outputs": [],
      "source": [
        "import numpy as np\n",
        "from numpy.random import seed\n",
        "import pandas as pd\n",
        "import seaborn as sns\n",
        "import matplotlib.pyplot as plt\n",
        "\n",
        "import sklearn\n",
        "from sklearn.preprocessing import StandardScaler\n",
        "from sklearn.preprocessing import OneHotEncoder\n",
        "from sklearn.model_selection import train_test_split\n",
        "from sklearn.metrics import mean_absolute_error\n",
        "from sklearn.metrics import r2_score\n",
        "\n",
        "from tensorflow import keras\n",
        "from tensorflow.keras import layers\n",
        "import tensorflow as tf\n",
        "\n",
        "import scipy as sp\n",
        "from scipy import stats\n",
        "\n",
        "import joblib"
      ]
    },
    {
      "cell_type": "code",
      "source": [
        "from google.colab import drive\n",
        "drive.mount('/content/gdrive')"
      ],
      "metadata": {
        "colab": {
          "base_uri": "https://localhost:8080/"
        },
        "id": "pDHS2sE2WBmY",
        "outputId": "e799bfda-369a-4980-8616-a4d4ee43b1a7"
      },
      "execution_count": 3,
      "outputs": [
        {
          "output_type": "stream",
          "name": "stdout",
          "text": [
            "Mounted at /content/gdrive\n"
          ]
        }
      ]
    },
    {
      "cell_type": "markdown",
      "source": [
        "## Load and Process Data"
      ],
      "metadata": {
        "id": "qsJjYUJgWOtu"
      }
    },
    {
      "cell_type": "code",
      "source": [
        "path_after_2010 = '/content/gdrive/My Drive/NIOSH Project/data/violations_processed_after_2010.csv'\n",
        "violation_data = pd.read_csv(path_after_2010)"
      ],
      "metadata": {
        "id": "7U5StloDWL2d"
      },
      "execution_count": 4,
      "outputs": []
    },
    {
      "cell_type": "code",
      "source": [
        "FEATURES = ['MINE_TYPE', 'COAL_METAL_IND', 'SIG_SUB', 'LIKELIHOOD', \n",
        "            'INJ_ILLNESS', 'NO_AFFECTED', 'NEGLIGENCE', 'VIOLATOR_VIOLATION_CNT',\n",
        "            'VIOLATOR_INSPECTION_DAY_CNT']\n",
        "TARGETS = ['PROPOSED_PENALTY']\n",
        "\n",
        "X = violation_data[FEATURES]\n",
        "y = violation_data[TARGETS]"
      ],
      "metadata": {
        "id": "ZWdMdDejWRNE"
      },
      "execution_count": 5,
      "outputs": []
    },
    {
      "cell_type": "code",
      "source": [
        "# Define which columns should be encoded vs scaled\n",
        "columns_to_encode = ['MINE_TYPE', 'COAL_METAL_IND', 'LIKELIHOOD', 'INJ_ILLNESS', 'SIG_SUB', 'NEGLIGENCE']\n",
        "columns_to_scale  = ['VIOLATOR_VIOLATION_CNT', 'NO_AFFECTED', 'VIOLATOR_INSPECTION_DAY_CNT']\n",
        "\n",
        "# Instantiate encoder/scaler\n",
        "scaler = StandardScaler()\n",
        "ohe = OneHotEncoder(sparse=False)\n",
        "\n",
        "# Scale and Encode Separate Columns\n",
        "scaled_columns  = scaler.fit_transform(X[columns_to_scale])\n",
        "encoded_columns = ohe.fit_transform(X[columns_to_encode])\n",
        "\n",
        "# Concatenate (Column-Bind) Processed Columns Back Together\n",
        "X_pre = np.concatenate([scaled_columns, encoded_columns], axis=1)\n",
        "np.nan_to_num(X_pre, copy=False)\n",
        "\n",
        "print('Features shape:', X_pre.shape)"
      ],
      "metadata": {
        "colab": {
          "base_uri": "https://localhost:8080/"
        },
        "id": "gVgtHrMyWTND",
        "outputId": "ca812769-8732-4091-91f4-a97873668a07"
      },
      "execution_count": 6,
      "outputs": [
        {
          "output_type": "stream",
          "name": "stdout",
          "text": [
            "Features shape: (1429135, 24)\n"
          ]
        }
      ]
    },
    {
      "cell_type": "code",
      "source": [
        "X_train, X_test, y_train, y_test = train_test_split(X_pre, y, test_size = 0.25, random_state = 0)\n",
        "\n",
        "print('X_train shape:', X_train.shape)\n",
        "print('X_test shape:', X_test.shape)\n",
        "print('y_train shape:', y_train.shape)\n",
        "print('y_train shape:', y_test.shape)"
      ],
      "metadata": {
        "colab": {
          "base_uri": "https://localhost:8080/"
        },
        "id": "di0OVsjxWUix",
        "outputId": "89baf242-daa4-4c32-d067-3fea97ea42dd"
      },
      "execution_count": 7,
      "outputs": [
        {
          "output_type": "stream",
          "name": "stdout",
          "text": [
            "X_train shape: (1071851, 24)\n",
            "X_test shape: (357284, 24)\n",
            "y_train shape: (1071851, 1)\n",
            "y_train shape: (357284, 1)\n"
          ]
        }
      ]
    },
    {
      "cell_type": "markdown",
      "source": [
        "## Neural Network Model"
      ],
      "metadata": {
        "id": "y1ufEC5wWgyL"
      }
    },
    {
      "cell_type": "code",
      "source": [
        "def scheduler(epoch, lr):\n",
        "  if epoch < 85:\n",
        "    return lr\n",
        "  else:\n",
        "    return lr*np.exp(-0.05)"
      ],
      "metadata": {
        "id": "hyuGxyqFgRVi"
      },
      "execution_count": 97,
      "outputs": []
    },
    {
      "cell_type": "code",
      "source": [
        "batch_size = 2**14\n",
        "epochs = 120\n",
        "callback = tf.keras.callbacks.LearningRateScheduler(scheduler)\n",
        "\n",
        "model = keras.Sequential()\n",
        "\n",
        "model.add(keras.Input(shape = (len(X_train[0]), ) ))\n",
        "model.add(layers.Dense(64, activation=\"relu\"))\n",
        "model.add(layers.Dense(32, activation=\"relu\"))\n",
        "model.add(layers.Dense(16, activation=\"relu\"))\n",
        "model.add(layers.Dense(8, activation=\"relu\"))\n",
        "model.add(layers.Dense(4, activation=\"relu\"))\n",
        "model.add(layers.Dense(2, activation=\"relu\"))\n",
        "model.add(layers.Dense(1, activation=\"linear\"))\n",
        "\n",
        "\n",
        "opt = keras.optimizers.Adam(learning_rate=0.01)\n",
        "model.compile(loss=\"mse\", optimizer=opt)\n",
        "history = model.fit(X_train, y_train, epochs=epochs, batch_size=batch_size, \n",
        "                    callbacks=[callback], validation_data=(X_test, y_test))"
      ],
      "metadata": {
        "colab": {
          "base_uri": "https://localhost:8080/"
        },
        "id": "azr8bSFRWikn",
        "outputId": "b5b1a8b7-957a-425f-8b65-f28a7b6854c5"
      },
      "execution_count": 142,
      "outputs": [
        {
          "output_type": "stream",
          "name": "stdout",
          "text": [
            "Epoch 1/120\n",
            "66/66 [==============================] - 1s 8ms/step - loss: 12520130.0000 - val_loss: 11098280.0000 - lr: 0.0100\n",
            "Epoch 2/120\n",
            "66/66 [==============================] - 0s 5ms/step - loss: 10260949.0000 - val_loss: 7981839.0000 - lr: 0.0100\n",
            "Epoch 3/120\n",
            "66/66 [==============================] - 0s 5ms/step - loss: 7234222.5000 - val_loss: 6234764.0000 - lr: 0.0100\n",
            "Epoch 4/120\n",
            "66/66 [==============================] - 0s 5ms/step - loss: 6515993.5000 - val_loss: 6123040.0000 - lr: 0.0100\n",
            "Epoch 5/120\n",
            "66/66 [==============================] - 0s 4ms/step - loss: 6515741.5000 - val_loss: 6169593.0000 - lr: 0.0100\n",
            "Epoch 6/120\n",
            "66/66 [==============================] - 0s 5ms/step - loss: 6424788.5000 - val_loss: 6074752.5000 - lr: 0.0100\n",
            "Epoch 7/120\n",
            "66/66 [==============================] - 0s 4ms/step - loss: 6296598.0000 - val_loss: 5988773.5000 - lr: 0.0100\n",
            "Epoch 8/120\n",
            "66/66 [==============================] - 0s 5ms/step - loss: 6278194.0000 - val_loss: 6089816.0000 - lr: 0.0100\n",
            "Epoch 9/120\n",
            "66/66 [==============================] - 0s 4ms/step - loss: 6184990.0000 - val_loss: 6169125.5000 - lr: 0.0100\n",
            "Epoch 10/120\n",
            "66/66 [==============================] - 0s 4ms/step - loss: 6240910.5000 - val_loss: 6029193.0000 - lr: 0.0100\n",
            "Epoch 11/120\n",
            "66/66 [==============================] - 0s 4ms/step - loss: 6095322.5000 - val_loss: 5793661.5000 - lr: 0.0100\n",
            "Epoch 12/120\n",
            "66/66 [==============================] - 0s 5ms/step - loss: 5860555.5000 - val_loss: 5685381.5000 - lr: 0.0100\n",
            "Epoch 13/120\n",
            "66/66 [==============================] - 0s 4ms/step - loss: 5600498.0000 - val_loss: 5352145.0000 - lr: 0.0100\n",
            "Epoch 14/120\n",
            "66/66 [==============================] - 0s 5ms/step - loss: 5477497.0000 - val_loss: 5241782.5000 - lr: 0.0100\n",
            "Epoch 15/120\n",
            "66/66 [==============================] - 0s 4ms/step - loss: 5451078.0000 - val_loss: 5193842.5000 - lr: 0.0100\n",
            "Epoch 16/120\n",
            "66/66 [==============================] - 0s 4ms/step - loss: 5347455.5000 - val_loss: 5154955.0000 - lr: 0.0100\n",
            "Epoch 17/120\n",
            "66/66 [==============================] - 0s 4ms/step - loss: 5305790.0000 - val_loss: 5154197.5000 - lr: 0.0100\n",
            "Epoch 18/120\n",
            "66/66 [==============================] - 0s 4ms/step - loss: 5295907.0000 - val_loss: 5107123.5000 - lr: 0.0100\n",
            "Epoch 19/120\n",
            "66/66 [==============================] - 0s 4ms/step - loss: 5253498.5000 - val_loss: 5139294.5000 - lr: 0.0100\n",
            "Epoch 20/120\n",
            "66/66 [==============================] - 0s 5ms/step - loss: 5253024.5000 - val_loss: 5488460.0000 - lr: 0.0100\n",
            "Epoch 21/120\n",
            "66/66 [==============================] - 0s 4ms/step - loss: 5250651.5000 - val_loss: 5045706.5000 - lr: 0.0100\n",
            "Epoch 22/120\n",
            "66/66 [==============================] - 0s 4ms/step - loss: 5202527.5000 - val_loss: 5126238.0000 - lr: 0.0100\n",
            "Epoch 23/120\n",
            "66/66 [==============================] - 0s 4ms/step - loss: 5213261.0000 - val_loss: 5087196.5000 - lr: 0.0100\n",
            "Epoch 24/120\n",
            "66/66 [==============================] - 0s 4ms/step - loss: 5172413.5000 - val_loss: 5062503.0000 - lr: 0.0100\n",
            "Epoch 25/120\n",
            "66/66 [==============================] - 0s 4ms/step - loss: 5196049.5000 - val_loss: 5059831.5000 - lr: 0.0100\n",
            "Epoch 26/120\n",
            "66/66 [==============================] - 0s 5ms/step - loss: 5134347.0000 - val_loss: 5257149.0000 - lr: 0.0100\n",
            "Epoch 27/120\n",
            "66/66 [==============================] - 0s 5ms/step - loss: 5142100.0000 - val_loss: 4959197.5000 - lr: 0.0100\n",
            "Epoch 28/120\n",
            "66/66 [==============================] - 0s 4ms/step - loss: 5117165.0000 - val_loss: 5087204.5000 - lr: 0.0100\n",
            "Epoch 29/120\n",
            "66/66 [==============================] - 0s 4ms/step - loss: 5245043.0000 - val_loss: 4989920.5000 - lr: 0.0100\n",
            "Epoch 30/120\n",
            "66/66 [==============================] - 0s 4ms/step - loss: 5170837.5000 - val_loss: 4993820.0000 - lr: 0.0100\n",
            "Epoch 31/120\n",
            "66/66 [==============================] - 0s 4ms/step - loss: 5108561.0000 - val_loss: 4955048.5000 - lr: 0.0100\n",
            "Epoch 32/120\n",
            "66/66 [==============================] - 0s 4ms/step - loss: 5105748.0000 - val_loss: 5029962.5000 - lr: 0.0100\n",
            "Epoch 33/120\n",
            "66/66 [==============================] - 0s 4ms/step - loss: 5118619.0000 - val_loss: 4956500.5000 - lr: 0.0100\n",
            "Epoch 34/120\n",
            "66/66 [==============================] - 0s 4ms/step - loss: 5085622.0000 - val_loss: 4963865.5000 - lr: 0.0100\n",
            "Epoch 35/120\n",
            "66/66 [==============================] - 0s 4ms/step - loss: 5061095.0000 - val_loss: 5157166.0000 - lr: 0.0100\n",
            "Epoch 36/120\n",
            "66/66 [==============================] - 0s 4ms/step - loss: 5086256.0000 - val_loss: 4935911.5000 - lr: 0.0100\n",
            "Epoch 37/120\n",
            "66/66 [==============================] - 0s 4ms/step - loss: 5066991.5000 - val_loss: 4988743.0000 - lr: 0.0100\n",
            "Epoch 38/120\n",
            "66/66 [==============================] - 0s 4ms/step - loss: 5057292.0000 - val_loss: 4947353.0000 - lr: 0.0100\n",
            "Epoch 39/120\n",
            "66/66 [==============================] - 0s 4ms/step - loss: 5019616.0000 - val_loss: 4969229.5000 - lr: 0.0100\n",
            "Epoch 40/120\n",
            "66/66 [==============================] - 0s 4ms/step - loss: 5023819.5000 - val_loss: 4976475.0000 - lr: 0.0100\n",
            "Epoch 41/120\n",
            "66/66 [==============================] - 0s 4ms/step - loss: 5014924.0000 - val_loss: 4985976.0000 - lr: 0.0100\n",
            "Epoch 42/120\n",
            "66/66 [==============================] - 0s 4ms/step - loss: 5040379.0000 - val_loss: 4920973.0000 - lr: 0.0100\n",
            "Epoch 43/120\n",
            "66/66 [==============================] - 0s 5ms/step - loss: 5004427.0000 - val_loss: 5018886.0000 - lr: 0.0100\n",
            "Epoch 44/120\n",
            "66/66 [==============================] - 0s 4ms/step - loss: 5000971.0000 - val_loss: 4925682.5000 - lr: 0.0100\n",
            "Epoch 45/120\n",
            "66/66 [==============================] - 0s 4ms/step - loss: 5011427.5000 - val_loss: 4910267.0000 - lr: 0.0100\n",
            "Epoch 46/120\n",
            "66/66 [==============================] - 0s 4ms/step - loss: 5018063.5000 - val_loss: 4969354.0000 - lr: 0.0100\n",
            "Epoch 47/120\n",
            "66/66 [==============================] - 0s 4ms/step - loss: 5003914.0000 - val_loss: 4922108.0000 - lr: 0.0100\n",
            "Epoch 48/120\n",
            "66/66 [==============================] - 0s 4ms/step - loss: 4967883.0000 - val_loss: 4894340.0000 - lr: 0.0100\n",
            "Epoch 49/120\n",
            "66/66 [==============================] - 0s 4ms/step - loss: 4973738.0000 - val_loss: 4940177.5000 - lr: 0.0100\n",
            "Epoch 50/120\n",
            "66/66 [==============================] - 0s 4ms/step - loss: 4975632.0000 - val_loss: 4873735.5000 - lr: 0.0100\n",
            "Epoch 51/120\n",
            "66/66 [==============================] - 0s 4ms/step - loss: 4952821.0000 - val_loss: 4906600.5000 - lr: 0.0100\n",
            "Epoch 52/120\n",
            "66/66 [==============================] - 0s 4ms/step - loss: 4939486.0000 - val_loss: 4885890.0000 - lr: 0.0100\n",
            "Epoch 53/120\n",
            "66/66 [==============================] - 0s 4ms/step - loss: 4924701.0000 - val_loss: 4869135.5000 - lr: 0.0100\n",
            "Epoch 54/120\n",
            "66/66 [==============================] - 0s 4ms/step - loss: 4957337.5000 - val_loss: 4911647.5000 - lr: 0.0100\n",
            "Epoch 55/120\n",
            "66/66 [==============================] - 0s 4ms/step - loss: 4947973.0000 - val_loss: 4854847.5000 - lr: 0.0100\n",
            "Epoch 56/120\n",
            "66/66 [==============================] - 0s 4ms/step - loss: 4925210.0000 - val_loss: 5046563.5000 - lr: 0.0100\n",
            "Epoch 57/120\n",
            "66/66 [==============================] - 0s 4ms/step - loss: 4965200.5000 - val_loss: 4914818.5000 - lr: 0.0100\n",
            "Epoch 58/120\n",
            "66/66 [==============================] - 0s 4ms/step - loss: 4938521.0000 - val_loss: 4849698.0000 - lr: 0.0100\n",
            "Epoch 59/120\n",
            "66/66 [==============================] - 0s 6ms/step - loss: 4920258.5000 - val_loss: 4968463.5000 - lr: 0.0100\n",
            "Epoch 60/120\n",
            "66/66 [==============================] - 0s 4ms/step - loss: 4917798.0000 - val_loss: 4827466.0000 - lr: 0.0100\n",
            "Epoch 61/120\n",
            "66/66 [==============================] - 0s 4ms/step - loss: 4938256.0000 - val_loss: 4870491.5000 - lr: 0.0100\n",
            "Epoch 62/120\n",
            "66/66 [==============================] - 0s 4ms/step - loss: 4913085.5000 - val_loss: 4863460.0000 - lr: 0.0100\n",
            "Epoch 63/120\n",
            "66/66 [==============================] - 0s 4ms/step - loss: 4896336.5000 - val_loss: 4828389.5000 - lr: 0.0100\n",
            "Epoch 64/120\n",
            "66/66 [==============================] - 0s 4ms/step - loss: 4888606.5000 - val_loss: 4858860.5000 - lr: 0.0100\n",
            "Epoch 65/120\n",
            "66/66 [==============================] - 0s 4ms/step - loss: 4863948.0000 - val_loss: 4865127.0000 - lr: 0.0100\n",
            "Epoch 66/120\n",
            "66/66 [==============================] - 0s 4ms/step - loss: 4874905.5000 - val_loss: 4884759.0000 - lr: 0.0100\n",
            "Epoch 67/120\n",
            "66/66 [==============================] - 0s 4ms/step - loss: 4869642.5000 - val_loss: 4956100.0000 - lr: 0.0100\n",
            "Epoch 68/120\n",
            "66/66 [==============================] - 0s 4ms/step - loss: 4893805.5000 - val_loss: 4932257.5000 - lr: 0.0100\n",
            "Epoch 69/120\n",
            "66/66 [==============================] - 0s 4ms/step - loss: 4868332.0000 - val_loss: 4822293.5000 - lr: 0.0100\n",
            "Epoch 70/120\n",
            "66/66 [==============================] - 0s 4ms/step - loss: 4862291.0000 - val_loss: 4992901.5000 - lr: 0.0100\n",
            "Epoch 71/120\n",
            "66/66 [==============================] - 0s 4ms/step - loss: 4867770.5000 - val_loss: 4924129.5000 - lr: 0.0100\n",
            "Epoch 72/120\n",
            "66/66 [==============================] - 0s 4ms/step - loss: 4847663.5000 - val_loss: 4899393.5000 - lr: 0.0100\n",
            "Epoch 73/120\n",
            "66/66 [==============================] - 0s 4ms/step - loss: 4864866.5000 - val_loss: 4861874.5000 - lr: 0.0100\n",
            "Epoch 74/120\n",
            "66/66 [==============================] - 0s 4ms/step - loss: 4853415.5000 - val_loss: 4889956.5000 - lr: 0.0100\n",
            "Epoch 75/120\n",
            "66/66 [==============================] - 0s 4ms/step - loss: 4833055.5000 - val_loss: 4860864.0000 - lr: 0.0100\n",
            "Epoch 76/120\n",
            "66/66 [==============================] - 0s 4ms/step - loss: 4821948.5000 - val_loss: 4936588.0000 - lr: 0.0100\n",
            "Epoch 77/120\n",
            "66/66 [==============================] - 0s 4ms/step - loss: 4837617.0000 - val_loss: 4926997.5000 - lr: 0.0100\n",
            "Epoch 78/120\n",
            "66/66 [==============================] - 0s 4ms/step - loss: 4842934.5000 - val_loss: 4815852.0000 - lr: 0.0100\n",
            "Epoch 79/120\n",
            "66/66 [==============================] - 0s 4ms/step - loss: 4842627.0000 - val_loss: 4928082.0000 - lr: 0.0100\n",
            "Epoch 80/120\n",
            "66/66 [==============================] - 0s 4ms/step - loss: 4809977.0000 - val_loss: 4838868.5000 - lr: 0.0100\n",
            "Epoch 81/120\n",
            "66/66 [==============================] - 0s 4ms/step - loss: 4818298.5000 - val_loss: 4826072.0000 - lr: 0.0100\n",
            "Epoch 82/120\n",
            "66/66 [==============================] - 0s 4ms/step - loss: 4806667.0000 - val_loss: 4824034.0000 - lr: 0.0100\n",
            "Epoch 83/120\n",
            "66/66 [==============================] - 0s 4ms/step - loss: 4815279.0000 - val_loss: 4842911.0000 - lr: 0.0100\n",
            "Epoch 84/120\n",
            "66/66 [==============================] - 0s 4ms/step - loss: 4781922.5000 - val_loss: 4788205.0000 - lr: 0.0100\n",
            "Epoch 85/120\n",
            "66/66 [==============================] - 0s 4ms/step - loss: 4778296.5000 - val_loss: 4849703.5000 - lr: 0.0100\n",
            "Epoch 86/120\n",
            "66/66 [==============================] - 0s 4ms/step - loss: 4843896.0000 - val_loss: 4824995.5000 - lr: 0.0095\n",
            "Epoch 87/120\n",
            "66/66 [==============================] - 0s 4ms/step - loss: 4782430.5000 - val_loss: 4789574.0000 - lr: 0.0090\n",
            "Epoch 88/120\n",
            "66/66 [==============================] - 0s 4ms/step - loss: 4777795.0000 - val_loss: 4809768.0000 - lr: 0.0086\n",
            "Epoch 89/120\n",
            "66/66 [==============================] - 0s 4ms/step - loss: 4762510.0000 - val_loss: 4851980.0000 - lr: 0.0082\n",
            "Epoch 90/120\n",
            "66/66 [==============================] - 0s 4ms/step - loss: 4757974.0000 - val_loss: 4799452.5000 - lr: 0.0078\n",
            "Epoch 91/120\n",
            "66/66 [==============================] - 0s 4ms/step - loss: 4730682.0000 - val_loss: 4786723.0000 - lr: 0.0074\n",
            "Epoch 92/120\n",
            "66/66 [==============================] - 0s 5ms/step - loss: 4743747.5000 - val_loss: 4827558.5000 - lr: 0.0070\n",
            "Epoch 93/120\n",
            "66/66 [==============================] - 0s 5ms/step - loss: 4728909.0000 - val_loss: 4794592.0000 - lr: 0.0067\n",
            "Epoch 94/120\n",
            "66/66 [==============================] - 0s 5ms/step - loss: 4705030.5000 - val_loss: 4832801.0000 - lr: 0.0064\n",
            "Epoch 95/120\n",
            "66/66 [==============================] - 0s 5ms/step - loss: 4714883.0000 - val_loss: 4810679.0000 - lr: 0.0061\n",
            "Epoch 96/120\n",
            "66/66 [==============================] - 0s 4ms/step - loss: 4701865.5000 - val_loss: 4816182.0000 - lr: 0.0058\n",
            "Epoch 97/120\n",
            "66/66 [==============================] - 0s 5ms/step - loss: 4679158.5000 - val_loss: 4761690.0000 - lr: 0.0055\n",
            "Epoch 98/120\n",
            "66/66 [==============================] - 0s 5ms/step - loss: 4672958.5000 - val_loss: 4798158.0000 - lr: 0.0052\n",
            "Epoch 99/120\n",
            "66/66 [==============================] - 0s 5ms/step - loss: 4665478.5000 - val_loss: 4840156.5000 - lr: 0.0050\n",
            "Epoch 100/120\n",
            "66/66 [==============================] - 0s 5ms/step - loss: 4664949.5000 - val_loss: 4786117.0000 - lr: 0.0047\n",
            "Epoch 101/120\n",
            "66/66 [==============================] - 0s 5ms/step - loss: 4660235.0000 - val_loss: 4815309.5000 - lr: 0.0045\n",
            "Epoch 102/120\n",
            "66/66 [==============================] - 0s 4ms/step - loss: 4656519.0000 - val_loss: 4829103.0000 - lr: 0.0043\n",
            "Epoch 103/120\n",
            "66/66 [==============================] - 0s 4ms/step - loss: 4645475.0000 - val_loss: 4784610.5000 - lr: 0.0041\n",
            "Epoch 104/120\n",
            "66/66 [==============================] - 0s 4ms/step - loss: 4652614.5000 - val_loss: 4936743.0000 - lr: 0.0039\n",
            "Epoch 105/120\n",
            "66/66 [==============================] - 0s 4ms/step - loss: 4648214.5000 - val_loss: 4781132.0000 - lr: 0.0037\n",
            "Epoch 106/120\n",
            "66/66 [==============================] - 0s 4ms/step - loss: 4636780.5000 - val_loss: 4823066.0000 - lr: 0.0035\n",
            "Epoch 107/120\n",
            "66/66 [==============================] - 0s 4ms/step - loss: 4629484.0000 - val_loss: 4814379.0000 - lr: 0.0033\n",
            "Epoch 108/120\n",
            "66/66 [==============================] - 0s 4ms/step - loss: 4621380.0000 - val_loss: 4800266.0000 - lr: 0.0032\n",
            "Epoch 109/120\n",
            "66/66 [==============================] - 0s 4ms/step - loss: 4626726.5000 - val_loss: 4816195.5000 - lr: 0.0030\n",
            "Epoch 110/120\n",
            "66/66 [==============================] - 0s 5ms/step - loss: 4626313.5000 - val_loss: 4794487.5000 - lr: 0.0029\n",
            "Epoch 111/120\n",
            "66/66 [==============================] - 0s 5ms/step - loss: 4617235.5000 - val_loss: 4786088.0000 - lr: 0.0027\n",
            "Epoch 112/120\n",
            "66/66 [==============================] - 0s 5ms/step - loss: 4608248.0000 - val_loss: 4824844.0000 - lr: 0.0026\n",
            "Epoch 113/120\n",
            "66/66 [==============================] - 0s 5ms/step - loss: 4611165.0000 - val_loss: 4818023.5000 - lr: 0.0025\n",
            "Epoch 114/120\n",
            "66/66 [==============================] - 0s 5ms/step - loss: 4596979.0000 - val_loss: 4798788.5000 - lr: 0.0023\n",
            "Epoch 115/120\n",
            "66/66 [==============================] - 0s 5ms/step - loss: 4610547.5000 - val_loss: 4784459.0000 - lr: 0.0022\n",
            "Epoch 116/120\n",
            "66/66 [==============================] - 0s 5ms/step - loss: 4601704.0000 - val_loss: 4803037.5000 - lr: 0.0021\n",
            "Epoch 117/120\n",
            "66/66 [==============================] - 0s 4ms/step - loss: 4591980.5000 - val_loss: 4775862.0000 - lr: 0.0020\n",
            "Epoch 118/120\n",
            "66/66 [==============================] - 0s 5ms/step - loss: 4588513.0000 - val_loss: 4764313.0000 - lr: 0.0019\n",
            "Epoch 119/120\n",
            "66/66 [==============================] - 0s 4ms/step - loss: 4592769.0000 - val_loss: 4747346.0000 - lr: 0.0018\n",
            "Epoch 120/120\n",
            "66/66 [==============================] - 0s 5ms/step - loss: 4589033.0000 - val_loss: 4774729.5000 - lr: 0.0017\n"
          ]
        }
      ]
    },
    {
      "cell_type": "code",
      "source": [
        "y_pred = model.predict(X_test)\n",
        "r2 = r2_score(y_test, y_pred)\n",
        "\n",
        "print('r2 = %.3f' % r2)"
      ],
      "metadata": {
        "colab": {
          "base_uri": "https://localhost:8080/"
        },
        "id": "SgXhtv4UZaw3",
        "outputId": "6316d263-52e9-4419-9e6b-cbbbee123e2b"
      },
      "execution_count": 143,
      "outputs": [
        {
          "output_type": "stream",
          "name": "stdout",
          "text": [
            "11166/11166 [==============================] - 14s 1ms/step\n",
            "r2 = 0.575\n"
          ]
        }
      ]
    },
    {
      "cell_type": "code",
      "source": [
        "# summarize history for loss\n",
        "plt.plot(history.history['loss'])\n",
        "plt.plot(history.history['val_loss'])\n",
        "plt.title('model loss')\n",
        "plt.ylabel('loss')\n",
        "plt.xlabel('epoch')\n",
        "plt.legend(['train', 'test'], loc='upper left')\n",
        "plt.show()"
      ],
      "metadata": {
        "colab": {
          "base_uri": "https://localhost:8080/",
          "height": 295
        },
        "id": "34dgk5DaYseU",
        "outputId": "82a6951e-de7b-4f24-ce4e-c49f779fc7e2"
      },
      "execution_count": 144,
      "outputs": [
        {
          "output_type": "display_data",
          "data": {
            "text/plain": [
              "<Figure size 432x288 with 1 Axes>"
            ],
            "image/png": "[encoded data removed]"
          },
          "metadata": {
            "needs_background": "light"
          }
        }
      ]
    },
    {
      "cell_type": "markdown",
      "source": [
        "## Save Model"
      ],
      "metadata": {
        "id": "en7GBfldkDQa"
      }
    },
    {
      "cell_type": "code",
      "source": [
        "model.save('/content/gdrive/My Drive/NIOSH Project/Nerual_Network_Model')"
      ],
      "metadata": {
        "id": "tUCXl--2kFhW"
      },
      "execution_count": 145,
      "outputs": []
    }
  ]
}