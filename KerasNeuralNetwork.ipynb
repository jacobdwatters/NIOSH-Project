{
  "nbformat": 4,
  "nbformat_minor": 0,
  "metadata": {
    "colab": {
      "provenance": [],
      "machine_shape": "hm",
      "authorship_tag": "ABX9TyN7zCfxkVXr0RrJWR4SDcAG",
      "include_colab_link": true
    },
    "kernelspec": {
      "name": "python3",
      "display_name": "Python 3"
    },
    "language_info": {
      "name": "python"
    },
    "accelerator": "GPU",
    "gpuClass": "standard"
  },
  "cells": [
    {
      "cell_type": "markdown",
      "metadata": {
        "id": "view-in-github",
        "colab_type": "text"
      },
      "source": [
        "<a href=\"https://colab.research.google.com/github/jacobdwatters/NIOSH-Project/blob/main/KerasNeuralNetwork.ipynb\" target=\"_parent\"><img src=\"https://colab.research.google.com/assets/colab-badge.svg\" alt=\"Open In Colab\"/></a>"
      ]
    },
    {
      "cell_type": "markdown",
      "source": [
        "## Imports and Setups"
      ],
      "metadata": {
        "id": "kksCVOwmWIyk"
      }
    },
    {
      "cell_type": "code",
      "execution_count": 2,
      "metadata": {
        "id": "1QV40HghV7bg"
      },
      "outputs": [],
      "source": [
        "import numpy as np\n",
        "from numpy.random import seed\n",
        "import pandas as pd\n",
        "import seaborn as sns\n",
        "import matplotlib.pyplot as plt\n",
        "\n",
        "import sklearn\n",
        "from sklearn.preprocessing import StandardScaler\n",
        "from sklearn.preprocessing import OneHotEncoder\n",
        "from sklearn.model_selection import train_test_split\n",
        "from sklearn.metrics import mean_absolute_error\n",
        "from sklearn.metrics import r2_score\n",
        "\n",
        "from tensorflow import keras\n",
        "from tensorflow.keras import layers\n",
        "import tensorflow as tf\n",
        "\n",
        "import scipy as sp\n",
        "from scipy import stats\n",
        "\n",
        "import joblib"
      ]
    },
    {
      "cell_type": "code",
      "source": [
        "from google.colab import drive\n",
        "drive.mount('/content/gdrive')"
      ],
      "metadata": {
        "colab": {
          "base_uri": "https://localhost:8080/"
        },
        "id": "pDHS2sE2WBmY",
        "outputId": "85405999-741d-420a-9241-4ef76b8f541c"
      },
      "execution_count": 4,
      "outputs": [
        {
          "output_type": "stream",
          "name": "stdout",
          "text": [
            "Mounted at /content/gdrive\n"
          ]
        }
      ]
    },
    {
      "cell_type": "markdown",
      "source": [
        "## Load and Process Data"
      ],
      "metadata": {
        "id": "qsJjYUJgWOtu"
      }
    },
    {
      "cell_type": "code",
      "source": [
        "path_after_2010 = '/content/gdrive/My Drive/NIOSH Project/data/violations_processed_after_2010.csv'\n",
        "violation_data = pd.read_csv(path_after_2010)"
      ],
      "metadata": {
        "id": "7U5StloDWL2d"
      },
      "execution_count": 5,
      "outputs": []
    },
    {
      "cell_type": "code",
      "source": [
        "FEATURES = ['MINE_TYPE', 'COAL_METAL_IND', 'SIG_SUB', 'LIKELIHOOD', \n",
        "            'INJ_ILLNESS', 'NO_AFFECTED', 'NEGLIGENCE', 'VIOLATOR_VIOLATION_CNT',\n",
        "            'VIOLATOR_INSPECTION_DAY_CNT']\n",
        "TARGETS = ['PROPOSED_PENALTY']\n",
        "\n",
        "X = violation_data[FEATURES]\n",
        "y = violation_data[TARGETS]"
      ],
      "metadata": {
        "id": "ZWdMdDejWRNE"
      },
      "execution_count": 6,
      "outputs": []
    },
    {
      "cell_type": "code",
      "source": [
        "# Define which columns should be encoded vs scaled\n",
        "columns_to_encode = ['MINE_TYPE', 'COAL_METAL_IND', 'LIKELIHOOD', 'INJ_ILLNESS', 'SIG_SUB', 'NEGLIGENCE']\n",
        "columns_to_scale  = ['VIOLATOR_VIOLATION_CNT', 'NO_AFFECTED', 'VIOLATOR_INSPECTION_DAY_CNT']\n",
        "\n",
        "# Instantiate encoder/scaler\n",
        "scaler = StandardScaler()\n",
        "ohe = OneHotEncoder(sparse=False)\n",
        "\n",
        "# Scale and Encode Separate Columns\n",
        "scaled_columns  = scaler.fit_transform(X[columns_to_scale])\n",
        "encoded_columns = ohe.fit_transform(X[columns_to_encode])\n",
        "\n",
        "# Concatenate (Column-Bind) Processed Columns Back Together\n",
        "X_pre = np.concatenate([scaled_columns, encoded_columns], axis=1)\n",
        "np.nan_to_num(X_pre, copy=False)\n",
        "\n",
        "print('Features shape:', X_pre.shape)"
      ],
      "metadata": {
        "colab": {
          "base_uri": "https://localhost:8080/"
        },
        "id": "gVgtHrMyWTND",
        "outputId": "652d928a-06cd-4fe6-8209-f0688752742a"
      },
      "execution_count": 7,
      "outputs": [
        {
          "output_type": "stream",
          "name": "stdout",
          "text": [
            "Features shape: (1429135, 24)\n"
          ]
        }
      ]
    },
    {
      "cell_type": "code",
      "source": [
        "X_train, X_test, y_train, y_test = train_test_split(X_pre, y, test_size = 0.25, random_state = 0)\n",
        "\n",
        "print('X_train shape:', X_train.shape)\n",
        "print('X_test shape:', X_test.shape)\n",
        "print('y_train shape:', y_train.shape)\n",
        "print('y_train shape:', y_test.shape)"
      ],
      "metadata": {
        "colab": {
          "base_uri": "https://localhost:8080/"
        },
        "id": "di0OVsjxWUix",
        "outputId": "f46727b3-ad0a-423f-ff06-ebbbcfd33b1b"
      },
      "execution_count": 8,
      "outputs": [
        {
          "output_type": "stream",
          "name": "stdout",
          "text": [
            "X_train shape: (1071851, 24)\n",
            "X_test shape: (357284, 24)\n",
            "y_train shape: (1071851, 1)\n",
            "y_train shape: (357284, 1)\n"
          ]
        }
      ]
    },
    {
      "cell_type": "markdown",
      "source": [
        "## Neural Network Model"
      ],
      "metadata": {
        "id": "y1ufEC5wWgyL"
      }
    },
    {
      "cell_type": "code",
      "source": [
        "def scheduler(epoch, lr):\n",
        "  if epoch < 85:\n",
        "    return lr\n",
        "  else: # Drop learning rate after the first 85 epochs\n",
        "    return lr*np.exp(-0.05)"
      ],
      "metadata": {
        "id": "hyuGxyqFgRVi"
      },
      "execution_count": 59,
      "outputs": []
    },
    {
      "cell_type": "code",
      "source": [
        "batch_size = 2**14\n",
        "epochs = 120\n",
        "callback = tf.keras.callbacks.LearningRateScheduler(scheduler)\n",
        "\n",
        "model = keras.Sequential()\n",
        "\n",
        "model.add(keras.Input(shape = (len(X_train[0]), ) ))\n",
        "model.add(layers.Dense(64, activation=\"relu\"))\n",
        "model.add(layers.Dense(32, activation=\"relu\"))\n",
        "model.add(layers.Dense(16, activation=\"relu\"))\n",
        "model.add(layers.Dense(8, activation=\"relu\"))\n",
        "model.add(layers.Dense(8, activation=\"relu\"))\n",
        "model.add(layers.Dense(8, activation=\"relu\"))\n",
        "model.add(layers.Dense(1, activation=\"linear\"))\n",
        "\n",
        "\n",
        "opt = keras.optimizers.Adam(learning_rate=0.01)\n",
        "model.compile(loss=\"mse\", optimizer=opt)\n",
        "history = model.fit(X_train, y_train, epochs=epochs, batch_size=batch_size, \n",
        "                    callbacks=[callback], validation_data=(X_test, y_test))"
      ],
      "metadata": {
        "colab": {
          "base_uri": "https://localhost:8080/"
        },
        "id": "azr8bSFRWikn",
        "outputId": "b528fa74-0260-484c-b537-de53684d585b"
      },
      "execution_count": 69,
      "outputs": [
        {
          "output_type": "stream",
          "name": "stdout",
          "text": [
            "Epoch 1/120\n",
            "66/66 [==============================] - 1s 8ms/step - loss: 11408516.0000 - val_loss: 9152761.0000 - lr: 0.0100\n",
            "Epoch 2/120\n",
            "66/66 [==============================] - 0s 5ms/step - loss: 8082129.0000 - val_loss: 6547791.0000 - lr: 0.0100\n",
            "Epoch 3/120\n",
            "66/66 [==============================] - 0s 5ms/step - loss: 6697624.5000 - val_loss: 6182168.0000 - lr: 0.0100\n",
            "Epoch 4/120\n",
            "66/66 [==============================] - 0s 5ms/step - loss: 6426393.0000 - val_loss: 6208868.5000 - lr: 0.0100\n",
            "Epoch 5/120\n",
            "66/66 [==============================] - 0s 5ms/step - loss: 6152067.0000 - val_loss: 5818208.5000 - lr: 0.0100\n",
            "Epoch 6/120\n",
            "66/66 [==============================] - 0s 5ms/step - loss: 5916386.0000 - val_loss: 5789541.5000 - lr: 0.0100\n",
            "Epoch 7/120\n",
            "66/66 [==============================] - 0s 5ms/step - loss: 5863867.0000 - val_loss: 5754465.0000 - lr: 0.0100\n",
            "Epoch 8/120\n",
            "66/66 [==============================] - 0s 5ms/step - loss: 5739401.0000 - val_loss: 5482417.0000 - lr: 0.0100\n",
            "Epoch 9/120\n",
            "66/66 [==============================] - 0s 5ms/step - loss: 5638999.0000 - val_loss: 5332241.5000 - lr: 0.0100\n",
            "Epoch 10/120\n",
            "66/66 [==============================] - 0s 5ms/step - loss: 5503825.0000 - val_loss: 5314107.0000 - lr: 0.0100\n",
            "Epoch 11/120\n",
            "66/66 [==============================] - 0s 5ms/step - loss: 5399919.5000 - val_loss: 5186871.0000 - lr: 0.0100\n",
            "Epoch 12/120\n",
            "66/66 [==============================] - 0s 5ms/step - loss: 5352321.5000 - val_loss: 5206709.0000 - lr: 0.0100\n",
            "Epoch 13/120\n",
            "66/66 [==============================] - 0s 5ms/step - loss: 5308720.5000 - val_loss: 5342851.5000 - lr: 0.0100\n",
            "Epoch 14/120\n",
            "66/66 [==============================] - 0s 5ms/step - loss: 5291540.0000 - val_loss: 5047997.5000 - lr: 0.0100\n",
            "Epoch 15/120\n",
            "66/66 [==============================] - 0s 4ms/step - loss: 5283670.0000 - val_loss: 5192531.0000 - lr: 0.0100\n",
            "Epoch 16/120\n",
            "66/66 [==============================] - 0s 4ms/step - loss: 5293979.0000 - val_loss: 5077939.0000 - lr: 0.0100\n",
            "Epoch 17/120\n",
            "66/66 [==============================] - 0s 4ms/step - loss: 5211767.5000 - val_loss: 5041869.5000 - lr: 0.0100\n",
            "Epoch 18/120\n",
            "66/66 [==============================] - 0s 4ms/step - loss: 5218081.5000 - val_loss: 5359872.5000 - lr: 0.0100\n",
            "Epoch 19/120\n",
            "66/66 [==============================] - 0s 4ms/step - loss: 5310920.5000 - val_loss: 5048820.0000 - lr: 0.0100\n",
            "Epoch 20/120\n",
            "66/66 [==============================] - 0s 5ms/step - loss: 5165600.0000 - val_loss: 4934856.0000 - lr: 0.0100\n",
            "Epoch 21/120\n",
            "66/66 [==============================] - 0s 4ms/step - loss: 5162934.0000 - val_loss: 5014997.0000 - lr: 0.0100\n",
            "Epoch 22/120\n",
            "66/66 [==============================] - 0s 4ms/step - loss: 5233110.0000 - val_loss: 4994753.0000 - lr: 0.0100\n",
            "Epoch 23/120\n",
            "66/66 [==============================] - 0s 4ms/step - loss: 5162776.5000 - val_loss: 5161323.5000 - lr: 0.0100\n",
            "Epoch 24/120\n",
            "66/66 [==============================] - 0s 4ms/step - loss: 5119178.5000 - val_loss: 5065079.5000 - lr: 0.0100\n",
            "Epoch 25/120\n",
            "66/66 [==============================] - 0s 5ms/step - loss: 5177080.5000 - val_loss: 4965664.0000 - lr: 0.0100\n",
            "Epoch 26/120\n",
            "66/66 [==============================] - 0s 5ms/step - loss: 5108193.5000 - val_loss: 5028926.5000 - lr: 0.0100\n",
            "Epoch 27/120\n",
            "66/66 [==============================] - 0s 5ms/step - loss: 5098467.5000 - val_loss: 5098897.0000 - lr: 0.0100\n",
            "Epoch 28/120\n",
            "66/66 [==============================] - 0s 4ms/step - loss: 5100376.5000 - val_loss: 5026045.5000 - lr: 0.0100\n",
            "Epoch 29/120\n",
            "66/66 [==============================] - 0s 5ms/step - loss: 5104046.5000 - val_loss: 4948543.0000 - lr: 0.0100\n",
            "Epoch 30/120\n",
            "66/66 [==============================] - 0s 4ms/step - loss: 5115767.5000 - val_loss: 5160600.0000 - lr: 0.0100\n",
            "Epoch 31/120\n",
            "66/66 [==============================] - 0s 4ms/step - loss: 5155066.5000 - val_loss: 4937209.5000 - lr: 0.0100\n",
            "Epoch 32/120\n",
            "66/66 [==============================] - 0s 5ms/step - loss: 5048102.0000 - val_loss: 4956087.0000 - lr: 0.0100\n",
            "Epoch 33/120\n",
            "66/66 [==============================] - 0s 5ms/step - loss: 5047508.5000 - val_loss: 4946210.5000 - lr: 0.0100\n",
            "Epoch 34/120\n",
            "66/66 [==============================] - 0s 5ms/step - loss: 5061248.0000 - val_loss: 4951080.5000 - lr: 0.0100\n",
            "Epoch 35/120\n",
            "66/66 [==============================] - 0s 4ms/step - loss: 5241560.5000 - val_loss: 4994044.0000 - lr: 0.0100\n",
            "Epoch 36/120\n",
            "66/66 [==============================] - 0s 4ms/step - loss: 5109525.5000 - val_loss: 4939431.5000 - lr: 0.0100\n",
            "Epoch 37/120\n",
            "66/66 [==============================] - 0s 4ms/step - loss: 5035519.0000 - val_loss: 5105153.0000 - lr: 0.0100\n",
            "Epoch 38/120\n",
            "66/66 [==============================] - 0s 4ms/step - loss: 5027926.5000 - val_loss: 5083716.5000 - lr: 0.0100\n",
            "Epoch 39/120\n",
            "66/66 [==============================] - 0s 4ms/step - loss: 5061559.0000 - val_loss: 5184865.5000 - lr: 0.0100\n",
            "Epoch 40/120\n",
            "66/66 [==============================] - 0s 4ms/step - loss: 5028743.0000 - val_loss: 4944942.0000 - lr: 0.0100\n",
            "Epoch 41/120\n",
            "66/66 [==============================] - 0s 4ms/step - loss: 5095059.0000 - val_loss: 5014426.0000 - lr: 0.0100\n",
            "Epoch 42/120\n",
            "66/66 [==============================] - 0s 4ms/step - loss: 5033098.0000 - val_loss: 4921378.5000 - lr: 0.0100\n",
            "Epoch 43/120\n",
            "66/66 [==============================] - 0s 4ms/step - loss: 4998049.5000 - val_loss: 4888804.0000 - lr: 0.0100\n",
            "Epoch 44/120\n",
            "66/66 [==============================] - 0s 4ms/step - loss: 4985769.0000 - val_loss: 4953356.5000 - lr: 0.0100\n",
            "Epoch 45/120\n",
            "66/66 [==============================] - 0s 5ms/step - loss: 4965472.5000 - val_loss: 5130827.5000 - lr: 0.0100\n",
            "Epoch 46/120\n",
            "66/66 [==============================] - 0s 5ms/step - loss: 5062555.0000 - val_loss: 4964259.5000 - lr: 0.0100\n",
            "Epoch 47/120\n",
            "66/66 [==============================] - 0s 5ms/step - loss: 4979421.5000 - val_loss: 4885943.0000 - lr: 0.0100\n",
            "Epoch 48/120\n",
            "66/66 [==============================] - 0s 5ms/step - loss: 4981533.0000 - val_loss: 4999298.0000 - lr: 0.0100\n",
            "Epoch 49/120\n",
            "66/66 [==============================] - 0s 5ms/step - loss: 4985145.0000 - val_loss: 4948475.0000 - lr: 0.0100\n",
            "Epoch 50/120\n",
            "66/66 [==============================] - 0s 5ms/step - loss: 4985537.5000 - val_loss: 4854580.0000 - lr: 0.0100\n",
            "Epoch 51/120\n",
            "66/66 [==============================] - 0s 4ms/step - loss: 5013737.0000 - val_loss: 4909946.5000 - lr: 0.0100\n",
            "Epoch 52/120\n",
            "66/66 [==============================] - 0s 5ms/step - loss: 4954245.0000 - val_loss: 4886372.5000 - lr: 0.0100\n",
            "Epoch 53/120\n",
            "66/66 [==============================] - 0s 5ms/step - loss: 4963902.0000 - val_loss: 4869763.5000 - lr: 0.0100\n",
            "Epoch 54/120\n",
            "66/66 [==============================] - 0s 4ms/step - loss: 4960735.5000 - val_loss: 5072433.5000 - lr: 0.0100\n",
            "Epoch 55/120\n",
            "66/66 [==============================] - 0s 5ms/step - loss: 4997700.5000 - val_loss: 5433970.5000 - lr: 0.0100\n",
            "Epoch 56/120\n",
            "66/66 [==============================] - 0s 4ms/step - loss: 4957968.5000 - val_loss: 4913024.0000 - lr: 0.0100\n",
            "Epoch 57/120\n",
            "66/66 [==============================] - 0s 5ms/step - loss: 4905102.0000 - val_loss: 5449918.0000 - lr: 0.0100\n",
            "Epoch 58/120\n",
            "66/66 [==============================] - 0s 4ms/step - loss: 4999226.5000 - val_loss: 4902277.5000 - lr: 0.0100\n",
            "Epoch 59/120\n",
            "66/66 [==============================] - 0s 4ms/step - loss: 4920282.5000 - val_loss: 5076600.0000 - lr: 0.0100\n",
            "Epoch 60/120\n",
            "66/66 [==============================] - 0s 4ms/step - loss: 4941548.0000 - val_loss: 4853846.5000 - lr: 0.0100\n",
            "Epoch 61/120\n",
            "66/66 [==============================] - 0s 4ms/step - loss: 4931740.5000 - val_loss: 4903230.5000 - lr: 0.0100\n",
            "Epoch 62/120\n",
            "66/66 [==============================] - 0s 4ms/step - loss: 4951700.0000 - val_loss: 4924940.0000 - lr: 0.0100\n",
            "Epoch 63/120\n",
            "66/66 [==============================] - 0s 4ms/step - loss: 4924333.5000 - val_loss: 4982120.0000 - lr: 0.0100\n",
            "Epoch 64/120\n",
            "66/66 [==============================] - 0s 4ms/step - loss: 4908774.0000 - val_loss: 4913627.5000 - lr: 0.0100\n",
            "Epoch 65/120\n",
            "66/66 [==============================] - 0s 4ms/step - loss: 4920109.0000 - val_loss: 4938269.5000 - lr: 0.0100\n",
            "Epoch 66/120\n",
            "66/66 [==============================] - 0s 5ms/step - loss: 4894758.5000 - val_loss: 4860273.0000 - lr: 0.0100\n",
            "Epoch 67/120\n",
            "66/66 [==============================] - 0s 5ms/step - loss: 4897891.5000 - val_loss: 4877157.0000 - lr: 0.0100\n",
            "Epoch 68/120\n",
            "66/66 [==============================] - 0s 5ms/step - loss: 4899449.0000 - val_loss: 4849496.5000 - lr: 0.0100\n",
            "Epoch 69/120\n",
            "66/66 [==============================] - 0s 5ms/step - loss: 4902343.5000 - val_loss: 4877923.5000 - lr: 0.0100\n",
            "Epoch 70/120\n",
            "66/66 [==============================] - 0s 5ms/step - loss: 4896707.5000 - val_loss: 4821379.5000 - lr: 0.0100\n",
            "Epoch 71/120\n",
            "66/66 [==============================] - 0s 5ms/step - loss: 4822737.5000 - val_loss: 5303649.5000 - lr: 0.0100\n",
            "Epoch 72/120\n",
            "66/66 [==============================] - 0s 5ms/step - loss: 4872051.5000 - val_loss: 4929491.5000 - lr: 0.0100\n",
            "Epoch 73/120\n",
            "66/66 [==============================] - 0s 5ms/step - loss: 4864207.5000 - val_loss: 4865213.0000 - lr: 0.0100\n",
            "Epoch 74/120\n",
            "66/66 [==============================] - 0s 5ms/step - loss: 4856231.0000 - val_loss: 4907815.0000 - lr: 0.0100\n",
            "Epoch 75/120\n",
            "66/66 [==============================] - 0s 5ms/step - loss: 4882460.0000 - val_loss: 4871790.5000 - lr: 0.0100\n",
            "Epoch 76/120\n",
            "66/66 [==============================] - 0s 5ms/step - loss: 4855336.0000 - val_loss: 4832051.5000 - lr: 0.0100\n",
            "Epoch 77/120\n",
            "66/66 [==============================] - 0s 4ms/step - loss: 4855001.5000 - val_loss: 4786668.0000 - lr: 0.0100\n",
            "Epoch 78/120\n",
            "66/66 [==============================] - 0s 4ms/step - loss: 4849410.5000 - val_loss: 5245736.5000 - lr: 0.0100\n",
            "Epoch 79/120\n",
            "66/66 [==============================] - 0s 5ms/step - loss: 4943642.0000 - val_loss: 4837875.5000 - lr: 0.0100\n",
            "Epoch 80/120\n",
            "66/66 [==============================] - 0s 4ms/step - loss: 4929129.5000 - val_loss: 4843353.5000 - lr: 0.0100\n",
            "Epoch 81/120\n",
            "66/66 [==============================] - 0s 5ms/step - loss: 4853862.5000 - val_loss: 4832876.5000 - lr: 0.0100\n",
            "Epoch 82/120\n",
            "66/66 [==============================] - 0s 5ms/step - loss: 4828092.0000 - val_loss: 4852297.5000 - lr: 0.0100\n",
            "Epoch 83/120\n",
            "66/66 [==============================] - 0s 5ms/step - loss: 4844882.5000 - val_loss: 4949234.5000 - lr: 0.0100\n",
            "Epoch 84/120\n",
            "66/66 [==============================] - 0s 4ms/step - loss: 4878451.5000 - val_loss: 4855278.5000 - lr: 0.0100\n",
            "Epoch 85/120\n",
            "66/66 [==============================] - 0s 5ms/step - loss: 4824669.0000 - val_loss: 4833818.5000 - lr: 0.0100\n",
            "Epoch 86/120\n",
            "66/66 [==============================] - 0s 5ms/step - loss: 4862184.0000 - val_loss: 4858209.5000 - lr: 0.0095\n",
            "Epoch 87/120\n",
            "66/66 [==============================] - 0s 5ms/step - loss: 4789895.5000 - val_loss: 4930857.0000 - lr: 0.0090\n",
            "Epoch 88/120\n",
            "66/66 [==============================] - 0s 5ms/step - loss: 4792204.0000 - val_loss: 4881447.5000 - lr: 0.0086\n",
            "Epoch 89/120\n",
            "66/66 [==============================] - 0s 5ms/step - loss: 4769710.0000 - val_loss: 4828878.0000 - lr: 0.0082\n",
            "Epoch 90/120\n",
            "66/66 [==============================] - 0s 5ms/step - loss: 4812723.5000 - val_loss: 4813425.0000 - lr: 0.0078\n",
            "Epoch 91/120\n",
            "66/66 [==============================] - 0s 4ms/step - loss: 4765589.5000 - val_loss: 4799415.5000 - lr: 0.0074\n",
            "Epoch 92/120\n",
            "66/66 [==============================] - 0s 5ms/step - loss: 4746937.5000 - val_loss: 4787110.0000 - lr: 0.0070\n",
            "Epoch 93/120\n",
            "66/66 [==============================] - 0s 5ms/step - loss: 4744954.0000 - val_loss: 4775888.0000 - lr: 0.0067\n",
            "Epoch 94/120\n",
            "66/66 [==============================] - 0s 5ms/step - loss: 4734384.0000 - val_loss: 4766775.5000 - lr: 0.0064\n",
            "Epoch 95/120\n",
            "66/66 [==============================] - 0s 5ms/step - loss: 4731161.5000 - val_loss: 4847865.0000 - lr: 0.0061\n",
            "Epoch 96/120\n",
            "66/66 [==============================] - 0s 5ms/step - loss: 4741429.5000 - val_loss: 4942591.0000 - lr: 0.0058\n",
            "Epoch 97/120\n",
            "66/66 [==============================] - 0s 5ms/step - loss: 4712710.0000 - val_loss: 4780601.0000 - lr: 0.0055\n",
            "Epoch 98/120\n",
            "66/66 [==============================] - 0s 5ms/step - loss: 4724366.0000 - val_loss: 4798514.5000 - lr: 0.0052\n",
            "Epoch 99/120\n",
            "66/66 [==============================] - 0s 5ms/step - loss: 4729830.0000 - val_loss: 4861062.0000 - lr: 0.0050\n",
            "Epoch 100/120\n",
            "66/66 [==============================] - 0s 5ms/step - loss: 4699057.5000 - val_loss: 4789310.5000 - lr: 0.0047\n",
            "Epoch 101/120\n",
            "66/66 [==============================] - 0s 5ms/step - loss: 4722997.0000 - val_loss: 4839526.5000 - lr: 0.0045\n",
            "Epoch 102/120\n",
            "66/66 [==============================] - 0s 5ms/step - loss: 4698274.5000 - val_loss: 4764902.0000 - lr: 0.0043\n",
            "Epoch 103/120\n",
            "66/66 [==============================] - 0s 5ms/step - loss: 4673716.5000 - val_loss: 4780604.0000 - lr: 0.0041\n",
            "Epoch 104/120\n",
            "66/66 [==============================] - 0s 5ms/step - loss: 4685328.0000 - val_loss: 4785926.5000 - lr: 0.0039\n",
            "Epoch 105/120\n",
            "66/66 [==============================] - 0s 5ms/step - loss: 4677236.0000 - val_loss: 4779431.0000 - lr: 0.0037\n",
            "Epoch 106/120\n",
            "66/66 [==============================] - 0s 5ms/step - loss: 4686497.0000 - val_loss: 4740777.5000 - lr: 0.0035\n",
            "Epoch 107/120\n",
            "66/66 [==============================] - 0s 4ms/step - loss: 4696303.5000 - val_loss: 4922531.5000 - lr: 0.0033\n",
            "Epoch 108/120\n",
            "66/66 [==============================] - 0s 4ms/step - loss: 4648974.5000 - val_loss: 4748075.5000 - lr: 0.0032\n",
            "Epoch 109/120\n",
            "66/66 [==============================] - 0s 5ms/step - loss: 4657973.0000 - val_loss: 4774419.0000 - lr: 0.0030\n",
            "Epoch 110/120\n",
            "66/66 [==============================] - 0s 4ms/step - loss: 4655780.0000 - val_loss: 4781102.5000 - lr: 0.0029\n",
            "Epoch 111/120\n",
            "66/66 [==============================] - 0s 4ms/step - loss: 4638525.5000 - val_loss: 4761849.0000 - lr: 0.0027\n",
            "Epoch 112/120\n",
            "66/66 [==============================] - 0s 5ms/step - loss: 4632312.0000 - val_loss: 4762325.5000 - lr: 0.0026\n",
            "Epoch 113/120\n",
            "66/66 [==============================] - 0s 5ms/step - loss: 4636470.5000 - val_loss: 4789113.0000 - lr: 0.0025\n",
            "Epoch 114/120\n",
            "66/66 [==============================] - 0s 5ms/step - loss: 4632303.5000 - val_loss: 4758184.5000 - lr: 0.0023\n",
            "Epoch 115/120\n",
            "66/66 [==============================] - 0s 4ms/step - loss: 4636282.5000 - val_loss: 4747373.5000 - lr: 0.0022\n",
            "Epoch 116/120\n",
            "66/66 [==============================] - 0s 5ms/step - loss: 4635639.5000 - val_loss: 4828242.0000 - lr: 0.0021\n",
            "Epoch 117/120\n",
            "66/66 [==============================] - 0s 5ms/step - loss: 4622756.0000 - val_loss: 4777373.0000 - lr: 0.0020\n",
            "Epoch 118/120\n",
            "66/66 [==============================] - 0s 5ms/step - loss: 4613012.0000 - val_loss: 4739783.0000 - lr: 0.0019\n",
            "Epoch 119/120\n",
            "66/66 [==============================] - 0s 5ms/step - loss: 4617695.5000 - val_loss: 4752763.0000 - lr: 0.0018\n",
            "Epoch 120/120\n",
            "66/66 [==============================] - 0s 5ms/step - loss: 4612361.5000 - val_loss: 4745530.5000 - lr: 0.0017\n"
          ]
        }
      ]
    },
    {
      "cell_type": "code",
      "source": [
        "y_pred = model.predict(X_test)\n",
        "r2 = r2_score(y_test, y_pred)\n",
        "\n",
        "print('r2 = %.3f' % r2)"
      ],
      "metadata": {
        "colab": {
          "base_uri": "https://localhost:8080/"
        },
        "id": "SgXhtv4UZaw3",
        "outputId": "ce81ce67-a1b3-490f-8fe1-cf2244b53e51"
      },
      "execution_count": 70,
      "outputs": [
        {
          "output_type": "stream",
          "name": "stdout",
          "text": [
            "11166/11166 [==============================] - 15s 1ms/step\n",
            "r2 = 0.578\n"
          ]
        }
      ]
    },
    {
      "cell_type": "code",
      "source": [
        "# summarize history for loss\n",
        "plt.plot(history.history['loss'])\n",
        "plt.plot(history.history['val_loss'])\n",
        "plt.title('model loss')\n",
        "plt.ylabel('loss')\n",
        "plt.xlabel('epoch')\n",
        "plt.legend(['train', 'test'], loc='upper left')\n",
        "plt.show()"
      ],
      "metadata": {
        "colab": {
          "base_uri": "https://localhost:8080/",
          "height": 295
        },
        "id": "34dgk5DaYseU",
        "outputId": "9c19b0c1-ce0f-448b-e1a9-e93153f965ab"
      },
      "execution_count": 71,
      "outputs": [
        {
          "output_type": "display_data",
          "data": {
            "text/plain": [
              "<Figure size 432x288 with 1 Axes>"
            ],
            "image/png": "[encoded data removed]"
          },
          "metadata": {
            "needs_background": "light"
          }
        }
      ]
    },
    {
      "cell_type": "markdown",
      "source": [
        "## Save Model"
      ],
      "metadata": {
        "id": "en7GBfldkDQa"
      }
    },
    {
      "cell_type": "code",
      "source": [
        "model.save('/content/gdrive/My Drive/NIOSH Project/Nerual_Network_Model')"
      ],
      "metadata": {
        "id": "tUCXl--2kFhW"
      },
      "execution_count": 72,
      "outputs": []
    }
  ]
}