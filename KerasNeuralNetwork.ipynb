{
  "nbformat": 4,
  "nbformat_minor": 0,
  "metadata": {
    "colab": {
      "provenance": [],
      "machine_shape": "hm",
      "include_colab_link": true
    },
    "kernelspec": {
      "name": "python3",
      "display_name": "Python 3"
    },
    "language_info": {
      "name": "python"
    },
    "accelerator": "GPU",
    "gpuClass": "standard"
  },
  "cells": [
    {
      "cell_type": "markdown",
      "metadata": {
        "id": "view-in-github",
        "colab_type": "text"
      },
      "source": [
        "<a href=\"https://colab.research.google.com/github/jacobdwatters/NIOSH-Project/blob/main/KerasNeuralNetwork.ipynb\" target=\"_parent\"><img src=\"https://colab.research.google.com/assets/colab-badge.svg\" alt=\"Open In Colab\"/></a>"
      ]
    },
    {
      "cell_type": "markdown",
      "source": [
        "## Imports and Setups"
      ],
      "metadata": {
        "id": "kksCVOwmWIyk"
      }
    },
    {
      "cell_type": "code",
      "execution_count": 20,
      "metadata": {
        "id": "1QV40HghV7bg"
      },
      "outputs": [],
      "source": [
        "import numpy as np\n",
        "from numpy.random import seed\n",
        "import pandas as pd\n",
        "import seaborn as sns\n",
        "import matplotlib.pyplot as plt\n",
        "\n",
        "import sklearn\n",
        "from sklearn.preprocessing import StandardScaler\n",
        "from sklearn.preprocessing import OneHotEncoder\n",
        "from sklearn.model_selection import train_test_split\n",
        "from sklearn.metrics import mean_absolute_error\n",
        "from sklearn.metrics import r2_score\n",
        "import joblib\n",
        "\n",
        "from tensorflow import keras\n",
        "from tensorflow.keras import layers\n",
        "import tensorflow as tf\n",
        "\n",
        "import scipy as sp\n",
        "from scipy import stats\n",
        "\n",
        "import joblib\n",
        "import sys"
      ]
    },
    {
      "cell_type": "code",
      "source": [
        "print(tf.__version__)\n",
        "print(sys.version)"
      ],
      "metadata": {
        "colab": {
          "base_uri": "https://localhost:8080/"
        },
        "id": "TvhK2w7RnSWA",
        "outputId": "226f1d87-3bd1-4673-9fe7-1546c0889d6d"
      },
      "execution_count": 19,
      "outputs": [
        {
          "output_type": "stream",
          "name": "stdout",
          "text": [
            "2.15.0\n",
            "3.10.12 (main, Nov 20 2023, 15:14:05) [GCC 11.4.0]\n"
          ]
        }
      ]
    },
    {
      "cell_type": "code",
      "source": [
        "from google.colab import drive\n",
        "drive.mount('/content/gdrive')"
      ],
      "metadata": {
        "colab": {
          "base_uri": "https://localhost:8080/"
        },
        "id": "pDHS2sE2WBmY",
        "outputId": "dafc8115-742e-4077-ec3a-e1c2925c326c"
      },
      "execution_count": 21,
      "outputs": [
        {
          "output_type": "stream",
          "name": "stdout",
          "text": [
            "Drive already mounted at /content/gdrive; to attempt to forcibly remount, call drive.mount(\"/content/gdrive\", force_remount=True).\n"
          ]
        }
      ]
    },
    {
      "cell_type": "markdown",
      "source": [
        "## Load and Process Data"
      ],
      "metadata": {
        "id": "qsJjYUJgWOtu"
      }
    },
    {
      "cell_type": "code",
      "source": [
        "path_after_2010 = '/content/gdrive/My Drive/School/Grad School/NIOSH Project/Data/violations_processed_after_2010.csv'\n",
        "violation_data = pd.read_csv(path_after_2010)"
      ],
      "metadata": {
        "id": "7U5StloDWL2d",
        "outputId": "85efe3d0-3da9-49d2-cb2c-403c208833b5",
        "colab": {
          "base_uri": "https://localhost:8080/"
        }
      },
      "execution_count": 12,
      "outputs": [
        {
          "output_type": "stream",
          "name": "stderr",
          "text": [
            "<ipython-input-12-837e5d150e00>:2: DtypeWarning: Columns (11) have mixed types. Specify dtype option on import or set low_memory=False.\n",
            "  violation_data = pd.read_csv(path_after_2010)\n"
          ]
        }
      ]
    },
    {
      "cell_type": "code",
      "source": [
        "FEATURES = ['MINE_TYPE', 'COAL_METAL_IND', 'SIG_SUB', 'LIKELIHOOD',\n",
        "            'INJ_ILLNESS', 'NO_AFFECTED', 'NEGLIGENCE', 'VIOLATOR_VIOLATION_CNT',\n",
        "            'VIOLATOR_INSPECTION_DAY_CNT']\n",
        "TARGETS = ['PROPOSED_PENALTY']\n",
        "\n",
        "X = violation_data[FEATURES]\n",
        "y = violation_data[TARGETS]"
      ],
      "metadata": {
        "id": "ZWdMdDejWRNE"
      },
      "execution_count": 13,
      "outputs": []
    },
    {
      "cell_type": "code",
      "source": [
        "# Define which columns should be encoded vs scaled\n",
        "columns_to_encode = ['MINE_TYPE', 'COAL_METAL_IND', 'LIKELIHOOD', 'INJ_ILLNESS', 'SIG_SUB', 'NEGLIGENCE']\n",
        "columns_to_scale  = ['VIOLATOR_VIOLATION_CNT', 'NO_AFFECTED', 'VIOLATOR_INSPECTION_DAY_CNT']\n",
        "\n",
        "# Instantiate encoder/scaler\n",
        "scaler = StandardScaler()\n",
        "ohe = OneHotEncoder(sparse=False)\n",
        "\n",
        "# Scale and Encode Separate Columns\n",
        "scaled_columns  = scaler.fit_transform(X[columns_to_scale])\n",
        "encoded_columns = ohe.fit_transform(X[columns_to_encode])\n",
        "\n",
        "# Concatenate (Column-Bind) Processed Columns Back Together\n",
        "X_pre = np.concatenate([scaled_columns, encoded_columns], axis=1)\n",
        "np.nan_to_num(X_pre, copy=False)\n",
        "\n",
        "print('Features shape:', X_pre.shape)"
      ],
      "metadata": {
        "colab": {
          "base_uri": "https://localhost:8080/"
        },
        "id": "gVgtHrMyWTND",
        "outputId": "3e3cb148-6ac8-4e5b-f1e1-22376325b928"
      },
      "execution_count": 14,
      "outputs": [
        {
          "output_type": "stream",
          "name": "stderr",
          "text": [
            "/usr/local/lib/python3.10/dist-packages/sklearn/preprocessing/_encoders.py:868: FutureWarning: `sparse` was renamed to `sparse_output` in version 1.2 and will be removed in 1.4. `sparse_output` is ignored unless you leave `sparse` to its default value.\n",
            "  warnings.warn(\n"
          ]
        },
        {
          "output_type": "stream",
          "name": "stdout",
          "text": [
            "Features shape: (1561534, 24)\n"
          ]
        }
      ]
    },
    {
      "cell_type": "markdown",
      "source": [
        "Save encoder and scaler."
      ],
      "metadata": {
        "id": "BheI9pPdfj5V"
      }
    },
    {
      "cell_type": "code",
      "source": [
        "joblib.dump(scaler, '/content/gdrive/My Drive/School/Grad School/NIOSH Project/Models/PropPenalty-NN/PropPenalty-NN-scaler.pkl')\n",
        "joblib.dump(ohe, '/content/gdrive/My Drive/School/Grad School/NIOSH Project/Models/PropPenalty-NN/PropPenalty-NN-encoder.pkl')"
      ],
      "metadata": {
        "id": "xWiQA5JWeolu",
        "outputId": "33b2b2ea-79b7-4032-fbe3-f0b2a8c3ca27",
        "colab": {
          "base_uri": "https://localhost:8080/"
        }
      },
      "execution_count": 17,
      "outputs": [
        {
          "output_type": "execute_result",
          "data": {
            "text/plain": [
              "['/content/gdrive/My Drive/School/Grad School/NIOSH Project/Models/PropPenalty-NN/PropPenalty-NN-encoder.pkl']"
            ]
          },
          "metadata": {},
          "execution_count": 17
        }
      ]
    },
    {
      "cell_type": "code",
      "source": [
        "X_train, X_test, y_train, y_test = train_test_split(X_pre, y, test_size = 0.25, random_state = 0)\n",
        "\n",
        "print('X_train shape:', X_train.shape)\n",
        "print('X_test shape:', X_test.shape)\n",
        "print('y_train shape:', y_train.shape)\n",
        "print('y_train shape:', y_test.shape)"
      ],
      "metadata": {
        "colab": {
          "base_uri": "https://localhost:8080/"
        },
        "id": "di0OVsjxWUix",
        "outputId": "ed11d47d-1862-4eb1-b046-714e40d280c1"
      },
      "execution_count": 16,
      "outputs": [
        {
          "output_type": "stream",
          "name": "stdout",
          "text": [
            "X_train shape: (1171150, 24)\n",
            "X_test shape: (390384, 24)\n",
            "y_train shape: (1171150, 1)\n",
            "y_train shape: (390384, 1)\n"
          ]
        }
      ]
    },
    {
      "cell_type": "markdown",
      "source": [
        "## Neural Network Model"
      ],
      "metadata": {
        "id": "y1ufEC5wWgyL"
      }
    },
    {
      "cell_type": "code",
      "source": [
        "def scheduler(epoch, lr):\n",
        "  if epoch < 85:\n",
        "    return lr\n",
        "  else: # Drop learning rate after the first 85 epochs\n",
        "    return lr*np.exp(-0.05)"
      ],
      "metadata": {
        "id": "hyuGxyqFgRVi"
      },
      "execution_count": null,
      "outputs": []
    },
    {
      "cell_type": "code",
      "source": [
        "batch_size = 2**14\n",
        "epochs = 120\n",
        "callback = tf.keras.callbacks.LearningRateScheduler(scheduler)\n",
        "\n",
        "model = keras.Sequential()\n",
        "\n",
        "model.add(keras.Input(shape = (len(X_train[0]), ) ))\n",
        "model.add(layers.Dense(64, activation=\"relu\"))\n",
        "model.add(layers.Dense(32, activation=\"relu\"))\n",
        "model.add(layers.Dense(16, activation=\"relu\"))\n",
        "model.add(layers.Dense(8, activation=\"relu\"))\n",
        "model.add(layers.Dense(8, activation=\"relu\"))\n",
        "model.add(layers.Dense(8, activation=\"relu\"))\n",
        "model.add(layers.Dense(1, activation=\"linear\"))\n",
        "\n",
        "\n",
        "opt = keras.optimizers.Adam(learning_rate=0.01)\n",
        "model.compile(loss=\"mse\", optimizer=opt)\n",
        "history = model.fit(X_train, y_train, epochs=epochs, batch_size=batch_size,\n",
        "                    callbacks=[callback], validation_data=(X_test, y_test))"
      ],
      "metadata": {
        "colab": {
          "base_uri": "https://localhost:8080/"
        },
        "id": "azr8bSFRWikn",
        "outputId": "2a77d89f-5694-4a4b-808b-1ebcd0900086"
      },
      "execution_count": null,
      "outputs": [
        {
          "output_type": "stream",
          "name": "stdout",
          "text": [
            "Epoch 1/120\n",
            "71/71 [==============================] - 4s 10ms/step - loss: 11520864.0000 - val_loss: 9420368.0000 - lr: 0.0100\n",
            "Epoch 2/120\n",
            "71/71 [==============================] - 0s 5ms/step - loss: 8590063.0000 - val_loss: 6956679.5000 - lr: 0.0100\n",
            "Epoch 3/120\n",
            "71/71 [==============================] - 0s 7ms/step - loss: 6770951.5000 - val_loss: 6171946.0000 - lr: 0.0100\n",
            "Epoch 4/120\n",
            "71/71 [==============================] - 0s 6ms/step - loss: 6258278.5000 - val_loss: 5912135.0000 - lr: 0.0100\n",
            "Epoch 5/120\n",
            "71/71 [==============================] - 0s 5ms/step - loss: 6131072.5000 - val_loss: 5768830.5000 - lr: 0.0100\n",
            "Epoch 6/120\n",
            "71/71 [==============================] - 0s 5ms/step - loss: 6117321.5000 - val_loss: 5847908.5000 - lr: 0.0100\n",
            "Epoch 7/120\n",
            "71/71 [==============================] - 0s 5ms/step - loss: 6016164.0000 - val_loss: 5650781.0000 - lr: 0.0100\n",
            "Epoch 8/120\n",
            "71/71 [==============================] - 0s 5ms/step - loss: 5872126.5000 - val_loss: 5669874.0000 - lr: 0.0100\n",
            "Epoch 9/120\n",
            "71/71 [==============================] - 0s 5ms/step - loss: 5936566.0000 - val_loss: 5567820.0000 - lr: 0.0100\n",
            "Epoch 10/120\n",
            "71/71 [==============================] - 0s 5ms/step - loss: 5817718.5000 - val_loss: 5525972.5000 - lr: 0.0100\n",
            "Epoch 11/120\n",
            "71/71 [==============================] - 0s 5ms/step - loss: 5780230.5000 - val_loss: 5679711.0000 - lr: 0.0100\n",
            "Epoch 12/120\n",
            "71/71 [==============================] - 0s 5ms/step - loss: 5764707.0000 - val_loss: 5443709.0000 - lr: 0.0100\n",
            "Epoch 13/120\n",
            "71/71 [==============================] - 0s 5ms/step - loss: 5592993.5000 - val_loss: 5291208.5000 - lr: 0.0100\n",
            "Epoch 14/120\n",
            "71/71 [==============================] - 0s 5ms/step - loss: 5485292.0000 - val_loss: 5243811.5000 - lr: 0.0100\n",
            "Epoch 15/120\n",
            "71/71 [==============================] - 0s 5ms/step - loss: 5407661.0000 - val_loss: 5283935.0000 - lr: 0.0100\n",
            "Epoch 16/120\n",
            "71/71 [==============================] - 0s 5ms/step - loss: 5385682.0000 - val_loss: 5239200.0000 - lr: 0.0100\n",
            "Epoch 17/120\n",
            "71/71 [==============================] - 0s 5ms/step - loss: 5331140.0000 - val_loss: 5143980.0000 - lr: 0.0100\n",
            "Epoch 18/120\n",
            "71/71 [==============================] - 0s 5ms/step - loss: 5264851.0000 - val_loss: 5199146.0000 - lr: 0.0100\n",
            "Epoch 19/120\n",
            "71/71 [==============================] - 0s 5ms/step - loss: 5435388.5000 - val_loss: 5104814.0000 - lr: 0.0100\n",
            "Epoch 20/120\n",
            "71/71 [==============================] - 0s 5ms/step - loss: 5245834.5000 - val_loss: 5142858.5000 - lr: 0.0100\n",
            "Epoch 21/120\n",
            "71/71 [==============================] - 0s 5ms/step - loss: 5197289.0000 - val_loss: 5078972.5000 - lr: 0.0100\n",
            "Epoch 22/120\n",
            "71/71 [==============================] - 0s 5ms/step - loss: 5175271.5000 - val_loss: 5075372.0000 - lr: 0.0100\n",
            "Epoch 23/120\n",
            "71/71 [==============================] - 0s 5ms/step - loss: 5158880.0000 - val_loss: 5098163.5000 - lr: 0.0100\n",
            "Epoch 24/120\n",
            "71/71 [==============================] - 0s 5ms/step - loss: 5125452.5000 - val_loss: 5094002.0000 - lr: 0.0100\n",
            "Epoch 25/120\n",
            "71/71 [==============================] - 0s 5ms/step - loss: 5115768.0000 - val_loss: 5100484.0000 - lr: 0.0100\n",
            "Epoch 26/120\n",
            "71/71 [==============================] - 0s 6ms/step - loss: 5134687.5000 - val_loss: 4977370.5000 - lr: 0.0100\n",
            "Epoch 27/120\n",
            "71/71 [==============================] - 0s 5ms/step - loss: 5100100.5000 - val_loss: 5133649.5000 - lr: 0.0100\n",
            "Epoch 28/120\n",
            "71/71 [==============================] - 0s 5ms/step - loss: 5095058.0000 - val_loss: 5000210.5000 - lr: 0.0100\n",
            "Epoch 29/120\n",
            "71/71 [==============================] - 0s 5ms/step - loss: 5110393.0000 - val_loss: 5133890.5000 - lr: 0.0100\n",
            "Epoch 30/120\n",
            "71/71 [==============================] - 0s 5ms/step - loss: 5126835.5000 - val_loss: 4962571.5000 - lr: 0.0100\n",
            "Epoch 31/120\n",
            "71/71 [==============================] - 0s 5ms/step - loss: 5031159.0000 - val_loss: 5053577.0000 - lr: 0.0100\n",
            "Epoch 32/120\n",
            "71/71 [==============================] - 0s 5ms/step - loss: 5029903.0000 - val_loss: 4991114.5000 - lr: 0.0100\n",
            "Epoch 33/120\n",
            "71/71 [==============================] - 0s 5ms/step - loss: 5086391.5000 - val_loss: 4951857.0000 - lr: 0.0100\n",
            "Epoch 34/120\n",
            "71/71 [==============================] - 0s 5ms/step - loss: 5017053.0000 - val_loss: 5013403.5000 - lr: 0.0100\n",
            "Epoch 35/120\n",
            "71/71 [==============================] - 0s 5ms/step - loss: 5017324.0000 - val_loss: 4972760.5000 - lr: 0.0100\n",
            "Epoch 36/120\n",
            "71/71 [==============================] - 0s 5ms/step - loss: 5118822.5000 - val_loss: 4957853.0000 - lr: 0.0100\n",
            "Epoch 37/120\n",
            "71/71 [==============================] - 0s 5ms/step - loss: 4976151.5000 - val_loss: 4933263.0000 - lr: 0.0100\n",
            "Epoch 38/120\n",
            "71/71 [==============================] - 0s 5ms/step - loss: 4992111.5000 - val_loss: 4899926.5000 - lr: 0.0100\n",
            "Epoch 39/120\n",
            "71/71 [==============================] - 0s 5ms/step - loss: 4971246.0000 - val_loss: 4923986.0000 - lr: 0.0100\n",
            "Epoch 40/120\n",
            "71/71 [==============================] - 0s 5ms/step - loss: 5022714.5000 - val_loss: 4886019.5000 - lr: 0.0100\n",
            "Epoch 41/120\n",
            "71/71 [==============================] - 0s 5ms/step - loss: 4932688.5000 - val_loss: 4936731.0000 - lr: 0.0100\n",
            "Epoch 42/120\n",
            "71/71 [==============================] - 0s 5ms/step - loss: 4931985.5000 - val_loss: 5096097.5000 - lr: 0.0100\n",
            "Epoch 43/120\n",
            "71/71 [==============================] - 0s 5ms/step - loss: 5040671.5000 - val_loss: 4911070.5000 - lr: 0.0100\n",
            "Epoch 44/120\n",
            "71/71 [==============================] - 0s 5ms/step - loss: 4960143.5000 - val_loss: 4948727.0000 - lr: 0.0100\n",
            "Epoch 45/120\n",
            "71/71 [==============================] - 0s 6ms/step - loss: 4988943.5000 - val_loss: 4965028.5000 - lr: 0.0100\n",
            "Epoch 46/120\n",
            "71/71 [==============================] - 0s 5ms/step - loss: 4970594.0000 - val_loss: 4926956.0000 - lr: 0.0100\n",
            "Epoch 47/120\n",
            "71/71 [==============================] - 0s 5ms/step - loss: 4926680.5000 - val_loss: 4911145.0000 - lr: 0.0100\n",
            "Epoch 48/120\n",
            "71/71 [==============================] - 0s 5ms/step - loss: 4920701.0000 - val_loss: 4987796.5000 - lr: 0.0100\n",
            "Epoch 49/120\n",
            "71/71 [==============================] - 0s 5ms/step - loss: 4923382.5000 - val_loss: 4840411.5000 - lr: 0.0100\n",
            "Epoch 50/120\n",
            "71/71 [==============================] - 0s 5ms/step - loss: 4885722.5000 - val_loss: 4932412.0000 - lr: 0.0100\n",
            "Epoch 51/120\n",
            "71/71 [==============================] - 0s 5ms/step - loss: 4919724.0000 - val_loss: 4896405.5000 - lr: 0.0100\n",
            "Epoch 52/120\n",
            "71/71 [==============================] - 0s 6ms/step - loss: 4912123.0000 - val_loss: 5160811.5000 - lr: 0.0100\n",
            "Epoch 53/120\n",
            "71/71 [==============================] - 0s 6ms/step - loss: 4968439.0000 - val_loss: 4890833.5000 - lr: 0.0100\n",
            "Epoch 54/120\n",
            "71/71 [==============================] - 0s 6ms/step - loss: 4918076.5000 - val_loss: 5097788.5000 - lr: 0.0100\n",
            "Epoch 55/120\n",
            "71/71 [==============================] - 0s 5ms/step - loss: 4928388.5000 - val_loss: 4999876.0000 - lr: 0.0100\n",
            "Epoch 56/120\n",
            "71/71 [==============================] - 0s 5ms/step - loss: 4909389.0000 - val_loss: 4890989.0000 - lr: 0.0100\n",
            "Epoch 57/120\n",
            "71/71 [==============================] - 0s 6ms/step - loss: 4951149.5000 - val_loss: 4915374.0000 - lr: 0.0100\n",
            "Epoch 58/120\n",
            "71/71 [==============================] - 0s 5ms/step - loss: 4870136.0000 - val_loss: 4881420.0000 - lr: 0.0100\n",
            "Epoch 59/120\n",
            "71/71 [==============================] - 0s 5ms/step - loss: 4844499.5000 - val_loss: 4898326.0000 - lr: 0.0100\n",
            "Epoch 60/120\n",
            "71/71 [==============================] - 0s 5ms/step - loss: 4835117.0000 - val_loss: 4895846.0000 - lr: 0.0100\n",
            "Epoch 61/120\n",
            "71/71 [==============================] - 0s 5ms/step - loss: 4923886.0000 - val_loss: 4885143.5000 - lr: 0.0100\n",
            "Epoch 62/120\n",
            "71/71 [==============================] - 0s 5ms/step - loss: 4838124.5000 - val_loss: 4959403.0000 - lr: 0.0100\n",
            "Epoch 63/120\n",
            "71/71 [==============================] - 0s 5ms/step - loss: 4826700.5000 - val_loss: 4918916.0000 - lr: 0.0100\n",
            "Epoch 64/120\n",
            "71/71 [==============================] - 0s 5ms/step - loss: 4923088.0000 - val_loss: 4819568.0000 - lr: 0.0100\n",
            "Epoch 65/120\n",
            "71/71 [==============================] - 0s 5ms/step - loss: 4856691.5000 - val_loss: 4850117.5000 - lr: 0.0100\n",
            "Epoch 66/120\n",
            "71/71 [==============================] - 0s 5ms/step - loss: 4826376.0000 - val_loss: 4912692.0000 - lr: 0.0100\n",
            "Epoch 67/120\n",
            "71/71 [==============================] - 0s 5ms/step - loss: 4867233.0000 - val_loss: 4877359.0000 - lr: 0.0100\n",
            "Epoch 68/120\n",
            "71/71 [==============================] - 0s 5ms/step - loss: 4819089.0000 - val_loss: 4824422.5000 - lr: 0.0100\n",
            "Epoch 69/120\n",
            "71/71 [==============================] - 0s 5ms/step - loss: 4838852.0000 - val_loss: 4913649.5000 - lr: 0.0100\n",
            "Epoch 70/120\n",
            "71/71 [==============================] - 0s 5ms/step - loss: 4859658.0000 - val_loss: 5008930.0000 - lr: 0.0100\n",
            "Epoch 71/120\n",
            "71/71 [==============================] - 0s 5ms/step - loss: 4983109.0000 - val_loss: 4839556.5000 - lr: 0.0100\n",
            "Epoch 72/120\n",
            "71/71 [==============================] - 0s 5ms/step - loss: 4799781.0000 - val_loss: 4831136.0000 - lr: 0.0100\n",
            "Epoch 73/120\n",
            "71/71 [==============================] - 0s 5ms/step - loss: 4829114.0000 - val_loss: 4904863.5000 - lr: 0.0100\n",
            "Epoch 74/120\n",
            "71/71 [==============================] - 0s 5ms/step - loss: 4802697.0000 - val_loss: 4899016.0000 - lr: 0.0100\n",
            "Epoch 75/120\n",
            "71/71 [==============================] - 0s 5ms/step - loss: 4790780.0000 - val_loss: 4815920.5000 - lr: 0.0100\n",
            "Epoch 76/120\n",
            "71/71 [==============================] - 0s 5ms/step - loss: 4851451.0000 - val_loss: 4855826.5000 - lr: 0.0100\n",
            "Epoch 77/120\n",
            "71/71 [==============================] - 0s 5ms/step - loss: 4800065.5000 - val_loss: 4909372.5000 - lr: 0.0100\n",
            "Epoch 78/120\n",
            "71/71 [==============================] - 0s 5ms/step - loss: 4913438.5000 - val_loss: 4812003.5000 - lr: 0.0100\n",
            "Epoch 79/120\n",
            "71/71 [==============================] - 0s 5ms/step - loss: 4760283.0000 - val_loss: 4875341.0000 - lr: 0.0100\n",
            "Epoch 80/120\n",
            "71/71 [==============================] - 0s 5ms/step - loss: 4758097.0000 - val_loss: 4881399.0000 - lr: 0.0100\n",
            "Epoch 81/120\n",
            "71/71 [==============================] - 0s 5ms/step - loss: 4754075.0000 - val_loss: 4851937.5000 - lr: 0.0100\n",
            "Epoch 82/120\n",
            "71/71 [==============================] - 0s 5ms/step - loss: 4779507.0000 - val_loss: 4880014.5000 - lr: 0.0100\n",
            "Epoch 83/120\n",
            "71/71 [==============================] - 0s 5ms/step - loss: 4723351.0000 - val_loss: 4881788.0000 - lr: 0.0100\n",
            "Epoch 84/120\n",
            "71/71 [==============================] - 0s 5ms/step - loss: 4781419.0000 - val_loss: 4893358.0000 - lr: 0.0100\n",
            "Epoch 85/120\n",
            "71/71 [==============================] - 0s 5ms/step - loss: 4749614.0000 - val_loss: 4888544.0000 - lr: 0.0100\n",
            "Epoch 86/120\n",
            "71/71 [==============================] - 0s 5ms/step - loss: 4823266.0000 - val_loss: 4841517.5000 - lr: 0.0095\n",
            "Epoch 87/120\n",
            "71/71 [==============================] - 0s 5ms/step - loss: 4760549.5000 - val_loss: 4866290.5000 - lr: 0.0090\n",
            "Epoch 88/120\n",
            "71/71 [==============================] - 0s 5ms/step - loss: 4718713.0000 - val_loss: 4850181.5000 - lr: 0.0086\n",
            "Epoch 89/120\n",
            "71/71 [==============================] - 0s 5ms/step - loss: 4707319.0000 - val_loss: 4834722.5000 - lr: 0.0082\n",
            "Epoch 90/120\n",
            "71/71 [==============================] - 0s 5ms/step - loss: 4763889.5000 - val_loss: 4810201.0000 - lr: 0.0078\n",
            "Epoch 91/120\n",
            "71/71 [==============================] - 0s 5ms/step - loss: 4687407.5000 - val_loss: 4795859.5000 - lr: 0.0074\n",
            "Epoch 92/120\n",
            "71/71 [==============================] - 0s 5ms/step - loss: 4671275.5000 - val_loss: 4830911.5000 - lr: 0.0070\n",
            "Epoch 93/120\n",
            "71/71 [==============================] - 0s 5ms/step - loss: 4688691.5000 - val_loss: 4806903.5000 - lr: 0.0067\n",
            "Epoch 94/120\n",
            "71/71 [==============================] - 0s 5ms/step - loss: 4666491.0000 - val_loss: 4802446.5000 - lr: 0.0064\n",
            "Epoch 95/120\n",
            "71/71 [==============================] - 0s 5ms/step - loss: 4640929.0000 - val_loss: 4789794.0000 - lr: 0.0061\n",
            "Epoch 96/120\n",
            "71/71 [==============================] - 0s 5ms/step - loss: 4654946.0000 - val_loss: 4821779.5000 - lr: 0.0058\n",
            "Epoch 97/120\n",
            "71/71 [==============================] - 0s 5ms/step - loss: 4628068.5000 - val_loss: 4782038.5000 - lr: 0.0055\n",
            "Epoch 98/120\n",
            "71/71 [==============================] - 0s 5ms/step - loss: 4652926.0000 - val_loss: 4809726.5000 - lr: 0.0052\n",
            "Epoch 99/120\n",
            "71/71 [==============================] - 0s 5ms/step - loss: 4629617.0000 - val_loss: 4784650.5000 - lr: 0.0050\n",
            "Epoch 100/120\n",
            "71/71 [==============================] - 0s 5ms/step - loss: 4624775.5000 - val_loss: 4777451.5000 - lr: 0.0047\n",
            "Epoch 101/120\n",
            "71/71 [==============================] - 0s 5ms/step - loss: 4614871.0000 - val_loss: 4811681.0000 - lr: 0.0045\n",
            "Epoch 102/120\n",
            "71/71 [==============================] - 0s 5ms/step - loss: 4582470.5000 - val_loss: 4754965.5000 - lr: 0.0043\n",
            "Epoch 103/120\n",
            "71/71 [==============================] - 0s 5ms/step - loss: 4595703.5000 - val_loss: 4796508.0000 - lr: 0.0041\n",
            "Epoch 104/120\n",
            "71/71 [==============================] - 0s 5ms/step - loss: 4753328.5000 - val_loss: 4831562.0000 - lr: 0.0039\n",
            "Epoch 105/120\n",
            "71/71 [==============================] - 0s 5ms/step - loss: 4582086.0000 - val_loss: 4779714.0000 - lr: 0.0037\n",
            "Epoch 106/120\n",
            "71/71 [==============================] - 0s 5ms/step - loss: 4580033.0000 - val_loss: 4785455.5000 - lr: 0.0035\n",
            "Epoch 107/120\n",
            "71/71 [==============================] - 0s 5ms/step - loss: 4590429.0000 - val_loss: 4758288.0000 - lr: 0.0033\n",
            "Epoch 108/120\n",
            "71/71 [==============================] - 0s 5ms/step - loss: 4564577.0000 - val_loss: 4788785.0000 - lr: 0.0032\n",
            "Epoch 109/120\n",
            "71/71 [==============================] - 0s 5ms/step - loss: 4561698.5000 - val_loss: 4764809.0000 - lr: 0.0030\n",
            "Epoch 110/120\n",
            "71/71 [==============================] - 0s 5ms/step - loss: 4548943.5000 - val_loss: 4801741.5000 - lr: 0.0029\n",
            "Epoch 111/120\n",
            "71/71 [==============================] - 0s 5ms/step - loss: 4574687.5000 - val_loss: 4787938.5000 - lr: 0.0027\n",
            "Epoch 112/120\n",
            "71/71 [==============================] - 0s 5ms/step - loss: 4552492.0000 - val_loss: 4770260.5000 - lr: 0.0026\n",
            "Epoch 113/120\n",
            "71/71 [==============================] - 0s 5ms/step - loss: 4547575.0000 - val_loss: 4762038.5000 - lr: 0.0025\n",
            "Epoch 114/120\n",
            "71/71 [==============================] - 0s 5ms/step - loss: 4541724.0000 - val_loss: 4787129.5000 - lr: 0.0023\n",
            "Epoch 115/120\n",
            "71/71 [==============================] - 0s 5ms/step - loss: 4539552.0000 - val_loss: 4781482.0000 - lr: 0.0022\n",
            "Epoch 116/120\n",
            "71/71 [==============================] - 0s 5ms/step - loss: 4527374.0000 - val_loss: 4778951.0000 - lr: 0.0021\n",
            "Epoch 117/120\n",
            "71/71 [==============================] - 0s 5ms/step - loss: 4521380.0000 - val_loss: 4774892.5000 - lr: 0.0020\n",
            "Epoch 118/120\n",
            "71/71 [==============================] - 0s 5ms/step - loss: 4519566.0000 - val_loss: 4804772.5000 - lr: 0.0019\n",
            "Epoch 119/120\n",
            "71/71 [==============================] - 0s 5ms/step - loss: 4515901.5000 - val_loss: 4793670.5000 - lr: 0.0018\n",
            "Epoch 120/120\n",
            "71/71 [==============================] - 0s 5ms/step - loss: 4521887.5000 - val_loss: 4779397.0000 - lr: 0.0017\n"
          ]
        }
      ]
    },
    {
      "cell_type": "code",
      "source": [
        "model.save('/content/gdrive/My Drive/School/Grad School/NIOSH Project/Models/PropPenalty-NN/PropPenalty-NN.keras')"
      ],
      "metadata": {
        "id": "Bkz5r2mXgZY2"
      },
      "execution_count": null,
      "outputs": []
    },
    {
      "cell_type": "code",
      "source": [
        "model = tf.keras.models.load_model('/content/gdrive/My Drive/School/Grad School/NIOSH Project/Models/PropPenalty-NN/PropPenalty-NN.keras')"
      ],
      "metadata": {
        "colab": {
          "base_uri": "https://localhost:8080/",
          "height": 412
        },
        "id": "H5T8wiDbntNf",
        "outputId": "4d036420-7c79-40ec-bd05-7f16d86d9a03"
      },
      "execution_count": 38,
      "outputs": [
        {
          "output_type": "error",
          "ename": "OSError",
          "evalue": "Unable to open file (file signature not found)",
          "traceback": [
            "\u001b[0;31m---------------------------------------------------------------------------\u001b[0m",
            "\u001b[0;31mOSError\u001b[0m                                   Traceback (most recent call last)",
            "\u001b[0;32m<ipython-input-38-fdd33ac1bfc3>\u001b[0m in \u001b[0;36m<cell line: 1>\u001b[0;34m()\u001b[0m\n\u001b[0;32m----> 1\u001b[0;31m \u001b[0mmodel\u001b[0m \u001b[0;34m=\u001b[0m \u001b[0mtf\u001b[0m\u001b[0;34m.\u001b[0m\u001b[0mkeras\u001b[0m\u001b[0;34m.\u001b[0m\u001b[0mmodels\u001b[0m\u001b[0;34m.\u001b[0m\u001b[0mload_model\u001b[0m\u001b[0;34m(\u001b[0m\u001b[0;34m'/content/gdrive/My Drive/School/Grad School/NIOSH Project/Models/PropPenalty-NN/PropPenalty-NN.keras'\u001b[0m\u001b[0;34m)\u001b[0m\u001b[0;34m\u001b[0m\u001b[0;34m\u001b[0m\u001b[0m\n\u001b[0m",
            "\u001b[0;32m/usr/local/lib/python3.10/dist-packages/keras/src/saving/saving_api.py\u001b[0m in \u001b[0;36mload_model\u001b[0;34m(filepath, custom_objects, compile, safe_mode, **kwargs)\u001b[0m\n\u001b[1;32m    260\u001b[0m \u001b[0;34m\u001b[0m\u001b[0m\n\u001b[1;32m    261\u001b[0m     \u001b[0;31m# Legacy case.\u001b[0m\u001b[0;34m\u001b[0m\u001b[0;34m\u001b[0m\u001b[0m\n\u001b[0;32m--> 262\u001b[0;31m     return legacy_sm_saving_lib.load_model(\n\u001b[0m\u001b[1;32m    263\u001b[0m         \u001b[0mfilepath\u001b[0m\u001b[0;34m,\u001b[0m \u001b[0mcustom_objects\u001b[0m\u001b[0;34m=\u001b[0m\u001b[0mcustom_objects\u001b[0m\u001b[0;34m,\u001b[0m \u001b[0mcompile\u001b[0m\u001b[0;34m=\u001b[0m\u001b[0mcompile\u001b[0m\u001b[0;34m,\u001b[0m \u001b[0;34m**\u001b[0m\u001b[0mkwargs\u001b[0m\u001b[0;34m\u001b[0m\u001b[0;34m\u001b[0m\u001b[0m\n\u001b[1;32m    264\u001b[0m     )\n",
            "\u001b[0;32m/usr/local/lib/python3.10/dist-packages/keras/src/utils/traceback_utils.py\u001b[0m in \u001b[0;36merror_handler\u001b[0;34m(*args, **kwargs)\u001b[0m\n\u001b[1;32m     68\u001b[0m             \u001b[0;31m# To get the full stack trace, call:\u001b[0m\u001b[0;34m\u001b[0m\u001b[0;34m\u001b[0m\u001b[0m\n\u001b[1;32m     69\u001b[0m             \u001b[0;31m# `tf.debugging.disable_traceback_filtering()`\u001b[0m\u001b[0;34m\u001b[0m\u001b[0;34m\u001b[0m\u001b[0m\n\u001b[0;32m---> 70\u001b[0;31m             \u001b[0;32mraise\u001b[0m \u001b[0me\u001b[0m\u001b[0;34m.\u001b[0m\u001b[0mwith_traceback\u001b[0m\u001b[0;34m(\u001b[0m\u001b[0mfiltered_tb\u001b[0m\u001b[0;34m)\u001b[0m \u001b[0;32mfrom\u001b[0m \u001b[0;32mNone\u001b[0m\u001b[0;34m\u001b[0m\u001b[0;34m\u001b[0m\u001b[0m\n\u001b[0m\u001b[1;32m     71\u001b[0m         \u001b[0;32mfinally\u001b[0m\u001b[0;34m:\u001b[0m\u001b[0;34m\u001b[0m\u001b[0;34m\u001b[0m\u001b[0m\n\u001b[1;32m     72\u001b[0m             \u001b[0;32mdel\u001b[0m \u001b[0mfiltered_tb\u001b[0m\u001b[0;34m\u001b[0m\u001b[0;34m\u001b[0m\u001b[0m\n",
            "\u001b[0;32m/usr/local/lib/python3.10/dist-packages/h5py/_hl/files.py\u001b[0m in \u001b[0;36m__init__\u001b[0;34m(self, name, mode, driver, libver, userblock_size, swmr, rdcc_nslots, rdcc_nbytes, rdcc_w0, track_order, fs_strategy, fs_persist, fs_threshold, fs_page_size, page_buf_size, min_meta_keep, min_raw_keep, locking, alignment_threshold, alignment_interval, meta_block_size, **kwds)\u001b[0m\n\u001b[1;32m    565\u001b[0m                                  \u001b[0mfs_persist\u001b[0m\u001b[0;34m=\u001b[0m\u001b[0mfs_persist\u001b[0m\u001b[0;34m,\u001b[0m \u001b[0mfs_threshold\u001b[0m\u001b[0;34m=\u001b[0m\u001b[0mfs_threshold\u001b[0m\u001b[0;34m,\u001b[0m\u001b[0;34m\u001b[0m\u001b[0;34m\u001b[0m\u001b[0m\n\u001b[1;32m    566\u001b[0m                                  fs_page_size=fs_page_size)\n\u001b[0;32m--> 567\u001b[0;31m                 \u001b[0mfid\u001b[0m \u001b[0;34m=\u001b[0m \u001b[0mmake_fid\u001b[0m\u001b[0;34m(\u001b[0m\u001b[0mname\u001b[0m\u001b[0;34m,\u001b[0m \u001b[0mmode\u001b[0m\u001b[0;34m,\u001b[0m \u001b[0muserblock_size\u001b[0m\u001b[0;34m,\u001b[0m \u001b[0mfapl\u001b[0m\u001b[0;34m,\u001b[0m \u001b[0mfcpl\u001b[0m\u001b[0;34m,\u001b[0m \u001b[0mswmr\u001b[0m\u001b[0;34m=\u001b[0m\u001b[0mswmr\u001b[0m\u001b[0;34m)\u001b[0m\u001b[0;34m\u001b[0m\u001b[0;34m\u001b[0m\u001b[0m\n\u001b[0m\u001b[1;32m    568\u001b[0m \u001b[0;34m\u001b[0m\u001b[0m\n\u001b[1;32m    569\u001b[0m             \u001b[0;32mif\u001b[0m \u001b[0misinstance\u001b[0m\u001b[0;34m(\u001b[0m\u001b[0mlibver\u001b[0m\u001b[0;34m,\u001b[0m \u001b[0mtuple\u001b[0m\u001b[0;34m)\u001b[0m\u001b[0;34m:\u001b[0m\u001b[0;34m\u001b[0m\u001b[0;34m\u001b[0m\u001b[0m\n",
            "\u001b[0;32m/usr/local/lib/python3.10/dist-packages/h5py/_hl/files.py\u001b[0m in \u001b[0;36mmake_fid\u001b[0;34m(name, mode, userblock_size, fapl, fcpl, swmr)\u001b[0m\n\u001b[1;32m    229\u001b[0m         \u001b[0;32mif\u001b[0m \u001b[0mswmr\u001b[0m \u001b[0;32mand\u001b[0m \u001b[0mswmr_support\u001b[0m\u001b[0;34m:\u001b[0m\u001b[0;34m\u001b[0m\u001b[0;34m\u001b[0m\u001b[0m\n\u001b[1;32m    230\u001b[0m             \u001b[0mflags\u001b[0m \u001b[0;34m|=\u001b[0m \u001b[0mh5f\u001b[0m\u001b[0;34m.\u001b[0m\u001b[0mACC_SWMR_READ\u001b[0m\u001b[0;34m\u001b[0m\u001b[0;34m\u001b[0m\u001b[0m\n\u001b[0;32m--> 231\u001b[0;31m         \u001b[0mfid\u001b[0m \u001b[0;34m=\u001b[0m \u001b[0mh5f\u001b[0m\u001b[0;34m.\u001b[0m\u001b[0mopen\u001b[0m\u001b[0;34m(\u001b[0m\u001b[0mname\u001b[0m\u001b[0;34m,\u001b[0m \u001b[0mflags\u001b[0m\u001b[0;34m,\u001b[0m \u001b[0mfapl\u001b[0m\u001b[0;34m=\u001b[0m\u001b[0mfapl\u001b[0m\u001b[0;34m)\u001b[0m\u001b[0;34m\u001b[0m\u001b[0;34m\u001b[0m\u001b[0m\n\u001b[0m\u001b[1;32m    232\u001b[0m     \u001b[0;32melif\u001b[0m \u001b[0mmode\u001b[0m \u001b[0;34m==\u001b[0m \u001b[0;34m'r+'\u001b[0m\u001b[0;34m:\u001b[0m\u001b[0;34m\u001b[0m\u001b[0;34m\u001b[0m\u001b[0m\n\u001b[1;32m    233\u001b[0m         \u001b[0mfid\u001b[0m \u001b[0;34m=\u001b[0m \u001b[0mh5f\u001b[0m\u001b[0;34m.\u001b[0m\u001b[0mopen\u001b[0m\u001b[0;34m(\u001b[0m\u001b[0mname\u001b[0m\u001b[0;34m,\u001b[0m \u001b[0mh5f\u001b[0m\u001b[0;34m.\u001b[0m\u001b[0mACC_RDWR\u001b[0m\u001b[0;34m,\u001b[0m \u001b[0mfapl\u001b[0m\u001b[0;34m=\u001b[0m\u001b[0mfapl\u001b[0m\u001b[0;34m)\u001b[0m\u001b[0;34m\u001b[0m\u001b[0;34m\u001b[0m\u001b[0m\n",
            "\u001b[0;32mh5py/_objects.pyx\u001b[0m in \u001b[0;36mh5py._objects.with_phil.wrapper\u001b[0;34m()\u001b[0m\n",
            "\u001b[0;32mh5py/_objects.pyx\u001b[0m in \u001b[0;36mh5py._objects.with_phil.wrapper\u001b[0;34m()\u001b[0m\n",
            "\u001b[0;32mh5py/h5f.pyx\u001b[0m in \u001b[0;36mh5py.h5f.open\u001b[0;34m()\u001b[0m\n",
            "\u001b[0;31mOSError\u001b[0m: Unable to open file (file signature not found)"
          ]
        }
      ]
    },
    {
      "cell_type": "code",
      "source": [
        "y_pred = model.predict(X_test)\n",
        "r2 = r2_score(y_test, y_pred)\n",
        "\n",
        "print('r2 = %.3f' % r2)"
      ],
      "metadata": {
        "colab": {
          "base_uri": "https://localhost:8080/"
        },
        "id": "SgXhtv4UZaw3",
        "outputId": "14964d19-b7f5-4a67-beb2-a2d2ff86b0e6"
      },
      "execution_count": 35,
      "outputs": [
        {
          "output_type": "stream",
          "name": "stdout",
          "text": [
            "12200/12200 [==============================] - 18s 1ms/step\n",
            "r2 = 0.605\n"
          ]
        }
      ]
    },
    {
      "cell_type": "code",
      "source": [
        "# summarize history for loss\n",
        "plt.plot(history.history['loss'])\n",
        "plt.plot(history.history['val_loss'])\n",
        "plt.title('model loss')\n",
        "plt.ylabel('loss')\n",
        "plt.xlabel('epoch')\n",
        "plt.legend(['train', 'test'], loc='upper left')\n",
        "plt.show()"
      ],
      "metadata": {
        "colab": {
          "base_uri": "https://localhost:8080/",
          "height": 472
        },
        "id": "34dgk5DaYseU",
        "outputId": "fd6a6040-8ee5-4499-d13e-d120fe3251e4"
      },
      "execution_count": null,
      "outputs": [
        {
          "output_type": "display_data",
          "data": {
            "text/plain": [
              "<Figure size 640x480 with 1 Axes>"
            ],
            "image/png": "[encoded data removed]"
          },
          "metadata": {}
        }
      ]
    }
  ]
}