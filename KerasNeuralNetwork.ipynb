{
  "nbformat": 4,
  "nbformat_minor": 0,
  "metadata": {
    "colab": {
      "provenance": [],
      "machine_shape": "hm",
      "authorship_tag": "ABX9TyMcIpnGEt//X5Qs/gtTHFWi",
      "include_colab_link": true
    },
    "kernelspec": {
      "name": "python3",
      "display_name": "Python 3"
    },
    "language_info": {
      "name": "python"
    },
    "accelerator": "GPU",
    "gpuClass": "standard"
  },
  "cells": [
    {
      "cell_type": "markdown",
      "metadata": {
        "id": "view-in-github",
        "colab_type": "text"
      },
      "source": [
        "<a href=\"https://colab.research.google.com/github/jacobdwatters/NIOSH-Project/blob/main/KerasNeuralNetwork.ipynb\" target=\"_parent\"><img src=\"https://colab.research.google.com/assets/colab-badge.svg\" alt=\"Open In Colab\"/></a>"
      ]
    },
    {
      "cell_type": "markdown",
      "source": [
        "## Imports and Setups"
      ],
      "metadata": {
        "id": "kksCVOwmWIyk"
      }
    },
    {
      "cell_type": "code",
      "execution_count": 72,
      "metadata": {
        "id": "1QV40HghV7bg"
      },
      "outputs": [],
      "source": [
        "import numpy as np\n",
        "from numpy.random import seed\n",
        "import pandas as pd\n",
        "import seaborn as sns\n",
        "import matplotlib.pyplot as plt\n",
        "\n",
        "import sklearn\n",
        "from sklearn.preprocessing import StandardScaler\n",
        "from sklearn.preprocessing import OneHotEncoder\n",
        "from sklearn.model_selection import train_test_split\n",
        "from sklearn.metrics import mean_absolute_error\n",
        "from sklearn.metrics import r2_score\n",
        "\n",
        "from tensorflow import keras\n",
        "from tensorflow.keras import layers\n",
        "import tensorflow as tf\n",
        "\n",
        "import scipy as sp\n",
        "from scipy import stats\n",
        "\n",
        "import joblib"
      ]
    },
    {
      "cell_type": "code",
      "source": [
        "from google.colab import drive\n",
        "drive.mount('/content/gdrive')"
      ],
      "metadata": {
        "colab": {
          "base_uri": "https://localhost:8080/"
        },
        "id": "pDHS2sE2WBmY",
        "outputId": "e799bfda-369a-4980-8616-a4d4ee43b1a7"
      },
      "execution_count": 3,
      "outputs": [
        {
          "output_type": "stream",
          "name": "stdout",
          "text": [
            "Mounted at /content/gdrive\n"
          ]
        }
      ]
    },
    {
      "cell_type": "markdown",
      "source": [
        "## Load and Process Data"
      ],
      "metadata": {
        "id": "qsJjYUJgWOtu"
      }
    },
    {
      "cell_type": "code",
      "source": [
        "path_after_2010 = '/content/gdrive/My Drive/NIOSH Project/data/violations_processed_after_2010.csv'\n",
        "violation_data = pd.read_csv(path_after_2010)"
      ],
      "metadata": {
        "id": "7U5StloDWL2d"
      },
      "execution_count": 4,
      "outputs": []
    },
    {
      "cell_type": "code",
      "source": [
        "FEATURES = ['MINE_TYPE', 'COAL_METAL_IND', 'SIG_SUB', 'LIKELIHOOD', \n",
        "            'INJ_ILLNESS', 'NO_AFFECTED', 'NEGLIGENCE', 'VIOLATOR_VIOLATION_CNT',\n",
        "            'VIOLATOR_INSPECTION_DAY_CNT']\n",
        "TARGETS = ['PROPOSED_PENALTY']\n",
        "\n",
        "X = violation_data[FEATURES]\n",
        "y = violation_data[TARGETS]"
      ],
      "metadata": {
        "id": "ZWdMdDejWRNE"
      },
      "execution_count": 5,
      "outputs": []
    },
    {
      "cell_type": "code",
      "source": [
        "# Define which columns should be encoded vs scaled\n",
        "columns_to_encode = ['MINE_TYPE', 'COAL_METAL_IND', 'LIKELIHOOD', 'INJ_ILLNESS', 'SIG_SUB', 'NEGLIGENCE']\n",
        "columns_to_scale  = ['VIOLATOR_VIOLATION_CNT', 'NO_AFFECTED', 'VIOLATOR_INSPECTION_DAY_CNT']\n",
        "\n",
        "# Instantiate encoder/scaler\n",
        "scaler = StandardScaler()\n",
        "ohe = OneHotEncoder(sparse=False)\n",
        "\n",
        "# Scale and Encode Separate Columns\n",
        "scaled_columns  = scaler.fit_transform(X[columns_to_scale])\n",
        "encoded_columns = ohe.fit_transform(X[columns_to_encode])\n",
        "\n",
        "# Concatenate (Column-Bind) Processed Columns Back Together\n",
        "X_pre = np.concatenate([scaled_columns, encoded_columns], axis=1)\n",
        "np.nan_to_num(X_pre, copy=False)\n",
        "\n",
        "print('Features shape:', X_pre.shape)"
      ],
      "metadata": {
        "colab": {
          "base_uri": "https://localhost:8080/"
        },
        "id": "gVgtHrMyWTND",
        "outputId": "ca812769-8732-4091-91f4-a97873668a07"
      },
      "execution_count": 6,
      "outputs": [
        {
          "output_type": "stream",
          "name": "stdout",
          "text": [
            "Features shape: (1429135, 24)\n"
          ]
        }
      ]
    },
    {
      "cell_type": "code",
      "source": [
        "X_train, X_test, y_train, y_test = train_test_split(X_pre, y, test_size = 0.25, random_state = 0)\n",
        "\n",
        "print('X_train shape:', X_train.shape)\n",
        "print('X_test shape:', X_test.shape)\n",
        "print('y_train shape:', y_train.shape)\n",
        "print('y_train shape:', y_test.shape)"
      ],
      "metadata": {
        "colab": {
          "base_uri": "https://localhost:8080/"
        },
        "id": "di0OVsjxWUix",
        "outputId": "89baf242-daa4-4c32-d067-3fea97ea42dd"
      },
      "execution_count": 7,
      "outputs": [
        {
          "output_type": "stream",
          "name": "stdout",
          "text": [
            "X_train shape: (1071851, 24)\n",
            "X_test shape: (357284, 24)\n",
            "y_train shape: (1071851, 1)\n",
            "y_train shape: (357284, 1)\n"
          ]
        }
      ]
    },
    {
      "cell_type": "markdown",
      "source": [
        "## Neural Network Model"
      ],
      "metadata": {
        "id": "y1ufEC5wWgyL"
      }
    },
    {
      "cell_type": "code",
      "source": [
        "def scheduler(epoch, lr):\n",
        "  if epoch < 85:\n",
        "    return lr\n",
        "  else:\n",
        "    return lr*np.exp(-0.05)"
      ],
      "metadata": {
        "id": "hyuGxyqFgRVi"
      },
      "execution_count": 97,
      "outputs": []
    },
    {
      "cell_type": "code",
      "source": [
        "batch_size = 2**14\n",
        "epochs = 150\n",
        "callback = tf.keras.callbacks.LearningRateScheduler(scheduler)\n",
        "\n",
        "model = keras.Sequential()\n",
        "\n",
        "model.add(keras.Input(shape = (len(X_train[0]), ) ))\n",
        "model.add(layers.Dense(32, activation=\"relu\"))\n",
        "model.add(layers.Dense(16, activation=\"relu\"))\n",
        "model.add(layers.Dense(16, activation=\"relu\"))\n",
        "model.add(layers.Dense(8, activation=\"relu\"))\n",
        "model.add(layers.Dense(4, activation=\"relu\"))\n",
        "model.add(layers.Dense(2, activation=\"relu\"))\n",
        "model.add(layers.Dense(1, activation=\"linear\"))\n",
        "\n",
        "\n",
        "opt = keras.optimizers.Adam(learning_rate=0.01)\n",
        "model.compile(loss=\"mse\", optimizer=opt)\n",
        "\n",
        "history = model.fit(X_train, y_train, epochs=epochs, batch_size=batch_size, \n",
        "                    callbacks=[callback], validation_data=(X_test, y_test))"
      ],
      "metadata": {
        "colab": {
          "base_uri": "https://localhost:8080/"
        },
        "id": "azr8bSFRWikn",
        "outputId": "14fcb5c6-820b-4e82-ffe6-aa56f322b1db"
      },
      "execution_count": 126,
      "outputs": [
        {
          "output_type": "stream",
          "name": "stdout",
          "text": [
            "Epoch 1/150\n",
            "66/66 [==============================] - 1s 8ms/step - loss: 12178146.0000 - val_loss: 10371828.0000 - lr: 0.0100\n",
            "Epoch 2/150\n",
            "66/66 [==============================] - 0s 5ms/step - loss: 9835179.0000 - val_loss: 8010073.0000 - lr: 0.0100\n",
            "Epoch 3/150\n",
            "66/66 [==============================] - 0s 5ms/step - loss: 7282250.0000 - val_loss: 6257692.5000 - lr: 0.0100\n",
            "Epoch 4/150\n",
            "66/66 [==============================] - 0s 5ms/step - loss: 6545901.0000 - val_loss: 6139356.0000 - lr: 0.0100\n",
            "Epoch 5/150\n",
            "66/66 [==============================] - 0s 5ms/step - loss: 6560589.5000 - val_loss: 6208180.5000 - lr: 0.0100\n",
            "Epoch 6/150\n",
            "66/66 [==============================] - 0s 5ms/step - loss: 6448579.5000 - val_loss: 6088908.5000 - lr: 0.0100\n",
            "Epoch 7/150\n",
            "66/66 [==============================] - 0s 5ms/step - loss: 6335752.5000 - val_loss: 6031622.0000 - lr: 0.0100\n",
            "Epoch 8/150\n",
            "66/66 [==============================] - 0s 5ms/step - loss: 6320151.5000 - val_loss: 6167032.0000 - lr: 0.0100\n",
            "Epoch 9/150\n",
            "66/66 [==============================] - 0s 4ms/step - loss: 6247939.5000 - val_loss: 6358267.0000 - lr: 0.0100\n",
            "Epoch 10/150\n",
            "66/66 [==============================] - 0s 5ms/step - loss: 6365750.0000 - val_loss: 6083383.5000 - lr: 0.0100\n",
            "Epoch 11/150\n",
            "66/66 [==============================] - 0s 4ms/step - loss: 6232468.5000 - val_loss: 5932490.5000 - lr: 0.0100\n",
            "Epoch 12/150\n",
            "66/66 [==============================] - 0s 4ms/step - loss: 6109679.5000 - val_loss: 5886545.0000 - lr: 0.0100\n",
            "Epoch 13/150\n",
            "66/66 [==============================] - 0s 4ms/step - loss: 5941920.0000 - val_loss: 5606680.0000 - lr: 0.0100\n",
            "Epoch 14/150\n",
            "66/66 [==============================] - 0s 4ms/step - loss: 5831675.5000 - val_loss: 5510038.0000 - lr: 0.0100\n",
            "Epoch 15/150\n",
            "66/66 [==============================] - 0s 4ms/step - loss: 5824702.0000 - val_loss: 5512454.5000 - lr: 0.0100\n",
            "Epoch 16/150\n",
            "66/66 [==============================] - 0s 5ms/step - loss: 5690167.0000 - val_loss: 5458543.0000 - lr: 0.0100\n",
            "Epoch 17/150\n",
            "66/66 [==============================] - 0s 5ms/step - loss: 5662425.0000 - val_loss: 5422460.5000 - lr: 0.0100\n",
            "Epoch 18/150\n",
            "66/66 [==============================] - 0s 4ms/step - loss: 5642193.5000 - val_loss: 5397315.5000 - lr: 0.0100\n",
            "Epoch 19/150\n",
            "66/66 [==============================] - 0s 5ms/step - loss: 5601761.5000 - val_loss: 5401844.0000 - lr: 0.0100\n",
            "Epoch 20/150\n",
            "66/66 [==============================] - 0s 5ms/step - loss: 5605902.5000 - val_loss: 5397453.0000 - lr: 0.0100\n",
            "Epoch 21/150\n",
            "66/66 [==============================] - 0s 5ms/step - loss: 5561351.0000 - val_loss: 5362731.5000 - lr: 0.0100\n",
            "Epoch 22/150\n",
            "66/66 [==============================] - 0s 5ms/step - loss: 5562961.0000 - val_loss: 5402650.0000 - lr: 0.0100\n",
            "Epoch 23/150\n",
            "66/66 [==============================] - 0s 4ms/step - loss: 5584278.0000 - val_loss: 5344565.5000 - lr: 0.0100\n",
            "Epoch 24/150\n",
            "66/66 [==============================] - 0s 4ms/step - loss: 5525344.0000 - val_loss: 5368788.0000 - lr: 0.0100\n",
            "Epoch 25/150\n",
            "66/66 [==============================] - 0s 4ms/step - loss: 5534570.5000 - val_loss: 5337273.0000 - lr: 0.0100\n",
            "Epoch 26/150\n",
            "66/66 [==============================] - 0s 5ms/step - loss: 5475008.5000 - val_loss: 5478119.5000 - lr: 0.0100\n",
            "Epoch 27/150\n",
            "66/66 [==============================] - 0s 4ms/step - loss: 5472232.5000 - val_loss: 5273587.5000 - lr: 0.0100\n",
            "Epoch 28/150\n",
            "66/66 [==============================] - 0s 4ms/step - loss: 5435669.0000 - val_loss: 5267331.5000 - lr: 0.0100\n",
            "Epoch 29/150\n",
            "66/66 [==============================] - 0s 5ms/step - loss: 5811929.5000 - val_loss: 5270877.5000 - lr: 0.0100\n",
            "Epoch 30/150\n",
            "66/66 [==============================] - 0s 5ms/step - loss: 5424310.5000 - val_loss: 5217754.5000 - lr: 0.0100\n",
            "Epoch 31/150\n",
            "66/66 [==============================] - 0s 5ms/step - loss: 5385110.5000 - val_loss: 5203135.0000 - lr: 0.0100\n",
            "Epoch 32/150\n",
            "66/66 [==============================] - 0s 5ms/step - loss: 5356071.0000 - val_loss: 5231497.5000 - lr: 0.0100\n",
            "Epoch 33/150\n",
            "66/66 [==============================] - 0s 5ms/step - loss: 5342773.5000 - val_loss: 5156857.5000 - lr: 0.0100\n",
            "Epoch 34/150\n",
            "66/66 [==============================] - 0s 4ms/step - loss: 5305639.0000 - val_loss: 5156778.0000 - lr: 0.0100\n",
            "Epoch 35/150\n",
            "66/66 [==============================] - 0s 4ms/step - loss: 5288728.5000 - val_loss: 5358969.5000 - lr: 0.0100\n",
            "Epoch 36/150\n",
            "66/66 [==============================] - 0s 4ms/step - loss: 5316590.5000 - val_loss: 5108311.5000 - lr: 0.0100\n",
            "Epoch 37/150\n",
            "66/66 [==============================] - 0s 5ms/step - loss: 5284466.0000 - val_loss: 5181105.5000 - lr: 0.0100\n",
            "Epoch 38/150\n",
            "66/66 [==============================] - 0s 5ms/step - loss: 5260381.5000 - val_loss: 5159570.5000 - lr: 0.0100\n",
            "Epoch 39/150\n",
            "66/66 [==============================] - 0s 5ms/step - loss: 5242694.0000 - val_loss: 5139330.0000 - lr: 0.0100\n",
            "Epoch 40/150\n",
            "66/66 [==============================] - 0s 4ms/step - loss: 5240214.0000 - val_loss: 5096710.5000 - lr: 0.0100\n",
            "Epoch 41/150\n",
            "66/66 [==============================] - 0s 4ms/step - loss: 5245498.0000 - val_loss: 5137640.0000 - lr: 0.0100\n",
            "Epoch 42/150\n",
            "66/66 [==============================] - 0s 4ms/step - loss: 5247326.5000 - val_loss: 5100395.0000 - lr: 0.0100\n",
            "Epoch 43/150\n",
            "66/66 [==============================] - 0s 4ms/step - loss: 5227709.0000 - val_loss: 5196657.5000 - lr: 0.0100\n",
            "Epoch 44/150\n",
            "66/66 [==============================] - 0s 4ms/step - loss: 5227831.5000 - val_loss: 5126295.0000 - lr: 0.0100\n",
            "Epoch 45/150\n",
            "66/66 [==============================] - 0s 4ms/step - loss: 5234321.5000 - val_loss: 5062452.5000 - lr: 0.0100\n",
            "Epoch 46/150\n",
            "66/66 [==============================] - 0s 4ms/step - loss: 5247769.0000 - val_loss: 5114538.5000 - lr: 0.0100\n",
            "Epoch 47/150\n",
            "66/66 [==============================] - 0s 4ms/step - loss: 5230718.0000 - val_loss: 5135450.0000 - lr: 0.0100\n",
            "Epoch 48/150\n",
            "66/66 [==============================] - 0s 4ms/step - loss: 5202875.0000 - val_loss: 5107032.5000 - lr: 0.0100\n",
            "Epoch 49/150\n",
            "66/66 [==============================] - 0s 4ms/step - loss: 5212215.0000 - val_loss: 5095928.0000 - lr: 0.0100\n",
            "Epoch 50/150\n",
            "66/66 [==============================] - 0s 4ms/step - loss: 5217865.0000 - val_loss: 5050176.5000 - lr: 0.0100\n",
            "Epoch 51/150\n",
            "66/66 [==============================] - 0s 4ms/step - loss: 5190564.0000 - val_loss: 5050866.5000 - lr: 0.0100\n",
            "Epoch 52/150\n",
            "66/66 [==============================] - 0s 5ms/step - loss: 5180404.0000 - val_loss: 5057302.0000 - lr: 0.0100\n",
            "Epoch 53/150\n",
            "66/66 [==============================] - 0s 5ms/step - loss: 5169746.0000 - val_loss: 5008251.0000 - lr: 0.0100\n",
            "Epoch 54/150\n",
            "66/66 [==============================] - 0s 5ms/step - loss: 5182088.0000 - val_loss: 5040591.5000 - lr: 0.0100\n",
            "Epoch 55/150\n",
            "66/66 [==============================] - 0s 5ms/step - loss: 5172098.5000 - val_loss: 5014345.0000 - lr: 0.0100\n",
            "Epoch 56/150\n",
            "66/66 [==============================] - 0s 4ms/step - loss: 5171631.5000 - val_loss: 5186475.0000 - lr: 0.0100\n",
            "Epoch 57/150\n",
            "66/66 [==============================] - 0s 4ms/step - loss: 5184059.0000 - val_loss: 5017613.0000 - lr: 0.0100\n",
            "Epoch 58/150\n",
            "66/66 [==============================] - 0s 5ms/step - loss: 5139714.5000 - val_loss: 5003619.0000 - lr: 0.0100\n",
            "Epoch 59/150\n",
            "66/66 [==============================] - 0s 5ms/step - loss: 5130795.5000 - val_loss: 5068070.5000 - lr: 0.0100\n",
            "Epoch 60/150\n",
            "66/66 [==============================] - 0s 4ms/step - loss: 5138667.5000 - val_loss: 4968185.5000 - lr: 0.0100\n",
            "Epoch 61/150\n",
            "66/66 [==============================] - 0s 4ms/step - loss: 5105682.0000 - val_loss: 5047952.0000 - lr: 0.0100\n",
            "Epoch 62/150\n",
            "66/66 [==============================] - 0s 5ms/step - loss: 5108568.0000 - val_loss: 4970564.0000 - lr: 0.0100\n",
            "Epoch 63/150\n",
            "66/66 [==============================] - 0s 4ms/step - loss: 5101987.5000 - val_loss: 4937937.0000 - lr: 0.0100\n",
            "Epoch 64/150\n",
            "66/66 [==============================] - 0s 5ms/step - loss: 5100669.5000 - val_loss: 4994444.5000 - lr: 0.0100\n",
            "Epoch 65/150\n",
            "66/66 [==============================] - 0s 5ms/step - loss: 5084753.0000 - val_loss: 4969353.0000 - lr: 0.0100\n",
            "Epoch 66/150\n",
            "66/66 [==============================] - 0s 4ms/step - loss: 5085771.5000 - val_loss: 4968074.5000 - lr: 0.0100\n",
            "Epoch 67/150\n",
            "66/66 [==============================] - 0s 5ms/step - loss: 5053375.0000 - val_loss: 5127604.0000 - lr: 0.0100\n",
            "Epoch 68/150\n",
            "66/66 [==============================] - 0s 5ms/step - loss: 5072057.0000 - val_loss: 5013735.5000 - lr: 0.0100\n",
            "Epoch 69/150\n",
            "66/66 [==============================] - 0s 5ms/step - loss: 5081428.0000 - val_loss: 4965493.0000 - lr: 0.0100\n",
            "Epoch 70/150\n",
            "66/66 [==============================] - 0s 5ms/step - loss: 5055293.0000 - val_loss: 5007901.0000 - lr: 0.0100\n",
            "Epoch 71/150\n",
            "66/66 [==============================] - 0s 5ms/step - loss: 5049318.5000 - val_loss: 5030808.5000 - lr: 0.0100\n",
            "Epoch 72/150\n",
            "66/66 [==============================] - 0s 4ms/step - loss: 5034034.0000 - val_loss: 5005126.0000 - lr: 0.0100\n",
            "Epoch 73/150\n",
            "66/66 [==============================] - 0s 5ms/step - loss: 5046473.5000 - val_loss: 4960425.5000 - lr: 0.0100\n",
            "Epoch 74/150\n",
            "66/66 [==============================] - 0s 4ms/step - loss: 5029478.5000 - val_loss: 4961838.5000 - lr: 0.0100\n",
            "Epoch 75/150\n",
            "66/66 [==============================] - 0s 4ms/step - loss: 5028804.5000 - val_loss: 4912818.5000 - lr: 0.0100\n",
            "Epoch 76/150\n",
            "66/66 [==============================] - 0s 5ms/step - loss: 5020139.0000 - val_loss: 4945560.5000 - lr: 0.0100\n",
            "Epoch 77/150\n",
            "66/66 [==============================] - 0s 5ms/step - loss: 5023578.5000 - val_loss: 5122572.5000 - lr: 0.0100\n",
            "Epoch 78/150\n",
            "66/66 [==============================] - 0s 4ms/step - loss: 5032879.0000 - val_loss: 4884801.0000 - lr: 0.0100\n",
            "Epoch 79/150\n",
            "66/66 [==============================] - 0s 5ms/step - loss: 5039569.5000 - val_loss: 4952358.0000 - lr: 0.0100\n",
            "Epoch 80/150\n",
            "66/66 [==============================] - 0s 4ms/step - loss: 5009936.5000 - val_loss: 4924916.0000 - lr: 0.0100\n",
            "Epoch 81/150\n",
            "66/66 [==============================] - 0s 4ms/step - loss: 4993498.0000 - val_loss: 4935152.5000 - lr: 0.0100\n",
            "Epoch 82/150\n",
            "66/66 [==============================] - 0s 4ms/step - loss: 4989212.5000 - val_loss: 4859939.0000 - lr: 0.0100\n",
            "Epoch 83/150\n",
            "66/66 [==============================] - 0s 5ms/step - loss: 5007940.0000 - val_loss: 4871583.5000 - lr: 0.0100\n",
            "Epoch 84/150\n",
            "66/66 [==============================] - 0s 5ms/step - loss: 4975920.0000 - val_loss: 4869662.0000 - lr: 0.0100\n",
            "Epoch 85/150\n",
            "66/66 [==============================] - 0s 5ms/step - loss: 4971497.5000 - val_loss: 4824556.5000 - lr: 0.0100\n",
            "Epoch 86/150\n",
            "66/66 [==============================] - 0s 5ms/step - loss: 4991411.5000 - val_loss: 4842888.0000 - lr: 0.0095\n",
            "Epoch 87/150\n",
            "66/66 [==============================] - 0s 5ms/step - loss: 4990567.5000 - val_loss: 4846040.0000 - lr: 0.0090\n",
            "Epoch 88/150\n",
            "66/66 [==============================] - 0s 5ms/step - loss: 4994480.0000 - val_loss: 4844953.0000 - lr: 0.0086\n",
            "Epoch 89/150\n",
            "66/66 [==============================] - 0s 5ms/step - loss: 4967643.0000 - val_loss: 4871680.5000 - lr: 0.0082\n",
            "Epoch 90/150\n",
            "66/66 [==============================] - 0s 5ms/step - loss: 4949764.5000 - val_loss: 4823066.0000 - lr: 0.0078\n",
            "Epoch 91/150\n",
            "66/66 [==============================] - 0s 5ms/step - loss: 4942734.5000 - val_loss: 4810319.5000 - lr: 0.0074\n",
            "Epoch 92/150\n",
            "66/66 [==============================] - 0s 5ms/step - loss: 4940701.0000 - val_loss: 4825375.0000 - lr: 0.0070\n",
            "Epoch 93/150\n",
            "66/66 [==============================] - 0s 5ms/step - loss: 4944398.0000 - val_loss: 4828925.5000 - lr: 0.0067\n",
            "Epoch 94/150\n",
            "66/66 [==============================] - 0s 4ms/step - loss: 4915889.0000 - val_loss: 4810873.5000 - lr: 0.0064\n",
            "Epoch 95/150\n",
            "66/66 [==============================] - 0s 4ms/step - loss: 4920411.0000 - val_loss: 4851593.5000 - lr: 0.0061\n",
            "Epoch 96/150\n",
            "66/66 [==============================] - 0s 5ms/step - loss: 4918346.0000 - val_loss: 4833946.5000 - lr: 0.0058\n",
            "Epoch 97/150\n",
            "66/66 [==============================] - 0s 5ms/step - loss: 4898219.5000 - val_loss: 4795251.0000 - lr: 0.0055\n",
            "Epoch 98/150\n",
            "66/66 [==============================] - 0s 4ms/step - loss: 4892683.5000 - val_loss: 4825115.5000 - lr: 0.0052\n",
            "Epoch 99/150\n",
            "66/66 [==============================] - 0s 4ms/step - loss: 4887682.5000 - val_loss: 4854624.5000 - lr: 0.0050\n",
            "Epoch 100/150\n",
            "66/66 [==============================] - 0s 4ms/step - loss: 4889915.5000 - val_loss: 4821973.5000 - lr: 0.0047\n",
            "Epoch 101/150\n",
            "66/66 [==============================] - 0s 5ms/step - loss: 4881271.0000 - val_loss: 4850326.0000 - lr: 0.0045\n",
            "Epoch 102/150\n",
            "66/66 [==============================] - 0s 5ms/step - loss: 4879141.0000 - val_loss: 4846284.5000 - lr: 0.0043\n",
            "Epoch 103/150\n",
            "66/66 [==============================] - 0s 5ms/step - loss: 4869996.5000 - val_loss: 4829312.5000 - lr: 0.0041\n",
            "Epoch 104/150\n",
            "66/66 [==============================] - 0s 5ms/step - loss: 4879605.0000 - val_loss: 4875511.5000 - lr: 0.0039\n",
            "Epoch 105/150\n",
            "66/66 [==============================] - 0s 5ms/step - loss: 4872845.0000 - val_loss: 4769831.5000 - lr: 0.0037\n",
            "Epoch 106/150\n",
            "66/66 [==============================] - 0s 5ms/step - loss: 4866837.5000 - val_loss: 4838813.5000 - lr: 0.0035\n",
            "Epoch 107/150\n",
            "66/66 [==============================] - 0s 5ms/step - loss: 4853375.0000 - val_loss: 4844622.5000 - lr: 0.0033\n",
            "Epoch 108/150\n",
            "66/66 [==============================] - 0s 5ms/step - loss: 4853116.5000 - val_loss: 4814071.5000 - lr: 0.0032\n",
            "Epoch 109/150\n",
            "66/66 [==============================] - 0s 5ms/step - loss: 4853427.0000 - val_loss: 4872432.5000 - lr: 0.0030\n",
            "Epoch 110/150\n",
            "66/66 [==============================] - 0s 5ms/step - loss: 4860504.5000 - val_loss: 4818281.0000 - lr: 0.0029\n",
            "Epoch 111/150\n",
            "66/66 [==============================] - 0s 5ms/step - loss: 4851257.0000 - val_loss: 4821707.0000 - lr: 0.0027\n",
            "Epoch 112/150\n",
            "66/66 [==============================] - 0s 5ms/step - loss: 4840556.5000 - val_loss: 4834039.5000 - lr: 0.0026\n",
            "Epoch 113/150\n",
            "66/66 [==============================] - 0s 5ms/step - loss: 4853988.5000 - val_loss: 4848159.0000 - lr: 0.0025\n",
            "Epoch 114/150\n",
            "66/66 [==============================] - 0s 5ms/step - loss: 4839686.0000 - val_loss: 4807127.0000 - lr: 0.0023\n",
            "Epoch 115/150\n",
            "66/66 [==============================] - 0s 5ms/step - loss: 4848837.0000 - val_loss: 4817312.0000 - lr: 0.0022\n",
            "Epoch 116/150\n",
            "66/66 [==============================] - 0s 5ms/step - loss: 4837400.5000 - val_loss: 4804624.0000 - lr: 0.0021\n",
            "Epoch 117/150\n",
            "66/66 [==============================] - 0s 5ms/step - loss: 4829813.0000 - val_loss: 4798732.0000 - lr: 0.0020\n",
            "Epoch 118/150\n",
            "66/66 [==============================] - 0s 5ms/step - loss: 4824249.0000 - val_loss: 4787912.0000 - lr: 0.0019\n",
            "Epoch 119/150\n",
            "66/66 [==============================] - 0s 5ms/step - loss: 4827443.5000 - val_loss: 4778143.5000 - lr: 0.0018\n",
            "Epoch 120/150\n",
            "66/66 [==============================] - 0s 5ms/step - loss: 4823017.5000 - val_loss: 4804760.5000 - lr: 0.0017\n",
            "Epoch 121/150\n",
            "66/66 [==============================] - 0s 5ms/step - loss: 4818694.0000 - val_loss: 4810699.0000 - lr: 0.0017\n",
            "Epoch 122/150\n",
            "66/66 [==============================] - 0s 5ms/step - loss: 4821033.0000 - val_loss: 4799725.5000 - lr: 0.0016\n",
            "Epoch 123/150\n",
            "66/66 [==============================] - 0s 5ms/step - loss: 4821810.0000 - val_loss: 4831391.5000 - lr: 0.0015\n",
            "Epoch 124/150\n",
            "66/66 [==============================] - 0s 5ms/step - loss: 4816450.5000 - val_loss: 4815575.0000 - lr: 0.0014\n",
            "Epoch 125/150\n",
            "66/66 [==============================] - 0s 5ms/step - loss: 4820335.5000 - val_loss: 4781661.0000 - lr: 0.0014\n",
            "Epoch 126/150\n",
            "66/66 [==============================] - 0s 5ms/step - loss: 4816783.5000 - val_loss: 4804888.5000 - lr: 0.0013\n",
            "Epoch 127/150\n",
            "66/66 [==============================] - 0s 5ms/step - loss: 4810749.0000 - val_loss: 4790886.0000 - lr: 0.0012\n",
            "Epoch 128/150\n",
            "66/66 [==============================] - 0s 5ms/step - loss: 4814917.0000 - val_loss: 4782866.0000 - lr: 0.0012\n",
            "Epoch 129/150\n",
            "66/66 [==============================] - 0s 5ms/step - loss: 4813127.5000 - val_loss: 4808931.0000 - lr: 0.0011\n",
            "Epoch 130/150\n",
            "66/66 [==============================] - 0s 5ms/step - loss: 4808661.5000 - val_loss: 4790615.0000 - lr: 0.0011\n",
            "Epoch 131/150\n",
            "66/66 [==============================] - 0s 5ms/step - loss: 4805759.5000 - val_loss: 4792905.5000 - lr: 0.0010\n",
            "Epoch 132/150\n",
            "66/66 [==============================] - 0s 5ms/step - loss: 4810836.0000 - val_loss: 4800764.5000 - lr: 9.5369e-04\n",
            "Epoch 133/150\n",
            "66/66 [==============================] - 0s 5ms/step - loss: 4804411.5000 - val_loss: 4793422.0000 - lr: 9.0718e-04\n",
            "Epoch 134/150\n",
            "66/66 [==============================] - 0s 5ms/step - loss: 4801825.0000 - val_loss: 4797338.0000 - lr: 8.6294e-04\n",
            "Epoch 135/150\n",
            "66/66 [==============================] - 0s 5ms/step - loss: 4805350.0000 - val_loss: 4810172.5000 - lr: 8.2085e-04\n",
            "Epoch 136/150\n",
            "66/66 [==============================] - 0s 5ms/step - loss: 4802496.5000 - val_loss: 4792556.0000 - lr: 7.8082e-04\n",
            "Epoch 137/150\n",
            "66/66 [==============================] - 0s 5ms/step - loss: 4802627.5000 - val_loss: 4801290.5000 - lr: 7.4274e-04\n",
            "Epoch 138/150\n",
            "66/66 [==============================] - 0s 5ms/step - loss: 4802825.0000 - val_loss: 4800866.0000 - lr: 7.0651e-04\n",
            "Epoch 139/150\n",
            "66/66 [==============================] - 0s 5ms/step - loss: 4799712.5000 - val_loss: 4808279.5000 - lr: 6.7206e-04\n",
            "Epoch 140/150\n",
            "66/66 [==============================] - 0s 5ms/step - loss: 4797215.0000 - val_loss: 4783845.5000 - lr: 6.3928e-04\n",
            "Epoch 141/150\n",
            "66/66 [==============================] - 0s 5ms/step - loss: 4797305.5000 - val_loss: 4806228.0000 - lr: 6.0810e-04\n",
            "Epoch 142/150\n",
            "66/66 [==============================] - 0s 5ms/step - loss: 4798245.0000 - val_loss: 4797584.0000 - lr: 5.7844e-04\n",
            "Epoch 143/150\n",
            "66/66 [==============================] - 0s 5ms/step - loss: 4797832.5000 - val_loss: 4806627.5000 - lr: 5.5023e-04\n",
            "Epoch 144/150\n",
            "66/66 [==============================] - 0s 5ms/step - loss: 4796518.0000 - val_loss: 4793658.0000 - lr: 5.2340e-04\n",
            "Epoch 145/150\n",
            "66/66 [==============================] - 0s 5ms/step - loss: 4794686.5000 - val_loss: 4809944.5000 - lr: 4.9787e-04\n",
            "Epoch 146/150\n",
            "66/66 [==============================] - 0s 5ms/step - loss: 4795705.0000 - val_loss: 4805741.0000 - lr: 4.7359e-04\n",
            "Epoch 147/150\n",
            "66/66 [==============================] - 0s 5ms/step - loss: 4794728.5000 - val_loss: 4800365.0000 - lr: 4.5049e-04\n",
            "Epoch 148/150\n",
            "66/66 [==============================] - 0s 5ms/step - loss: 4793862.0000 - val_loss: 4795860.0000 - lr: 4.2852e-04\n",
            "Epoch 149/150\n",
            "66/66 [==============================] - 0s 5ms/step - loss: 4794318.5000 - val_loss: 4818943.5000 - lr: 4.0762e-04\n",
            "Epoch 150/150\n",
            "66/66 [==============================] - 0s 5ms/step - loss: 4791636.0000 - val_loss: 4797172.5000 - lr: 3.8774e-04\n"
          ]
        }
      ]
    },
    {
      "cell_type": "code",
      "source": [
        "y_pred = model.predict(X_test)\n",
        "r2 = r2_score(y_test, y_pred)\n",
        "\n",
        "print('r2 = %.3f' % r2)"
      ],
      "metadata": {
        "colab": {
          "base_uri": "https://localhost:8080/"
        },
        "id": "SgXhtv4UZaw3",
        "outputId": "8004e0e5-5768-46f9-f304-24d81fa91550"
      },
      "execution_count": 127,
      "outputs": [
        {
          "output_type": "stream",
          "name": "stdout",
          "text": [
            "11166/11166 [==============================] - 14s 1ms/step\n",
            "r2 = 0.573\n"
          ]
        }
      ]
    },
    {
      "cell_type": "code",
      "source": [
        "# summarize history for loss\n",
        "plt.plot(history.history['loss'])\n",
        "plt.plot(history.history['val_loss'])\n",
        "plt.title('model loss')\n",
        "plt.ylabel('loss')\n",
        "plt.xlabel('epoch')\n",
        "plt.legend(['train', 'test'], loc='upper left')\n",
        "plt.show()"
      ],
      "metadata": {
        "colab": {
          "base_uri": "https://localhost:8080/",
          "height": 295
        },
        "id": "34dgk5DaYseU",
        "outputId": "e9618d41-c3d7-4f6e-8621-f9634ba27de1"
      },
      "execution_count": 129,
      "outputs": [
        {
          "output_type": "display_data",
          "data": {
            "text/plain": [
              "<Figure size 432x288 with 1 Axes>"
            ],
            "image/png": "[encoded data removed]"
          },
          "metadata": {
            "needs_background": "light"
          }
        }
      ]
    },
    {
      "cell_type": "markdown",
      "source": [
        "## Save Model"
      ],
      "metadata": {
        "id": "en7GBfldkDQa"
      }
    },
    {
      "cell_type": "code",
      "source": [
        "model.save('/content/gdrive/My Drive/NIOSH Project/Nerual_Network_Model')"
      ],
      "metadata": {
        "id": "tUCXl--2kFhW"
      },
      "execution_count": 131,
      "outputs": []
    }
  ]
}