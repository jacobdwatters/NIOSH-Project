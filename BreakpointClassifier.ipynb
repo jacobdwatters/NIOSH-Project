{
  "nbformat": 4,
  "nbformat_minor": 0,
  "metadata": {
    "colab": {
      "provenance": [],
      "include_colab_link": true
    },
    "kernelspec": {
      "name": "python3",
      "display_name": "Python 3"
    },
    "language_info": {
      "name": "python"
    }
  },
  "cells": [
    {
      "cell_type": "markdown",
      "metadata": {
        "id": "view-in-github",
        "colab_type": "text"
      },
      "source": [
        "<a href=\"https://colab.research.google.com/github/jacobdwatters/NIOSH-Project/blob/main/BreakpointClassifier.ipynb\" target=\"_parent\"><img src=\"https://colab.research.google.com/assets/colab-badge.svg\" alt=\"Open In Colab\"/></a>"
      ]
    },
    {
      "cell_type": "code",
      "execution_count": null,
      "metadata": {
        "id": "qQAb1vn7x-qO"
      },
      "outputs": [],
      "source": [
        "import numpy as np\n",
        "from numpy.random import seed\n",
        "import pandas as pd\n",
        "import seaborn as sns\n",
        "import matplotlib.pyplot as plt\n",
        "\n",
        "import sklearn\n",
        "from sklearn.preprocessing import StandardScaler\n",
        "from sklearn.preprocessing import OneHotEncoder\n",
        "from sklearn.model_selection import train_test_split\n",
        "from sklearn.metrics import mean_absolute_error\n",
        "from sklearn.metrics import r2_score, roc_auc_score, mean_absolute_error, mean_squared_error, recall_score, f1_score, precision_score\n",
        "from numpy.linalg import lstsq\n",
        "\n",
        "from tensorflow import keras\n",
        "from tensorflow.keras import layers\n",
        "import tensorflow as tf\n",
        "\n",
        "import scipy as sp\n",
        "from scipy import stats\n",
        "\n",
        "import joblib"
      ]
    },
    {
      "cell_type": "code",
      "source": [
        "from google.colab import drive\n",
        "drive.mount('/content/gdrive')"
      ],
      "metadata": {
        "colab": {
          "base_uri": "https://localhost:8080/"
        },
        "id": "nXXdrBnAyR7Q",
        "outputId": "5a2526a0-a2e0-44b2-f50f-7ba5d4202e6c"
      },
      "execution_count": null,
      "outputs": [
        {
          "output_type": "stream",
          "name": "stdout",
          "text": [
            "Mounted at /content/gdrive\n"
          ]
        }
      ]
    },
    {
      "cell_type": "code",
      "source": [
        "path_after_2010 = '/content/gdrive/My Drive/NIOSH Project/data/violations_processed_after_2010.csv'\n",
        "violation_data = pd.read_csv(path_after_2010)"
      ],
      "metadata": {
        "id": "ZRPzYrbmyZjj"
      },
      "execution_count": null,
      "outputs": []
    },
    {
      "cell_type": "code",
      "source": [
        "FEATURES = ['YEAR_OCCUR', 'VIOLATOR_VIOLATION_CNT',\n",
        "'VIOLATOR_INSPECTION_DAY_CNT', 'MINE_TYPE',\n",
        "'PRIMARY_OR_MILL', 'COAL_METAL_IND', 'VIOLATOR_TYPE_CD']\n",
        "TARGETS = ['PROPOSED_PENALTY']\n",
        "\n",
        "X = violation_data[FEATURES]\n",
        "y = violation_data[TARGETS]"
      ],
      "metadata": {
        "id": "HuBm5XevyZoT"
      },
      "execution_count": null,
      "outputs": []
    },
    {
      "cell_type": "code",
      "source": [
        "# Define which columns should be encoded vs scaled\n",
        "columns_to_encode = ['MINE_TYPE', 'COAL_METAL_IND', 'PRIMARY_OR_MILL', 'VIOLATOR_TYPE_CD']\n",
        "columns_to_scale  = ['VIOLATOR_VIOLATION_CNT', 'VIOLATOR_INSPECTION_DAY_CNT', 'YEAR_OCCUR']\n",
        "\n",
        "# Instantiate encoder/scaler\n",
        "scaler = StandardScaler()\n",
        "ohe = OneHotEncoder(sparse=False)\n",
        "\n",
        "y = np.array(y)\n",
        "\n",
        "# Scale and Encode Separate Columns\n",
        "scaled_columns  = scaler.fit_transform(X[columns_to_scale])\n",
        "encoded_columns = ohe.fit_transform(X[columns_to_encode])\n",
        "\n",
        "# Concatenate (Column-Bind) Processed Columns Back Together\n",
        "X_pre = np.concatenate([scaled_columns, encoded_columns], axis=1)\n",
        "np.nan_to_num(X_pre, copy=False)\n",
        "\n",
        "print('Features shape:', X_pre.shape)"
      ],
      "metadata": {
        "colab": {
          "base_uri": "https://localhost:8080/"
        },
        "id": "HM8cxdMxyiDX",
        "outputId": "457bc43f-d984-4bf3-e31e-45bcf27d26c1"
      },
      "execution_count": null,
      "outputs": [
        {
          "output_type": "stream",
          "name": "stdout",
          "text": [
            "Features shape: (1429135, 24)\n"
          ]
        }
      ]
    },
    {
      "cell_type": "code",
      "source": [
        "n_bins = 1000\n",
        "hist_freq, hist_ends = np.histogram(y.T[0], bins=n_bins)\n",
        "# get midpoints\n",
        "hist_x = (hist_ends[:n_bins] + hist_ends[1:]) / 2\n",
        "len(hist_x), len(hist_freq)"
      ],
      "metadata": {
        "colab": {
          "base_uri": "https://localhost:8080/"
        },
        "id": "3Ybgq33Uym9s",
        "outputId": "3b73ccd5-f16e-47f9-b0d5-f770d7946528"
      },
      "execution_count": null,
      "outputs": [
        {
          "output_type": "execute_result",
          "data": {
            "text/plain": [
              "(1000, 1000)"
            ]
          },
          "metadata": {},
          "execution_count": 6
        }
      ]
    },
    {
      "cell_type": "code",
      "source": [
        "plt.plot(hist_x, hist_freq, 'ok')"
      ],
      "metadata": {
        "colab": {
          "base_uri": "https://localhost:8080/",
          "height": 293
        },
        "id": "ngKFuPoZ08QR",
        "outputId": "a8f3649d-20fc-4d50-a21b-4efdb50bc09e"
      },
      "execution_count": null,
      "outputs": [
        {
          "output_type": "execute_result",
          "data": {
            "text/plain": [
              "[<matplotlib.lines.Line2D at 0x7f21c0215a00>]"
            ]
          },
          "metadata": {},
          "execution_count": 7
        },
        {
          "output_type": "display_data",
          "data": {
            "text/plain": [
              "<Figure size 432x288 with 1 Axes>"
            ],
            "image/png": "[encoded data removed]"
          },
          "metadata": {
            "needs_background": "light"
          }
        }
      ]
    },
    {
      "cell_type": "code",
      "source": [
        "# source: https://datascience.stackexchange.com/a/32833\n",
        "\n",
        "ramp = lambda u: np.maximum( u, 0 )\n",
        "step = lambda u: ( u > 0 ).astype(float)\n",
        "\n",
        "def SegmentedLinearReg( X, Y, breakpoints ):\n",
        "    nIterationMax = 10\n",
        "\n",
        "    breakpoints = np.sort( np.array(breakpoints) )\n",
        "\n",
        "    dt = np.min( np.diff(X) )\n",
        "    ones = np.ones_like(X)\n",
        "\n",
        "    for i in range( nIterationMax ):\n",
        "        # Linear regression:  solve A*p = Y\n",
        "        Rk = [ramp( X - xk ) for xk in breakpoints ]\n",
        "        Sk = [step( X - xk ) for xk in breakpoints ]\n",
        "        A = np.array([ ones, X ] + Rk + Sk )\n",
        "        p =  lstsq(A.transpose(), Y, rcond=None)[0]\n",
        "\n",
        "        # Parameters identification:\n",
        "        a, b = p[0:2]\n",
        "        ck = p[ 2:2+len(breakpoints) ]\n",
        "        dk = p[ 2+len(breakpoints): ]\n",
        "\n",
        "        # Estimation of the next break-points:\n",
        "        newBreakpoints = breakpoints - dk/ck\n",
        "\n",
        "        # Stop condition\n",
        "        if np.max(np.abs(newBreakpoints - breakpoints)) < dt/5:\n",
        "            break\n",
        "\n",
        "        breakpoints = newBreakpoints\n",
        "    else:\n",
        "        print( 'maximum iteration reached' )\n",
        "\n",
        "    # Compute the final segmented fit:\n",
        "    Xsolution = np.insert( np.append( breakpoints, max(X) ), 0, min(X) )\n",
        "    ones =  np.ones_like(Xsolution)\n",
        "    Rk = [ c*ramp( Xsolution - x0 ) for x0, c in zip(breakpoints, ck) ]\n",
        "\n",
        "    Ysolution = a*ones + b*Xsolution + np.sum( Rk, axis=0 )\n",
        "\n",
        "    return Xsolution, Ysolution, breakpoints\n"
      ],
      "metadata": {
        "id": "1UhIgIlp2kX9"
      },
      "execution_count": null,
      "outputs": []
    },
    {
      "cell_type": "code",
      "source": [
        "initialBreakpoints = [700]\n",
        "plt.plot(hist_x, hist_freq, 'ok')\n",
        "x_seg, y_seg, breakpoints = SegmentedLinearReg( hist_x, hist_freq, initialBreakpoints )\n",
        "plt.plot(x_seg, y_seg, '-r' );\n",
        "print(f'Breakpoints: {breakpoints}')"
      ],
      "metadata": {
        "colab": {
          "base_uri": "https://localhost:8080/",
          "height": 293
        },
        "id": "cy69PeQP2vOc",
        "outputId": "adb19dcf-3b2c-437b-8f9f-0645110240ed"
      },
      "execution_count": null,
      "outputs": [
        {
          "output_type": "stream",
          "name": "stdout",
          "text": [
            "Breakpoints: [514.88125587]\n"
          ]
        },
        {
          "output_type": "display_data",
          "data": {
            "text/plain": [
              "<Figure size 432x288 with 1 Axes>"
            ],
            "image/png": "[encoded data removed]"
          },
          "metadata": {
            "needs_background": "light"
          }
        }
      ]
    },
    {
      "cell_type": "code",
      "source": [
        "y_categories = y > breakpoints[0]\n",
        "pd.Series(y_categories.T[0]).value_counts()"
      ],
      "metadata": {
        "colab": {
          "base_uri": "https://localhost:8080/"
        },
        "id": "pk-0woI44W4w",
        "outputId": "528a87d4-80b4-40c9-eb58-b0c74a4b3344"
      },
      "execution_count": null,
      "outputs": [
        {
          "output_type": "execute_result",
          "data": {
            "text/plain": [
              "False    1102739\n",
              "True      326396\n",
              "dtype: int64"
            ]
          },
          "metadata": {},
          "execution_count": 10
        }
      ]
    },
    {
      "cell_type": "code",
      "source": [
        "X_train, X_test, y_train, y_test = train_test_split(X_pre, y_categories, test_size = 0.25, random_state = 0)\n",
        "\n",
        "print('X_train shape:', X_train.shape)\n",
        "print('X_test shape:', X_test.shape)\n",
        "print('y_train shape:', y_train.shape)\n",
        "print('y_train shape:', y_test.shape)"
      ],
      "metadata": {
        "colab": {
          "base_uri": "https://localhost:8080/"
        },
        "id": "6pSEmuid5-j4",
        "outputId": "cb91d355-ca27-4a69-b38b-e8d753b42d7d"
      },
      "execution_count": null,
      "outputs": [
        {
          "output_type": "stream",
          "name": "stdout",
          "text": [
            "X_train shape: (1071851, 24)\n",
            "X_test shape: (357284, 24)\n",
            "y_train shape: (1071851, 1)\n",
            "y_train shape: (357284, 1)\n"
          ]
        }
      ]
    },
    {
      "cell_type": "code",
      "source": [
        "batch_size = 2**14\n",
        "epochs = 120\n",
        "\n",
        "callback = tf.keras.callbacks.EarlyStopping(monitor='loss', patience=3)\n",
        "\n",
        "model_breakpoint = keras.Sequential()\n",
        "\n",
        "model_breakpoint.add(keras.Input(shape = (len(X_train[0]), ) ))\n",
        "model_breakpoint.add(layers.Dense(64, activation=\"relu\"))\n",
        "model_breakpoint.add(layers.Dense(32, activation=\"relu\"))\n",
        "model_breakpoint.add(layers.Dense(16, activation=\"relu\"))\n",
        "model_breakpoint.add(layers.Dense(8, activation=\"relu\"))\n",
        "model_breakpoint.add(layers.Dense(8, activation=\"relu\"))\n",
        "model_breakpoint.add(layers.Dense(8, activation=\"relu\"))\n",
        "model_breakpoint.add(layers.Dense(1, activation=\"sigmoid\"))\n",
        "\n",
        "\n",
        "opt = keras.optimizers.Adam(learning_rate=0.01)\n",
        "model_breakpoint.compile(loss=\"binary_crossentropy\", optimizer=opt)\n",
        "history = model_breakpoint.fit(X_train, y_train, epochs=epochs, batch_size=batch_size, validation_data=(X_test, y_test), callbacks=[callback])"
      ],
      "metadata": {
        "colab": {
          "base_uri": "https://localhost:8080/"
        },
        "id": "_42zA1i049tK",
        "outputId": "b217bc21-2a1d-4266-eea6-8c8b650bb007"
      },
      "execution_count": null,
      "outputs": [
        {
          "output_type": "stream",
          "name": "stdout",
          "text": [
            "Epoch 1/120\n",
            "66/66 [==============================] - 3s 33ms/step - loss: 0.3705 - val_loss: 0.2996\n",
            "Epoch 2/120\n",
            "66/66 [==============================] - 2s 29ms/step - loss: 0.2803 - val_loss: 0.2589\n",
            "Epoch 3/120\n",
            "66/66 [==============================] - 2s 31ms/step - loss: 0.2507 - val_loss: 0.2371\n",
            "Epoch 4/120\n",
            "66/66 [==============================] - 2s 29ms/step - loss: 0.2351 - val_loss: 0.2262\n",
            "Epoch 5/120\n",
            "66/66 [==============================] - 2s 29ms/step - loss: 0.2292 - val_loss: 0.2317\n",
            "Epoch 6/120\n",
            "66/66 [==============================] - 2s 31ms/step - loss: 0.2212 - val_loss: 0.2192\n",
            "Epoch 7/120\n",
            "66/66 [==============================] - 2s 30ms/step - loss: 0.2169 - val_loss: 0.2101\n",
            "Epoch 8/120\n",
            "66/66 [==============================] - 2s 29ms/step - loss: 0.2139 - val_loss: 0.2078\n",
            "Epoch 9/120\n",
            "66/66 [==============================] - 3s 39ms/step - loss: 0.2084 - val_loss: 0.2040\n",
            "Epoch 10/120\n",
            "66/66 [==============================] - 4s 55ms/step - loss: 0.2064 - val_loss: 0.2071\n",
            "Epoch 11/120\n",
            "66/66 [==============================] - 4s 54ms/step - loss: 0.2029 - val_loss: 0.2003\n",
            "Epoch 12/120\n",
            "66/66 [==============================] - 4s 61ms/step - loss: 0.2024 - val_loss: 0.1989\n",
            "Epoch 13/120\n",
            "66/66 [==============================] - 4s 57ms/step - loss: 0.2019 - val_loss: 0.2007\n",
            "Epoch 14/120\n",
            "66/66 [==============================] - 4s 54ms/step - loss: 0.2007 - val_loss: 0.1985\n",
            "Epoch 15/120\n",
            "66/66 [==============================] - 3s 38ms/step - loss: 0.2010 - val_loss: 0.1971\n",
            "Epoch 16/120\n",
            "66/66 [==============================] - 2s 29ms/step - loss: 0.1986 - val_loss: 0.1965\n",
            "Epoch 17/120\n",
            "66/66 [==============================] - 2s 29ms/step - loss: 0.1986 - val_loss: 0.2003\n",
            "Epoch 18/120\n",
            "66/66 [==============================] - 2s 29ms/step - loss: 0.1971 - val_loss: 0.1992\n",
            "Epoch 19/120\n",
            "66/66 [==============================] - 2s 30ms/step - loss: 0.1948 - val_loss: 0.1925\n",
            "Epoch 20/120\n",
            "66/66 [==============================] - 2s 29ms/step - loss: 0.1991 - val_loss: 0.1922\n",
            "Epoch 21/120\n",
            "66/66 [==============================] - 2s 29ms/step - loss: 0.1922 - val_loss: 0.1902\n",
            "Epoch 22/120\n",
            "66/66 [==============================] - 2s 29ms/step - loss: 0.1947 - val_loss: 0.1918\n",
            "Epoch 23/120\n",
            "66/66 [==============================] - 2s 29ms/step - loss: 0.1954 - val_loss: 0.1969\n",
            "Epoch 24/120\n",
            "66/66 [==============================] - 2s 29ms/step - loss: 0.1920 - val_loss: 0.1933\n",
            "Epoch 25/120\n",
            "66/66 [==============================] - 2s 29ms/step - loss: 0.1933 - val_loss: 0.1904\n",
            "Epoch 26/120\n",
            "66/66 [==============================] - 2s 29ms/step - loss: 0.1922 - val_loss: 0.1908\n",
            "Epoch 27/120\n",
            "66/66 [==============================] - 2s 29ms/step - loss: 0.1925 - val_loss: 0.1948\n"
          ]
        }
      ]
    },
    {
      "cell_type": "code",
      "source": [
        "y_pred = model_breakpoint.predict(X_test)\n",
        "print(tf.metrics.binary_accuracy(y_test, y_pred))"
      ],
      "metadata": {
        "colab": {
          "base_uri": "https://localhost:8080/"
        },
        "id": "KX-wvxuj6pKy",
        "outputId": "1bd18c9d-2468-43f9-a7e2-738f2f7a3ce6"
      },
      "execution_count": null,
      "outputs": [
        {
          "output_type": "stream",
          "name": "stdout",
          "text": [
            "11166/11166 [==============================] - 19s 2ms/step\n",
            "tf.Tensor([1. 1. 1. ... 1. 1. 1.], shape=(357284,), dtype=float32)\n"
          ]
        }
      ]
    },
    {
      "cell_type": "code",
      "source": [
        "bin_acc = tf.metrics.binary_accuracy(y_test, y_pred)\n",
        "print(np.sum(bin_acc) / len(bin_acc))"
      ],
      "metadata": {
        "colab": {
          "base_uri": "https://localhost:8080/"
        },
        "id": "rjJTqpdD7xG4",
        "outputId": "409021f3-4790-479b-ef47-dce920bafb2f"
      },
      "execution_count": null,
      "outputs": [
        {
          "output_type": "stream",
          "name": "stdout",
          "text": [
            "0.9254738527333998\n"
          ]
        }
      ]
    },
    {
      "cell_type": "code",
      "source": [
        "X_lower = X_pre[(y < breakpoints[0])[:, 0]]\n",
        "y_lower = y[y < breakpoints[0]]\n",
        "X_upper = X_pre[(y >= breakpoints[0])[:, 0]]\n",
        "y_upper = y[y >= breakpoints[0]]\n",
        "\n",
        "X_train_lower, X_test_lower, y_train_lower, y_test_lower = train_test_split(X_lower, y_lower, test_size = 0.25, random_state = 0)\n",
        "X_train_upper, X_test_upper, y_train_upper, y_test_upper = train_test_split(X_upper, y_upper, test_size = 0.25, random_state = 0)\n",
        "\n",
        "print('X_train_lower shape:', X_train_lower.shape)\n",
        "print('X_test_lower shape:', X_test_lower.shape)\n",
        "print('y_train_lower shape:', y_train_lower.shape)\n",
        "print('y_train_lower shape:', y_test_lower.shape)\n",
        "\n",
        "print('X_train_upper shape:', X_train_upper.shape)\n",
        "print('X_test_upper shape:', X_test_upper.shape)\n",
        "print('y_train_upper shape:', y_train_upper.shape)\n",
        "print('y_train_upper shape:', y_test_upper.shape)"
      ],
      "metadata": {
        "id": "RI41LwkfKplx",
        "outputId": "d6b919b1-f6b8-4177-d45c-b94864fbf668",
        "colab": {
          "base_uri": "https://localhost:8080/"
        }
      },
      "execution_count": null,
      "outputs": [
        {
          "output_type": "stream",
          "name": "stdout",
          "text": [
            "X_train_lower shape: (827054, 24)\n",
            "X_test_lower shape: (275685, 24)\n",
            "y_train_lower shape: (827054,)\n",
            "y_train_lower shape: (275685,)\n",
            "X_train_upper shape: (244797, 24)\n",
            "X_test_upper shape: (81599, 24)\n",
            "y_train_upper shape: (244797,)\n",
            "y_train_upper shape: (81599,)\n"
          ]
        }
      ]
    },
    {
      "cell_type": "code",
      "source": [
        "def scheduler(epoch, lr):\n",
        "  if epoch < 85:\n",
        "    return lr\n",
        "  else: # Drop learning rate after the first 85 epochs\n",
        "    return lr*np.exp(-0.05)"
      ],
      "metadata": {
        "id": "DaIpuwCcP2wi"
      },
      "execution_count": null,
      "outputs": []
    },
    {
      "cell_type": "code",
      "source": [
        "\n",
        "batch_size = 2**14\n",
        "epochs = 120\n",
        "callback_lower = tf.keras.callbacks.LearningRateScheduler(scheduler)\n",
        "\n",
        "model_lower = keras.Sequential()\n",
        "\n",
        "model_lower.add(keras.Input(shape = (len(X_train[0]), ) ))\n",
        "model_lower.add(layers.Dense(64, activation=\"relu\"))\n",
        "model_lower.add(layers.Dense(32, activation=\"relu\"))\n",
        "model_lower.add(layers.Dense(16, activation=\"relu\"))\n",
        "model_lower.add(layers.Dense(8, activation=\"relu\"))\n",
        "model_lower.add(layers.Dense(8, activation=\"relu\"))\n",
        "model_lower.add(layers.Dense(8, activation=\"relu\"))\n",
        "model_lower.add(layers.Dense(1, activation=\"linear\"))\n",
        "\n",
        "\n",
        "opt = keras.optimizers.Adam(learning_rate=0.01)\n",
        "model_lower.compile(loss=\"mse\", optimizer=opt)\n",
        "history_lower = model_lower.fit(X_train_lower, y_train_lower, epochs=epochs, batch_size=batch_size,\n",
        "                    callbacks=[callback_lower], validation_data=(X_test_lower, y_test_lower))"
      ],
      "metadata": {
        "id": "SldHNXiwJu-i"
      },
      "execution_count": null,
      "outputs": []
    },
    {
      "cell_type": "code",
      "source": [
        "callback_upper = tf.keras.callbacks.LearningRateScheduler(scheduler)\n",
        "model_upper = keras.Sequential()\n",
        "\n",
        "model_upper.add(keras.Input(shape = (len(X_train[0]), ) ))\n",
        "model_upper.add(layers.Dense(64, activation=\"relu\"))\n",
        "model_upper.add(layers.Dense(32, activation=\"relu\"))\n",
        "model_upper.add(layers.Dense(16, activation=\"relu\"))\n",
        "model_upper.add(layers.Dense(8, activation=\"relu\"))\n",
        "model_upper.add(layers.Dense(8, activation=\"relu\"))\n",
        "model_upper.add(layers.Dense(8, activation=\"relu\"))\n",
        "model_upper.add(layers.Dense(1, activation=\"linear\"))\n",
        "\n",
        "\n",
        "opt_upper = keras.optimizers.Adam(learning_rate=0.01)\n",
        "model_upper.compile(loss=\"mse\", optimizer=opt_upper)\n",
        "history_upper = model_upper.fit(X_train_upper, y_train_upper, epochs=epochs, batch_size=batch_size,\n",
        "                    callbacks=[callback_upper], validation_data=(X_test_upper, y_test_upper))"
      ],
      "metadata": {
        "id": "vpux5U9tP5K2"
      },
      "execution_count": null,
      "outputs": []
    },
    {
      "cell_type": "code",
      "source": [
        "y_pred_lower = model_lower.predict(X_test_lower)\n",
        "y_pred_upper = model_upper.predict(X_test_upper)"
      ],
      "metadata": {
        "id": "_8sMYu-8P-P0"
      },
      "execution_count": null,
      "outputs": []
    },
    {
      "cell_type": "code",
      "source": [
        "r2_lower = r2_score(y_test_lower, y_pred_lower)\n",
        "mae_lower = mean_absolute_error(y_test_lower, y_pred_lower)\n",
        "mse_lower = mean_squared_error(y_test_lower, y_pred_lower)\n",
        "rmse_lower = mean_squared_error(y_test_lower, y_pred_lower, squared=False)\n",
        "\n",
        "print('lower r2 = %.3f' % r2_lower)\n",
        "print('lower mae = %.3f' % mae_lower)\n",
        "print('lower mse = %.3f' % mse_lower)\n",
        "print('lower rmse = %.3f' % rmse_lower)\n",
        "\n",
        "\n",
        "print(y_test_upper.shape)\n",
        "print(y_pred_upper.shape)\n",
        "\n",
        "r2_upper = r2_score(y_test_upper, y_pred_upper)\n",
        "mae_upper = mean_absolute_error(y_test_upper, y_pred_upper)\n",
        "mse_upper = mean_squared_error(y_test_upper, y_pred_upper)\n",
        "rmse_upper = mean_squared_error(y_test_upper, y_pred_upper, squared=False)\n",
        "\n",
        "print('upper r2 = %.3f' % r2_upper)\n",
        "print('upper mae = %.3f' % mae_upper)\n",
        "print('upper mse = %.3f' % mse_upper)\n",
        "print('upper rmse = %.3f' % rmse_upper)"
      ],
      "metadata": {
        "id": "fFzv5_-rNz6t",
        "outputId": "3bea49d2-ab6f-4820-b7f0-7408c4f88833",
        "colab": {
          "base_uri": "https://localhost:8080/"
        }
      },
      "execution_count": null,
      "outputs": [
        {
          "output_type": "stream",
          "name": "stdout",
          "text": [
            "8616/8616 [==============================] - 12s 1ms/step\n",
            "lower r2 = 0.664\n",
            "2550/2550 [==============================] - 4s 1ms/step\n",
            "upper r2 = 0.523\n"
          ]
        }
      ]
    },
    {
      "cell_type": "code",
      "source": [
        "# now combine the breakpoint calculator with the two models to make predictions for all data\n",
        "\n",
        "def classify_and_predict(X):\n",
        "    # threshhold of\n",
        "    predicted_upper_indices = (model_breakpoint.predict(X) > 0.5)\n",
        "    predicted_lower_indices = np.invert(predicted_upper_indices)\n",
        "\n",
        "    predicted_upper = X[predicted_upper_indices[:, 0]]\n",
        "    predicted_lower = X[predicted_lower_indices[:, 0]]\n",
        "\n",
        "    upper_results = model_upper.predict(predicted_upper)\n",
        "    lower_results = model_lower.predict(predicted_lower)\n",
        "\n",
        "    results = np.empty(shape=(X.shape[0], 1))\n",
        "\n",
        "    results[predicted_upper_indices[:, 0]] = upper_results\n",
        "    results[predicted_lower_indices[:, 0]] = lower_results\n",
        "\n",
        "    return results\n",
        "\n",
        "X_test_concat = np.vstack((X_test_lower, X_test_upper))\n",
        "y_test_concat = np.hstack((y_test_lower, y_test_upper))\n",
        "\n",
        "y_pred_concat = classify_and_predict(X_test_concat)"
      ],
      "metadata": {
        "id": "GR4BQPKkQcMF",
        "outputId": "7cc2b0c0-5509-459d-b94f-9e10a65a6d39",
        "colab": {
          "base_uri": "https://localhost:8080/"
        }
      },
      "execution_count": null,
      "outputs": [
        {
          "output_type": "stream",
          "name": "stdout",
          "text": [
            "11166/11166 [==============================] - 16s 1ms/step\n",
            "2154/2154 [==============================] - 3s 1ms/step\n",
            "9012/9012 [==============================] - 14s 1ms/step\n"
          ]
        }
      ]
    },
    {
      "cell_type": "code",
      "source": [
        "r2 = r2_score(y_test_concat, y_pred_concat)\n",
        "mae = mean_absolute_error(y_test_concat, y_pred_concat)\n",
        "mse = mean_squared_error(y_test_concat, y_pred_concat)\n",
        "rmse = mean_squared_error(y_test_concat, y_pred_concat, squared=False)\n",
        "\n",
        "print('r2 = %.3f' % r2)\n",
        "print('mae = %.3f' % mae)\n",
        "print('mse = %.3f' % mse)\n",
        "print('rmse = %.3f' % rmse)"
      ],
      "metadata": {
        "id": "4HjrIKx8XL-5",
        "outputId": "719a394d-0e45-4e82-b078-b9178679ffca",
        "colab": {
          "base_uri": "https://localhost:8080/"
        }
      },
      "execution_count": null,
      "outputs": [
        {
          "output_type": "execute_result",
          "data": {
            "text/plain": [
              "0.557878890027608"
            ]
          },
          "metadata": {},
          "execution_count": 96
        }
      ]
    }
  ]
}