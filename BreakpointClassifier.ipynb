{
  "nbformat": 4,
  "nbformat_minor": 0,
  "metadata": {
    "colab": {
      "provenance": [],
      "include_colab_link": true
    },
    "kernelspec": {
      "name": "python3",
      "display_name": "Python 3"
    },
    "language_info": {
      "name": "python"
    }
  },
  "cells": [
    {
      "cell_type": "markdown",
      "metadata": {
        "id": "view-in-github",
        "colab_type": "text"
      },
      "source": [
        "<a href=\"https://colab.research.google.com/github/jacobdwatters/NIOSH-Project/blob/main/BreakpointClassifier.ipynb\" target=\"_parent\"><img src=\"https://colab.research.google.com/assets/colab-badge.svg\" alt=\"Open In Colab\"/></a>"
      ]
    },
    {
      "cell_type": "code",
      "execution_count": 1,
      "metadata": {
        "id": "qQAb1vn7x-qO"
      },
      "outputs": [],
      "source": [
        "import numpy as np\n",
        "from numpy.random import seed\n",
        "import pandas as pd\n",
        "import seaborn as sns\n",
        "import matplotlib.pyplot as plt\n",
        "\n",
        "import sklearn\n",
        "from sklearn.preprocessing import StandardScaler\n",
        "from sklearn.preprocessing import OneHotEncoder\n",
        "from sklearn.model_selection import train_test_split\n",
        "from sklearn.metrics import mean_absolute_error\n",
        "from sklearn.metrics import r2_score, roc_auc_score, mean_absolute_error, mean_squared_error, recall_score, f1_score, precision_score\n",
        "from numpy.linalg import lstsq\n",
        "\n",
        "from tensorflow import keras\n",
        "from tensorflow.keras import layers\n",
        "import tensorflow as tf\n",
        "\n",
        "import scipy as sp\n",
        "from scipy import stats\n",
        "\n",
        "import joblib"
      ]
    },
    {
      "cell_type": "code",
      "source": [
        "from google.colab import drive\n",
        "drive.mount('/content/gdrive')"
      ],
      "metadata": {
        "colab": {
          "base_uri": "https://localhost:8080/"
        },
        "id": "nXXdrBnAyR7Q",
        "outputId": "accf35a7-dc14-4945-bb28-457d885daabe"
      },
      "execution_count": 2,
      "outputs": [
        {
          "output_type": "stream",
          "name": "stdout",
          "text": [
            "Mounted at /content/gdrive\n"
          ]
        }
      ]
    },
    {
      "cell_type": "code",
      "source": [
        "path_after_2010 = '/content/gdrive/My Drive/School/Grad School/NIOSH Project/Data/violations_processed_after_2010.csv'\n",
        "violation_data = pd.read_csv(path_after_2010)"
      ],
      "metadata": {
        "id": "ZRPzYrbmyZjj",
        "colab": {
          "base_uri": "https://localhost:8080/"
        },
        "outputId": "7e82563a-5e55-447e-8d28-9c2fc626446c"
      },
      "execution_count": 5,
      "outputs": [
        {
          "output_type": "stream",
          "name": "stderr",
          "text": [
            "<ipython-input-5-837e5d150e00>:2: DtypeWarning: Columns (10) have mixed types. Specify dtype option on import or set low_memory=False.\n",
            "  violation_data = pd.read_csv(path_after_2010)\n"
          ]
        }
      ]
    },
    {
      "cell_type": "code",
      "source": [
        "FEATURES = ['YEAR_OCCUR', 'VIOLATOR_VIOLATION_CNT',\n",
        "'VIOLATOR_INSPECTION_DAY_CNT', 'MINE_TYPE',\n",
        "'PRIMARY_OR_MILL', 'COAL_METAL_IND', 'VIOLATOR_TYPE_CD', 'NO_AFFECTED', 'SIG_SUB', 'NEGLIGENCE', 'INJ_ILLNESS']\n",
        "TARGETS = ['PROPOSED_PENALTY']\n",
        "\n",
        "X = violation_data[FEATURES]\n",
        "y = violation_data[TARGETS]"
      ],
      "metadata": {
        "id": "HuBm5XevyZoT"
      },
      "execution_count": 25,
      "outputs": []
    },
    {
      "cell_type": "code",
      "source": [
        "# Define which columns should be encoded vs scaled\n",
        "columns_to_encode = ['MINE_TYPE', 'COAL_METAL_IND', 'PRIMARY_OR_MILL', 'VIOLATOR_TYPE_CD', 'SIG_SUB', 'NEGLIGENCE', 'INJ_ILLNESS']\n",
        "columns_to_scale  = ['VIOLATOR_VIOLATION_CNT', 'VIOLATOR_INSPECTION_DAY_CNT', 'YEAR_OCCUR', 'NO_AFFECTED']\n",
        "\n",
        "# Instantiate encoder/scaler\n",
        "scaler = StandardScaler()\n",
        "ohe = OneHotEncoder(sparse=False)\n",
        "\n",
        "y = np.array(y)\n",
        "\n",
        "# Scale and Encode Separate Columns\n",
        "scaled_columns  = scaler.fit_transform(X[columns_to_scale])\n",
        "encoded_columns = ohe.fit_transform(X[columns_to_encode])\n",
        "\n",
        "# Concatenate (Column-Bind) Processed Columns Back Together\n",
        "X_pre = np.concatenate([scaled_columns, encoded_columns], axis=1)\n",
        "np.nan_to_num(X_pre, copy=False)\n",
        "\n",
        "print('Features shape:', X_pre.shape)"
      ],
      "metadata": {
        "colab": {
          "base_uri": "https://localhost:8080/"
        },
        "id": "HM8cxdMxyiDX",
        "outputId": "ce1aa574-5d8d-46da-8b96-ca1e9b3d10aa"
      },
      "execution_count": 27,
      "outputs": [
        {
          "output_type": "stream",
          "name": "stderr",
          "text": [
            "/usr/local/lib/python3.10/dist-packages/sklearn/preprocessing/_encoders.py:868: FutureWarning: `sparse` was renamed to `sparse_output` in version 1.2 and will be removed in 1.4. `sparse_output` is ignored unless you leave `sparse` to its default value.\n",
            "  warnings.warn(\n"
          ]
        },
        {
          "output_type": "stream",
          "name": "stdout",
          "text": [
            "Features shape: (1530011, 25)\n"
          ]
        }
      ]
    },
    {
      "cell_type": "code",
      "source": [
        "n_bins = 1000\n",
        "hist_freq, hist_ends = np.histogram(y.T[0], bins=n_bins)\n",
        "# get midpoints\n",
        "hist_x = (hist_ends[:n_bins] + hist_ends[1:]) / 2\n",
        "len(hist_x), len(hist_freq)"
      ],
      "metadata": {
        "colab": {
          "base_uri": "https://localhost:8080/"
        },
        "id": "3Ybgq33Uym9s",
        "outputId": "e40d9330-fea4-47cd-8ad9-21415092ef64"
      },
      "execution_count": 28,
      "outputs": [
        {
          "output_type": "execute_result",
          "data": {
            "text/plain": [
              "(1000, 1000)"
            ]
          },
          "metadata": {},
          "execution_count": 28
        }
      ]
    },
    {
      "cell_type": "code",
      "source": [
        "plt.plot(hist_x, hist_freq, 'ok')"
      ],
      "metadata": {
        "colab": {
          "base_uri": "https://localhost:8080/",
          "height": 463
        },
        "id": "ngKFuPoZ08QR",
        "outputId": "869b505f-d09f-4a2a-cee4-835bcef93c6d"
      },
      "execution_count": 29,
      "outputs": [
        {
          "output_type": "execute_result",
          "data": {
            "text/plain": [
              "[<matplotlib.lines.Line2D at 0x7885cdcd0f10>]"
            ]
          },
          "metadata": {},
          "execution_count": 29
        },
        {
          "output_type": "display_data",
          "data": {
            "text/plain": [
              "<Figure size 640x480 with 1 Axes>"
            ],
            "image/png": "[encoded data removed]"
          },
          "metadata": {}
        }
      ]
    },
    {
      "cell_type": "code",
      "source": [
        "# source: https://datascience.stackexchange.com/a/32833\n",
        "\n",
        "ramp = lambda u: np.maximum( u, 0 )\n",
        "step = lambda u: ( u > 0 ).astype(float)\n",
        "\n",
        "def SegmentedLinearReg( X, Y, breakpoints ):\n",
        "    nIterationMax = 10\n",
        "\n",
        "    breakpoints = np.sort( np.array(breakpoints) )\n",
        "\n",
        "    dt = np.min( np.diff(X) )\n",
        "    ones = np.ones_like(X)\n",
        "\n",
        "    for i in range( nIterationMax ):\n",
        "        # Linear regression:  solve A*p = Y\n",
        "        Rk = [ramp( X - xk ) for xk in breakpoints ]\n",
        "        Sk = [step( X - xk ) for xk in breakpoints ]\n",
        "        A = np.array([ ones, X ] + Rk + Sk )\n",
        "        p =  lstsq(A.transpose(), Y, rcond=None)[0]\n",
        "\n",
        "        # Parameters identification:\n",
        "        a, b = p[0:2]\n",
        "        ck = p[ 2:2+len(breakpoints) ]\n",
        "        dk = p[ 2+len(breakpoints): ]\n",
        "\n",
        "        # Estimation of the next break-points:\n",
        "        newBreakpoints = breakpoints - dk/ck\n",
        "\n",
        "        # Stop condition\n",
        "        if np.max(np.abs(newBreakpoints - breakpoints)) < dt/5:\n",
        "            break\n",
        "\n",
        "        breakpoints = newBreakpoints\n",
        "    else:\n",
        "        print( 'maximum iteration reached' )\n",
        "\n",
        "    # Compute the final segmented fit:\n",
        "    Xsolution = np.insert( np.append( breakpoints, max(X) ), 0, min(X) )\n",
        "    ones =  np.ones_like(Xsolution)\n",
        "    Rk = [ c*ramp( Xsolution - x0 ) for x0, c in zip(breakpoints, ck) ]\n",
        "\n",
        "    Ysolution = a*ones + b*Xsolution + np.sum( Rk, axis=0 )\n",
        "\n",
        "    return Xsolution, Ysolution, breakpoints\n"
      ],
      "metadata": {
        "id": "1UhIgIlp2kX9"
      },
      "execution_count": 30,
      "outputs": []
    },
    {
      "cell_type": "code",
      "source": [
        "initialBreakpoints = [700]\n",
        "plt.plot(hist_x, hist_freq, 'ok')\n",
        "x_seg, y_seg, breakpoints = SegmentedLinearReg( hist_x, hist_freq, initialBreakpoints )\n",
        "plt.plot(x_seg, y_seg, '-r' );\n",
        "print(f'Breakpoints: {breakpoints}')"
      ],
      "metadata": {
        "colab": {
          "base_uri": "https://localhost:8080/",
          "height": 463
        },
        "id": "cy69PeQP2vOc",
        "outputId": "6870ca36-2931-4299-aaf3-09bc2209c3bb"
      },
      "execution_count": 31,
      "outputs": [
        {
          "output_type": "stream",
          "name": "stdout",
          "text": [
            "Breakpoints: [514.50102434]\n"
          ]
        },
        {
          "output_type": "display_data",
          "data": {
            "text/plain": [
              "<Figure size 640x480 with 1 Axes>"
            ],
            "image/png": "[encoded data removed]"
          },
          "metadata": {}
        }
      ]
    },
    {
      "cell_type": "code",
      "source": [
        "y_categories = y > breakpoints[0]\n",
        "pd.Series(y_categories.T[0]).value_counts()"
      ],
      "metadata": {
        "colab": {
          "base_uri": "https://localhost:8080/"
        },
        "id": "pk-0woI44W4w",
        "outputId": "5f9f1be7-0e16-4372-9355-aa906bd496e0"
      },
      "execution_count": 32,
      "outputs": [
        {
          "output_type": "execute_result",
          "data": {
            "text/plain": [
              "False    1180904\n",
              "True      349107\n",
              "dtype: int64"
            ]
          },
          "metadata": {},
          "execution_count": 32
        }
      ]
    },
    {
      "cell_type": "code",
      "source": [
        "X_train, X_test, y_train, y_test = train_test_split(X_pre, y_categories, test_size = 0.25, random_state = 0)\n",
        "\n",
        "print('X_train shape:', X_train.shape)\n",
        "print('X_test shape:', X_test.shape)\n",
        "print('y_train shape:', y_train.shape)\n",
        "print('y_train shape:', y_test.shape)"
      ],
      "metadata": {
        "colab": {
          "base_uri": "https://localhost:8080/"
        },
        "id": "6pSEmuid5-j4",
        "outputId": "c0e23a13-26a2-418b-e831-ac2d690c4c57"
      },
      "execution_count": 33,
      "outputs": [
        {
          "output_type": "stream",
          "name": "stdout",
          "text": [
            "X_train shape: (1147508, 25)\n",
            "X_test shape: (382503, 25)\n",
            "y_train shape: (1147508, 1)\n",
            "y_train shape: (382503, 1)\n"
          ]
        }
      ]
    },
    {
      "cell_type": "code",
      "source": [
        "batch_size = 2**14\n",
        "epochs = 120\n",
        "\n",
        "callback = tf.keras.callbacks.EarlyStopping(monitor='loss', patience=3)\n",
        "\n",
        "model_breakpoint = keras.Sequential()\n",
        "\n",
        "model_breakpoint.add(keras.Input(shape = (len(X_train[0]), ) ))\n",
        "model_breakpoint.add(layers.Dense(64, activation=\"relu\"))\n",
        "model_breakpoint.add(layers.Dense(32, activation=\"relu\"))\n",
        "model_breakpoint.add(layers.Dense(16, activation=\"relu\"))\n",
        "model_breakpoint.add(layers.Dense(8, activation=\"relu\"))\n",
        "model_breakpoint.add(layers.Dense(8, activation=\"relu\"))\n",
        "model_breakpoint.add(layers.Dense(8, activation=\"relu\"))\n",
        "model_breakpoint.add(layers.Dense(1, activation=\"sigmoid\"))\n",
        "\n",
        "\n",
        "opt = keras.optimizers.Adam(learning_rate=0.01)\n",
        "model_breakpoint.compile(loss=\"binary_crossentropy\", optimizer=opt)\n",
        "history = model_breakpoint.fit(X_train, y_train, epochs=epochs, batch_size=batch_size, validation_data=(X_test, y_test), callbacks=[callback])"
      ],
      "metadata": {
        "colab": {
          "base_uri": "https://localhost:8080/"
        },
        "id": "_42zA1i049tK",
        "outputId": "74f44d42-8209-4526-c428-13de597e06c8"
      },
      "execution_count": 34,
      "outputs": [
        {
          "output_type": "stream",
          "name": "stdout",
          "text": [
            "Epoch 1/120\n",
            "71/71 [==============================] - 3s 27ms/step - loss: 0.3354 - val_loss: 0.2365\n",
            "Epoch 2/120\n",
            "71/71 [==============================] - 2s 28ms/step - loss: 0.2296 - val_loss: 0.2263\n",
            "Epoch 3/120\n",
            "71/71 [==============================] - 3s 36ms/step - loss: 0.2091 - val_loss: 0.2015\n",
            "Epoch 4/120\n",
            "71/71 [==============================] - 2s 26ms/step - loss: 0.2111 - val_loss: 0.2137\n",
            "Epoch 5/120\n",
            "71/71 [==============================] - 2s 24ms/step - loss: 0.1993 - val_loss: 0.2019\n",
            "Epoch 6/120\n",
            "71/71 [==============================] - 2s 22ms/step - loss: 0.1898 - val_loss: 0.1907\n",
            "Epoch 7/120\n",
            "71/71 [==============================] - 2s 22ms/step - loss: 0.1881 - val_loss: 0.1893\n",
            "Epoch 8/120\n",
            "71/71 [==============================] - 2s 22ms/step - loss: 0.1851 - val_loss: 0.2120\n",
            "Epoch 9/120\n",
            "71/71 [==============================] - 2s 22ms/step - loss: 0.1958 - val_loss: 0.1864\n",
            "Epoch 10/120\n",
            "71/71 [==============================] - 2s 33ms/step - loss: 0.1850 - val_loss: 0.1879\n",
            "Epoch 11/120\n",
            "71/71 [==============================] - 2s 33ms/step - loss: 0.1834 - val_loss: 0.1931\n",
            "Epoch 12/120\n",
            "71/71 [==============================] - 2s 22ms/step - loss: 0.1834 - val_loss: 0.1867\n",
            "Epoch 13/120\n",
            "71/71 [==============================] - 2s 22ms/step - loss: 0.1812 - val_loss: 0.1834\n",
            "Epoch 14/120\n",
            "71/71 [==============================] - 2s 22ms/step - loss: 0.1804 - val_loss: 0.2038\n",
            "Epoch 15/120\n",
            "71/71 [==============================] - 2s 22ms/step - loss: 0.1810 - val_loss: 0.1841\n",
            "Epoch 16/120\n",
            "71/71 [==============================] - 2s 24ms/step - loss: 0.1809 - val_loss: 0.1791\n",
            "Epoch 17/120\n",
            "71/71 [==============================] - 2s 22ms/step - loss: 0.1794 - val_loss: 0.1790\n",
            "Epoch 18/120\n",
            "71/71 [==============================] - 2s 35ms/step - loss: 0.1802 - val_loss: 0.1954\n",
            "Epoch 19/120\n",
            "71/71 [==============================] - 2s 30ms/step - loss: 0.1774 - val_loss: 0.1820\n",
            "Epoch 20/120\n",
            "71/71 [==============================] - 2s 24ms/step - loss: 0.1772 - val_loss: 0.1767\n",
            "Epoch 21/120\n",
            "71/71 [==============================] - 2s 22ms/step - loss: 0.1774 - val_loss: 0.1791\n",
            "Epoch 22/120\n",
            "71/71 [==============================] - 2s 22ms/step - loss: 0.1752 - val_loss: 0.1752\n",
            "Epoch 23/120\n",
            "71/71 [==============================] - 2s 22ms/step - loss: 0.1778 - val_loss: 0.1805\n",
            "Epoch 24/120\n",
            "71/71 [==============================] - 2s 22ms/step - loss: 0.1756 - val_loss: 0.1847\n",
            "Epoch 25/120\n",
            "71/71 [==============================] - 2s 24ms/step - loss: 0.1761 - val_loss: 0.1770\n"
          ]
        }
      ]
    },
    {
      "cell_type": "code",
      "source": [
        "y_pred = model_breakpoint.predict(X_test)\n",
        "print(tf.metrics.binary_accuracy(y_test, y_pred))"
      ],
      "metadata": {
        "colab": {
          "base_uri": "https://localhost:8080/"
        },
        "id": "KX-wvxuj6pKy",
        "outputId": "9ab89a4d-2c6a-4613-b688-45a58b009c7b"
      },
      "execution_count": 35,
      "outputs": [
        {
          "output_type": "stream",
          "name": "stdout",
          "text": [
            "11954/11954 [==============================] - 20s 2ms/step\n",
            "tf.Tensor([1. 1. 1. ... 1. 1. 1.], shape=(382503,), dtype=float32)\n"
          ]
        }
      ]
    },
    {
      "cell_type": "code",
      "source": [
        "bin_acc = tf.metrics.binary_accuracy(y_test, y_pred)\n",
        "print(np.sum(bin_acc) / len(bin_acc))"
      ],
      "metadata": {
        "colab": {
          "base_uri": "https://localhost:8080/"
        },
        "id": "rjJTqpdD7xG4",
        "outputId": "e80a0855-a6e1-42fb-ffca-2c6e250bf9aa"
      },
      "execution_count": 36,
      "outputs": [
        {
          "output_type": "stream",
          "name": "stdout",
          "text": [
            "0.9301103520756699\n"
          ]
        }
      ]
    },
    {
      "cell_type": "code",
      "source": [
        "X_lower = X_pre[(y < breakpoints[0])[:, 0]]\n",
        "y_lower = y[y < breakpoints[0]]\n",
        "X_upper = X_pre[(y >= breakpoints[0])[:, 0]]\n",
        "y_upper = y[y >= breakpoints[0]]\n",
        "\n",
        "X_train_lower, X_test_lower, y_train_lower, y_test_lower = train_test_split(X_lower, y_lower, test_size = 0.25, random_state = 0)\n",
        "X_train_upper, X_test_upper, y_train_upper, y_test_upper = train_test_split(X_upper, y_upper, test_size = 0.25, random_state = 0)\n",
        "\n",
        "print('X_train_lower shape:', X_train_lower.shape)\n",
        "print('X_test_lower shape:', X_test_lower.shape)\n",
        "print('y_train_lower shape:', y_train_lower.shape)\n",
        "print('y_train_lower shape:', y_test_lower.shape)\n",
        "\n",
        "print('X_train_upper shape:', X_train_upper.shape)\n",
        "print('X_test_upper shape:', X_test_upper.shape)\n",
        "print('y_train_upper shape:', y_train_upper.shape)\n",
        "print('y_train_upper shape:', y_test_upper.shape)"
      ],
      "metadata": {
        "id": "RI41LwkfKplx",
        "outputId": "c9290207-b9c6-4905-9800-4df74364622c",
        "colab": {
          "base_uri": "https://localhost:8080/"
        }
      },
      "execution_count": 37,
      "outputs": [
        {
          "output_type": "stream",
          "name": "stdout",
          "text": [
            "X_train_lower shape: (885678, 25)\n",
            "X_test_lower shape: (295226, 25)\n",
            "y_train_lower shape: (885678,)\n",
            "y_train_lower shape: (295226,)\n",
            "X_train_upper shape: (261830, 25)\n",
            "X_test_upper shape: (87277, 25)\n",
            "y_train_upper shape: (261830,)\n",
            "y_train_upper shape: (87277,)\n"
          ]
        }
      ]
    },
    {
      "cell_type": "code",
      "source": [
        "def scheduler(epoch, lr):\n",
        "  if epoch < 85:\n",
        "    return lr\n",
        "  else: # Drop learning rate after the first 85 epochs\n",
        "    return lr*np.exp(-0.05)"
      ],
      "metadata": {
        "id": "DaIpuwCcP2wi"
      },
      "execution_count": 38,
      "outputs": []
    },
    {
      "cell_type": "code",
      "source": [
        "\n",
        "batch_size = 2**14\n",
        "epochs = 120\n",
        "callback_lower = tf.keras.callbacks.LearningRateScheduler(scheduler)\n",
        "\n",
        "model_lower = keras.Sequential()\n",
        "\n",
        "model_lower.add(keras.Input(shape = (len(X_train[0]), ) ))\n",
        "model_lower.add(layers.Dense(64, activation=\"relu\"))\n",
        "model_lower.add(layers.Dense(32, activation=\"relu\"))\n",
        "model_lower.add(layers.Dense(16, activation=\"relu\"))\n",
        "model_lower.add(layers.Dense(8, activation=\"relu\"))\n",
        "model_lower.add(layers.Dense(8, activation=\"relu\"))\n",
        "model_lower.add(layers.Dense(8, activation=\"relu\"))\n",
        "model_lower.add(layers.Dense(1, activation=\"linear\"))\n",
        "\n",
        "\n",
        "opt = keras.optimizers.Adam(learning_rate=0.01)\n",
        "model_lower.compile(loss=\"mse\", optimizer=opt)\n",
        "history_lower = model_lower.fit(X_train_lower, y_train_lower, epochs=epochs, batch_size=batch_size,\n",
        "                    callbacks=[callback_lower], validation_data=(X_test_lower, y_test_lower))"
      ],
      "metadata": {
        "id": "SldHNXiwJu-i",
        "colab": {
          "base_uri": "https://localhost:8080/"
        },
        "outputId": "97f68c7e-7a05-433f-f9cf-0b5ecbdcd3d6"
      },
      "execution_count": 39,
      "outputs": [
        {
          "output_type": "stream",
          "name": "stdout",
          "text": [
            "Epoch 1/120\n",
            "55/55 [==============================] - 3s 27ms/step - loss: 18566.1113 - val_loss: 6740.2896 - lr: 0.0100\n",
            "Epoch 2/120\n",
            "55/55 [==============================] - 1s 23ms/step - loss: 6062.2466 - val_loss: 5609.6543 - lr: 0.0100\n",
            "Epoch 3/120\n",
            "55/55 [==============================] - 1s 22ms/step - loss: 5425.1460 - val_loss: 5125.8628 - lr: 0.0100\n",
            "Epoch 4/120\n",
            "55/55 [==============================] - 1s 21ms/step - loss: 5045.3584 - val_loss: 4951.5576 - lr: 0.0100\n",
            "Epoch 5/120\n",
            "55/55 [==============================] - 1s 22ms/step - loss: 4799.4937 - val_loss: 4682.4507 - lr: 0.0100\n",
            "Epoch 6/120\n",
            "55/55 [==============================] - 2s 33ms/step - loss: 4699.4224 - val_loss: 4724.7349 - lr: 0.0100\n",
            "Epoch 7/120\n",
            "55/55 [==============================] - 2s 38ms/step - loss: 4655.7217 - val_loss: 4613.9219 - lr: 0.0100\n",
            "Epoch 8/120\n",
            "55/55 [==============================] - 1s 23ms/step - loss: 4521.9541 - val_loss: 4458.4082 - lr: 0.0100\n",
            "Epoch 9/120\n",
            "55/55 [==============================] - 1s 23ms/step - loss: 4490.1226 - val_loss: 4589.0181 - lr: 0.0100\n",
            "Epoch 10/120\n",
            "55/55 [==============================] - 1s 21ms/step - loss: 4554.3569 - val_loss: 4449.7319 - lr: 0.0100\n",
            "Epoch 11/120\n",
            "55/55 [==============================] - 1s 23ms/step - loss: 4439.9873 - val_loss: 4542.6436 - lr: 0.0100\n",
            "Epoch 12/120\n",
            "55/55 [==============================] - 1s 23ms/step - loss: 4450.0918 - val_loss: 4391.0273 - lr: 0.0100\n",
            "Epoch 13/120\n",
            "55/55 [==============================] - 1s 22ms/step - loss: 4399.9624 - val_loss: 4257.6797 - lr: 0.0100\n",
            "Epoch 14/120\n",
            "55/55 [==============================] - 1s 22ms/step - loss: 4215.1855 - val_loss: 4096.5400 - lr: 0.0100\n",
            "Epoch 15/120\n",
            "55/55 [==============================] - 2s 32ms/step - loss: 3941.2175 - val_loss: 3822.3101 - lr: 0.0100\n",
            "Epoch 16/120\n",
            "55/55 [==============================] - 3s 51ms/step - loss: 3822.1719 - val_loss: 3736.1101 - lr: 0.0100\n",
            "Epoch 17/120\n",
            "55/55 [==============================] - 2s 31ms/step - loss: 3709.5906 - val_loss: 3789.4180 - lr: 0.0100\n",
            "Epoch 18/120\n",
            "55/55 [==============================] - 1s 22ms/step - loss: 3624.8442 - val_loss: 3557.4316 - lr: 0.0100\n",
            "Epoch 19/120\n",
            "55/55 [==============================] - 1s 22ms/step - loss: 3545.8562 - val_loss: 3701.1033 - lr: 0.0100\n",
            "Epoch 20/120\n",
            "55/55 [==============================] - 1s 22ms/step - loss: 3486.0474 - val_loss: 3466.9324 - lr: 0.0100\n",
            "Epoch 21/120\n",
            "55/55 [==============================] - 1s 22ms/step - loss: 3431.8799 - val_loss: 3394.2983 - lr: 0.0100\n",
            "Epoch 22/120\n",
            "55/55 [==============================] - 2s 29ms/step - loss: 3395.4917 - val_loss: 3648.3755 - lr: 0.0100\n",
            "Epoch 23/120\n",
            "55/55 [==============================] - 1s 23ms/step - loss: 3386.9417 - val_loss: 3446.8430 - lr: 0.0100\n",
            "Epoch 24/120\n",
            "55/55 [==============================] - 1s 22ms/step - loss: 3361.6211 - val_loss: 3401.5935 - lr: 0.0100\n",
            "Epoch 25/120\n",
            "55/55 [==============================] - 2s 30ms/step - loss: 3315.5391 - val_loss: 3314.8867 - lr: 0.0100\n",
            "Epoch 26/120\n",
            "55/55 [==============================] - 2s 35ms/step - loss: 3260.0588 - val_loss: 3311.3848 - lr: 0.0100\n",
            "Epoch 27/120\n",
            "55/55 [==============================] - 2s 29ms/step - loss: 3265.4294 - val_loss: 3259.6433 - lr: 0.0100\n",
            "Epoch 28/120\n",
            "55/55 [==============================] - 1s 22ms/step - loss: 3223.8689 - val_loss: 3353.2827 - lr: 0.0100\n",
            "Epoch 29/120\n",
            "55/55 [==============================] - 1s 22ms/step - loss: 3216.2805 - val_loss: 3624.3076 - lr: 0.0100\n",
            "Epoch 30/120\n",
            "55/55 [==============================] - 1s 22ms/step - loss: 3308.4287 - val_loss: 3203.8591 - lr: 0.0100\n",
            "Epoch 31/120\n",
            "55/55 [==============================] - 1s 22ms/step - loss: 3183.7712 - val_loss: 3164.1021 - lr: 0.0100\n",
            "Epoch 32/120\n",
            "55/55 [==============================] - 1s 22ms/step - loss: 3165.7197 - val_loss: 3153.2275 - lr: 0.0100\n",
            "Epoch 33/120\n",
            "55/55 [==============================] - 1s 22ms/step - loss: 3139.1272 - val_loss: 3164.0664 - lr: 0.0100\n",
            "Epoch 34/120\n",
            "55/55 [==============================] - 1s 21ms/step - loss: 3112.1025 - val_loss: 3305.0835 - lr: 0.0100\n",
            "Epoch 35/120\n",
            "55/55 [==============================] - 1s 24ms/step - loss: 3125.2871 - val_loss: 3269.3789 - lr: 0.0100\n",
            "Epoch 36/120\n",
            "55/55 [==============================] - 2s 37ms/step - loss: 3112.4023 - val_loss: 3181.2820 - lr: 0.0100\n",
            "Epoch 37/120\n",
            "55/55 [==============================] - 2s 33ms/step - loss: 3073.7898 - val_loss: 3294.3625 - lr: 0.0100\n",
            "Epoch 38/120\n",
            "55/55 [==============================] - 1s 22ms/step - loss: 3092.3806 - val_loss: 3110.7798 - lr: 0.0100\n",
            "Epoch 39/120\n",
            "55/55 [==============================] - 1s 22ms/step - loss: 3067.8447 - val_loss: 3093.8342 - lr: 0.0100\n",
            "Epoch 40/120\n",
            "55/55 [==============================] - 1s 21ms/step - loss: 3042.6770 - val_loss: 3091.7930 - lr: 0.0100\n",
            "Epoch 41/120\n",
            "55/55 [==============================] - 1s 22ms/step - loss: 3081.9846 - val_loss: 3157.3369 - lr: 0.0100\n",
            "Epoch 42/120\n",
            "55/55 [==============================] - 1s 22ms/step - loss: 3080.5435 - val_loss: 3111.1885 - lr: 0.0100\n",
            "Epoch 43/120\n",
            "55/55 [==============================] - 1s 22ms/step - loss: 3035.8279 - val_loss: 3061.1621 - lr: 0.0100\n",
            "Epoch 44/120\n",
            "55/55 [==============================] - 1s 22ms/step - loss: 3013.8569 - val_loss: 3021.3577 - lr: 0.0100\n",
            "Epoch 45/120\n",
            "55/55 [==============================] - 1s 22ms/step - loss: 3000.4556 - val_loss: 3043.6592 - lr: 0.0100\n",
            "Epoch 46/120\n",
            "55/55 [==============================] - 3s 46ms/step - loss: 3025.3787 - val_loss: 2997.1091 - lr: 0.0100\n",
            "Epoch 47/120\n",
            "55/55 [==============================] - 2s 36ms/step - loss: 3019.0403 - val_loss: 3096.6985 - lr: 0.0100\n",
            "Epoch 48/120\n",
            "55/55 [==============================] - 1s 22ms/step - loss: 2996.1604 - val_loss: 2994.8318 - lr: 0.0100\n",
            "Epoch 49/120\n",
            "55/55 [==============================] - 1s 22ms/step - loss: 3004.1228 - val_loss: 3032.5911 - lr: 0.0100\n",
            "Epoch 50/120\n",
            "55/55 [==============================] - 1s 22ms/step - loss: 3015.1863 - val_loss: 3011.4563 - lr: 0.0100\n",
            "Epoch 51/120\n",
            "55/55 [==============================] - 1s 22ms/step - loss: 3003.2166 - val_loss: 2994.5083 - lr: 0.0100\n",
            "Epoch 52/120\n",
            "55/55 [==============================] - 1s 24ms/step - loss: 2974.7849 - val_loss: 3017.9851 - lr: 0.0100\n",
            "Epoch 53/120\n",
            "55/55 [==============================] - 1s 23ms/step - loss: 2987.6038 - val_loss: 2984.8972 - lr: 0.0100\n",
            "Epoch 54/120\n",
            "55/55 [==============================] - 1s 23ms/step - loss: 2991.9412 - val_loss: 3195.9353 - lr: 0.0100\n",
            "Epoch 55/120\n",
            "55/55 [==============================] - 1s 26ms/step - loss: 2993.9700 - val_loss: 3040.1738 - lr: 0.0100\n",
            "Epoch 56/120\n",
            "55/55 [==============================] - 2s 38ms/step - loss: 2977.5022 - val_loss: 2987.6045 - lr: 0.0100\n",
            "Epoch 57/120\n",
            "55/55 [==============================] - 2s 30ms/step - loss: 2962.9631 - val_loss: 3014.2290 - lr: 0.0100\n",
            "Epoch 58/120\n",
            "55/55 [==============================] - 1s 23ms/step - loss: 2960.0820 - val_loss: 2963.6978 - lr: 0.0100\n",
            "Epoch 59/120\n",
            "55/55 [==============================] - 1s 23ms/step - loss: 3008.6267 - val_loss: 2977.0476 - lr: 0.0100\n",
            "Epoch 60/120\n",
            "55/55 [==============================] - 1s 22ms/step - loss: 2974.8914 - val_loss: 3003.6272 - lr: 0.0100\n",
            "Epoch 61/120\n",
            "55/55 [==============================] - 1s 22ms/step - loss: 2963.7285 - val_loss: 3072.5789 - lr: 0.0100\n",
            "Epoch 62/120\n",
            "55/55 [==============================] - 1s 23ms/step - loss: 2970.0886 - val_loss: 3130.9299 - lr: 0.0100\n",
            "Epoch 63/120\n",
            "55/55 [==============================] - 1s 22ms/step - loss: 2982.7273 - val_loss: 2993.2388 - lr: 0.0100\n",
            "Epoch 64/120\n",
            "55/55 [==============================] - 1s 21ms/step - loss: 2939.2007 - val_loss: 2976.5415 - lr: 0.0100\n",
            "Epoch 65/120\n",
            "55/55 [==============================] - 1s 24ms/step - loss: 2964.2048 - val_loss: 3068.5010 - lr: 0.0100\n",
            "Epoch 66/120\n",
            "55/55 [==============================] - 2s 35ms/step - loss: 2954.7437 - val_loss: 2983.4150 - lr: 0.0100\n",
            "Epoch 67/120\n",
            "55/55 [==============================] - 2s 35ms/step - loss: 2942.5771 - val_loss: 2997.4546 - lr: 0.0100\n",
            "Epoch 68/120\n",
            "55/55 [==============================] - 1s 23ms/step - loss: 2951.5989 - val_loss: 2987.3176 - lr: 0.0100\n",
            "Epoch 69/120\n",
            "55/55 [==============================] - 1s 22ms/step - loss: 2938.1440 - val_loss: 3102.1069 - lr: 0.0100\n",
            "Epoch 70/120\n",
            "55/55 [==============================] - 1s 22ms/step - loss: 2945.9355 - val_loss: 2954.2039 - lr: 0.0100\n",
            "Epoch 71/120\n",
            "55/55 [==============================] - 1s 22ms/step - loss: 2931.6873 - val_loss: 3030.3660 - lr: 0.0100\n",
            "Epoch 72/120\n",
            "55/55 [==============================] - 1s 23ms/step - loss: 2959.1145 - val_loss: 2938.0991 - lr: 0.0100\n",
            "Epoch 73/120\n",
            "55/55 [==============================] - 1s 22ms/step - loss: 2917.4988 - val_loss: 2922.3860 - lr: 0.0100\n",
            "Epoch 74/120\n",
            "55/55 [==============================] - 1s 22ms/step - loss: 2922.6621 - val_loss: 2948.7886 - lr: 0.0100\n",
            "Epoch 75/120\n",
            "55/55 [==============================] - 1s 22ms/step - loss: 2919.1702 - val_loss: 2912.6355 - lr: 0.0100\n",
            "Epoch 76/120\n",
            "55/55 [==============================] - 2s 38ms/step - loss: 2916.3906 - val_loss: 2948.9512 - lr: 0.0100\n",
            "Epoch 77/120\n",
            "55/55 [==============================] - 2s 34ms/step - loss: 2910.8140 - val_loss: 3014.3025 - lr: 0.0100\n",
            "Epoch 78/120\n",
            "55/55 [==============================] - 1s 22ms/step - loss: 2934.5835 - val_loss: 3156.9387 - lr: 0.0100\n",
            "Epoch 79/120\n",
            "55/55 [==============================] - 1s 22ms/step - loss: 2949.3638 - val_loss: 2925.9255 - lr: 0.0100\n",
            "Epoch 80/120\n",
            "55/55 [==============================] - 1s 23ms/step - loss: 2920.7917 - val_loss: 2916.3342 - lr: 0.0100\n",
            "Epoch 81/120\n",
            "55/55 [==============================] - 1s 23ms/step - loss: 2925.9680 - val_loss: 3055.0288 - lr: 0.0100\n",
            "Epoch 82/120\n",
            "55/55 [==============================] - 1s 23ms/step - loss: 2918.4119 - val_loss: 2936.8237 - lr: 0.0100\n",
            "Epoch 83/120\n",
            "55/55 [==============================] - 1s 21ms/step - loss: 2929.1880 - val_loss: 2911.6057 - lr: 0.0100\n",
            "Epoch 84/120\n",
            "55/55 [==============================] - 1s 22ms/step - loss: 2921.9985 - val_loss: 2968.0991 - lr: 0.0100\n",
            "Epoch 85/120\n",
            "55/55 [==============================] - 1s 22ms/step - loss: 2925.4375 - val_loss: 2916.8569 - lr: 0.0100\n",
            "Epoch 86/120\n",
            "55/55 [==============================] - 2s 33ms/step - loss: 2903.6709 - val_loss: 2901.9255 - lr: 0.0095\n",
            "Epoch 87/120\n",
            "55/55 [==============================] - 2s 37ms/step - loss: 2903.4893 - val_loss: 2920.4214 - lr: 0.0090\n",
            "Epoch 88/120\n",
            "55/55 [==============================] - 1s 23ms/step - loss: 2892.7190 - val_loss: 2934.9900 - lr: 0.0086\n",
            "Epoch 89/120\n",
            "55/55 [==============================] - 1s 22ms/step - loss: 2897.4890 - val_loss: 2935.6912 - lr: 0.0082\n",
            "Epoch 90/120\n",
            "55/55 [==============================] - 1s 22ms/step - loss: 2894.4646 - val_loss: 2999.7517 - lr: 0.0078\n",
            "Epoch 91/120\n",
            "55/55 [==============================] - 1s 23ms/step - loss: 2892.4695 - val_loss: 3034.5371 - lr: 0.0074\n",
            "Epoch 92/120\n",
            "55/55 [==============================] - 1s 22ms/step - loss: 2889.6365 - val_loss: 2914.3394 - lr: 0.0070\n",
            "Epoch 93/120\n",
            "55/55 [==============================] - 1s 22ms/step - loss: 2872.8757 - val_loss: 2962.6555 - lr: 0.0067\n",
            "Epoch 94/120\n",
            "55/55 [==============================] - 1s 22ms/step - loss: 2882.6882 - val_loss: 2909.3308 - lr: 0.0064\n",
            "Epoch 95/120\n",
            "55/55 [==============================] - 1s 23ms/step - loss: 2870.8213 - val_loss: 2868.6963 - lr: 0.0061\n",
            "Epoch 96/120\n",
            "55/55 [==============================] - 2s 33ms/step - loss: 2866.6865 - val_loss: 2991.9519 - lr: 0.0058\n",
            "Epoch 97/120\n",
            "55/55 [==============================] - 2s 38ms/step - loss: 2872.8210 - val_loss: 2884.8181 - lr: 0.0055\n",
            "Epoch 98/120\n",
            "55/55 [==============================] - 1s 24ms/step - loss: 2863.5425 - val_loss: 2881.5938 - lr: 0.0052\n",
            "Epoch 99/120\n",
            "55/55 [==============================] - 1s 23ms/step - loss: 2860.0215 - val_loss: 2866.7961 - lr: 0.0050\n",
            "Epoch 100/120\n",
            "55/55 [==============================] - 1s 22ms/step - loss: 2858.3484 - val_loss: 2879.4419 - lr: 0.0047\n",
            "Epoch 101/120\n",
            "55/55 [==============================] - 1s 22ms/step - loss: 2854.8594 - val_loss: 2870.6846 - lr: 0.0045\n",
            "Epoch 102/120\n",
            "55/55 [==============================] - 1s 23ms/step - loss: 2859.9497 - val_loss: 2864.5571 - lr: 0.0043\n",
            "Epoch 103/120\n",
            "55/55 [==============================] - 1s 22ms/step - loss: 2854.7112 - val_loss: 2887.6846 - lr: 0.0041\n",
            "Epoch 104/120\n",
            "55/55 [==============================] - 1s 23ms/step - loss: 2869.1064 - val_loss: 2859.8657 - lr: 0.0039\n",
            "Epoch 105/120\n",
            "55/55 [==============================] - 1s 23ms/step - loss: 2848.3359 - val_loss: 2899.4187 - lr: 0.0037\n",
            "Epoch 106/120\n",
            "55/55 [==============================] - 2s 32ms/step - loss: 2851.1072 - val_loss: 2871.0073 - lr: 0.0035\n",
            "Epoch 107/120\n",
            "55/55 [==============================] - 2s 35ms/step - loss: 2849.2039 - val_loss: 2847.8191 - lr: 0.0033\n",
            "Epoch 108/120\n",
            "55/55 [==============================] - 2s 27ms/step - loss: 2840.7231 - val_loss: 2871.0247 - lr: 0.0032\n",
            "Epoch 109/120\n",
            "55/55 [==============================] - 1s 23ms/step - loss: 2843.0466 - val_loss: 2867.0334 - lr: 0.0030\n",
            "Epoch 110/120\n",
            "55/55 [==============================] - 1s 22ms/step - loss: 2841.9604 - val_loss: 2850.0022 - lr: 0.0029\n",
            "Epoch 111/120\n",
            "55/55 [==============================] - 1s 23ms/step - loss: 2836.6348 - val_loss: 2841.5693 - lr: 0.0027\n",
            "Epoch 112/120\n",
            "55/55 [==============================] - 2s 31ms/step - loss: 2840.8428 - val_loss: 2847.5518 - lr: 0.0026\n",
            "Epoch 113/120\n",
            "55/55 [==============================] - 1s 23ms/step - loss: 2838.0737 - val_loss: 2874.3865 - lr: 0.0025\n",
            "Epoch 114/120\n",
            "55/55 [==============================] - 1s 23ms/step - loss: 2836.2498 - val_loss: 2840.6189 - lr: 0.0023\n",
            "Epoch 115/120\n",
            "55/55 [==============================] - 1s 26ms/step - loss: 2833.1655 - val_loss: 2851.4866 - lr: 0.0022\n",
            "Epoch 116/120\n",
            "55/55 [==============================] - 2s 37ms/step - loss: 2836.6082 - val_loss: 2847.8289 - lr: 0.0021\n",
            "Epoch 117/120\n",
            "55/55 [==============================] - 2s 35ms/step - loss: 2834.5251 - val_loss: 2844.4609 - lr: 0.0020\n",
            "Epoch 118/120\n",
            "55/55 [==============================] - 1s 23ms/step - loss: 2832.8127 - val_loss: 2833.2153 - lr: 0.0019\n",
            "Epoch 119/120\n",
            "55/55 [==============================] - 1s 23ms/step - loss: 2830.0608 - val_loss: 2842.4685 - lr: 0.0018\n",
            "Epoch 120/120\n",
            "55/55 [==============================] - 1s 22ms/step - loss: 2828.8918 - val_loss: 2834.0454 - lr: 0.0017\n"
          ]
        }
      ]
    },
    {
      "cell_type": "code",
      "source": [
        "callback_upper = tf.keras.callbacks.LearningRateScheduler(scheduler)\n",
        "model_upper = keras.Sequential()\n",
        "\n",
        "model_upper.add(keras.Input(shape = (len(X_train[0]), ) ))\n",
        "model_upper.add(layers.Dense(64, activation=\"relu\"))\n",
        "model_upper.add(layers.Dense(32, activation=\"relu\"))\n",
        "model_upper.add(layers.Dense(16, activation=\"relu\"))\n",
        "model_upper.add(layers.Dense(8, activation=\"relu\"))\n",
        "model_upper.add(layers.Dense(8, activation=\"relu\"))\n",
        "model_upper.add(layers.Dense(8, activation=\"relu\"))\n",
        "model_upper.add(layers.Dense(1, activation=\"linear\"))\n",
        "\n",
        "\n",
        "opt_upper = keras.optimizers.Adam(learning_rate=0.01)\n",
        "model_upper.compile(loss=\"mse\", optimizer=opt_upper)\n",
        "history_upper = model_upper.fit(X_train_upper, y_train_upper, epochs=epochs, batch_size=batch_size,\n",
        "                    callbacks=[callback_upper], validation_data=(X_test_upper, y_test_upper))"
      ],
      "metadata": {
        "colab": {
          "base_uri": "https://localhost:8080/"
        },
        "id": "vpux5U9tP5K2",
        "outputId": "39fc88d8-65ee-414f-be8a-fe4beb84a626"
      },
      "execution_count": 40,
      "outputs": [
        {
          "output_type": "stream",
          "name": "stdout",
          "text": [
            "Epoch 1/120\n",
            "16/16 [==============================] - 2s 35ms/step - loss: 53168228.0000 - val_loss: 51434212.0000 - lr: 0.0100\n",
            "Epoch 2/120\n",
            "16/16 [==============================] - 0s 24ms/step - loss: 47183676.0000 - val_loss: 46165344.0000 - lr: 0.0100\n",
            "Epoch 3/120\n",
            "16/16 [==============================] - 0s 26ms/step - loss: 44550100.0000 - val_loss: 43531888.0000 - lr: 0.0100\n",
            "Epoch 4/120\n",
            "16/16 [==============================] - 0s 24ms/step - loss: 41983552.0000 - val_loss: 40251920.0000 - lr: 0.0100\n",
            "Epoch 5/120\n",
            "16/16 [==============================] - 0s 24ms/step - loss: 38722472.0000 - val_loss: 36828780.0000 - lr: 0.0100\n",
            "Epoch 6/120\n",
            "16/16 [==============================] - 0s 23ms/step - loss: 35365708.0000 - val_loss: 34064112.0000 - lr: 0.0100\n",
            "Epoch 7/120\n",
            "16/16 [==============================] - 0s 24ms/step - loss: 32442562.0000 - val_loss: 31064264.0000 - lr: 0.0100\n",
            "Epoch 8/120\n",
            "16/16 [==============================] - 0s 24ms/step - loss: 32041938.0000 - val_loss: 31660056.0000 - lr: 0.0100\n",
            "Epoch 9/120\n",
            "16/16 [==============================] - 0s 24ms/step - loss: 31160420.0000 - val_loss: 30843762.0000 - lr: 0.0100\n",
            "Epoch 10/120\n",
            "16/16 [==============================] - 0s 24ms/step - loss: 30579774.0000 - val_loss: 30413354.0000 - lr: 0.0100\n",
            "Epoch 11/120\n",
            "16/16 [==============================] - 0s 26ms/step - loss: 30296982.0000 - val_loss: 30382690.0000 - lr: 0.0100\n",
            "Epoch 12/120\n",
            "16/16 [==============================] - 0s 23ms/step - loss: 30320790.0000 - val_loss: 30308514.0000 - lr: 0.0100\n",
            "Epoch 13/120\n",
            "16/16 [==============================] - 0s 26ms/step - loss: 30273230.0000 - val_loss: 30297976.0000 - lr: 0.0100\n",
            "Epoch 14/120\n",
            "16/16 [==============================] - 0s 23ms/step - loss: 30300698.0000 - val_loss: 30430876.0000 - lr: 0.0100\n",
            "Epoch 15/120\n",
            "16/16 [==============================] - 0s 23ms/step - loss: 30132454.0000 - val_loss: 30242008.0000 - lr: 0.0100\n",
            "Epoch 16/120\n",
            "16/16 [==============================] - 0s 24ms/step - loss: 29988112.0000 - val_loss: 30117506.0000 - lr: 0.0100\n",
            "Epoch 17/120\n",
            "16/16 [==============================] - 0s 23ms/step - loss: 29866734.0000 - val_loss: 30140824.0000 - lr: 0.0100\n",
            "Epoch 18/120\n",
            "16/16 [==============================] - 0s 24ms/step - loss: 29927762.0000 - val_loss: 30055296.0000 - lr: 0.0100\n",
            "Epoch 19/120\n",
            "16/16 [==============================] - 1s 35ms/step - loss: 29804494.0000 - val_loss: 29958820.0000 - lr: 0.0100\n",
            "Epoch 20/120\n",
            "16/16 [==============================] - 1s 46ms/step - loss: 29935048.0000 - val_loss: 30115962.0000 - lr: 0.0100\n",
            "Epoch 21/120\n",
            "16/16 [==============================] - 1s 40ms/step - loss: 29839002.0000 - val_loss: 29892142.0000 - lr: 0.0100\n",
            "Epoch 22/120\n",
            "16/16 [==============================] - 1s 40ms/step - loss: 29686074.0000 - val_loss: 29880196.0000 - lr: 0.0100\n",
            "Epoch 23/120\n",
            "16/16 [==============================] - 1s 38ms/step - loss: 29642916.0000 - val_loss: 30055342.0000 - lr: 0.0100\n",
            "Epoch 24/120\n",
            "16/16 [==============================] - 1s 39ms/step - loss: 29534720.0000 - val_loss: 29733300.0000 - lr: 0.0100\n",
            "Epoch 25/120\n",
            "16/16 [==============================] - 1s 31ms/step - loss: 30035558.0000 - val_loss: 30669000.0000 - lr: 0.0100\n",
            "Epoch 26/120\n",
            "16/16 [==============================] - 0s 26ms/step - loss: 30322928.0000 - val_loss: 29816076.0000 - lr: 0.0100\n",
            "Epoch 27/120\n",
            "16/16 [==============================] - 0s 24ms/step - loss: 29129346.0000 - val_loss: 28762694.0000 - lr: 0.0100\n",
            "Epoch 28/120\n",
            "16/16 [==============================] - 0s 25ms/step - loss: 28170206.0000 - val_loss: 28652426.0000 - lr: 0.0100\n",
            "Epoch 29/120\n",
            "16/16 [==============================] - 0s 23ms/step - loss: 27837778.0000 - val_loss: 28223420.0000 - lr: 0.0100\n",
            "Epoch 30/120\n",
            "16/16 [==============================] - 0s 23ms/step - loss: 27803358.0000 - val_loss: 28631830.0000 - lr: 0.0100\n",
            "Epoch 31/120\n",
            "16/16 [==============================] - 0s 25ms/step - loss: 27935602.0000 - val_loss: 27820702.0000 - lr: 0.0100\n",
            "Epoch 32/120\n",
            "16/16 [==============================] - 0s 23ms/step - loss: 27386882.0000 - val_loss: 27559952.0000 - lr: 0.0100\n",
            "Epoch 33/120\n",
            "16/16 [==============================] - 0s 25ms/step - loss: 27074096.0000 - val_loss: 27408020.0000 - lr: 0.0100\n",
            "Epoch 34/120\n",
            "16/16 [==============================] - 0s 24ms/step - loss: 26899648.0000 - val_loss: 27406818.0000 - lr: 0.0100\n",
            "Epoch 35/120\n",
            "16/16 [==============================] - 0s 24ms/step - loss: 26883942.0000 - val_loss: 27303510.0000 - lr: 0.0100\n",
            "Epoch 36/120\n",
            "16/16 [==============================] - 0s 26ms/step - loss: 26772450.0000 - val_loss: 27226860.0000 - lr: 0.0100\n",
            "Epoch 37/120\n",
            "16/16 [==============================] - 0s 23ms/step - loss: 26657262.0000 - val_loss: 27105350.0000 - lr: 0.0100\n",
            "Epoch 38/120\n",
            "16/16 [==============================] - 0s 24ms/step - loss: 26519810.0000 - val_loss: 27103386.0000 - lr: 0.0100\n",
            "Epoch 39/120\n",
            "16/16 [==============================] - 0s 26ms/step - loss: 26514840.0000 - val_loss: 26971436.0000 - lr: 0.0100\n",
            "Epoch 40/120\n",
            "16/16 [==============================] - 0s 23ms/step - loss: 26388592.0000 - val_loss: 27048180.0000 - lr: 0.0100\n",
            "Epoch 41/120\n",
            "16/16 [==============================] - 0s 26ms/step - loss: 26400352.0000 - val_loss: 26842014.0000 - lr: 0.0100\n",
            "Epoch 42/120\n",
            "16/16 [==============================] - 0s 24ms/step - loss: 26318360.0000 - val_loss: 26964698.0000 - lr: 0.0100\n",
            "Epoch 43/120\n",
            "16/16 [==============================] - 0s 26ms/step - loss: 26181394.0000 - val_loss: 26807524.0000 - lr: 0.0100\n",
            "Epoch 44/120\n",
            "16/16 [==============================] - 0s 25ms/step - loss: 26193734.0000 - val_loss: 26683494.0000 - lr: 0.0100\n",
            "Epoch 45/120\n",
            "16/16 [==============================] - 0s 23ms/step - loss: 25998024.0000 - val_loss: 26801908.0000 - lr: 0.0100\n",
            "Epoch 46/120\n",
            "16/16 [==============================] - 0s 25ms/step - loss: 26006368.0000 - val_loss: 26643910.0000 - lr: 0.0100\n",
            "Epoch 47/120\n",
            "16/16 [==============================] - 0s 23ms/step - loss: 25863066.0000 - val_loss: 26728398.0000 - lr: 0.0100\n",
            "Epoch 48/120\n",
            "16/16 [==============================] - 0s 24ms/step - loss: 25798168.0000 - val_loss: 26942398.0000 - lr: 0.0100\n",
            "Epoch 49/120\n",
            "16/16 [==============================] - 0s 25ms/step - loss: 25759560.0000 - val_loss: 26740276.0000 - lr: 0.0100\n",
            "Epoch 50/120\n",
            "16/16 [==============================] - 0s 30ms/step - loss: 25667316.0000 - val_loss: 26593650.0000 - lr: 0.0100\n",
            "Epoch 51/120\n",
            "16/16 [==============================] - 1s 38ms/step - loss: 25624748.0000 - val_loss: 26689816.0000 - lr: 0.0100\n",
            "Epoch 52/120\n",
            "16/16 [==============================] - 1s 38ms/step - loss: 25570794.0000 - val_loss: 26634046.0000 - lr: 0.0100\n",
            "Epoch 53/120\n",
            "16/16 [==============================] - 1s 40ms/step - loss: 25500638.0000 - val_loss: 26502258.0000 - lr: 0.0100\n",
            "Epoch 54/120\n",
            "16/16 [==============================] - 1s 40ms/step - loss: 25564990.0000 - val_loss: 26371410.0000 - lr: 0.0100\n",
            "Epoch 55/120\n",
            "16/16 [==============================] - 1s 38ms/step - loss: 25365176.0000 - val_loss: 26564224.0000 - lr: 0.0100\n",
            "Epoch 56/120\n",
            "16/16 [==============================] - 1s 39ms/step - loss: 25417592.0000 - val_loss: 26535586.0000 - lr: 0.0100\n",
            "Epoch 57/120\n",
            "16/16 [==============================] - 0s 27ms/step - loss: 25494916.0000 - val_loss: 26460564.0000 - lr: 0.0100\n",
            "Epoch 58/120\n",
            "16/16 [==============================] - 0s 25ms/step - loss: 25693064.0000 - val_loss: 26492414.0000 - lr: 0.0100\n",
            "Epoch 59/120\n",
            "16/16 [==============================] - 0s 26ms/step - loss: 25445476.0000 - val_loss: 26494602.0000 - lr: 0.0100\n",
            "Epoch 60/120\n",
            "16/16 [==============================] - 0s 25ms/step - loss: 25341780.0000 - val_loss: 26370682.0000 - lr: 0.0100\n",
            "Epoch 61/120\n",
            "16/16 [==============================] - 0s 24ms/step - loss: 25403374.0000 - val_loss: 26685444.0000 - lr: 0.0100\n",
            "Epoch 62/120\n",
            "16/16 [==============================] - 0s 23ms/step - loss: 25372344.0000 - val_loss: 26542026.0000 - lr: 0.0100\n",
            "Epoch 63/120\n",
            "16/16 [==============================] - 0s 24ms/step - loss: 25502272.0000 - val_loss: 26572592.0000 - lr: 0.0100\n",
            "Epoch 64/120\n",
            "16/16 [==============================] - 0s 25ms/step - loss: 25061150.0000 - val_loss: 26223378.0000 - lr: 0.0100\n",
            "Epoch 65/120\n",
            "16/16 [==============================] - 0s 24ms/step - loss: 25116938.0000 - val_loss: 26752588.0000 - lr: 0.0100\n",
            "Epoch 66/120\n",
            "16/16 [==============================] - 0s 24ms/step - loss: 25158006.0000 - val_loss: 26007570.0000 - lr: 0.0100\n",
            "Epoch 67/120\n",
            "16/16 [==============================] - 0s 26ms/step - loss: 25085452.0000 - val_loss: 26017374.0000 - lr: 0.0100\n",
            "Epoch 68/120\n",
            "16/16 [==============================] - 0s 26ms/step - loss: 24922394.0000 - val_loss: 26215502.0000 - lr: 0.0100\n",
            "Epoch 69/120\n",
            "16/16 [==============================] - 0s 25ms/step - loss: 25025874.0000 - val_loss: 26344798.0000 - lr: 0.0100\n",
            "Epoch 70/120\n",
            "16/16 [==============================] - 0s 23ms/step - loss: 24840046.0000 - val_loss: 25948304.0000 - lr: 0.0100\n",
            "Epoch 71/120\n",
            "16/16 [==============================] - 0s 24ms/step - loss: 25097172.0000 - val_loss: 27420382.0000 - lr: 0.0100\n",
            "Epoch 72/120\n",
            "16/16 [==============================] - 0s 25ms/step - loss: 25210878.0000 - val_loss: 26538742.0000 - lr: 0.0100\n",
            "Epoch 73/120\n",
            "16/16 [==============================] - 0s 24ms/step - loss: 24895420.0000 - val_loss: 26197220.0000 - lr: 0.0100\n",
            "Epoch 74/120\n",
            "16/16 [==============================] - 0s 24ms/step - loss: 24802312.0000 - val_loss: 26371220.0000 - lr: 0.0100\n",
            "Epoch 75/120\n",
            "16/16 [==============================] - 0s 24ms/step - loss: 24864322.0000 - val_loss: 26207552.0000 - lr: 0.0100\n",
            "Epoch 76/120\n",
            "16/16 [==============================] - 0s 24ms/step - loss: 24892532.0000 - val_loss: 26585518.0000 - lr: 0.0100\n",
            "Epoch 77/120\n",
            "16/16 [==============================] - 0s 24ms/step - loss: 24846816.0000 - val_loss: 26288586.0000 - lr: 0.0100\n",
            "Epoch 78/120\n",
            "16/16 [==============================] - 0s 23ms/step - loss: 24667342.0000 - val_loss: 26145450.0000 - lr: 0.0100\n",
            "Epoch 79/120\n",
            "16/16 [==============================] - 0s 23ms/step - loss: 24730736.0000 - val_loss: 26209936.0000 - lr: 0.0100\n",
            "Epoch 80/120\n",
            "16/16 [==============================] - 0s 26ms/step - loss: 24843334.0000 - val_loss: 26400246.0000 - lr: 0.0100\n",
            "Epoch 81/120\n",
            "16/16 [==============================] - 0s 24ms/step - loss: 24668962.0000 - val_loss: 26903410.0000 - lr: 0.0100\n",
            "Epoch 82/120\n",
            "16/16 [==============================] - 0s 28ms/step - loss: 24870484.0000 - val_loss: 26166742.0000 - lr: 0.0100\n",
            "Epoch 83/120\n",
            "16/16 [==============================] - 1s 37ms/step - loss: 24843072.0000 - val_loss: 26373786.0000 - lr: 0.0100\n",
            "Epoch 84/120\n",
            "16/16 [==============================] - 1s 45ms/step - loss: 24836260.0000 - val_loss: 26536498.0000 - lr: 0.0100\n",
            "Epoch 85/120\n",
            "16/16 [==============================] - 1s 38ms/step - loss: 24591668.0000 - val_loss: 26371440.0000 - lr: 0.0100\n",
            "Epoch 86/120\n",
            "16/16 [==============================] - 1s 40ms/step - loss: 24486900.0000 - val_loss: 26283056.0000 - lr: 0.0095\n",
            "Epoch 87/120\n",
            "16/16 [==============================] - 1s 41ms/step - loss: 24566056.0000 - val_loss: 26161470.0000 - lr: 0.0090\n",
            "Epoch 88/120\n",
            "16/16 [==============================] - 1s 36ms/step - loss: 24497234.0000 - val_loss: 26221332.0000 - lr: 0.0086\n",
            "Epoch 89/120\n",
            "16/16 [==============================] - 0s 24ms/step - loss: 24624686.0000 - val_loss: 26357768.0000 - lr: 0.0082\n",
            "Epoch 90/120\n",
            "16/16 [==============================] - 0s 23ms/step - loss: 24462956.0000 - val_loss: 26116412.0000 - lr: 0.0078\n",
            "Epoch 91/120\n",
            "16/16 [==============================] - 0s 25ms/step - loss: 24423996.0000 - val_loss: 25998844.0000 - lr: 0.0074\n",
            "Epoch 92/120\n",
            "16/16 [==============================] - 0s 25ms/step - loss: 24282596.0000 - val_loss: 26302236.0000 - lr: 0.0070\n",
            "Epoch 93/120\n",
            "16/16 [==============================] - 0s 24ms/step - loss: 24320380.0000 - val_loss: 25996100.0000 - lr: 0.0067\n",
            "Epoch 94/120\n",
            "16/16 [==============================] - 0s 24ms/step - loss: 24288052.0000 - val_loss: 26067258.0000 - lr: 0.0064\n",
            "Epoch 95/120\n",
            "16/16 [==============================] - 0s 25ms/step - loss: 24190756.0000 - val_loss: 26156136.0000 - lr: 0.0061\n",
            "Epoch 96/120\n",
            "16/16 [==============================] - 0s 24ms/step - loss: 24163490.0000 - val_loss: 26348562.0000 - lr: 0.0058\n",
            "Epoch 97/120\n",
            "16/16 [==============================] - 0s 25ms/step - loss: 24135910.0000 - val_loss: 26197934.0000 - lr: 0.0055\n",
            "Epoch 98/120\n",
            "16/16 [==============================] - 0s 24ms/step - loss: 24027252.0000 - val_loss: 26232382.0000 - lr: 0.0052\n",
            "Epoch 99/120\n",
            "16/16 [==============================] - 0s 26ms/step - loss: 24058222.0000 - val_loss: 26001852.0000 - lr: 0.0050\n",
            "Epoch 100/120\n",
            "16/16 [==============================] - 0s 27ms/step - loss: 24003816.0000 - val_loss: 26152578.0000 - lr: 0.0047\n",
            "Epoch 101/120\n",
            "16/16 [==============================] - 0s 23ms/step - loss: 23977234.0000 - val_loss: 26267336.0000 - lr: 0.0045\n",
            "Epoch 102/120\n",
            "16/16 [==============================] - 0s 24ms/step - loss: 23974154.0000 - val_loss: 26183968.0000 - lr: 0.0043\n",
            "Epoch 103/120\n",
            "16/16 [==============================] - 0s 26ms/step - loss: 24019548.0000 - val_loss: 26127300.0000 - lr: 0.0041\n",
            "Epoch 104/120\n",
            "16/16 [==============================] - 0s 25ms/step - loss: 23972780.0000 - val_loss: 26116708.0000 - lr: 0.0039\n",
            "Epoch 105/120\n",
            "16/16 [==============================] - 0s 25ms/step - loss: 23899332.0000 - val_loss: 26134544.0000 - lr: 0.0037\n",
            "Epoch 106/120\n",
            "16/16 [==============================] - 0s 23ms/step - loss: 23913562.0000 - val_loss: 26085918.0000 - lr: 0.0035\n",
            "Epoch 107/120\n",
            "16/16 [==============================] - 0s 23ms/step - loss: 23868568.0000 - val_loss: 26248852.0000 - lr: 0.0033\n",
            "Epoch 108/120\n",
            "16/16 [==============================] - 0s 24ms/step - loss: 23862142.0000 - val_loss: 26200482.0000 - lr: 0.0032\n",
            "Epoch 109/120\n",
            "16/16 [==============================] - 0s 23ms/step - loss: 23910560.0000 - val_loss: 26183364.0000 - lr: 0.0030\n",
            "Epoch 110/120\n",
            "16/16 [==============================] - 0s 28ms/step - loss: 23870710.0000 - val_loss: 26098114.0000 - lr: 0.0029\n",
            "Epoch 111/120\n",
            "16/16 [==============================] - 0s 25ms/step - loss: 23809674.0000 - val_loss: 26232550.0000 - lr: 0.0027\n",
            "Epoch 112/120\n",
            "16/16 [==============================] - 0s 27ms/step - loss: 23836926.0000 - val_loss: 26230314.0000 - lr: 0.0026\n",
            "Epoch 113/120\n",
            "16/16 [==============================] - 0s 26ms/step - loss: 23829312.0000 - val_loss: 26073892.0000 - lr: 0.0025\n",
            "Epoch 114/120\n",
            "16/16 [==============================] - 1s 37ms/step - loss: 23787930.0000 - val_loss: 26150318.0000 - lr: 0.0023\n",
            "Epoch 115/120\n",
            "16/16 [==============================] - 1s 36ms/step - loss: 23769524.0000 - val_loss: 26223786.0000 - lr: 0.0022\n",
            "Epoch 116/120\n",
            "16/16 [==============================] - 1s 38ms/step - loss: 23775212.0000 - val_loss: 26157424.0000 - lr: 0.0021\n",
            "Epoch 117/120\n",
            "16/16 [==============================] - 1s 39ms/step - loss: 23796262.0000 - val_loss: 26235720.0000 - lr: 0.0020\n",
            "Epoch 118/120\n",
            "16/16 [==============================] - 1s 41ms/step - loss: 23722392.0000 - val_loss: 26231224.0000 - lr: 0.0019\n",
            "Epoch 119/120\n",
            "16/16 [==============================] - 1s 40ms/step - loss: 23708420.0000 - val_loss: 26134838.0000 - lr: 0.0018\n",
            "Epoch 120/120\n",
            "16/16 [==============================] - 1s 35ms/step - loss: 23694898.0000 - val_loss: 26141128.0000 - lr: 0.0017\n"
          ]
        }
      ]
    },
    {
      "cell_type": "code",
      "source": [
        "y_pred_lower = model_lower.predict(X_test_lower)\n",
        "y_pred_upper = model_upper.predict(X_test_upper)"
      ],
      "metadata": {
        "colab": {
          "base_uri": "https://localhost:8080/"
        },
        "id": "_8sMYu-8P-P0",
        "outputId": "b140500c-c58b-4ead-8cf5-c9f9fcca07be"
      },
      "execution_count": 41,
      "outputs": [
        {
          "output_type": "stream",
          "name": "stdout",
          "text": [
            "9226/9226 [==============================] - 14s 2ms/step\n",
            "2728/2728 [==============================] - 4s 1ms/step\n"
          ]
        }
      ]
    },
    {
      "cell_type": "code",
      "source": [
        "r2_lower = r2_score(y_test_lower, y_pred_lower)\n",
        "mae_lower = mean_absolute_error(y_test_lower, y_pred_lower)\n",
        "mse_lower = mean_squared_error(y_test_lower, y_pred_lower)\n",
        "rmse_lower = mean_squared_error(y_test_lower, y_pred_lower, squared=False)\n",
        "\n",
        "print('lower r2 = %.3f' % r2_lower)\n",
        "print('lower mae = %.3f' % mae_lower)\n",
        "print('lower mse = %.3f' % mse_lower)\n",
        "print('lower rmse = %.3f' % rmse_lower)\n",
        "\n",
        "\n",
        "print(y_test_upper.shape)\n",
        "print(y_pred_upper.shape)\n",
        "\n",
        "r2_upper = r2_score(y_test_upper, y_pred_upper)\n",
        "mae_upper = mean_absolute_error(y_test_upper, y_pred_upper)\n",
        "mse_upper = mean_squared_error(y_test_upper, y_pred_upper)\n",
        "rmse_upper = mean_squared_error(y_test_upper, y_pred_upper, squared=False)\n",
        "\n",
        "print('upper r2 = %.3f' % r2_upper)\n",
        "print('upper mae = %.3f' % mae_upper)\n",
        "print('upper mse = %.3f' % mse_upper)\n",
        "print('upper rmse = %.3f' % rmse_upper)"
      ],
      "metadata": {
        "id": "fFzv5_-rNz6t",
        "outputId": "9e00857f-f542-48c3-9091-14b6b700cfa7",
        "colab": {
          "base_uri": "https://localhost:8080/"
        }
      },
      "execution_count": 42,
      "outputs": [
        {
          "output_type": "stream",
          "name": "stdout",
          "text": [
            "lower r2 = 0.696\n",
            "lower mae = 29.770\n",
            "lower mse = 2834.046\n",
            "lower rmse = 53.236\n",
            "(87277,)\n",
            "(87277, 1)\n",
            "upper r2 = 0.452\n",
            "upper mae = 1539.097\n",
            "upper mse = 26141128.991\n",
            "upper rmse = 5112.840\n"
          ]
        }
      ]
    },
    {
      "cell_type": "code",
      "source": [
        "# now combine the breakpoint calculator with the two models to make predictions for all data\n",
        "\n",
        "def classify_and_predict(X):\n",
        "    # threshhold of\n",
        "    predicted_upper_indices = (model_breakpoint.predict(X) > 0.5)\n",
        "    predicted_lower_indices = np.invert(predicted_upper_indices)\n",
        "\n",
        "    predicted_upper = X[predicted_upper_indices[:, 0]]\n",
        "    predicted_lower = X[predicted_lower_indices[:, 0]]\n",
        "\n",
        "    upper_results = model_upper.predict(predicted_upper)\n",
        "    lower_results = model_lower.predict(predicted_lower)\n",
        "\n",
        "    results = np.empty(shape=(X.shape[0], 1))\n",
        "\n",
        "    results[predicted_upper_indices[:, 0]] = upper_results\n",
        "    results[predicted_lower_indices[:, 0]] = lower_results\n",
        "\n",
        "    return results\n",
        "\n",
        "X_test_concat = np.vstack((X_test_lower, X_test_upper))\n",
        "y_test_concat = np.hstack((y_test_lower, y_test_upper))\n",
        "\n",
        "y_pred_concat = classify_and_predict(X_test_concat)"
      ],
      "metadata": {
        "id": "GR4BQPKkQcMF",
        "outputId": "3fca8e7c-ff72-4727-dc12-998314c8f682",
        "colab": {
          "base_uri": "https://localhost:8080/"
        }
      },
      "execution_count": 43,
      "outputs": [
        {
          "output_type": "stream",
          "name": "stdout",
          "text": [
            "11954/11954 [==============================] - 19s 2ms/step\n",
            "2228/2228 [==============================] - 3s 1ms/step\n",
            "9726/9726 [==============================] - 15s 2ms/step\n"
          ]
        }
      ]
    },
    {
      "cell_type": "code",
      "source": [
        "r2 = r2_score(y_test_concat, y_pred_concat)\n",
        "mae = mean_absolute_error(y_test_concat, y_pred_concat)\n",
        "mse = mean_squared_error(y_test_concat, y_pred_concat)\n",
        "rmse = mean_squared_error(y_test_concat, y_pred_concat, squared=False)\n",
        "\n",
        "print('r2 = %.3f' % r2)\n",
        "print('mae = %.3f' % mae)\n",
        "print('mse = %.3f' % mse)\n",
        "print('rmse = %.3f' % rmse)"
      ],
      "metadata": {
        "id": "4HjrIKx8XL-5",
        "outputId": "b1e99d60-8938-43f1-e4cf-7d68ec1ca61e",
        "colab": {
          "base_uri": "https://localhost:8080/"
        }
      },
      "execution_count": 44,
      "outputs": [
        {
          "output_type": "stream",
          "name": "stdout",
          "text": [
            "r2 = 0.493\n",
            "mae = 395.742\n",
            "mse = 6041936.980\n",
            "rmse = 2458.035\n"
          ]
        }
      ]
    }
  ]
}