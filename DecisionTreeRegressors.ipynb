{
  "nbformat": 4,
  "nbformat_minor": 0,
  "metadata": {
    "colab": {
      "provenance": [],
      "include_colab_link": true
    },
    "kernelspec": {
      "name": "python3",
      "display_name": "Python 3"
    },
    "language_info": {
      "name": "python"
    }
  },
  "cells": [
    {
      "cell_type": "markdown",
      "metadata": {
        "id": "view-in-github",
        "colab_type": "text"
      },
      "source": [
        "<a href=\"https://colab.research.google.com/github/jacobdwatters/NIOSH-Project/blob/main/DecisionTreeRegressors.ipynb\" target=\"_parent\"><img src=\"https://colab.research.google.com/assets/colab-badge.svg\" alt=\"Open In Colab\"/></a>"
      ]
    },
    {
      "cell_type": "markdown",
      "source": [
        "## Imports and Setup"
      ],
      "metadata": {
        "id": "MxbDXTpuwR_4"
      }
    },
    {
      "cell_type": "code",
      "execution_count": 9,
      "metadata": {
        "id": "8WGmG69mwGr6"
      },
      "outputs": [],
      "source": [
        "import numpy as np\n",
        "import pandas as pd\n",
        "import seaborn as sns\n",
        "import matplotlib.pyplot as plt\n",
        "import joblib\n",
        "\n",
        "import sklearn\n",
        "from sklearn.preprocessing import StandardScaler\n",
        "from sklearn.preprocessing import OneHotEncoder\n",
        "from sklearn.model_selection import train_test_split\n",
        "from sklearn.metrics import mean_absolute_error\n",
        "from sklearn.metrics import r2_score\n",
        "from sklearn.model_selection import cross_val_score\n",
        "from sklearn.tree import DecisionTreeRegressor\n",
        "from sklearn.ensemble import AdaBoostRegressor\n",
        "\n",
        "import scipy as sp\n",
        "from scipy import stats"
      ]
    },
    {
      "cell_type": "code",
      "source": [
        "from google.colab import drive\n",
        "drive.mount('/content/gdrive')"
      ],
      "metadata": {
        "colab": {
          "base_uri": "https://localhost:8080/"
        },
        "id": "xwHdUdHkwwKj",
        "outputId": "0591a642-5fbe-4cd1-e1ee-3b6e51014abc"
      },
      "execution_count": 15,
      "outputs": [
        {
          "output_type": "stream",
          "name": "stdout",
          "text": [
            "Drive already mounted at /content/gdrive; to attempt to forcibly remount, call drive.mount(\"/content/gdrive\", force_remount=True).\n"
          ]
        }
      ]
    },
    {
      "cell_type": "markdown",
      "source": [
        "## Load and process data"
      ],
      "metadata": {
        "id": "He-cYiukww_g"
      }
    },
    {
      "cell_type": "code",
      "source": [
        "path_after_2010 = '/content/gdrive/My Drive/School/Grad School/NIOSH Project/Data/violations_processed_after_2010.csv'\n",
        "violation_data = pd.read_csv(path_after_2010)"
      ],
      "metadata": {
        "id": "DnMF15Grwwll",
        "outputId": "029c14e9-e220-4630-89ff-aaefa72b271a",
        "colab": {
          "base_uri": "https://localhost:8080/"
        }
      },
      "execution_count": 4,
      "outputs": [
        {
          "output_type": "stream",
          "name": "stderr",
          "text": [
            "<ipython-input-4-837e5d150e00>:2: DtypeWarning: Columns (10) have mixed types. Specify dtype option on import or set low_memory=False.\n",
            "  violation_data = pd.read_csv(path_after_2010)\n"
          ]
        }
      ]
    },
    {
      "cell_type": "code",
      "source": [
        "FEATURES = ['MINE_TYPE', 'COAL_METAL_IND', 'SIG_SUB', 'LIKELIHOOD',\n",
        "            'INJ_ILLNESS', 'NO_AFFECTED', 'NEGLIGENCE', 'VIOLATOR_VIOLATION_CNT',\n",
        "            'VIOLATOR_INSPECTION_DAY_CNT']\n",
        "TARGETS = ['PROPOSED_PENALTY']\n",
        "\n",
        "X = violation_data[FEATURES]\n",
        "y = violation_data[TARGETS]"
      ],
      "metadata": {
        "id": "kTU6kTsqw859"
      },
      "execution_count": 5,
      "outputs": []
    },
    {
      "cell_type": "code",
      "source": [
        "# Define which columns should be encoded vs scaled\n",
        "columns_to_encode = ['MINE_TYPE', 'COAL_METAL_IND', 'LIKELIHOOD', 'INJ_ILLNESS', 'SIG_SUB', 'NEGLIGENCE']\n",
        "columns_to_scale  = ['VIOLATOR_VIOLATION_CNT', 'NO_AFFECTED', 'VIOLATOR_INSPECTION_DAY_CNT']\n",
        "\n",
        "# Instantiate encoder/scaler\n",
        "scaler = StandardScaler()\n",
        "ohe = OneHotEncoder(sparse=False)\n",
        "\n",
        "# Scale and Encode Separate Columns\n",
        "scaled_columns  = scaler.fit_transform(X[columns_to_scale])\n",
        "encoded_columns = ohe.fit_transform(X[columns_to_encode])\n",
        "\n",
        "# Concatenate (Column-Bind) Processed Columns Back Together\n",
        "X_pre = np.concatenate([scaled_columns, encoded_columns], axis=1)\n",
        "np.nan_to_num(X_pre, copy=False)\n",
        "\n",
        "print('Features shape:', X_pre.shape)"
      ],
      "metadata": {
        "colab": {
          "base_uri": "https://localhost:8080/"
        },
        "id": "LM8KEuc7w9R6",
        "outputId": "1efb6605-2d2a-48db-9048-a3bc977811d2"
      },
      "execution_count": 6,
      "outputs": [
        {
          "output_type": "stream",
          "name": "stderr",
          "text": [
            "/usr/local/lib/python3.10/dist-packages/sklearn/preprocessing/_encoders.py:868: FutureWarning: `sparse` was renamed to `sparse_output` in version 1.2 and will be removed in 1.4. `sparse_output` is ignored unless you leave `sparse` to its default value.\n",
            "  warnings.warn(\n"
          ]
        },
        {
          "output_type": "stream",
          "name": "stdout",
          "text": [
            "Features shape: (1530011, 24)\n"
          ]
        }
      ]
    },
    {
      "cell_type": "code",
      "source": [
        "joblib.dump(scaler, '/content/gdrive/My Drive/School/Grad School/NIOSH Project/Models/PropPenalty-DecTree/PropPenalty-DecTree-scaler.pkl')\n",
        "joblib.dump(ohe, '/content/gdrive/My Drive/School/Grad School/NIOSH Project/Models/PropPenalty-DecTree/PropPenalty-DecTree-encoder.pkl')"
      ],
      "metadata": {
        "id": "MeYjTeU4lpAv",
        "outputId": "5e43cd4e-596a-41d4-b493-e2b2b372bc4a",
        "colab": {
          "base_uri": "https://localhost:8080/"
        }
      },
      "execution_count": 16,
      "outputs": [
        {
          "output_type": "execute_result",
          "data": {
            "text/plain": [
              "['/content/gdrive/My Drive/School/Grad School/NIOSH Project/Models/PropPenalty-DecTree/PropPenalty-DecTree-encoder.pkl']"
            ]
          },
          "metadata": {},
          "execution_count": 16
        }
      ]
    },
    {
      "cell_type": "code",
      "source": [
        "X_train, X_test, y_train, y_test = train_test_split(X_pre, y, test_size = 0.25, random_state = 0)\n",
        "\n",
        "print('X_train shape:', X_train.shape)\n",
        "print('X_test shape:', X_test.shape)\n",
        "print('y_train shape:', y_train.shape)\n",
        "print('y_train shape:', y_test.shape)"
      ],
      "metadata": {
        "colab": {
          "base_uri": "https://localhost:8080/"
        },
        "id": "OiNV268Ax6Cy",
        "outputId": "a9dd11c4-45c0-4f2a-bf55-e6d016da06e6"
      },
      "execution_count": 17,
      "outputs": [
        {
          "output_type": "stream",
          "name": "stdout",
          "text": [
            "X_train shape: (1147508, 24)\n",
            "X_test shape: (382503, 24)\n",
            "y_train shape: (1147508, 1)\n",
            "y_train shape: (382503, 1)\n"
          ]
        }
      ]
    },
    {
      "cell_type": "markdown",
      "source": [
        "## Decision Tree Regressor"
      ],
      "metadata": {
        "id": "3CATfCiGx7ei"
      }
    },
    {
      "cell_type": "code",
      "source": [
        "tree_regressor = DecisionTreeRegressor(max_depth=10, random_state=0).fit(X_train, y_train)"
      ],
      "metadata": {
        "id": "E1GKl0hfx-hQ"
      },
      "execution_count": 18,
      "outputs": []
    },
    {
      "cell_type": "code",
      "source": [
        "tree_regressor_y_pred_train = tree_regressor.predict(X_train)\n",
        "tree_regressor_y_pred_test = tree_regressor.predict(X_test)\n",
        "\n",
        "tree_regressor_r_squared_train = r2_score(y_train, tree_regressor_y_pred_train)\n",
        "tree_regressor_r_squared_test = r2_score(y_test, tree_regressor_y_pred_test)\n",
        "\n",
        "tree_regressor_mae_train = mean_absolute_error(y_train, tree_regressor_y_pred_train)\n",
        "tree_regressor_mae_test = mean_absolute_error(y_test, tree_regressor_y_pred_test)\n",
        "\n",
        "print('Decision Tree Regression Scores:')\n",
        "print('Training R^2 = %.3f' % tree_regressor_r_squared_train)\n",
        "print('Training MAE = %.3f' % tree_regressor_mae_train)\n",
        "\n",
        "print('\\nTesting R^2 = %.3f' % tree_regressor_r_squared_test)\n",
        "print('Testing MAE = %.3f' % tree_regressor_mae_test)"
      ],
      "metadata": {
        "colab": {
          "base_uri": "https://localhost:8080/"
        },
        "id": "_yFq_jGd0sXW",
        "outputId": "b7e9806f-c108-432c-af61-837a9dc667d1"
      },
      "execution_count": 19,
      "outputs": [
        {
          "output_type": "stream",
          "name": "stdout",
          "text": [
            "Decision Tree Regression Scores:\n",
            "Training R^2 = 0.628\n",
            "Training MAE = 411.747\n",
            "\n",
            "Testing R^2 = 0.523\n",
            "Testing MAE = 427.553\n"
          ]
        }
      ]
    },
    {
      "cell_type": "markdown",
      "source": [
        "## Decision Tree Regressor with AdaBoost"
      ],
      "metadata": {
        "id": "CTOHuG5d3Mjo"
      }
    },
    {
      "cell_type": "code",
      "source": [
        "tree_regressor_adaboost = AdaBoostRegressor(\n",
        "    DecisionTreeRegressor(max_depth=15), n_estimators=5, random_state=0\n",
        ")\n",
        "tree_regressor_adaboost.fit(X_train, np.ravel(y_train))\n"
      ],
      "metadata": {
        "colab": {
          "base_uri": "https://localhost:8080/",
          "height": 118
        },
        "id": "0YZoWGsE3QuR",
        "outputId": "aae15cfd-5381-430f-e516-16a03eb79170"
      },
      "execution_count": 22,
      "outputs": [
        {
          "output_type": "execute_result",
          "data": {
            "text/plain": [
              "AdaBoostRegressor(estimator=DecisionTreeRegressor(max_depth=15), n_estimators=5,\n",
              "                  random_state=0)"
            ],
            "text/html": [
              "<style>#sk-container-id-2 {color: black;background-color: white;}#sk-container-id-2 pre{padding: 0;}#sk-container-id-2 div.sk-toggleable {background-color: white;}#sk-container-id-2 label.sk-toggleable__label {cursor: pointer;display: block;width: 100%;margin-bottom: 0;padding: 0.3em;box-sizing: border-box;text-align: center;}#sk-container-id-2 label.sk-toggleable__label-arrow:before {content: \"▸\";float: left;margin-right: 0.25em;color: #696969;}#sk-container-id-2 label.sk-toggleable__label-arrow:hover:before {color: black;}#sk-container-id-2 div.sk-estimator:hover label.sk-toggleable__label-arrow:before {color: black;}#sk-container-id-2 div.sk-toggleable__content {max-height: 0;max-width: 0;overflow: hidden;text-align: left;background-color: #f0f8ff;}#sk-container-id-2 div.sk-toggleable__content pre {margin: 0.2em;color: black;border-radius: 0.25em;background-color: #f0f8ff;}#sk-container-id-2 input.sk-toggleable__control:checked~div.sk-toggleable__content {max-height: 200px;max-width: 100%;overflow: auto;}#sk-container-id-2 input.sk-toggleable__control:checked~label.sk-toggleable__label-arrow:before {content: \"▾\";}#sk-container-id-2 div.sk-estimator input.sk-toggleable__control:checked~label.sk-toggleable__label {background-color: #d4ebff;}#sk-container-id-2 div.sk-label input.sk-toggleable__control:checked~label.sk-toggleable__label {background-color: #d4ebff;}#sk-container-id-2 input.sk-hidden--visually {border: 0;clip: rect(1px 1px 1px 1px);clip: rect(1px, 1px, 1px, 1px);height: 1px;margin: -1px;overflow: hidden;padding: 0;position: absolute;width: 1px;}#sk-container-id-2 div.sk-estimator {font-family: monospace;background-color: #f0f8ff;border: 1px dotted black;border-radius: 0.25em;box-sizing: border-box;margin-bottom: 0.5em;}#sk-container-id-2 div.sk-estimator:hover {background-color: #d4ebff;}#sk-container-id-2 div.sk-parallel-item::after {content: \"\";width: 100%;border-bottom: 1px solid gray;flex-grow: 1;}#sk-container-id-2 div.sk-label:hover label.sk-toggleable__label {background-color: #d4ebff;}#sk-container-id-2 div.sk-serial::before {content: \"\";position: absolute;border-left: 1px solid gray;box-sizing: border-box;top: 0;bottom: 0;left: 50%;z-index: 0;}#sk-container-id-2 div.sk-serial {display: flex;flex-direction: column;align-items: center;background-color: white;padding-right: 0.2em;padding-left: 0.2em;position: relative;}#sk-container-id-2 div.sk-item {position: relative;z-index: 1;}#sk-container-id-2 div.sk-parallel {display: flex;align-items: stretch;justify-content: center;background-color: white;position: relative;}#sk-container-id-2 div.sk-item::before, #sk-container-id-2 div.sk-parallel-item::before {content: \"\";position: absolute;border-left: 1px solid gray;box-sizing: border-box;top: 0;bottom: 0;left: 50%;z-index: -1;}#sk-container-id-2 div.sk-parallel-item {display: flex;flex-direction: column;z-index: 1;position: relative;background-color: white;}#sk-container-id-2 div.sk-parallel-item:first-child::after {align-self: flex-end;width: 50%;}#sk-container-id-2 div.sk-parallel-item:last-child::after {align-self: flex-start;width: 50%;}#sk-container-id-2 div.sk-parallel-item:only-child::after {width: 0;}#sk-container-id-2 div.sk-dashed-wrapped {border: 1px dashed gray;margin: 0 0.4em 0.5em 0.4em;box-sizing: border-box;padding-bottom: 0.4em;background-color: white;}#sk-container-id-2 div.sk-label label {font-family: monospace;font-weight: bold;display: inline-block;line-height: 1.2em;}#sk-container-id-2 div.sk-label-container {text-align: center;}#sk-container-id-2 div.sk-container {/* jupyter's `normalize.less` sets `[hidden] { display: none; }` but bootstrap.min.css set `[hidden] { display: none !important; }` so we also need the `!important` here to be able to override the default hidden behavior on the sphinx rendered scikit-learn.org. See: https://github.com/scikit-learn/scikit-learn/issues/21755 */display: inline-block !important;position: relative;}#sk-container-id-2 div.sk-text-repr-fallback {display: none;}</style><div id=\"sk-container-id-2\" class=\"sk-top-container\"><div class=\"sk-text-repr-fallback\"><pre>AdaBoostRegressor(estimator=DecisionTreeRegressor(max_depth=15), n_estimators=5,\n",
              "                  random_state=0)</pre><b>In a Jupyter environment, please rerun this cell to show the HTML representation or trust the notebook. <br />On GitHub, the HTML representation is unable to render, please try loading this page with nbviewer.org.</b></div><div class=\"sk-container\" hidden><div class=\"sk-item sk-dashed-wrapped\"><div class=\"sk-label-container\"><div class=\"sk-label sk-toggleable\"><input class=\"sk-toggleable__control sk-hidden--visually\" id=\"sk-estimator-id-4\" type=\"checkbox\" ><label for=\"sk-estimator-id-4\" class=\"sk-toggleable__label sk-toggleable__label-arrow\">AdaBoostRegressor</label><div class=\"sk-toggleable__content\"><pre>AdaBoostRegressor(estimator=DecisionTreeRegressor(max_depth=15), n_estimators=5,\n",
              "                  random_state=0)</pre></div></div></div><div class=\"sk-parallel\"><div class=\"sk-parallel-item\"><div class=\"sk-item\"><div class=\"sk-label-container\"><div class=\"sk-label sk-toggleable\"><input class=\"sk-toggleable__control sk-hidden--visually\" id=\"sk-estimator-id-5\" type=\"checkbox\" ><label for=\"sk-estimator-id-5\" class=\"sk-toggleable__label sk-toggleable__label-arrow\">estimator: DecisionTreeRegressor</label><div class=\"sk-toggleable__content\"><pre>DecisionTreeRegressor(max_depth=15)</pre></div></div></div><div class=\"sk-serial\"><div class=\"sk-item\"><div class=\"sk-estimator sk-toggleable\"><input class=\"sk-toggleable__control sk-hidden--visually\" id=\"sk-estimator-id-6\" type=\"checkbox\" ><label for=\"sk-estimator-id-6\" class=\"sk-toggleable__label sk-toggleable__label-arrow\">DecisionTreeRegressor</label><div class=\"sk-toggleable__content\"><pre>DecisionTreeRegressor(max_depth=15)</pre></div></div></div></div></div></div></div></div></div></div>"
            ]
          },
          "metadata": {},
          "execution_count": 22
        }
      ]
    },
    {
      "cell_type": "code",
      "source": [
        "tree_regressor_adaboost_y_pred_train = tree_regressor_adaboost.predict(X_train)\n",
        "tree_regressor_adaboost_y_pred_test = tree_regressor_adaboost.predict(X_test)\n",
        "\n",
        "tree_regressor_adaboost_r_squared_train = r2_score(y_train, tree_regressor_adaboost_y_pred_train)\n",
        "tree_regressor_adaboost_r_squared_test = r2_score(y_test, tree_regressor_adaboost_y_pred_test)\n",
        "\n",
        "tree_regressor_adaboost_mae_train = mean_absolute_error(y_train, tree_regressor_adaboost_y_pred_train)\n",
        "tree_regressor_adaboost_mae_test = mean_absolute_error(y_test, tree_regressor_adaboost_y_pred_test)\n",
        "\n",
        "print('Decision Tree Regression with AdaBoost Scores:')\n",
        "print('Training R^2 = %.3f' % tree_regressor_adaboost_r_squared_train)\n",
        "print('Training MAE = %.3f' % tree_regressor_adaboost_mae_train)\n",
        "\n",
        "print('\\nTesting R^2 = %.3f' % tree_regressor_adaboost_r_squared_test)\n",
        "print('Testing MAE = %.3f' % tree_regressor_adaboost_mae_test)"
      ],
      "metadata": {
        "colab": {
          "base_uri": "https://localhost:8080/"
        },
        "id": "c8DaDN_U3lyL",
        "outputId": "3aeb3be8-58df-4859-d8cf-cb84656965c4"
      },
      "execution_count": 23,
      "outputs": [
        {
          "output_type": "stream",
          "name": "stdout",
          "text": [
            "Decision Tree Regression with AdaBoost Scores:\n",
            "Training R^2 = 0.799\n",
            "Training MAE = 346.210\n",
            "\n",
            "Testing R^2 = 0.490\n",
            "Testing MAE = 415.585\n"
          ]
        }
      ]
    },
    {
      "cell_type": "markdown",
      "source": [
        "Save Model"
      ],
      "metadata": {
        "id": "P7hK-WqfnzFs"
      }
    },
    {
      "cell_type": "code",
      "source": [
        "joblib.dump(tree_regressor_adaboost, 'filename.pkl')"
      ],
      "metadata": {
        "id": "UCosn2q_nrUA"
      },
      "execution_count": null,
      "outputs": []
    },
    {
      "cell_type": "markdown",
      "source": [
        "## Prepare Inlier Data"
      ],
      "metadata": {
        "id": "E6l5pm0Y7s8W"
      }
    },
    {
      "cell_type": "code",
      "source": [
        "MAX_VALUE = 1000\n",
        "violations_cliped = violation_data[violation_data['PROPOSED_PENALTY'] <= MAX_VALUE]\n",
        "\n",
        "print('Total samples = %d' % len(violation_data))\n",
        "print('Total samples with PROPOSED_PENALTY <= %d: %d' % (MAX_VALUE, len(violations_cliped)))"
      ],
      "metadata": {
        "colab": {
          "base_uri": "https://localhost:8080/"
        },
        "id": "4gJs-Ywz70yF",
        "outputId": "c08aa822-d149-43b8-c5b2-1026f13b81a3"
      },
      "execution_count": null,
      "outputs": [
        {
          "output_type": "stream",
          "name": "stdout",
          "text": [
            "Total samples = 1429135\n",
            "Total samples with PROPOSED_PENALTY <= 1000: 1259626\n"
          ]
        }
      ]
    },
    {
      "cell_type": "code",
      "source": [
        "X_inliers = violations_cliped[FEATURES]\n",
        "y_inliers = violations_cliped[TARGETS]\n",
        "\n",
        "# Instantiate encoder/scaler\n",
        "scaler = StandardScaler()\n",
        "ohe = OneHotEncoder(sparse=False)\n",
        "\n",
        "# Scale and Encode Separate Columns\n",
        "scaled_columns_inliers  = scaler.fit_transform(X_inliers[columns_to_scale])\n",
        "encoded_columns_inliers = ohe.fit_transform(X_inliers[columns_to_encode])\n",
        "\n",
        "# Concatenate (Column-Bind) Processed Columns Back Together\n",
        "X_pre_inliers = np.concatenate([scaled_columns_inliers, encoded_columns_inliers], axis=1)\n",
        "np.nan_to_num(X_pre_inliers, copy=False)\n",
        "\n",
        "X_train_inliers, X_test_inliers, y_train_inliers, y_test_inliers = train_test_split(X_pre_inliers, y_inliers, test_size = 0.25, random_state = 0)"
      ],
      "metadata": {
        "id": "ZLxRSqtk7w3g"
      },
      "execution_count": null,
      "outputs": []
    },
    {
      "cell_type": "markdown",
      "source": [
        "## Inlier Decision Tree Regressor with AdaBoost"
      ],
      "metadata": {
        "id": "bZNZ_uNU7_6J"
      }
    },
    {
      "cell_type": "code",
      "source": [
        "tree_regressor_adaboost_inliers = AdaBoostRegressor(\n",
        "    DecisionTreeRegressor(max_depth=18), n_estimators=4, random_state=0\n",
        ")\n",
        "tree_regressor_adaboost_inliers.fit(X_train_inliers, np.ravel(y_train_inliers))"
      ],
      "metadata": {
        "colab": {
          "base_uri": "https://localhost:8080/"
        },
        "id": "BK67jBcw7xsY",
        "outputId": "d3c57fa6-4892-4b44-e112-4cc8d98f94ac"
      },
      "execution_count": null,
      "outputs": [
        {
          "output_type": "execute_result",
          "data": {
            "text/plain": [
              "AdaBoostRegressor(base_estimator=DecisionTreeRegressor(max_depth=18),\n",
              "                  n_estimators=4, random_state=0)"
            ]
          },
          "metadata": {},
          "execution_count": 73
        }
      ]
    },
    {
      "cell_type": "code",
      "source": [
        "tree_regressor_adaboost_inliers_y_pred_train = tree_regressor_adaboost_inliers.predict(X_train_inliers)\n",
        "tree_regressor_adaboost_inliers_y_pred_test = tree_regressor_adaboost_inliers.predict(X_test_inliers)\n",
        "\n",
        "tree_regressor_adaboost_inliers_r_squared_train = r2_score(y_train_inliers, tree_regressor_adaboost_inliers_y_pred_train)\n",
        "tree_regressor_adaboost_inliers_r_squared_test = r2_score(y_test_inliers, tree_regressor_adaboost_inliers_y_pred_test)\n",
        "\n",
        "tree_regressor_adaboost_inliers_mae_train = mean_absolute_error(y_train_inliers, tree_regressor_adaboost_inliers_y_pred_train)\n",
        "tree_regressor_adaboost_inliers_mae_test = mean_absolute_error(y_test_inliers, tree_regressor_adaboost_inliers_y_pred_test)\n",
        "\n",
        "print('Inlier Decision Tree Regression with AdaBoost Scores:')\n",
        "print('Training R^2 = %.3f' % tree_regressor_adaboost_inliers_r_squared_train)\n",
        "print('Training MAE = %.3f' % tree_regressor_adaboost_inliers_mae_train)\n",
        "\n",
        "print('\\nTesting R^2 = %.3f' % tree_regressor_adaboost_inliers_r_squared_test)\n",
        "print('Testing MAE = %.3f' % tree_regressor_adaboost_inliers_mae_test)"
      ],
      "metadata": {
        "colab": {
          "base_uri": "https://localhost:8080/"
        },
        "id": "13vwXw5J8baq",
        "outputId": "f3cadcce-0dfc-418b-fe5d-17342e7213a4"
      },
      "execution_count": null,
      "outputs": [
        {
          "output_type": "stream",
          "name": "stdout",
          "text": [
            "Inlier Decision Tree Regression with AdaBoost Scores:\n",
            "Training R^2 = 0.769\n",
            "Training MAE = 58.629\n",
            "\n",
            "Testing R^2 = 0.706\n",
            "Testing MAE = 65.346\n"
          ]
        }
      ]
    },
    {
      "cell_type": "markdown",
      "source": [
        "## Prepare Outlier Data"
      ],
      "metadata": {
        "id": "dT4C8dMcEmQX"
      }
    },
    {
      "cell_type": "code",
      "source": [
        "violations_outliers = violation_data[violation_data['PROPOSED_PENALTY'] > MAX_VALUE]\n",
        "\n",
        "print('Total samples = %d' % len(violation_data))\n",
        "print('Total samples with PROPOSED_PENALTY > %d: %d' % (MAX_VALUE, len(violations_outliers)))"
      ],
      "metadata": {
        "colab": {
          "base_uri": "https://localhost:8080/"
        },
        "id": "LHtV6SzwErDc",
        "outputId": "9778c707-b376-4ab6-ecfb-fc09e8b34871"
      },
      "execution_count": null,
      "outputs": [
        {
          "output_type": "stream",
          "name": "stdout",
          "text": [
            "Total samples = 1429135\n",
            "Total samples with PROPOSED_PENALTY > 1000: 169509\n"
          ]
        }
      ]
    },
    {
      "cell_type": "code",
      "source": [
        "X_outliers = violations_outliers[FEATURES]\n",
        "y_outliers = violations_outliers[TARGETS]\n",
        "\n",
        "# Instantiate encoder/scaler\n",
        "scaler = StandardScaler()\n",
        "ohe = OneHotEncoder(sparse=False)\n",
        "\n",
        "# Scale and Encode Separate Columns\n",
        "scaled_columns_outliers  = scaler.fit_transform(X_outliers[columns_to_scale])\n",
        "encoded_columns_outliers = ohe.fit_transform(X_outliers[columns_to_encode])\n",
        "\n",
        "# Concatenate (Column-Bind) Processed Columns Back Together\n",
        "X_pre_outliers = np.concatenate([scaled_columns_outliers, encoded_columns_outliers], axis=1)\n",
        "np.nan_to_num(X_pre_outliers, copy=False)\n",
        "\n",
        "X_train_outliers, X_test_outliers, y_train_outliers, y_test_outliers = train_test_split(X_pre_outliers, y_outliers, test_size = 0.25, random_state = 0)"
      ],
      "metadata": {
        "id": "lvs90SE7Eys4"
      },
      "execution_count": null,
      "outputs": []
    },
    {
      "cell_type": "markdown",
      "source": [
        "## Outlier Decision Tree Regression with AdaBoost"
      ],
      "metadata": {
        "id": "KZ_tsagwFWIl"
      }
    },
    {
      "cell_type": "code",
      "source": [
        "tree_regressor_adaboost_outliers = AdaBoostRegressor(\n",
        "    DecisionTreeRegressor(max_depth=11), n_estimators=3, random_state=0\n",
        ")\n",
        "tree_regressor_adaboost_outliers.fit(X_train_outliers, np.ravel(y_train_outliers))"
      ],
      "metadata": {
        "colab": {
          "base_uri": "https://localhost:8080/"
        },
        "id": "71Ub3jEnFV17",
        "outputId": "3494cf3f-eb14-461b-8d02-2d3c5fb09200"
      },
      "execution_count": null,
      "outputs": [
        {
          "output_type": "execute_result",
          "data": {
            "text/plain": [
              "AdaBoostRegressor(base_estimator=DecisionTreeRegressor(max_depth=11),\n",
              "                  n_estimators=3, random_state=0)"
            ]
          },
          "metadata": {},
          "execution_count": 140
        }
      ]
    },
    {
      "cell_type": "code",
      "source": [
        "tree_regressor_adaboost_outliers_y_pred_train = tree_regressor_adaboost_outliers.predict(X_train_outliers)\n",
        "tree_regressor_adaboost_outliers_y_pred_test = tree_regressor_adaboost_outliers.predict(X_test_outliers)\n",
        "\n",
        "tree_regressor_adaboost_outliers_r_squared_train = r2_score(y_train_outliers, tree_regressor_adaboost_outliers_y_pred_train)\n",
        "tree_regressor_adaboost_outliers_r_squared_test = r2_score(y_test_outliers, tree_regressor_adaboost_outliers_y_pred_test)\n",
        "\n",
        "tree_regressor_adaboost_outliers_mae_train = mean_absolute_error(y_train_outliers, tree_regressor_adaboost_outliers_y_pred_train)\n",
        "tree_regressor_adaboost_outliers_mae_test = mean_absolute_error(y_test_outliers, tree_regressor_adaboost_outliers_y_pred_test)\n",
        "\n",
        "print('Outlier Decision Tree Regression with AdaBoost Scores:')\n",
        "print('Training R^2 = %.3f' % tree_regressor_adaboost_outliers_r_squared_train)\n",
        "print('Training MAE = %.3f' % tree_regressor_adaboost_outliers_mae_train)\n",
        "\n",
        "print('\\nTesting R^2 = %.3f' % tree_regressor_adaboost_outliers_r_squared_test)\n",
        "print('Testing MAE = %.3f' % tree_regressor_adaboost_outliers_mae_test)"
      ],
      "metadata": {
        "colab": {
          "base_uri": "https://localhost:8080/"
        },
        "id": "EdVcqQs6FgAR",
        "outputId": "26ac887b-0820-4ad4-e94e-64607976a6af"
      },
      "execution_count": null,
      "outputs": [
        {
          "output_type": "stream",
          "name": "stdout",
          "text": [
            "Outlier Decision Tree Regression with AdaBoost Scores:\n",
            "Training R^2 = 0.630\n",
            "Training MAE = 2495.198\n",
            "\n",
            "Testing R^2 = 0.409\n",
            "Testing MAE = 2776.637\n"
          ]
        }
      ]
    }
  ]
}