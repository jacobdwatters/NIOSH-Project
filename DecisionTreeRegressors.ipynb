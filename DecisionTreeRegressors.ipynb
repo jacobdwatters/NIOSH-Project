{
  "nbformat": 4,
  "nbformat_minor": 0,
  "metadata": {
    "colab": {
      "provenance": [],
      "collapsed_sections": [],
      "authorship_tag": "ABX9TyNlLH6z5A0GEjHzBNHyQ3Yx",
      "include_colab_link": true
    },
    "kernelspec": {
      "name": "python3",
      "display_name": "Python 3"
    },
    "language_info": {
      "name": "python"
    }
  },
  "cells": [
    {
      "cell_type": "markdown",
      "metadata": {
        "id": "view-in-github",
        "colab_type": "text"
      },
      "source": [
        "<a href=\"https://colab.research.google.com/github/jacobdwatters/NIOSH-Project/blob/main/DecisionTreeRegressors.ipynb\" target=\"_parent\"><img src=\"https://colab.research.google.com/assets/colab-badge.svg\" alt=\"Open In Colab\"/></a>"
      ]
    },
    {
      "cell_type": "markdown",
      "source": [
        "## Imports and Setup"
      ],
      "metadata": {
        "id": "MxbDXTpuwR_4"
      }
    },
    {
      "cell_type": "code",
      "execution_count": 9,
      "metadata": {
        "id": "8WGmG69mwGr6"
      },
      "outputs": [],
      "source": [
        "import numpy as np\n",
        "import pandas as pd\n",
        "import seaborn as sns\n",
        "import matplotlib.pyplot as plt\n",
        "\n",
        "import sklearn\n",
        "from sklearn.preprocessing import StandardScaler\n",
        "from sklearn.preprocessing import OneHotEncoder\n",
        "from sklearn.model_selection import train_test_split\n",
        "from sklearn.metrics import mean_absolute_error\n",
        "from sklearn.metrics import r2_score\n",
        "from sklearn.datasets import load_diabetes\n",
        "from sklearn.model_selection import cross_val_score\n",
        "from sklearn.tree import DecisionTreeRegressor\n",
        "from sklearn.ensemble import AdaBoostRegressor\n",
        "\n",
        "import scipy as sp\n",
        "from scipy import stats"
      ]
    },
    {
      "cell_type": "code",
      "source": [
        "from google.colab import drive\n",
        "drive.mount('/content/gdrive')"
      ],
      "metadata": {
        "colab": {
          "base_uri": "https://localhost:8080/"
        },
        "id": "xwHdUdHkwwKj",
        "outputId": "129766a1-2881-43e0-f9a4-0284627c0a61"
      },
      "execution_count": 2,
      "outputs": [
        {
          "output_type": "stream",
          "name": "stdout",
          "text": [
            "Drive already mounted at /content/gdrive; to attempt to forcibly remount, call drive.mount(\"/content/gdrive\", force_remount=True).\n"
          ]
        }
      ]
    },
    {
      "cell_type": "markdown",
      "source": [
        "## Load and process data"
      ],
      "metadata": {
        "id": "He-cYiukww_g"
      }
    },
    {
      "cell_type": "code",
      "source": [
        "path_after_2010 = '/content/gdrive/My Drive/NIOSH Project/data/violations_processed_after_2010.csv'\n",
        "violation_data = pd.read_csv(path_after_2010)"
      ],
      "metadata": {
        "id": "DnMF15Grwwll"
      },
      "execution_count": 3,
      "outputs": []
    },
    {
      "cell_type": "code",
      "source": [
        "FEATURES = ['MINE_TYPE', 'COAL_METAL_IND', 'SIG_SUB', 'LIKELIHOOD', \n",
        "            'INJ_ILLNESS', 'NO_AFFECTED', 'NEGLIGENCE', 'VIOLATOR_VIOLATION_CNT',\n",
        "            'VIOLATOR_INSPECTION_DAY_CNT']\n",
        "TARGETS = ['PROPOSED_PENALTY']\n",
        "\n",
        "X = violation_data[FEATURES]\n",
        "y = violation_data[TARGETS]"
      ],
      "metadata": {
        "id": "kTU6kTsqw859"
      },
      "execution_count": 4,
      "outputs": []
    },
    {
      "cell_type": "code",
      "source": [
        "# Define which columns should be encoded vs scaled\n",
        "columns_to_encode = ['MINE_TYPE', 'COAL_METAL_IND', 'LIKELIHOOD', 'INJ_ILLNESS', 'SIG_SUB', 'NEGLIGENCE']\n",
        "columns_to_scale  = ['VIOLATOR_VIOLATION_CNT', 'NO_AFFECTED', 'VIOLATOR_INSPECTION_DAY_CNT']\n",
        "\n",
        "# Instantiate encoder/scaler\n",
        "scaler = StandardScaler()\n",
        "ohe = OneHotEncoder(sparse=False)\n",
        "\n",
        "# Scale and Encode Separate Columns\n",
        "scaled_columns  = scaler.fit_transform(X[columns_to_scale])\n",
        "encoded_columns = ohe.fit_transform(X[columns_to_encode])\n",
        "\n",
        "# Concatenate (Column-Bind) Processed Columns Back Together\n",
        "X_pre = np.concatenate([scaled_columns, encoded_columns], axis=1)\n",
        "np.nan_to_num(X_pre, copy=False)\n",
        "\n",
        "print('Features shape:', X_pre.shape)"
      ],
      "metadata": {
        "colab": {
          "base_uri": "https://localhost:8080/"
        },
        "id": "LM8KEuc7w9R6",
        "outputId": "70df479f-707f-4133-97e4-9f691dcbd72b"
      },
      "execution_count": 5,
      "outputs": [
        {
          "output_type": "stream",
          "name": "stdout",
          "text": [
            "Features shape: (1429135, 24)\n"
          ]
        }
      ]
    },
    {
      "cell_type": "code",
      "source": [
        "X_train, X_test, y_train, y_test = train_test_split(X_pre, y, test_size = 0.25, random_state = 0)\n",
        "\n",
        "print('X_train shape:', X_train.shape)\n",
        "print('X_test shape:', X_test.shape)\n",
        "print('y_train shape:', y_train.shape)\n",
        "print('y_train shape:', y_test.shape)"
      ],
      "metadata": {
        "colab": {
          "base_uri": "https://localhost:8080/"
        },
        "id": "OiNV268Ax6Cy",
        "outputId": "b877235e-f150-4aef-b19c-6c0e75d5d4e8"
      },
      "execution_count": 6,
      "outputs": [
        {
          "output_type": "stream",
          "name": "stdout",
          "text": [
            "X_train shape: (1071851, 24)\n",
            "X_test shape: (357284, 24)\n",
            "y_train shape: (1071851, 1)\n",
            "y_train shape: (357284, 1)\n"
          ]
        }
      ]
    },
    {
      "cell_type": "markdown",
      "source": [
        "## Decision Tree Regressor"
      ],
      "metadata": {
        "id": "3CATfCiGx7ei"
      }
    },
    {
      "cell_type": "code",
      "source": [
        "tree_regressor = DecisionTreeRegressor(max_depth=10, random_state=0).fit(X_train, y_train)"
      ],
      "metadata": {
        "id": "E1GKl0hfx-hQ"
      },
      "execution_count": 7,
      "outputs": []
    },
    {
      "cell_type": "code",
      "source": [
        "tree_regressor_y_pred_train = tree_regressor.predict(X_train)\n",
        "tree_regressor_y_pred_test = tree_regressor.predict(X_test)\n",
        "\n",
        "tree_regressor_r_squared_train = r2_score(y_train, tree_regressor_y_pred_train)\n",
        "tree_regressor_r_squared_test = r2_score(y_test, tree_regressor_y_pred_test)\n",
        "\n",
        "tree_regressor_mae_train = mean_absolute_error(y_train, tree_regressor_y_pred_train)\n",
        "tree_regressor_mae_test = mean_absolute_error(y_test, tree_regressor_y_pred_test)\n",
        "\n",
        "print('Decision Tree Regression Scores:')\n",
        "print('Training R^2 = %.3f' % tree_regressor_r_squared_train)\n",
        "print('Training MAE = %.3f' % tree_regressor_mae_train)\n",
        "\n",
        "print('\\nTesting R^2 = %.3f' % tree_regressor_r_squared_test)\n",
        "print('Testing MAE = %.3f' % tree_regressor_mae_test)"
      ],
      "metadata": {
        "colab": {
          "base_uri": "https://localhost:8080/"
        },
        "id": "_yFq_jGd0sXW",
        "outputId": "ad815570-4529-4f75-fb24-f75c4d26de71"
      },
      "execution_count": 8,
      "outputs": [
        {
          "output_type": "stream",
          "name": "stdout",
          "text": [
            "Decision Tree Regression Scores:\n",
            "Training R^2 = 0.622\n",
            "Training MAE = 416.042\n",
            "\n",
            "Testing R^2 = 0.505\n",
            "Testing MAE = 431.952\n"
          ]
        }
      ]
    },
    {
      "cell_type": "markdown",
      "source": [
        "## Decision Tree Regressor with AdaBoost"
      ],
      "metadata": {
        "id": "CTOHuG5d3Mjo"
      }
    },
    {
      "cell_type": "code",
      "source": [
        "tree_regressor_adaboost = AdaBoostRegressor(\n",
        "    DecisionTreeRegressor(max_depth=15), n_estimators=5, random_state=0\n",
        ")\n",
        "tree_regressor_adaboost.fit(X_train, np.ravel(y_train))\n"
      ],
      "metadata": {
        "colab": {
          "base_uri": "https://localhost:8080/"
        },
        "id": "0YZoWGsE3QuR",
        "outputId": "521f889f-9dce-47da-bef0-a6eb51a28640"
      },
      "execution_count": 36,
      "outputs": [
        {
          "output_type": "execute_result",
          "data": {
            "text/plain": [
              "AdaBoostRegressor(base_estimator=DecisionTreeRegressor(max_depth=15),\n",
              "                  n_estimators=5, random_state=0)"
            ]
          },
          "metadata": {},
          "execution_count": 36
        }
      ]
    },
    {
      "cell_type": "code",
      "source": [
        "tree_regressor_adaboost_y_pred_train = tree_regressor_adaboost.predict(X_train)\n",
        "tree_regressor_adaboost_y_pred_test = tree_regressor_adaboost.predict(X_test)\n",
        "\n",
        "tree_regressor_adaboost_r_squared_train = r2_score(y_train, tree_regressor_adaboost_y_pred_train)\n",
        "tree_regressor_adaboost_r_squared_test = r2_score(y_test, tree_regressor_adaboost_y_pred_test)\n",
        "\n",
        "tree_regressor_adaboost_mae_train = mean_absolute_error(y_train, tree_regressor_adaboost_y_pred_train)\n",
        "tree_regressor_adaboost_mae_test = mean_absolute_error(y_test, tree_regressor_adaboost_y_pred_test)\n",
        "\n",
        "print('Decision Tree Regression with AdaBoost Scores:')\n",
        "print('Training R^2 = %.3f' % tree_regressor_adaboost_r_squared_train)\n",
        "print('Training MAE = %.3f' % tree_regressor_adaboost_mae_train)\n",
        "\n",
        "print('\\nTesting R^2 = %.3f' % tree_regressor_adaboost_r_squared_test)\n",
        "print('Testing MAE = %.3f' % tree_regressor_adaboost_mae_test)"
      ],
      "metadata": {
        "colab": {
          "base_uri": "https://localhost:8080/"
        },
        "id": "c8DaDN_U3lyL",
        "outputId": "f76d58ea-78d3-4a05-bbc8-771ccb33088f"
      },
      "execution_count": 37,
      "outputs": [
        {
          "output_type": "stream",
          "name": "stdout",
          "text": [
            "Decision Tree Regression with AdaBoost Scores:\n",
            "Training R^2 = 0.811\n",
            "Training MAE = 334.648\n",
            "\n",
            "Testing R^2 = 0.522\n",
            "Testing MAE = 405.606\n"
          ]
        }
      ]
    },
    {
      "cell_type": "markdown",
      "source": [
        "## Prepare Inlier Data"
      ],
      "metadata": {
        "id": "E6l5pm0Y7s8W"
      }
    },
    {
      "cell_type": "code",
      "source": [
        "MAX_VALUE = 1000\n",
        "violations_cliped = violation_data[violation_data['PROPOSED_PENALTY'] <= MAX_VALUE]\n",
        "\n",
        "print('Total samples = %d' % len(violation_data))\n",
        "print('Total samples with PROPOSED_PENALTY <= %d: %d' % (MAX_VALUE, len(violations_cliped)))"
      ],
      "metadata": {
        "colab": {
          "base_uri": "https://localhost:8080/"
        },
        "id": "4gJs-Ywz70yF",
        "outputId": "c08aa822-d149-43b8-c5b2-1026f13b81a3"
      },
      "execution_count": 38,
      "outputs": [
        {
          "output_type": "stream",
          "name": "stdout",
          "text": [
            "Total samples = 1429135\n",
            "Total samples with PROPOSED_PENALTY <= 1000: 1259626\n"
          ]
        }
      ]
    },
    {
      "cell_type": "code",
      "source": [
        "X_inliers = violations_cliped[FEATURES]\n",
        "y_inliers = violations_cliped[TARGETS]\n",
        "\n",
        "# Instantiate encoder/scaler\n",
        "scaler = StandardScaler()\n",
        "ohe = OneHotEncoder(sparse=False)\n",
        "\n",
        "# Scale and Encode Separate Columns\n",
        "scaled_columns_inliers  = scaler.fit_transform(X_inliers[columns_to_scale])\n",
        "encoded_columns_inliers = ohe.fit_transform(X_inliers[columns_to_encode])\n",
        "\n",
        "# Concatenate (Column-Bind) Processed Columns Back Together\n",
        "X_pre_inliers = np.concatenate([scaled_columns_inliers, encoded_columns_inliers], axis=1)\n",
        "np.nan_to_num(X_pre_inliers, copy=False)\n",
        "\n",
        "X_train_inliers, X_test_inliers, y_train_inliers, y_test_inliers = train_test_split(X_pre_inliers, y_inliers, test_size = 0.25, random_state = 0)"
      ],
      "metadata": {
        "id": "ZLxRSqtk7w3g"
      },
      "execution_count": 39,
      "outputs": []
    },
    {
      "cell_type": "markdown",
      "source": [
        "## Inlier Decision Tree Regressor with AdaBoost"
      ],
      "metadata": {
        "id": "bZNZ_uNU7_6J"
      }
    },
    {
      "cell_type": "code",
      "source": [
        "tree_regressor_adaboost_inliers = AdaBoostRegressor(\n",
        "    DecisionTreeRegressor(max_depth=18), n_estimators=4, random_state=0\n",
        ")\n",
        "tree_regressor_adaboost_inliers.fit(X_train_inliers, np.ravel(y_train_inliers))"
      ],
      "metadata": {
        "colab": {
          "base_uri": "https://localhost:8080/"
        },
        "id": "BK67jBcw7xsY",
        "outputId": "d3c57fa6-4892-4b44-e112-4cc8d98f94ac"
      },
      "execution_count": 73,
      "outputs": [
        {
          "output_type": "execute_result",
          "data": {
            "text/plain": [
              "AdaBoostRegressor(base_estimator=DecisionTreeRegressor(max_depth=18),\n",
              "                  n_estimators=4, random_state=0)"
            ]
          },
          "metadata": {},
          "execution_count": 73
        }
      ]
    },
    {
      "cell_type": "code",
      "source": [
        "tree_regressor_adaboost_inliers_y_pred_train = tree_regressor_adaboost_inliers.predict(X_train_inliers)\n",
        "tree_regressor_adaboost_inliers_y_pred_test = tree_regressor_adaboost_inliers.predict(X_test_inliers)\n",
        "\n",
        "tree_regressor_adaboost_inliers_r_squared_train = r2_score(y_train_inliers, tree_regressor_adaboost_inliers_y_pred_train)\n",
        "tree_regressor_adaboost_inliers_r_squared_test = r2_score(y_test_inliers, tree_regressor_adaboost_inliers_y_pred_test)\n",
        "\n",
        "tree_regressor_adaboost_inliers_mae_train = mean_absolute_error(y_train_inliers, tree_regressor_adaboost_inliers_y_pred_train)\n",
        "tree_regressor_adaboost_inliers_mae_test = mean_absolute_error(y_test_inliers, tree_regressor_adaboost_inliers_y_pred_test)\n",
        "\n",
        "print('Inlier Decision Tree Regression with AdaBoost Scores:')\n",
        "print('Training R^2 = %.3f' % tree_regressor_adaboost_inliers_r_squared_train)\n",
        "print('Training MAE = %.3f' % tree_regressor_adaboost_inliers_mae_train)\n",
        "\n",
        "print('\\nTesting R^2 = %.3f' % tree_regressor_adaboost_inliers_r_squared_test)\n",
        "print('Testing MAE = %.3f' % tree_regressor_adaboost_inliers_mae_test)"
      ],
      "metadata": {
        "colab": {
          "base_uri": "https://localhost:8080/"
        },
        "id": "13vwXw5J8baq",
        "outputId": "f3cadcce-0dfc-418b-fe5d-17342e7213a4"
      },
      "execution_count": 74,
      "outputs": [
        {
          "output_type": "stream",
          "name": "stdout",
          "text": [
            "Inlier Decision Tree Regression with AdaBoost Scores:\n",
            "Training R^2 = 0.769\n",
            "Training MAE = 58.629\n",
            "\n",
            "Testing R^2 = 0.706\n",
            "Testing MAE = 65.346\n"
          ]
        }
      ]
    },
    {
      "cell_type": "markdown",
      "source": [
        "## Prepare Outlier Data"
      ],
      "metadata": {
        "id": "dT4C8dMcEmQX"
      }
    },
    {
      "cell_type": "code",
      "source": [
        "violations_outliers = violation_data[violation_data['PROPOSED_PENALTY'] > MAX_VALUE]\n",
        "\n",
        "print('Total samples = %d' % len(violation_data))\n",
        "print('Total samples with PROPOSED_PENALTY > %d: %d' % (MAX_VALUE, len(violations_outliers)))"
      ],
      "metadata": {
        "colab": {
          "base_uri": "https://localhost:8080/"
        },
        "id": "LHtV6SzwErDc",
        "outputId": "9778c707-b376-4ab6-ecfb-fc09e8b34871"
      },
      "execution_count": 77,
      "outputs": [
        {
          "output_type": "stream",
          "name": "stdout",
          "text": [
            "Total samples = 1429135\n",
            "Total samples with PROPOSED_PENALTY > 1000: 169509\n"
          ]
        }
      ]
    },
    {
      "cell_type": "code",
      "source": [
        "X_outliers = violations_outliers[FEATURES]\n",
        "y_outliers = violations_outliers[TARGETS]\n",
        "\n",
        "# Instantiate encoder/scaler\n",
        "scaler = StandardScaler()\n",
        "ohe = OneHotEncoder(sparse=False)\n",
        "\n",
        "# Scale and Encode Separate Columns\n",
        "scaled_columns_outliers  = scaler.fit_transform(X_outliers[columns_to_scale])\n",
        "encoded_columns_outliers = ohe.fit_transform(X_outliers[columns_to_encode])\n",
        "\n",
        "# Concatenate (Column-Bind) Processed Columns Back Together\n",
        "X_pre_outliers = np.concatenate([scaled_columns_outliers, encoded_columns_outliers], axis=1)\n",
        "np.nan_to_num(X_pre_outliers, copy=False)\n",
        "\n",
        "X_train_outliers, X_test_outliers, y_train_outliers, y_test_outliers = train_test_split(X_pre_outliers, y_outliers, test_size = 0.25, random_state = 0)"
      ],
      "metadata": {
        "id": "lvs90SE7Eys4"
      },
      "execution_count": 81,
      "outputs": []
    },
    {
      "cell_type": "markdown",
      "source": [
        "## Outlier Decision Tree Regression with AdaBoost"
      ],
      "metadata": {
        "id": "KZ_tsagwFWIl"
      }
    },
    {
      "cell_type": "code",
      "source": [
        "tree_regressor_adaboost_outliers = AdaBoostRegressor(\n",
        "    DecisionTreeRegressor(max_depth=11), n_estimators=3, random_state=0\n",
        ")\n",
        "tree_regressor_adaboost_outliers.fit(X_train_outliers, np.ravel(y_train_outliers))"
      ],
      "metadata": {
        "colab": {
          "base_uri": "https://localhost:8080/"
        },
        "id": "71Ub3jEnFV17",
        "outputId": "3494cf3f-eb14-461b-8d02-2d3c5fb09200"
      },
      "execution_count": 140,
      "outputs": [
        {
          "output_type": "execute_result",
          "data": {
            "text/plain": [
              "AdaBoostRegressor(base_estimator=DecisionTreeRegressor(max_depth=11),\n",
              "                  n_estimators=3, random_state=0)"
            ]
          },
          "metadata": {},
          "execution_count": 140
        }
      ]
    },
    {
      "cell_type": "code",
      "source": [
        "tree_regressor_adaboost_outliers_y_pred_train = tree_regressor_adaboost_outliers.predict(X_train_outliers)\n",
        "tree_regressor_adaboost_outliers_y_pred_test = tree_regressor_adaboost_outliers.predict(X_test_outliers)\n",
        "\n",
        "tree_regressor_adaboost_outliers_r_squared_train = r2_score(y_train_outliers, tree_regressor_adaboost_outliers_y_pred_train)\n",
        "tree_regressor_adaboost_outliers_r_squared_test = r2_score(y_test_outliers, tree_regressor_adaboost_outliers_y_pred_test)\n",
        "\n",
        "tree_regressor_adaboost_outliers_mae_train = mean_absolute_error(y_train_outliers, tree_regressor_adaboost_outliers_y_pred_train)\n",
        "tree_regressor_adaboost_outliers_mae_test = mean_absolute_error(y_test_outliers, tree_regressor_adaboost_outliers_y_pred_test)\n",
        "\n",
        "print('Outlier Decision Tree Regression with AdaBoost Scores:')\n",
        "print('Training R^2 = %.3f' % tree_regressor_adaboost_outliers_r_squared_train)\n",
        "print('Training MAE = %.3f' % tree_regressor_adaboost_outliers_mae_train)\n",
        "\n",
        "print('\\nTesting R^2 = %.3f' % tree_regressor_adaboost_outliers_r_squared_test)\n",
        "print('Testing MAE = %.3f' % tree_regressor_adaboost_outliers_mae_test)"
      ],
      "metadata": {
        "colab": {
          "base_uri": "https://localhost:8080/"
        },
        "id": "EdVcqQs6FgAR",
        "outputId": "26ac887b-0820-4ad4-e94e-64607976a6af"
      },
      "execution_count": 141,
      "outputs": [
        {
          "output_type": "stream",
          "name": "stdout",
          "text": [
            "Outlier Decision Tree Regression with AdaBoost Scores:\n",
            "Training R^2 = 0.630\n",
            "Training MAE = 2495.198\n",
            "\n",
            "Testing R^2 = 0.409\n",
            "Testing MAE = 2776.637\n"
          ]
        }
      ]
    }
  ]
}