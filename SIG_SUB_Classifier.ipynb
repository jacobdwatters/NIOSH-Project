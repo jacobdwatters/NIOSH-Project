{
  "nbformat": 4,
  "nbformat_minor": 0,
  "metadata": {
    "colab": {
      "provenance": [],
      "authorship_tag": "ABX9TyPOQrDKN6UjFaqrvLnFi3JZ",
      "include_colab_link": true
    },
    "kernelspec": {
      "name": "python3",
      "display_name": "Python 3"
    },
    "language_info": {
      "name": "python"
    }
  },
  "cells": [
    {
      "cell_type": "markdown",
      "metadata": {
        "id": "view-in-github",
        "colab_type": "text"
      },
      "source": [
        "<a href=\"https://colab.research.google.com/github/jacobdwatters/NIOSH-Project/blob/main/SIG_SUB_Classifier.ipynb\" target=\"_parent\"><img src=\"https://colab.research.google.com/assets/colab-badge.svg\" alt=\"Open In Colab\"/></a>"
      ]
    },
    {
      "cell_type": "code",
      "execution_count": 67,
      "metadata": {
        "colab": {
          "base_uri": "https://localhost:8080/"
        },
        "id": "DxsCYwa60cgH",
        "outputId": "891c64cb-2284-4ebe-aedd-936593adcebd"
      },
      "outputs": [
        {
          "output_type": "stream",
          "name": "stdout",
          "text": [
            "Looking in indexes: https://pypi.org/simple, https://us-python.pkg.dev/colab-wheels/public/simple/\n",
            "Requirement already satisfied: scikit-plot in /usr/local/lib/python3.8/dist-packages (0.3.7)\n",
            "Requirement already satisfied: matplotlib>=1.4.0 in /usr/local/lib/python3.8/dist-packages (from scikit-plot) (3.2.2)\n",
            "Requirement already satisfied: joblib>=0.10 in /usr/local/lib/python3.8/dist-packages (from scikit-plot) (1.2.0)\n",
            "Requirement already satisfied: scikit-learn>=0.18 in /usr/local/lib/python3.8/dist-packages (from scikit-plot) (1.0.2)\n",
            "Requirement already satisfied: scipy>=0.9 in /usr/local/lib/python3.8/dist-packages (from scikit-plot) (1.7.3)\n",
            "Requirement already satisfied: kiwisolver>=1.0.1 in /usr/local/lib/python3.8/dist-packages (from matplotlib>=1.4.0->scikit-plot) (1.4.4)\n",
            "Requirement already satisfied: pyparsing!=2.0.4,!=2.1.2,!=2.1.6,>=2.0.1 in /usr/local/lib/python3.8/dist-packages (from matplotlib>=1.4.0->scikit-plot) (3.0.9)\n",
            "Requirement already satisfied: python-dateutil>=2.1 in /usr/local/lib/python3.8/dist-packages (from matplotlib>=1.4.0->scikit-plot) (2.8.2)\n",
            "Requirement already satisfied: numpy>=1.11 in /usr/local/lib/python3.8/dist-packages (from matplotlib>=1.4.0->scikit-plot) (1.21.6)\n",
            "Requirement already satisfied: cycler>=0.10 in /usr/local/lib/python3.8/dist-packages (from matplotlib>=1.4.0->scikit-plot) (0.11.0)\n",
            "Requirement already satisfied: threadpoolctl>=2.0.0 in /usr/local/lib/python3.8/dist-packages (from scikit-learn>=0.18->scikit-plot) (3.1.0)\n",
            "Requirement already satisfied: six>=1.5 in /usr/local/lib/python3.8/dist-packages (from python-dateutil>=2.1->matplotlib>=1.4.0->scikit-plot) (1.15.0)\n"
          ]
        }
      ],
      "source": [
        "!pip install scikit-plot"
      ]
    },
    {
      "cell_type": "code",
      "source": [
        "import numpy as np\n",
        "from numpy.random import seed\n",
        "import pandas as pd\n",
        "import seaborn as sns\n",
        "import matplotlib.pyplot as plt\n",
        "\n",
        "import sklearn\n",
        "from sklearn.preprocessing import StandardScaler\n",
        "from sklearn.preprocessing import OneHotEncoder\n",
        "from sklearn.model_selection import train_test_split\n",
        "from sklearn.metrics import mean_absolute_error\n",
        "from sklearn.metrics import r2_score, f1_score, precision_score, recall_score, roc_auc_score, roc_curve, balanced_accuracy_score, accuracy_score\n",
        "\n",
        "from tensorflow import keras\n",
        "from tensorflow.keras import layers\n",
        "from tensorflow.keras.losses import BinaryCrossentropy\n",
        "import tensorflow as tf\n",
        "\n",
        "import scikitplot as skplt\n",
        "\n",
        "import scipy as sp\n",
        "from scipy import stats\n",
        "\n",
        "import joblib"
      ],
      "metadata": {
        "id": "UGS1IvByF9zn"
      },
      "execution_count": 68,
      "outputs": []
    },
    {
      "cell_type": "code",
      "source": [
        "from google.colab import drive\n",
        "drive.mount('/content/gdrive')"
      ],
      "metadata": {
        "colab": {
          "base_uri": "https://localhost:8080/"
        },
        "id": "lkThfbwa0f0o",
        "outputId": "6fa206e1-a410-4323-b780-2855c436d839"
      },
      "execution_count": 4,
      "outputs": [
        {
          "output_type": "stream",
          "name": "stdout",
          "text": [
            "Mounted at /content/gdrive\n"
          ]
        }
      ]
    },
    {
      "cell_type": "code",
      "source": [
        "path_after_2010 = '/content/gdrive/My Drive/NIOSH Project/data/violations_processed_after_2010.csv'\n",
        "violation_data = pd.read_csv(path_after_2010)"
      ],
      "metadata": {
        "id": "Iewh6Uce0hpO"
      },
      "execution_count": 5,
      "outputs": []
    },
    {
      "cell_type": "code",
      "source": [
        "FEATURES = ['MINE_TYPE', 'COAL_METAL_IND', 'LIKELIHOOD', \n",
        "            'INJ_ILLNESS', 'NO_AFFECTED', 'NEGLIGENCE', 'VIOLATOR_VIOLATION_CNT',\n",
        "            'VIOLATOR_INSPECTION_DAY_CNT']\n",
        "TARGETS = ['SIG_SUB']\n",
        "\n",
        "X = violation_data[FEATURES]\n",
        "y = violation_data[TARGETS]\n",
        "y['SIG_SUB'] = y['SIG_SUB'].map({\"Y\": 1, \"N\": 0})"
      ],
      "metadata": {
        "colab": {
          "base_uri": "https://localhost:8080/"
        },
        "id": "4wawGVXQ0jk9",
        "outputId": "7aebeaf5-70be-4957-da65-215d5ff3213f"
      },
      "execution_count": 6,
      "outputs": [
        {
          "output_type": "stream",
          "name": "stderr",
          "text": [
            "<ipython-input-6-113b2d6c4d8c>:8: SettingWithCopyWarning: \n",
            "A value is trying to be set on a copy of a slice from a DataFrame.\n",
            "Try using .loc[row_indexer,col_indexer] = value instead\n",
            "\n",
            "See the caveats in the documentation: https://pandas.pydata.org/pandas-docs/stable/user_guide/indexing.html#returning-a-view-versus-a-copy\n",
            "  y['SIG_SUB'] = y['SIG_SUB'].map({\"Y\": 1, \"N\": 0})\n"
          ]
        }
      ]
    },
    {
      "cell_type": "code",
      "source": [
        "# Define which columns should be encoded vs scaled\n",
        "columns_to_encode = ['MINE_TYPE', 'COAL_METAL_IND', 'LIKELIHOOD', 'INJ_ILLNESS', 'NEGLIGENCE']\n",
        "columns_to_scale  = ['VIOLATOR_VIOLATION_CNT', 'NO_AFFECTED', 'VIOLATOR_INSPECTION_DAY_CNT']\n",
        "\n",
        "# Instantiate encoder/scaler\n",
        "scaler = StandardScaler()\n",
        "ohe = OneHotEncoder(sparse=False)\n",
        "\n",
        "# Scale and Encode Separate Columns\n",
        "scaled_columns  = scaler.fit_transform(X[columns_to_scale])\n",
        "encoded_columns = ohe.fit_transform(X[columns_to_encode])\n",
        "\n",
        "# Concatenate (Column-Bind) Processed Columns Back Together\n",
        "X_pre = np.concatenate([scaled_columns, encoded_columns], axis=1)\n",
        "np.nan_to_num(X_pre, copy=False)\n",
        "\n",
        "print('Features shape:', X_pre.shape)"
      ],
      "metadata": {
        "colab": {
          "base_uri": "https://localhost:8080/"
        },
        "id": "6YMaeDyP0mW7",
        "outputId": "beae099e-8592-4018-ae3f-40a68c9160ea"
      },
      "execution_count": 7,
      "outputs": [
        {
          "output_type": "stream",
          "name": "stdout",
          "text": [
            "Features shape: (1429135, 22)\n"
          ]
        }
      ]
    },
    {
      "cell_type": "code",
      "source": [
        "X_train, X_test, y_train, y_test = train_test_split(X_pre, y, test_size = 0.25, random_state = 0)\n",
        "\n",
        "print('X_train shape:', X_train.shape)\n",
        "print('X_test shape:', X_test.shape)\n",
        "print('y_train shape:', y_train.shape)\n",
        "print('y_train shape:', y_test.shape)"
      ],
      "metadata": {
        "colab": {
          "base_uri": "https://localhost:8080/"
        },
        "id": "I9jzbTg-0nJF",
        "outputId": "9213c415-25be-4630-e1a1-7122acdb207d"
      },
      "execution_count": 8,
      "outputs": [
        {
          "output_type": "stream",
          "name": "stdout",
          "text": [
            "X_train shape: (1071851, 22)\n",
            "X_test shape: (357284, 22)\n",
            "y_train shape: (1071851, 1)\n",
            "y_train shape: (357284, 1)\n"
          ]
        }
      ]
    },
    {
      "cell_type": "code",
      "source": [
        "batch_size = 2**14\n",
        "epochs = 120\n",
        "\n",
        "model = keras.Sequential()\n",
        "\n",
        "model.add(keras.Input(shape = (len(X_train[0]), ) ))\n",
        "model.add(layers.Dense(64, activation=\"relu\"))\n",
        "model.add(layers.Dense(32, activation=\"relu\"))\n",
        "model.add(layers.Dense(16, activation=\"relu\"))\n",
        "model.add(layers.Dense(8, activation=\"relu\"))\n",
        "model.add(layers.Dense(8, activation=\"relu\"))\n",
        "model.add(layers.Dense(8, activation=\"relu\"))\n",
        "model.add(layers.Dense(1, activation=\"sigmoid\"))\n",
        "\n",
        "\n",
        "opt = keras.optimizers.Adam(learning_rate=0.01)\n",
        "model.compile(loss=BinaryCrossentropy(), optimizer=opt)\n",
        "history = model.fit(X_train, y_train, epochs=epochs, batch_size=batch_size, \n",
        "                    callbacks=[keras.callbacks.EarlyStopping(patience=3)], validation_data=(X_test, y_test))"
      ],
      "metadata": {
        "colab": {
          "base_uri": "https://localhost:8080/"
        },
        "id": "w8PwuBbI0u-_",
        "outputId": "2f1b4df5-6777-4d21-d596-d4a0ad0a232b"
      },
      "execution_count": 9,
      "outputs": [
        {
          "output_type": "stream",
          "name": "stdout",
          "text": [
            "Epoch 1/120\n",
            "66/66 [==============================] - 4s 33ms/step - loss: 0.1076 - val_loss: 0.0112\n",
            "Epoch 2/120\n",
            "66/66 [==============================] - 3s 49ms/step - loss: 0.0102 - val_loss: 0.0120\n",
            "Epoch 3/120\n",
            "66/66 [==============================] - 3s 38ms/step - loss: 0.0102 - val_loss: 0.0101\n",
            "Epoch 4/120\n",
            "66/66 [==============================] - 2s 29ms/step - loss: 0.0099 - val_loss: 0.0100\n",
            "Epoch 5/120\n",
            "66/66 [==============================] - 2s 30ms/step - loss: 0.0097 - val_loss: 0.0101\n",
            "Epoch 6/120\n",
            "66/66 [==============================] - 3s 38ms/step - loss: 0.0098 - val_loss: 0.0100\n",
            "Epoch 7/120\n",
            "66/66 [==============================] - 2s 29ms/step - loss: 0.0095 - val_loss: 0.0097\n",
            "Epoch 8/120\n",
            "66/66 [==============================] - 3s 43ms/step - loss: 0.0093 - val_loss: 0.0097\n",
            "Epoch 9/120\n",
            "66/66 [==============================] - 4s 58ms/step - loss: 0.0096 - val_loss: 0.0098\n",
            "Epoch 10/120\n",
            "66/66 [==============================] - 2s 29ms/step - loss: 0.0093 - val_loss: 0.0097\n",
            "Epoch 11/120\n",
            "66/66 [==============================] - 2s 29ms/step - loss: 0.0093 - val_loss: 0.0096\n",
            "Epoch 12/120\n",
            "66/66 [==============================] - 2s 29ms/step - loss: 0.0092 - val_loss: 0.0095\n",
            "Epoch 13/120\n",
            "66/66 [==============================] - 2s 29ms/step - loss: 0.0092 - val_loss: 0.0098\n",
            "Epoch 14/120\n",
            "66/66 [==============================] - 2s 38ms/step - loss: 0.0093 - val_loss: 0.0095\n",
            "Epoch 15/120\n",
            "66/66 [==============================] - 3s 48ms/step - loss: 0.0092 - val_loss: 0.0095\n",
            "Epoch 16/120\n",
            "66/66 [==============================] - 2s 29ms/step - loss: 0.0091 - val_loss: 0.0095\n",
            "Epoch 17/120\n",
            "66/66 [==============================] - 2s 29ms/step - loss: 0.0092 - val_loss: 0.0095\n",
            "Epoch 18/120\n",
            "66/66 [==============================] - 2s 29ms/step - loss: 0.0092 - val_loss: 0.0094\n",
            "Epoch 19/120\n",
            "66/66 [==============================] - 2s 29ms/step - loss: 0.0091 - val_loss: 0.0095\n",
            "Epoch 20/120\n",
            "66/66 [==============================] - 2s 29ms/step - loss: 0.0091 - val_loss: 0.0099\n",
            "Epoch 21/120\n",
            "66/66 [==============================] - 6s 92ms/step - loss: 0.0091 - val_loss: 0.0094\n",
            "Epoch 22/120\n",
            "66/66 [==============================] - 2s 29ms/step - loss: 0.0091 - val_loss: 0.0097\n",
            "Epoch 23/120\n",
            "66/66 [==============================] - 2s 29ms/step - loss: 0.0091 - val_loss: 0.0095\n",
            "Epoch 24/120\n",
            "66/66 [==============================] - 2s 31ms/step - loss: 0.0091 - val_loss: 0.0094\n",
            "Epoch 25/120\n",
            "66/66 [==============================] - 3s 40ms/step - loss: 0.0090 - val_loss: 0.0095\n",
            "Epoch 26/120\n",
            "66/66 [==============================] - 2s 36ms/step - loss: 0.0090 - val_loss: 0.0094\n",
            "Epoch 27/120\n",
            "66/66 [==============================] - 3s 48ms/step - loss: 0.0090 - val_loss: 0.0096\n",
            "Epoch 28/120\n",
            "66/66 [==============================] - 2s 29ms/step - loss: 0.0090 - val_loss: 0.0095\n",
            "Epoch 29/120\n",
            "66/66 [==============================] - 2s 29ms/step - loss: 0.0090 - val_loss: 0.0094\n",
            "Epoch 30/120\n",
            "66/66 [==============================] - 2s 29ms/step - loss: 0.0090 - val_loss: 0.0095\n",
            "Epoch 31/120\n",
            "66/66 [==============================] - 2s 32ms/step - loss: 0.0091 - val_loss: 0.0095\n",
            "Epoch 32/120\n",
            "66/66 [==============================] - 2s 31ms/step - loss: 0.0090 - val_loss: 0.0095\n"
          ]
        }
      ]
    },
    {
      "cell_type": "code",
      "source": [
        "y_prob = model.predict(X_test)\n",
        "y_pred = y_prob > 0.5\n",
        "y_probs = np.column_stack([y_prob, 1-y_prob])"
      ],
      "metadata": {
        "colab": {
          "base_uri": "https://localhost:8080/"
        },
        "id": "p78l6QNv0xdo",
        "outputId": "69ebc504-2a4b-4843-9886-682c021d8326"
      },
      "execution_count": 42,
      "outputs": [
        {
          "output_type": "stream",
          "name": "stdout",
          "text": [
            "11166/11166 [==============================] - 19s 2ms/step\n"
          ]
        }
      ]
    },
    {
      "cell_type": "code",
      "source": [
        "skplt.metrics.plot_roc(y_test.to_numpy().flatten(), y_probs)"
      ],
      "metadata": {
        "colab": {
          "base_uri": "https://localhost:8080/",
          "height": 312
        },
        "id": "mTNmf3S36uv8",
        "outputId": "27323e21-5768-4398-e505-22da433b3687"
      },
      "execution_count": 49,
      "outputs": [
        {
          "output_type": "execute_result",
          "data": {
            "text/plain": [
              "<matplotlib.axes._subplots.AxesSubplot at 0x7f66042043a0>"
            ]
          },
          "metadata": {},
          "execution_count": 49
        },
        {
          "output_type": "display_data",
          "data": {
            "text/plain": [
              "<Figure size 432x288 with 1 Axes>"
            ],
            "image/png": "[encoded data removed]"
          },
          "metadata": {
            "needs_background": "light"
          }
        }
      ]
    },
    {
      "cell_type": "code",
      "source": [
        "accuracy = accuracy_score(y_test, y_pred)\n",
        "count_sig = sum(y_test.to_numpy()).item()\n",
        "count_non_sig = len(y_test) - count_sig\n",
        "print(f'Portion SIG_SUB: {count_sig / len(y_test) * 100:.2f}%')\n",
        "print(f'Portion non-SIG_SUB: {count_non_sig / len(y_test) * 100:.2f}%')\n",
        "print(f'Accuracy: {accuracy}')\n",
        "\n",
        "f1 = f1_score(y_test, y_pred)\n",
        "precision = precision_score(y_test, y_pred)\n",
        "recall = recall_score(y_test, y_pred)\n",
        "\n",
        "print(f'Precision: {precision}\\nRecall: {recall}\\nF1: {f1}')"
      ],
      "metadata": {
        "colab": {
          "base_uri": "https://localhost:8080/"
        },
        "id": "KqYyoEmbDiX-",
        "outputId": "7e46b5cc-fa27-428f-8ded-6af91f750fff"
      },
      "execution_count": 66,
      "outputs": [
        {
          "output_type": "stream",
          "name": "stdout",
          "text": [
            "Portion SIG_SUB: 24.01%\n",
            "Portion non-SIG_SUB: 75.99%\n",
            "Accuracy: 0.9985837596981673\n",
            "Precision: 0.996264488199972\n",
            "Recall: 0.9978437223180567\n",
            "F1: 0.9970534799217367\n"
          ]
        }
      ]
    },
    {
      "cell_type": "code",
      "source": [
        "# summarize history for loss\n",
        "plt.plot(history.history['loss'])\n",
        "plt.plot(history.history['val_loss'])\n",
        "plt.title('model loss')\n",
        "plt.ylabel('loss')\n",
        "plt.xlabel('epoch')\n",
        "plt.legend(['train', 'test'], loc='upper left')\n",
        "plt.show()"
      ],
      "metadata": {
        "colab": {
          "base_uri": "https://localhost:8080/",
          "height": 295
        },
        "id": "X_NcCfZj05FM",
        "outputId": "b661d308-32b1-4a92-9f17-1be1dade78ce"
      },
      "execution_count": 65,
      "outputs": [
        {
          "output_type": "display_data",
          "data": {
            "text/plain": [
              "<Figure size 432x288 with 1 Axes>"
            ],
            "image/png": "[encoded data removed]"
          },
          "metadata": {
            "needs_background": "light"
          }
        }
      ]
    }
  ]
}