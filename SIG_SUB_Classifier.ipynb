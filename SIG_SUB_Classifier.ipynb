{
 "cells": [
  {
   "cell_type": "markdown",
   "metadata": {
    "colab_type": "text",
    "id": "view-in-github"
   },
   "source": [
    "<a href=\"https://colab.research.google.com/github/jacobdwatters/NIOSH-Project/blob/main/SIG_SUB_Classifier.ipynb\" target=\"_parent\"><img src=\"https://colab.research.google.com/assets/colab-badge.svg\" alt=\"Open In Colab\"/></a>"
   ]
  },
  {
   "cell_type": "code",
   "execution_count": 2,
   "metadata": {
    "colab": {
     "base_uri": "https://localhost:8080/"
    },
    "id": "DxsCYwa60cgH",
    "outputId": "12fe5c86-a960-431d-e8f2-ba0d12cf5b92"
   },
   "outputs": [
    {
     "name": "stdout",
     "output_type": "stream",
     "text": [
      "Looking in indexes: https://pypi.org/simple, https://us-python.pkg.dev/colab-wheels/public/simple/\n",
      "Collecting scikit-plot\n",
      "  Downloading scikit_plot-0.3.7-py3-none-any.whl (33 kB)\n",
      "Requirement already satisfied: imbalanced-learn in /usr/local/lib/python3.9/dist-packages (0.8.1)\n",
      "Collecting scikeras[tensorflow]\n",
      "  Downloading scikeras-0.10.0-py3-none-any.whl (27 kB)\n",
      "Collecting keras_tuner\n",
      "  Downloading keras_tuner-1.3.0-py3-none-any.whl (167 kB)\n",
      "\u001b[2K     \u001b[90m━━━━━━━━━━━━━━━━━━━━━━━━━━━━━━━━━━━━━━\u001b[0m \u001b[32m167.3/167.3 KB\u001b[0m \u001b[31m13.1 MB/s\u001b[0m eta \u001b[36m0:00:00\u001b[0m\n",
      "\u001b[?25hRequirement already satisfied: joblib>=0.10 in /usr/local/lib/python3.9/dist-packages (from scikit-plot) (1.2.0)\n",
      "Requirement already satisfied: scikit-learn>=0.18 in /usr/local/lib/python3.9/dist-packages (from scikit-plot) (1.2.1)\n",
      "Requirement already satisfied: matplotlib>=1.4.0 in /usr/local/lib/python3.9/dist-packages (from scikit-plot) (3.5.3)\n",
      "Requirement already satisfied: scipy>=0.9 in /usr/local/lib/python3.9/dist-packages (from scikit-plot) (1.10.1)\n",
      "Requirement already satisfied: numpy>=1.13.3 in /usr/local/lib/python3.9/dist-packages (from imbalanced-learn) (1.22.4)\n",
      "Requirement already satisfied: packaging>=0.21 in /usr/local/lib/python3.9/dist-packages (from scikeras[tensorflow]) (23.0)\n",
      "Requirement already satisfied: tensorflow>=2.11.0 in /usr/local/lib/python3.9/dist-packages (from scikeras[tensorflow]) (2.11.0)\n",
      "Requirement already satisfied: ipython in /usr/local/lib/python3.9/dist-packages (from keras_tuner) (7.9.0)\n",
      "Collecting kt-legacy\n",
      "  Downloading kt_legacy-1.0.4-py3-none-any.whl (9.6 kB)\n",
      "Requirement already satisfied: requests in /usr/local/lib/python3.9/dist-packages (from keras_tuner) (2.25.1)\n",
      "Requirement already satisfied: pillow>=6.2.0 in /usr/local/lib/python3.9/dist-packages (from matplotlib>=1.4.0->scikit-plot) (8.4.0)\n",
      "Requirement already satisfied: fonttools>=4.22.0 in /usr/local/lib/python3.9/dist-packages (from matplotlib>=1.4.0->scikit-plot) (4.39.0)\n",
      "Requirement already satisfied: python-dateutil>=2.7 in /usr/local/lib/python3.9/dist-packages (from matplotlib>=1.4.0->scikit-plot) (2.8.2)\n",
      "Requirement already satisfied: kiwisolver>=1.0.1 in /usr/local/lib/python3.9/dist-packages (from matplotlib>=1.4.0->scikit-plot) (1.4.4)\n",
      "Requirement already satisfied: cycler>=0.10 in /usr/local/lib/python3.9/dist-packages (from matplotlib>=1.4.0->scikit-plot) (0.11.0)\n",
      "Requirement already satisfied: pyparsing>=2.2.1 in /usr/local/lib/python3.9/dist-packages (from matplotlib>=1.4.0->scikit-plot) (3.0.9)\n",
      "Requirement already satisfied: threadpoolctl>=2.0.0 in /usr/local/lib/python3.9/dist-packages (from scikit-learn>=0.18->scikit-plot) (3.1.0)\n",
      "Requirement already satisfied: absl-py>=1.0.0 in /usr/local/lib/python3.9/dist-packages (from tensorflow>=2.11.0->scikeras[tensorflow]) (1.4.0)\n",
      "Requirement already satisfied: gast<=0.4.0,>=0.2.1 in /usr/local/lib/python3.9/dist-packages (from tensorflow>=2.11.0->scikeras[tensorflow]) (0.4.0)\n",
      "Requirement already satisfied: termcolor>=1.1.0 in /usr/local/lib/python3.9/dist-packages (from tensorflow>=2.11.0->scikeras[tensorflow]) (2.2.0)\n",
      "Requirement already satisfied: setuptools in /usr/local/lib/python3.9/dist-packages (from tensorflow>=2.11.0->scikeras[tensorflow]) (57.4.0)\n",
      "Requirement already satisfied: h5py>=2.9.0 in /usr/local/lib/python3.9/dist-packages (from tensorflow>=2.11.0->scikeras[tensorflow]) (3.1.0)\n",
      "Requirement already satisfied: keras<2.12,>=2.11.0 in /usr/local/lib/python3.9/dist-packages (from tensorflow>=2.11.0->scikeras[tensorflow]) (2.11.0)\n",
      "Requirement already satisfied: protobuf<3.20,>=3.9.2 in /usr/local/lib/python3.9/dist-packages (from tensorflow>=2.11.0->scikeras[tensorflow]) (3.19.6)\n",
      "Requirement already satisfied: wrapt>=1.11.0 in /usr/local/lib/python3.9/dist-packages (from tensorflow>=2.11.0->scikeras[tensorflow]) (1.15.0)\n",
      "Requirement already satisfied: tensorflow-estimator<2.12,>=2.11.0 in /usr/local/lib/python3.9/dist-packages (from tensorflow>=2.11.0->scikeras[tensorflow]) (2.11.0)\n",
      "Requirement already satisfied: six>=1.12.0 in /usr/local/lib/python3.9/dist-packages (from tensorflow>=2.11.0->scikeras[tensorflow]) (1.15.0)\n",
      "Requirement already satisfied: tensorflow-io-gcs-filesystem>=0.23.1 in /usr/local/lib/python3.9/dist-packages (from tensorflow>=2.11.0->scikeras[tensorflow]) (0.31.0)\n",
      "Requirement already satisfied: astunparse>=1.6.0 in /usr/local/lib/python3.9/dist-packages (from tensorflow>=2.11.0->scikeras[tensorflow]) (1.6.3)\n",
      "Requirement already satisfied: typing-extensions>=3.6.6 in /usr/local/lib/python3.9/dist-packages (from tensorflow>=2.11.0->scikeras[tensorflow]) (4.5.0)\n",
      "Requirement already satisfied: google-pasta>=0.1.1 in /usr/local/lib/python3.9/dist-packages (from tensorflow>=2.11.0->scikeras[tensorflow]) (0.2.0)\n",
      "Requirement already satisfied: opt-einsum>=2.3.2 in /usr/local/lib/python3.9/dist-packages (from tensorflow>=2.11.0->scikeras[tensorflow]) (3.3.0)\n",
      "Requirement already satisfied: grpcio<2.0,>=1.24.3 in /usr/local/lib/python3.9/dist-packages (from tensorflow>=2.11.0->scikeras[tensorflow]) (1.51.3)\n",
      "Requirement already satisfied: flatbuffers>=2.0 in /usr/local/lib/python3.9/dist-packages (from tensorflow>=2.11.0->scikeras[tensorflow]) (23.3.3)\n",
      "Requirement already satisfied: tensorboard<2.12,>=2.11 in /usr/local/lib/python3.9/dist-packages (from tensorflow>=2.11.0->scikeras[tensorflow]) (2.11.2)\n",
      "Requirement already satisfied: libclang>=13.0.0 in /usr/local/lib/python3.9/dist-packages (from tensorflow>=2.11.0->scikeras[tensorflow]) (15.0.6.1)\n",
      "Requirement already satisfied: prompt-toolkit<2.1.0,>=2.0.0 in /usr/local/lib/python3.9/dist-packages (from ipython->keras_tuner) (2.0.10)\n",
      "Requirement already satisfied: pygments in /usr/local/lib/python3.9/dist-packages (from ipython->keras_tuner) (2.6.1)\n",
      "Requirement already satisfied: pickleshare in /usr/local/lib/python3.9/dist-packages (from ipython->keras_tuner) (0.7.5)\n",
      "Requirement already satisfied: backcall in /usr/local/lib/python3.9/dist-packages (from ipython->keras_tuner) (0.2.0)\n",
      "Requirement already satisfied: decorator in /usr/local/lib/python3.9/dist-packages (from ipython->keras_tuner) (4.4.2)\n",
      "Requirement already satisfied: traitlets>=4.2 in /usr/local/lib/python3.9/dist-packages (from ipython->keras_tuner) (5.7.1)\n",
      "Collecting jedi>=0.10\n",
      "  Downloading jedi-0.18.2-py2.py3-none-any.whl (1.6 MB)\n",
      "\u001b[2K     \u001b[90m━━━━━━━━━━━━━━━━━━━━━━━━━━━━━━━━━━━━━━━━\u001b[0m \u001b[32m1.6/1.6 MB\u001b[0m \u001b[31m25.9 MB/s\u001b[0m eta \u001b[36m0:00:00\u001b[0m\n",
      "\u001b[?25hRequirement already satisfied: pexpect in /usr/local/lib/python3.9/dist-packages (from ipython->keras_tuner) (4.8.0)\n",
      "Requirement already satisfied: certifi>=2017.4.17 in /usr/local/lib/python3.9/dist-packages (from requests->keras_tuner) (2022.12.7)\n",
      "Requirement already satisfied: urllib3<1.27,>=1.21.1 in /usr/local/lib/python3.9/dist-packages (from requests->keras_tuner) (1.26.14)\n",
      "Requirement already satisfied: chardet<5,>=3.0.2 in /usr/local/lib/python3.9/dist-packages (from requests->keras_tuner) (4.0.0)\n",
      "Requirement already satisfied: idna<3,>=2.5 in /usr/local/lib/python3.9/dist-packages (from requests->keras_tuner) (2.10)\n",
      "Requirement already satisfied: wheel<1.0,>=0.23.0 in /usr/local/lib/python3.9/dist-packages (from astunparse>=1.6.0->tensorflow>=2.11.0->scikeras[tensorflow]) (0.38.4)\n",
      "Requirement already satisfied: parso<0.9.0,>=0.8.0 in /usr/local/lib/python3.9/dist-packages (from jedi>=0.10->ipython->keras_tuner) (0.8.3)\n",
      "Requirement already satisfied: wcwidth in /usr/local/lib/python3.9/dist-packages (from prompt-toolkit<2.1.0,>=2.0.0->ipython->keras_tuner) (0.2.6)\n",
      "Requirement already satisfied: tensorboard-data-server<0.7.0,>=0.6.0 in /usr/local/lib/python3.9/dist-packages (from tensorboard<2.12,>=2.11->tensorflow>=2.11.0->scikeras[tensorflow]) (0.6.1)\n",
      "Requirement already satisfied: markdown>=2.6.8 in /usr/local/lib/python3.9/dist-packages (from tensorboard<2.12,>=2.11->tensorflow>=2.11.0->scikeras[tensorflow]) (3.4.1)\n",
      "Requirement already satisfied: werkzeug>=1.0.1 in /usr/local/lib/python3.9/dist-packages (from tensorboard<2.12,>=2.11->tensorflow>=2.11.0->scikeras[tensorflow]) (2.2.3)\n",
      "Requirement already satisfied: google-auth-oauthlib<0.5,>=0.4.1 in /usr/local/lib/python3.9/dist-packages (from tensorboard<2.12,>=2.11->tensorflow>=2.11.0->scikeras[tensorflow]) (0.4.6)\n",
      "Requirement already satisfied: tensorboard-plugin-wit>=1.6.0 in /usr/local/lib/python3.9/dist-packages (from tensorboard<2.12,>=2.11->tensorflow>=2.11.0->scikeras[tensorflow]) (1.8.1)\n",
      "Requirement already satisfied: google-auth<3,>=1.6.3 in /usr/local/lib/python3.9/dist-packages (from tensorboard<2.12,>=2.11->tensorflow>=2.11.0->scikeras[tensorflow]) (2.16.2)\n",
      "Requirement already satisfied: ptyprocess>=0.5 in /usr/local/lib/python3.9/dist-packages (from pexpect->ipython->keras_tuner) (0.7.0)\n",
      "Requirement already satisfied: rsa<5,>=3.1.4 in /usr/local/lib/python3.9/dist-packages (from google-auth<3,>=1.6.3->tensorboard<2.12,>=2.11->tensorflow>=2.11.0->scikeras[tensorflow]) (4.9)\n",
      "Requirement already satisfied: pyasn1-modules>=0.2.1 in /usr/local/lib/python3.9/dist-packages (from google-auth<3,>=1.6.3->tensorboard<2.12,>=2.11->tensorflow>=2.11.0->scikeras[tensorflow]) (0.2.8)\n",
      "Requirement already satisfied: cachetools<6.0,>=2.0.0 in /usr/local/lib/python3.9/dist-packages (from google-auth<3,>=1.6.3->tensorboard<2.12,>=2.11->tensorflow>=2.11.0->scikeras[tensorflow]) (5.3.0)\n",
      "Requirement already satisfied: requests-oauthlib>=0.7.0 in /usr/local/lib/python3.9/dist-packages (from google-auth-oauthlib<0.5,>=0.4.1->tensorboard<2.12,>=2.11->tensorflow>=2.11.0->scikeras[tensorflow]) (1.3.1)\n",
      "Requirement already satisfied: importlib-metadata>=4.4 in /usr/local/lib/python3.9/dist-packages (from markdown>=2.6.8->tensorboard<2.12,>=2.11->tensorflow>=2.11.0->scikeras[tensorflow]) (6.0.0)\n",
      "Requirement already satisfied: MarkupSafe>=2.1.1 in /usr/local/lib/python3.9/dist-packages (from werkzeug>=1.0.1->tensorboard<2.12,>=2.11->tensorflow>=2.11.0->scikeras[tensorflow]) (2.1.2)\n",
      "Requirement already satisfied: zipp>=0.5 in /usr/local/lib/python3.9/dist-packages (from importlib-metadata>=4.4->markdown>=2.6.8->tensorboard<2.12,>=2.11->tensorflow>=2.11.0->scikeras[tensorflow]) (3.15.0)\n",
      "Requirement already satisfied: pyasn1<0.5.0,>=0.4.6 in /usr/local/lib/python3.9/dist-packages (from pyasn1-modules>=0.2.1->google-auth<3,>=1.6.3->tensorboard<2.12,>=2.11->tensorflow>=2.11.0->scikeras[tensorflow]) (0.4.8)\n",
      "Requirement already satisfied: oauthlib>=3.0.0 in /usr/local/lib/python3.9/dist-packages (from requests-oauthlib>=0.7.0->google-auth-oauthlib<0.5,>=0.4.1->tensorboard<2.12,>=2.11->tensorflow>=2.11.0->scikeras[tensorflow]) (3.2.2)\n",
      "Installing collected packages: kt-legacy, jedi, scikit-plot, scikeras, keras_tuner\n",
      "Successfully installed jedi-0.18.2 keras_tuner-1.3.0 kt-legacy-1.0.4 scikeras-0.10.0 scikit-plot-0.3.7\n"
     ]
    }
   ],
   "source": [
    "#!pip install scikit-plot imbalanced-learn scikeras[tensorflow] keras_tuner"
   ]
  },
  {
   "cell_type": "code",
   "execution_count": 20,
   "metadata": {
    "id": "UGS1IvByF9zn"
   },
   "outputs": [],
   "source": [
    "import numpy as np\n",
    "from numpy.random import seed\n",
    "import pandas as pd\n",
    "import seaborn as sns\n",
    "import matplotlib.pyplot as plt\n",
    "import collections\n",
    "\n",
    "import sklearn\n",
    "from sklearn.preprocessing import StandardScaler\n",
    "from sklearn.preprocessing import OneHotEncoder\n",
    "from sklearn.model_selection import train_test_split, GridSearchCV, StratifiedKFold\n",
    "from sklearn.metrics import mean_absolute_error, make_scorer, roc_auc_score\n",
    "from sklearn.metrics import r2_score, f1_score, precision_score, recall_score, roc_auc_score, roc_curve, balanced_accuracy_score, accuracy_score\n",
    "from sklearn.ensemble import RandomForestClassifier, AdaBoostClassifier\n",
    "from sklearn.tree import DecisionTreeClassifier\n",
    "\n",
    "from tensorflow import keras\n",
    "from tensorflow.keras import layers\n",
    "from tensorflow.keras.losses import BinaryCrossentropy\n",
    "import tensorflow as tf\n",
    "import os\n",
    "import inspect\n",
    "import pickle\n",
    "import lightgbm as lgb\n",
    "\n",
    "import scikitplot as skplt\n",
    "\n",
    "import scipy as sp\n",
    "from scipy import stats\n",
    "import seaborn as sns\n",
    "\n",
    "import joblib\n",
    "from scipy.stats import chi2_contingency\n",
    "from imblearn.over_sampling import SMOTENC, RandomOverSampler\n",
    "from imblearn.metrics import geometric_mean_score\n",
    "import keras_tuner as kt"
   ]
  },
  {
   "cell_type": "code",
   "execution_count": 3,
   "metadata": {
    "colab": {
     "base_uri": "https://localhost:8080/"
    },
    "id": "lkThfbwa0f0o",
    "outputId": "36c1f24d-c175-4348-ca4f-b343b770b28d"
   },
   "outputs": [
    {
     "ename": "ModuleNotFoundError",
     "evalue": "No module named 'google.colab'",
     "output_type": "error",
     "traceback": [
      "\u001b[1;31m---------------------------------------------------------------------------\u001b[0m",
      "\u001b[1;31mModuleNotFoundError\u001b[0m                       Traceback (most recent call last)",
      "Cell \u001b[1;32mIn [3], line 1\u001b[0m\n\u001b[1;32m----> 1\u001b[0m \u001b[38;5;28;01mfrom\u001b[39;00m \u001b[38;5;21;01mgoogle\u001b[39;00m\u001b[38;5;21;01m.\u001b[39;00m\u001b[38;5;21;01mcolab\u001b[39;00m \u001b[38;5;28;01mimport\u001b[39;00m drive\n\u001b[0;32m      2\u001b[0m drive\u001b[38;5;241m.\u001b[39mmount(\u001b[38;5;124m'\u001b[39m\u001b[38;5;124m/content/gdrive\u001b[39m\u001b[38;5;124m'\u001b[39m)\n",
      "\u001b[1;31mModuleNotFoundError\u001b[0m: No module named 'google.colab'"
     ]
    }
   ],
   "source": [
    "# from google.colab import drive\n",
    "# drive.mount('/content/gdrive')"
   ]
  },
  {
   "cell_type": "code",
   "execution_count": 4,
   "metadata": {
    "id": "Iewh6Uce0hpO"
   },
   "outputs": [],
   "source": [
    "# path_after_2010 = '/content/gdrive/My Drive/NIOSH Project/data/violations_processed_after_2010.csv'\n",
    "path_after_2010 = './data/violations_processed_after_2010.csv'\n",
    "violation_data = pd.read_csv(path_after_2010)"
   ]
  },
  {
   "cell_type": "code",
   "execution_count": 5,
   "metadata": {
    "colab": {
     "base_uri": "https://localhost:8080/"
    },
    "id": "4taAKXZOLoyU",
    "outputId": "494688e6-3336-4143-c0b0-6dd26896d2f1"
   },
   "outputs": [
    {
     "data": {
      "text/plain": [
       "Index(['Unnamed: 0', 'MINE_ID', 'MINE_TYPE', 'COAL_METAL_IND', 'SIG_SUB',\n",
       "       'LIKELIHOOD', 'INJ_ILLNESS', 'NO_AFFECTED', 'NEGLIGENCE',\n",
       "       'PROPOSED_PENALTY', 'VIOLATOR_VIOLATION_CNT',\n",
       "       'VIOLATOR_INSPECTION_DAY_CNT', 'YEAR_OCCUR'],\n",
       "      dtype='object')"
      ]
     },
     "execution_count": 5,
     "metadata": {},
     "output_type": "execute_result"
    }
   ],
   "source": [
    "violation_data.columns"
   ]
  },
  {
   "cell_type": "code",
   "execution_count": 66,
   "metadata": {
    "colab": {
     "base_uri": "https://localhost:8080/"
    },
    "id": "4wawGVXQ0jk9",
    "outputId": "5f671e7e-7936-4a0b-d530-ec7351b084cf"
   },
   "outputs": [
    {
     "name": "stderr",
     "output_type": "stream",
     "text": [
      "C:\\Users\\zlee3\\AppData\\Local\\Temp\\ipykernel_15384\\2135759642.py:8: SettingWithCopyWarning: \n",
      "A value is trying to be set on a copy of a slice from a DataFrame.\n",
      "Try using .loc[row_indexer,col_indexer] = value instead\n",
      "\n",
      "See the caveats in the documentation: https://pandas.pydata.org/pandas-docs/stable/user_guide/indexing.html#returning-a-view-versus-a-copy\n",
      "  y['SIG_SUB'] = y['SIG_SUB'].map({\"Y\": 1, \"N\": 0})\n",
      "C:\\Users\\zlee3\\AppData\\Local\\Temp\\ipykernel_15384\\2135759642.py:15: SettingWithCopyWarning: \n",
      "A value is trying to be set on a copy of a slice from a DataFrame.\n",
      "Try using .loc[row_indexer,col_indexer] = value instead\n",
      "\n",
      "See the caveats in the documentation: https://pandas.pydata.org/pandas-docs/stable/user_guide/indexing.html#returning-a-view-versus-a-copy\n",
      "  X['MINE_TYPE'] = X['MINE_TYPE'].factorize()[0]\n",
      "C:\\Users\\zlee3\\AppData\\Local\\Temp\\ipykernel_15384\\2135759642.py:16: SettingWithCopyWarning: \n",
      "A value is trying to be set on a copy of a slice from a DataFrame.\n",
      "Try using .loc[row_indexer,col_indexer] = value instead\n",
      "\n",
      "See the caveats in the documentation: https://pandas.pydata.org/pandas-docs/stable/user_guide/indexing.html#returning-a-view-versus-a-copy\n",
      "  X['COAL_METAL_IND'] = X['COAL_METAL_IND'].factorize()[0]\n"
     ]
    }
   ],
   "source": [
    "FEATURES = ['MINE_TYPE', 'COAL_METAL_IND',\n",
    "            'VIOLATOR_VIOLATION_CNT',\n",
    "            'VIOLATOR_INSPECTION_DAY_CNT']\n",
    "TARGETS = ['SIG_SUB']\n",
    "\n",
    "X = violation_data[FEATURES]\n",
    "y = violation_data[TARGETS]\n",
    "y['SIG_SUB'] = y['SIG_SUB'].map({\"Y\": 1, \"N\": 0})\n",
    "\n",
    "col_names = X.columns\n",
    "\n",
    "#X = X.to_numpy()\n",
    "y = y.to_numpy().reshape((len(y),))\n",
    "\n",
    "# X['MINE_TYPE'] = X['MINE_TYPE'].factorize()[0]\n",
    "# X['COAL_METAL_IND'] = X['COAL_METAL_IND'].factorize()[0]"
   ]
  },
  {
   "cell_type": "code",
   "execution_count": 67,
   "metadata": {},
   "outputs": [
    {
     "data": {
      "text/html": [
       "<div>\n",
       "<style scoped>\n",
       "    .dataframe tbody tr th:only-of-type {\n",
       "        vertical-align: middle;\n",
       "    }\n",
       "\n",
       "    .dataframe tbody tr th {\n",
       "        vertical-align: top;\n",
       "    }\n",
       "\n",
       "    .dataframe thead th {\n",
       "        text-align: right;\n",
       "    }\n",
       "</style>\n",
       "<table border=\"1\" class=\"dataframe\">\n",
       "  <thead>\n",
       "    <tr style=\"text-align: right;\">\n",
       "      <th></th>\n",
       "      <th>MINE_TYPE</th>\n",
       "      <th>COAL_METAL_IND</th>\n",
       "      <th>VIOLATOR_VIOLATION_CNT</th>\n",
       "      <th>VIOLATOR_INSPECTION_DAY_CNT</th>\n",
       "    </tr>\n",
       "  </thead>\n",
       "  <tbody>\n",
       "    <tr>\n",
       "      <th>0</th>\n",
       "      <td>0</td>\n",
       "      <td>0</td>\n",
       "      <td>261.0</td>\n",
       "      <td>260.0</td>\n",
       "    </tr>\n",
       "    <tr>\n",
       "      <th>1</th>\n",
       "      <td>0</td>\n",
       "      <td>0</td>\n",
       "      <td>123.0</td>\n",
       "      <td>319.0</td>\n",
       "    </tr>\n",
       "    <tr>\n",
       "      <th>2</th>\n",
       "      <td>0</td>\n",
       "      <td>0</td>\n",
       "      <td>578.0</td>\n",
       "      <td>501.0</td>\n",
       "    </tr>\n",
       "    <tr>\n",
       "      <th>3</th>\n",
       "      <td>0</td>\n",
       "      <td>0</td>\n",
       "      <td>70.0</td>\n",
       "      <td>109.0</td>\n",
       "    </tr>\n",
       "    <tr>\n",
       "      <th>4</th>\n",
       "      <td>0</td>\n",
       "      <td>0</td>\n",
       "      <td>111.0</td>\n",
       "      <td>219.0</td>\n",
       "    </tr>\n",
       "    <tr>\n",
       "      <th>...</th>\n",
       "      <td>...</td>\n",
       "      <td>...</td>\n",
       "      <td>...</td>\n",
       "      <td>...</td>\n",
       "    </tr>\n",
       "    <tr>\n",
       "      <th>1429130</th>\n",
       "      <td>2</td>\n",
       "      <td>1</td>\n",
       "      <td>2.0</td>\n",
       "      <td>4.0</td>\n",
       "    </tr>\n",
       "    <tr>\n",
       "      <th>1429131</th>\n",
       "      <td>0</td>\n",
       "      <td>0</td>\n",
       "      <td>179.0</td>\n",
       "      <td>552.0</td>\n",
       "    </tr>\n",
       "    <tr>\n",
       "      <th>1429132</th>\n",
       "      <td>0</td>\n",
       "      <td>0</td>\n",
       "      <td>166.0</td>\n",
       "      <td>412.0</td>\n",
       "    </tr>\n",
       "    <tr>\n",
       "      <th>1429133</th>\n",
       "      <td>2</td>\n",
       "      <td>1</td>\n",
       "      <td>3.0</td>\n",
       "      <td>2.0</td>\n",
       "    </tr>\n",
       "    <tr>\n",
       "      <th>1429134</th>\n",
       "      <td>2</td>\n",
       "      <td>1</td>\n",
       "      <td>2.0</td>\n",
       "      <td>2.0</td>\n",
       "    </tr>\n",
       "  </tbody>\n",
       "</table>\n",
       "<p>1429135 rows × 4 columns</p>\n",
       "</div>"
      ],
      "text/plain": [
       "         MINE_TYPE  COAL_METAL_IND  VIOLATOR_VIOLATION_CNT  \\\n",
       "0                0               0                   261.0   \n",
       "1                0               0                   123.0   \n",
       "2                0               0                   578.0   \n",
       "3                0               0                    70.0   \n",
       "4                0               0                   111.0   \n",
       "...            ...             ...                     ...   \n",
       "1429130          2               1                     2.0   \n",
       "1429131          0               0                   179.0   \n",
       "1429132          0               0                   166.0   \n",
       "1429133          2               1                     3.0   \n",
       "1429134          2               1                     2.0   \n",
       "\n",
       "         VIOLATOR_INSPECTION_DAY_CNT  \n",
       "0                              260.0  \n",
       "1                              319.0  \n",
       "2                              501.0  \n",
       "3                              109.0  \n",
       "4                              219.0  \n",
       "...                              ...  \n",
       "1429130                          4.0  \n",
       "1429131                        552.0  \n",
       "1429132                        412.0  \n",
       "1429133                          2.0  \n",
       "1429134                          2.0  \n",
       "\n",
       "[1429135 rows x 4 columns]"
      ]
     },
     "execution_count": 67,
     "metadata": {},
     "output_type": "execute_result"
    }
   ],
   "source": [
    "X"
   ]
  },
  {
   "cell_type": "code",
   "execution_count": 49,
   "metadata": {},
   "outputs": [
    {
     "ename": "AttributeError",
     "evalue": "'Series' object has no attribute 'countn'",
     "output_type": "error",
     "traceback": [
      "\u001b[1;31m---------------------------------------------------------------------------\u001b[0m",
      "\u001b[1;31mAttributeError\u001b[0m                            Traceback (most recent call last)",
      "Cell \u001b[1;32mIn [49], line 1\u001b[0m\n\u001b[1;32m----> 1\u001b[0m \u001b[43mX\u001b[49m\u001b[43m[\u001b[49m\u001b[38;5;124;43m'\u001b[39;49m\u001b[38;5;124;43mCOAL_METAL_IND\u001b[39;49m\u001b[38;5;124;43m'\u001b[39;49m\u001b[43m]\u001b[49m\u001b[38;5;241;43m.\u001b[39;49m\u001b[43mcountn\u001b[49m()\n",
      "File \u001b[1;32m~\\mambaforge\\envs\\niosh\\lib\\site-packages\\pandas\\core\\generic.py:5902\u001b[0m, in \u001b[0;36mNDFrame.__getattr__\u001b[1;34m(self, name)\u001b[0m\n\u001b[0;32m   5895\u001b[0m \u001b[38;5;28;01mif\u001b[39;00m (\n\u001b[0;32m   5896\u001b[0m     name \u001b[38;5;129;01mnot\u001b[39;00m \u001b[38;5;129;01min\u001b[39;00m \u001b[38;5;28mself\u001b[39m\u001b[38;5;241m.\u001b[39m_internal_names_set\n\u001b[0;32m   5897\u001b[0m     \u001b[38;5;129;01mand\u001b[39;00m name \u001b[38;5;129;01mnot\u001b[39;00m \u001b[38;5;129;01min\u001b[39;00m \u001b[38;5;28mself\u001b[39m\u001b[38;5;241m.\u001b[39m_metadata\n\u001b[0;32m   5898\u001b[0m     \u001b[38;5;129;01mand\u001b[39;00m name \u001b[38;5;129;01mnot\u001b[39;00m \u001b[38;5;129;01min\u001b[39;00m \u001b[38;5;28mself\u001b[39m\u001b[38;5;241m.\u001b[39m_accessors\n\u001b[0;32m   5899\u001b[0m     \u001b[38;5;129;01mand\u001b[39;00m \u001b[38;5;28mself\u001b[39m\u001b[38;5;241m.\u001b[39m_info_axis\u001b[38;5;241m.\u001b[39m_can_hold_identifiers_and_holds_name(name)\n\u001b[0;32m   5900\u001b[0m ):\n\u001b[0;32m   5901\u001b[0m     \u001b[38;5;28;01mreturn\u001b[39;00m \u001b[38;5;28mself\u001b[39m[name]\n\u001b[1;32m-> 5902\u001b[0m \u001b[38;5;28;01mreturn\u001b[39;00m \u001b[38;5;28;43mobject\u001b[39;49m\u001b[38;5;241;43m.\u001b[39;49m\u001b[38;5;21;43m__getattribute__\u001b[39;49m\u001b[43m(\u001b[49m\u001b[38;5;28;43mself\u001b[39;49m\u001b[43m,\u001b[49m\u001b[43m \u001b[49m\u001b[43mname\u001b[49m\u001b[43m)\u001b[49m\n",
      "\u001b[1;31mAttributeError\u001b[0m: 'Series' object has no attribute 'countn'"
     ]
    }
   ],
   "source": []
  },
  {
   "cell_type": "code",
   "execution_count": 7,
   "metadata": {
    "id": "6YMaeDyP0mW7"
   },
   "outputs": [],
   "source": [
    "def encode_and_scale(X):\n",
    "\n",
    "    # Define which columns should be encoded vs scaled\n",
    "    columns_to_encode = ['MINE_TYPE', 'COAL_METAL_IND']\n",
    "    columns_to_scale  = ['VIOLATOR_VIOLATION_CNT', 'VIOLATOR_INSPECTION_DAY_CNT']\n",
    "\n",
    "    # Instantiate encoder/scaler\n",
    "    scaler = StandardScaler()\n",
    "    ohe = OneHotEncoder(sparse=False)\n",
    "\n",
    "    # Scale and Encode Separate Columns\n",
    "    scaled_columns  = scaler.fit_transform(X[columns_to_scale])\n",
    "    encoded_columns = ohe.fit_transform(X[columns_to_encode])\n",
    "\n",
    "    # Concatenate (Column-Bind) Processed Columns Back Together\n",
    "    X_pre = np.concatenate([scaled_columns, encoded_columns], axis=1)\n",
    "    np.nan_to_num(X_pre, copy=False)\n",
    "\n",
    "    cat_mask = np.array([False] * len(scaled_columns) + [True] * len(encoded_columns))\n",
    "\n",
    "    return X_pre\n",
    "\n",
    "# print('Features shape:', X_pre.shape)"
   ]
  },
  {
   "cell_type": "markdown",
   "metadata": {
    "id": "JVg0P9b_Q3KN"
   },
   "source": [
    "full dataset = train, test\n",
    "\n",
    "train = (model selection train), (model selection validation)\n",
    "\n",
    "model selection train = (hyperparam train), (hyperparam validation)\n",
    "\n",
    "full dataset = ((hyperparam train, hyperparam validation), model selection validation), test\n",
    "\n",
    "Overall procedure:\n",
    "```\n",
    "X, y = get_data()\n",
    "X_train, y_train, X_test, y_test = split(X, y)\n",
    "X_train_model, y_train_model, X_test_model, y_test_model = split(X_train, y_train) \n",
    "\n",
    "\n",
    "results = {}\n",
    "for model in models:\n",
    "    # let function decide how to split data for best hyperparams\n",
    "    select_best_hyperparams(model, hyperparam_options, X_train_model, y_train_model)\n",
    "    model_results = model.eval(X_test_model, y_test_model)\n",
    "    update_best(results, model, model_results)\n",
    "\n",
    "final_model = best_results(results)\n",
    "\n",
    "\n",
    "# no model has seen test data yet\n",
    "model_eval = final_model.eval(X_test, y_test)\n",
    "```\n",
    "\n"
   ]
  },
  {
   "cell_type": "code",
   "execution_count": 68,
   "metadata": {
    "colab": {
     "base_uri": "https://localhost:8080/"
    },
    "id": "I9jzbTg-0nJF",
    "outputId": "fca7912f-150d-4505-c550-804ea0d194e6"
   },
   "outputs": [
    {
     "name": "stdout",
     "output_type": "stream",
     "text": [
      "X_train shape: (1071851, 4)\n",
      "X_test shape: (357284, 4)\n",
      "y_train shape: (1071851,)\n",
      "y_train shape: (357284,)\n"
     ]
    }
   ],
   "source": [
    "X_train, X_test, y_train, y_test = train_test_split(X, y, test_size = 0.25, random_state = 0)\n",
    "\n",
    "print('X_train shape:', X_train.shape)\n",
    "print('X_test shape:', X_test.shape)\n",
    "print('y_train shape:', y_train.shape)\n",
    "print('y_train shape:', y_test.shape)"
   ]
  },
  {
   "cell_type": "code",
   "execution_count": 9,
   "metadata": {
    "id": "n2WARdpNpMGc"
   },
   "outputs": [],
   "source": [
    "def specificity(y_pred, y_true):\n",
    "    \"\"\"\n",
    "    param:\n",
    "    y_pred - Predicted labels\n",
    "    y_true - True labels \n",
    "    Returns:\n",
    "    Specificity score\n",
    "    \"\"\"\n",
    "    y_pred = keras.backend.round(y_pred)\n",
    "    y_true = keras.backend.round(y_true)\n",
    "    neg_y_true = 1 - y_true\n",
    "    neg_y_pred = 1 - y_pred\n",
    "    fp = keras.backend.sum(neg_y_true * y_pred)\n",
    "    tn = keras.backend.sum(neg_y_true * neg_y_pred)\n",
    "    specificity = tn / (tn + fp + keras.backend.epsilon())\n",
    "    return specificity\n",
    "\n",
    "def sensitivity(y_pred, y_true):\n",
    "    \"\"\"\n",
    "    param:\n",
    "    y_pred - Predicted labels\n",
    "    y_true - True labels \n",
    "    Returns:\n",
    "    Specificity score\n",
    "    \"\"\"\n",
    "    y_pred = keras.backend.round(y_pred)\n",
    "    y_true = keras.backend.round(y_true)\n",
    "    neg_y_pred = 1 - y_pred\n",
    "    tp = keras.backend.sum(y_true * y_pred)\n",
    "    fn = keras.backend.sum(neg_y_pred * y_true)\n",
    "    sensitivity = tp / (tp + fn + keras.backend.epsilon())\n",
    "    return sensitivity\n",
    "\n",
    "def geometric_mean(y_pred, y_true):\n",
    "    return keras.backend.sqrt(sensitivity(y_pred, y_true) * specificity(y_pred, y_true))"
   ]
  },
  {
   "cell_type": "code",
   "execution_count": 10,
   "metadata": {
    "id": "O5hrN7gs1BAu"
   },
   "outputs": [],
   "source": [
    "def split_data(data, indices):\n",
    "    if isinstance(data, np.ndarray):\n",
    "        return data[indices]\n",
    "    elif pd is not None and isinstance(data, pd.DataFrame):\n",
    "        return data.iloc[indices]\n",
    "    else:\n",
    "        raise TypeError()\n",
    "\n",
    "class ModifiedSklearnTuner(kt.tuners.SklearnTuner):\n",
    "    def run_trial(self, trial, X, y, sample_weight=None, groups=None):\n",
    "        metrics = collections.defaultdict(list)\n",
    "        # For cross-validation methods that expect a `groups` argument.\n",
    "        cv_kwargs = {\"groups\": groups} if groups is not None else {}\n",
    "        for train_indices, test_indices in self.cv.split(X, y, **cv_kwargs):\n",
    "            X_train = split_data(X, train_indices)\n",
    "            y_train = split_data(y, train_indices)\n",
    "            X_test = split_data(X, test_indices)\n",
    "            y_test = split_data(y, test_indices)\n",
    "\n",
    "            # TODO SMOTE here\n",
    "            X_train = encode_and_scale(X_train)\n",
    "            X_test = encode_and_scale(X_test)\n",
    "\n",
    "            sample_weight_train = (\n",
    "                sample_weight[train_indices]\n",
    "                if sample_weight is not None\n",
    "                else None\n",
    "            )\n",
    "\n",
    "            model = self.hypermodel.build(trial.hyperparameters)\n",
    "\n",
    "            supports_sw = (\n",
    "                \"sample_weight\" in inspect.getfullargspec(model.fit).args\n",
    "            )\n",
    "            if isinstance(model, sklearn.pipeline.Pipeline) or not supports_sw:\n",
    "                model.fit(X_train, y_train)\n",
    "            else:\n",
    "                model.fit(X_train, y_train, sample_weight=sample_weight_train)\n",
    "\n",
    "            sample_weight_test = (\n",
    "                sample_weight[test_indices]\n",
    "                if sample_weight is not None\n",
    "                else None\n",
    "            )\n",
    "\n",
    "            if self.scoring is None:\n",
    "                score = model.score(\n",
    "                    X_test, y_test, sample_weight=sample_weight_test\n",
    "                )\n",
    "            else:\n",
    "                score = self.scoring(\n",
    "                    model, X_test, y_test, sample_weight=sample_weight_test\n",
    "                )\n",
    "            metrics[\"score\"].append(score)\n",
    "\n",
    "            if self.metrics:\n",
    "                y_test_pred = model.predict(X_test)\n",
    "                for metric in self.metrics:\n",
    "                    result = metric(\n",
    "                        y_test, y_test_pred, sample_weight=sample_weight_test\n",
    "                    )\n",
    "                    metrics[metric.__name__].append(result)\n",
    "\n",
    "        self.save_model(trial.trial_id, model)\n",
    "        return {name: np.mean(values) for name, values in metrics.items()}\n",
    "    \n",
    "class BoostTuner(kt.tuners.SklearnTuner):\n",
    "    def run_trial(self, trial, data, sample_weight=None, groups=None):\n",
    "        metrics = collections.defaultdict(list)\n",
    "        # For cross-validation methods that expect a `groups` argument.\n",
    "        cv_kwargs = {\"groups\": groups} if groups is not None else {}\n",
    "        for train_indices, test_indices in self.cv.split(X, y, **cv_kwargs):\n",
    "            X_train = split_data(X, train_indices)\n",
    "            y_train = split_data(y, train_indices)\n",
    "            X_test = split_data(X, test_indices)\n",
    "            y_test = split_data(y, test_indices)\n",
    "\n",
    "            # TODO SMOTE here\n",
    "            X_train = encode_and_scale(X_train)\n",
    "            X_test = encode_and_scale(X_test)\n",
    "\n",
    "            sample_weight_train = (\n",
    "                sample_weight[train_indices]\n",
    "                if sample_weight is not None\n",
    "                else None\n",
    "            )\n",
    "\n",
    "            model = self.hypermodel.build(trial.hyperparameters)\n",
    "\n",
    "            supports_sw = (\n",
    "                \"sample_weight\" in inspect.getfullargspec(model.fit).args\n",
    "            )\n",
    "            if isinstance(model, sklearn.pipeline.Pipeline) or not supports_sw:\n",
    "                model.fit(X_train, y_train)\n",
    "            else:\n",
    "                model.fit(X_train, y_train, sample_weight=sample_weight_train)\n",
    "\n",
    "            sample_weight_test = (\n",
    "                sample_weight[test_indices]\n",
    "                if sample_weight is not None\n",
    "                else None\n",
    "            )\n",
    "\n",
    "            if self.scoring is None:\n",
    "                score = model.score(\n",
    "                    X_test, y_test, sample_weight=sample_weight_test\n",
    "                )\n",
    "            else:\n",
    "                score = self.scoring(\n",
    "                    model, X_test, y_test, sample_weight=sample_weight_test\n",
    "                )\n",
    "            metrics[\"score\"].append(score)\n",
    "\n",
    "            if self.metrics:\n",
    "                y_test_pred = model.predict(X_test)\n",
    "                for metric in self.metrics:\n",
    "                    result = metric(\n",
    "                        y_test, y_test_pred, sample_weight=sample_weight_test\n",
    "                    )\n",
    "                    metrics[metric.__name__].append(result)\n",
    "\n",
    "        self.save_model(trial.trial_id, model)\n",
    "        return {name: np.mean(values) for name, values in metrics.items()}\n",
    "\n"
   ]
  },
  {
   "cell_type": "code",
   "execution_count": 87,
   "metadata": {
    "colab": {
     "base_uri": "https://localhost:8080/"
    },
    "id": "nGxhORqiODX5",
    "outputId": "520f552c-ee93-4573-d7b5-84babcfb63f1"
   },
   "outputs": [],
   "source": [
    "model_input_shape = encode_and_scale(X_test)[0].shape\n",
    "\n",
    "batch_size = 2**14\n",
    "epochs = 120\n",
    "\n",
    "class NNSigClassifierHyperModel(kt.HyperModel):\n",
    "    def build(self, hp):\n",
    "        model = keras.Sequential()\n",
    "        model.add(keras.Input(shape=model_input_shape))\n",
    "        for hidden_layer_num in range(hp.Int(\"num_layers\", min_value=2, max_value=10)):\n",
    "            model.add(layers.Dense(units=hp.Int(f\"units_{hidden_layer_num}\", min_value=4, max_value=128)))\n",
    "        model.add(layers.Dense(1, activation=\"sigmoid\"))\n",
    "        model.compile(loss=BinaryCrossentropy(), \n",
    "                      optimizer=\"adam\", \n",
    "                      metrics=[keras.metrics.AUC()])\n",
    "        return model\n",
    "    \n",
    "    def fit(self, hp, model, x, y, **kwargs):\n",
    "        if True: #hp.Boolean(\"smote\"):\n",
    "            smote_nc = RandomOverSampler() #SMOTENC(categorical_features=[0, 1], random_state=0)\n",
    "            x, y = smote_nc.fit_resample(x, y)\n",
    "        x = encode_and_scale(x)\n",
    "        return model.fit(x, y, batch_size=batch_size, **kwargs)\n",
    "\n",
    "nn_tuner = kt.Hyperband(hypermodel=NNSigClassifierHyperModel(),\n",
    "                           objective=kt.Objective('val_auc', 'max'),\n",
    "                           max_epochs=20,\n",
    "                           overwrite=True)\n",
    "\n",
    "class ForestSigClassifierHyperModel(kt.HyperModel):\n",
    "    def build(self, hp):\n",
    "        model = RandomForestClassifier(n_estimators=hp.Int('n_estimators', 25, 150, step=25,),\n",
    "                                       max_depth=hp.Int('max_depth', 3, 10))\n",
    "        return model\n",
    "\n",
    "    def fit(self, hp, model, x, y, **kwargs):\n",
    "        if True: #hp.Boolean(\"smote\"):\n",
    "            smote_nc = RandomOverSampler() #SMOTENC(categorical_features=[0, 1], random_state=0)\n",
    "            x, y = smote_nc.fit_resample(x, y)\n",
    "        x = encode_and_scale(x)\n",
    "        return model.fit(x, y, **kwargs)\n",
    "\n",
    "forest_tuner = ModifiedSklearnTuner(\n",
    "    oracle=kt.oracles.BayesianOptimizationOracle(\n",
    "        objective=kt.Objective('score', 'max'),\n",
    "        max_trials=10\n",
    "    ),\n",
    "    hypermodel=ForestSigClassifierHyperModel(),\n",
    "    scoring=make_scorer(roc_auc_score, needs_proba=True),\n",
    "    cv=StratifiedKFold(5),\n",
    "    overwrite=True\n",
    ")\n",
    "\n",
    "class BoostSigClassifierHyperModel(kt.HyperModel):\n",
    "    def build(self, hp):\n",
    "        model = lgb.LGBMClassifier(\n",
    "                                  num_leaves=hp.Int('num_leaves', 20, 80),\n",
    "                                  n_estimators=hp.Int('n_estimators', 70, 250),\n",
    "                                  random_state=0)\n",
    "        return model\n",
    "\n",
    "    def fit(self, hp, model, x, y, **kwargs):\n",
    "        \n",
    "        if True: #hp.Boolean(\"smote\"):\n",
    "            smote_nc = RandomOverSampler() #SMOTENC(categorical_features=[0, 1], random_state=0)\n",
    "            x, y = smote_nc.fit_resample(x, y)\n",
    "        x = encode_and_scale(x)\n",
    "        return model.fit(x, y, **kwargs)\n",
    "\n",
    "boost_tuner = ModifiedSklearnTuner(\n",
    "    oracle=kt.oracles.BayesianOptimizationOracle(\n",
    "        objective=kt.Objective('score', 'max'),\n",
    "        max_trials=20\n",
    "    ),\n",
    "    hypermodel=BoostSigClassifierHyperModel(),\n",
    "    scoring=make_scorer(roc_auc_score, needs_proba=True),\n",
    "    cv=StratifiedKFold(5),\n",
    "    overwrite=True\n",
    ")"
   ]
  },
  {
   "cell_type": "code",
   "execution_count": 88,
   "metadata": {
    "colab": {
     "base_uri": "https://localhost:8080/"
    },
    "id": "yvsAq0kWA1_9",
    "outputId": "73945e2b-e2ac-4719-8e6a-679872fb5e9d"
   },
   "outputs": [
    {
     "name": "stdout",
     "output_type": "stream",
     "text": [
      "Trial 10 Complete [02h 16m 30s]\n",
      "score: 0.5520304706949168\n",
      "\n",
      "Best score So Far: 0.5522688511927905\n",
      "Total elapsed time: 02h 48m 14s\n",
      "INFO:tensorflow:Oracle triggered exit\n"
     ]
    }
   ],
   "source": [
    "tuners = [boost_tuner, nn_tuner, forest_tuner]\n",
    "\n",
    "X_train_model, X_test_model, y_train_model, y_test_model = train_test_split(X_train, y_train, test_size = 0.25, random_state = 0)\n",
    "\n",
    "for tuner in tuners:\n",
    "    if isinstance(tuner, kt.Hyperband):\n",
    "        X_train_hp, X_test_hp, y_train_hp, y_test_hp = train_test_split(X_train_model, y_train_model, test_size = 0.25, random_state = 0)\n",
    "        tuner.search(X_train_hp, y_train_hp, validation_data=(encode_and_scale(X_test_hp), y_test_hp))\n",
    "    else:\n",
    "        # CV automatically done\n",
    "        tuner.search(X_train_model, y_train_model)"
   ]
  },
  {
   "cell_type": "code",
   "execution_count": 97,
   "metadata": {
    "colab": {
     "base_uri": "https://localhost:8080/"
    },
    "id": "PqTWK9XWRJIG",
    "outputId": "479da650-cd93-459a-8cfa-9d74540c4ec2"
   },
   "outputs": [
    {
     "ename": "TypeError",
     "evalue": "__call__() missing 3 required positional arguments: 'estimator', 'X', and 'y_true'",
     "output_type": "error",
     "traceback": [
      "\u001b[1;31m---------------------------------------------------------------------------\u001b[0m",
      "\u001b[1;31mTypeError\u001b[0m                                 Traceback (most recent call last)",
      "Cell \u001b[1;32mIn [97], line 1\u001b[0m\n\u001b[1;32m----> 1\u001b[0m \u001b[43mmake_scorer\u001b[49m\u001b[43m(\u001b[49m\u001b[43mroc_auc_score\u001b[49m\u001b[43m,\u001b[49m\u001b[43m \u001b[49m\u001b[43mneeds_proba\u001b[49m\u001b[38;5;241;43m=\u001b[39;49m\u001b[38;5;28;43;01mTrue\u001b[39;49;00m\u001b[43m)\u001b[49m\u001b[43m(\u001b[49m\u001b[43m)\u001b[49m\n",
      "\u001b[1;31mTypeError\u001b[0m: __call__() missing 3 required positional arguments: 'estimator', 'X', and 'y_true'"
     ]
    }
   ],
   "source": [
    "make_scorer(roc_auc_score, needs_proba=True)()"
   ]
  },
  {
   "cell_type": "code",
   "execution_count": 100,
   "metadata": {
    "colab": {
     "base_uri": "https://localhost:8080/",
     "height": 359
    },
    "id": "FMka3D0eCVEc",
    "outputId": "5213b2af-b316-4922-da9a-13c94abaa152"
   },
   "outputs": [
    {
     "name": "stdout",
     "output_type": "stream",
     "text": [
      "Best hyperparams for neural_net:\n",
      "{'num_layers': 2, 'units_0': 115, 'units_1': 109, 'units_2': 54, 'units_3': 69, 'units_4': 33, 'units_5': 61, 'units_6': 101, 'units_7': 69, 'units_8': 30, 'units_9': 71, 'tuner/epochs': 20, 'tuner/initial_epoch': 7, 'tuner/bracket': 1, 'tuner/round': 1, 'tuner/trial_id': '0021'}\n",
      "\n",
      "\n",
      "Epoch 1/120\n",
      "37/37 [==============================] - 2s 26ms/step - loss: 0.5696 - auc_3: 0.5035 - val_loss: 0.5498 - val_auc_3: 0.5184\n",
      "Epoch 2/120\n",
      "37/37 [==============================] - 1s 17ms/step - loss: 0.5505 - auc_3: 0.5200 - val_loss: 0.5494 - val_auc_3: 0.5209\n",
      "Epoch 3/120\n",
      "37/37 [==============================] - 1s 16ms/step - loss: 0.5503 - auc_3: 0.5222 - val_loss: 0.5495 - val_auc_3: 0.5222\n",
      "Epoch 4/120\n",
      "37/37 [==============================] - 1s 16ms/step - loss: 0.5504 - auc_3: 0.5204 - val_loss: 0.5495 - val_auc_3: 0.5198\n",
      "Epoch 5/120\n",
      "37/37 [==============================] - 1s 17ms/step - loss: 0.5504 - auc_3: 0.5210 - val_loss: 0.5497 - val_auc_3: 0.5182\n",
      "8374/8374 [==============================] - 13s 2ms/step - loss: 0.5494 - auc_3: 0.5188\n",
      "Best hyperparams for random_forest:\n",
      "{'n_estimators': 150, 'max_depth': 10}\n",
      "\n",
      "\n",
      "Best hyperparams for boost:\n",
      "{'num_leaves': 80, 'n_estimators': 250}\n",
      "\n",
      "\n"
     ]
    }
   ],
   "source": [
    "# compare models\n",
    "tuner_names = {\n",
    "    'neural_net': nn_tuner,\n",
    "    'random_forest': forest_tuner,\n",
    "    'boost': boost_tuner\n",
    "}\n",
    "\n",
    "best_models = {}\n",
    "scores = {}\n",
    "\n",
    "for name, tuner in tuner_names.items():\n",
    "    print(f'Best hyperparams for {name}:\\n{tuner.get_best_hyperparameters()[0].values}\\n\\n')\n",
    "    best_models[name] = tuner.hypermodel.build(tuner.get_best_hyperparameters()[0])\n",
    "    if name == 'neural_net':\n",
    "        X_train_nn, X_val_nn, y_train_nn, y_val_nn = train_test_split(X_train_model, y_train_model, test_size = 0.25, random_state = 0)\n",
    "        history = best_models[name].fit(encode_and_scale(X_train_nn), y_train_nn, epochs=epochs, batch_size=batch_size, \n",
    "                    callbacks=[keras.callbacks.EarlyStopping(patience=3)], validation_data=(encode_and_scale(X_val_nn), y_val_nn))\n",
    "        loss, auc = best_models[name].evaluate(encode_and_scale(X_test_model), y_test_model)\n",
    "        scores[name] = auc\n",
    "    else:\n",
    "        best_models[name].fit(encode_and_scale(X_train_model), y_train_model)\n",
    "        scores[name] = make_scorer(roc_auc_score, needs_proba=True)(best_models[name], encode_and_scale(X_test_model), y_test_model)"
   ]
  },
  {
   "cell_type": "code",
   "execution_count": 103,
   "metadata": {},
   "outputs": [
    {
     "name": "stdout",
     "output_type": "stream",
     "text": [
      "{'neural_net': 0.518781304359436, 'random_forest': 0.555923932305043, 'boost': 0.5602131942157936}\n",
      "Boost AUC: 0.564029617959722\n"
     ]
    }
   ],
   "source": [
    "print(scores)\n",
    "\n",
    "best_model = tuner_names['boost'].hypermodel.build(tuner_names['boost'].get_best_hyperparameters()[0])\n",
    "best_model.fit(encode_and_scale(X_train), y_train)\n",
    "auc = make_scorer(roc_auc_score, needs_proba=True)(best_model, encode_and_scale(X_test), y_test)\n",
    "print(f'Boost AUC: {auc}')"
   ]
  },
  {
   "cell_type": "code",
   "execution_count": 68,
   "metadata": {
    "colab": {
     "base_uri": "https://localhost:8080/"
    },
    "id": "w8PwuBbI0u-_",
    "outputId": "3ad1502b-03fc-4bd5-83ab-f60b6219544b"
   },
   "outputs": [
    {
     "name": "stdout",
     "output_type": "stream",
     "text": [
      "Epoch 1/120\n",
      "66/66 [==============================] - 2s 20ms/step - loss: 0.5672 - geometric_mean: 0.4273 - val_loss: 0.5507 - val_geometric_mean: 0.4283\n",
      "Epoch 2/120\n",
      "66/66 [==============================] - 1s 18ms/step - loss: 0.5496 - geometric_mean: 0.4281 - val_loss: 0.5503 - val_geometric_mean: 0.4287\n",
      "Epoch 3/120\n",
      "66/66 [==============================] - 1s 17ms/step - loss: 0.5493 - geometric_mean: 0.4284 - val_loss: 0.5500 - val_geometric_mean: 0.4290\n",
      "Epoch 4/120\n",
      "66/66 [==============================] - 2s 26ms/step - loss: 0.5491 - geometric_mean: 0.4287 - val_loss: 0.5498 - val_geometric_mean: 0.4293\n",
      "Epoch 5/120\n",
      "66/66 [==============================] - 2s 26ms/step - loss: 0.5490 - geometric_mean: 0.4290 - val_loss: 0.5498 - val_geometric_mean: 0.4294\n",
      "Epoch 6/120\n",
      "66/66 [==============================] - 1s 18ms/step - loss: 0.5489 - geometric_mean: 0.4291 - val_loss: 0.5496 - val_geometric_mean: 0.4297\n",
      "Epoch 7/120\n",
      "66/66 [==============================] - 1s 17ms/step - loss: 0.5489 - geometric_mean: 0.4293 - val_loss: 0.5496 - val_geometric_mean: 0.4299\n",
      "Epoch 8/120\n",
      "66/66 [==============================] - 1s 19ms/step - loss: 0.5487 - geometric_mean: 0.4293 - val_loss: 0.5498 - val_geometric_mean: 0.4300\n",
      "Epoch 9/120\n",
      "66/66 [==============================] - 1s 19ms/step - loss: 0.5487 - geometric_mean: 0.4294 - val_loss: 0.5498 - val_geometric_mean: 0.4296\n"
     ]
    }
   ],
   "source": [
    "batch_size = 2**14\n",
    "epochs = 120\n",
    "\n",
    "\n",
    "def make_dnn_model(n_layers=5):\n",
    "    model = keras.Sequential()\n",
    "\n",
    "    model.add(keras.Input(shape = model_input_shape ))\n",
    "    model.add(layers.Dense(64, activation=\"relu\"))\n",
    "    model.add(layers.Dense(32, activation=\"relu\"))\n",
    "    model.add(layers.Dense(16, activation=\"relu\"))\n",
    "    model.add(layers.Dense(8, activation=\"relu\"))\n",
    "    model.add(layers.Dense(8, activation=\"relu\"))\n",
    "    model.add(layers.Dense(8, activation=\"relu\"))\n",
    "    model.add(layers.Dense(1, activation=\"sigmoid\"))\n",
    "    return model\n",
    "\n",
    "# X_train_res, y_train_res = oversampler.fit_resample(X_train, y_train)\n",
    "# print(f'Shapes: \\nX_train_res: {X_train_res.shape}\\ny_train_res: {y_train_res.shape}')\n",
    "\n",
    "model_unbalanced = make_dnn_model()\n",
    "# model_balanced = make_dnn_model()\n",
    "\n",
    "\n",
    "\n",
    "\n",
    "opt_unbalanced = keras.optimizers.Adam(learning_rate=0.01)\n",
    "model_unbalanced.compile(loss=BinaryCrossentropy(), optimizer=opt_unbalanced,\n",
    "                    metrics=[geometric_mean])\n",
    "history_unbalanced = model_unbalanced.fit(X_train, y_train, epochs=epochs, batch_size=batch_size, \n",
    "                    callbacks=[keras.callbacks.EarlyStopping(patience=3)], validation_data=(X_test, y_test))\n",
    "\n",
    "# opt_balanced = keras.optimizers.Adam(learning_rate=0.01)\n",
    "# model_balanced.compile(loss=BinaryCrossentropy(), optimizer=opt_balanced)\n",
    "# history_balanced = model_balanced.fit(X_train_res, y_train_res, epochs=epochs, batch_size=batch_size, \n",
    "#                     callbacks=[keras.callbacks.EarlyStopping(patience=3)], validation_data=(X_test, y_test))"
   ]
  },
  {
   "cell_type": "code",
   "execution_count": 59,
   "metadata": {
    "colab": {
     "base_uri": "https://localhost:8080/"
    },
    "id": "Z5H97QA_s_-O",
    "outputId": "1df49595-ece7-40cb-f1d7-8af4a13701b9"
   },
   "outputs": [
    {
     "data": {
      "text/plain": [
       "<tf.Tensor: shape=(5,), dtype=float32, numpy=array([0., 0., 1., 1., 0.], dtype=float32)>"
      ]
     },
     "execution_count": 59,
     "metadata": {},
     "output_type": "execute_result"
    }
   ],
   "source": [
    "y1 = tf.convert_to_tensor(np.array([0.2,0,0.7,1,0], dtype=float))\n",
    "y2 = tf.convert_to_tensor(np.array([1,1,1,1,0], dtype=float))\n",
    "\n",
    "#geometric_mean(y1, y2)\n",
    "#keras.backend.sqrt(specificity(y1,y2) * sensitivity(y1,y2))"
   ]
  },
  {
   "cell_type": "code",
   "execution_count": 17,
   "metadata": {
    "colab": {
     "base_uri": "https://localhost:8080/",
     "height": 608
    },
    "id": "p78l6QNv0xdo",
    "outputId": "0a8b31a3-6256-4c3f-a537-a4e0d6d6f8f5"
   },
   "outputs": [
    {
     "name": "stdout",
     "output_type": "stream",
     "text": [
      "11166/11166 [==============================] - 20s 2ms/step\n",
      "11166/11166 [==============================] - 20s 2ms/step\n"
     ]
    },
    {
     "data": {
      "image/png": "[encoded data removed]",
      "text/plain": [
       "<Figure size 432x288 with 1 Axes>"
      ]
     },
     "metadata": {
      "needs_background": "light"
     },
     "output_type": "display_data"
    },
    {
     "data": {
      "image/png": "[encoded data removed]",
      "text/plain": [
       "<Figure size 432x288 with 1 Axes>"
      ]
     },
     "metadata": {
      "needs_background": "light"
     },
     "output_type": "display_data"
    }
   ],
   "source": [
    "models = {'balanced': model_balanced, 'unbalanced': model_unbalanced}\n",
    "\n",
    "for model_name, model in models.items():\n",
    "    y_prob = model.predict(X_test)\n",
    "    y_pred = y_prob > 0.5\n",
    "    y_probs = np.column_stack([1-y_prob, y_prob])\n",
    "    skplt.metrics.plot_roc(y_test.flatten(), y_probs, title=model_name)"
   ]
  },
  {
   "cell_type": "code",
   "execution_count": null,
   "metadata": {
    "colab": {
     "base_uri": "https://localhost:8080/",
     "height": 312
    },
    "id": "mTNmf3S36uv8",
    "outputId": "01ce9ab2-42bc-47d7-d10a-da4419ed36e0"
   },
   "outputs": [
    {
     "data": {
      "text/plain": [
       "<matplotlib.axes._subplots.AxesSubplot at 0x7fbb59ff65e0>"
      ]
     },
     "execution_count": 16,
     "metadata": {},
     "output_type": "execute_result"
    },
    {
     "data": {
      "image/png": "[encoded data removed]",
      "text/plain": [
       "<Figure size 432x288 with 1 Axes>"
      ]
     },
     "metadata": {
      "needs_background": "light"
     },
     "output_type": "display_data"
    }
   ],
   "source": [
    "skplt.metrics.plot_roc(y_test.to_numpy().flatten(), y_probs)"
   ]
  },
  {
   "cell_type": "code",
   "execution_count": null,
   "metadata": {
    "colab": {
     "base_uri": "https://localhost:8080/"
    },
    "id": "KqYyoEmbDiX-",
    "outputId": "c750db51-42b6-4fac-c06e-b6324a083661"
   },
   "outputs": [
    {
     "name": "stdout",
     "output_type": "stream",
     "text": [
      "Portion SIG_SUB: 24.01%\n",
      "Portion non-SIG_SUB: 75.99%\n",
      "Accuracy: 0.998558569653273\n",
      "Precision: 0.9962640969239901\n",
      "Recall: 0.997738822322719\n",
      "F1: 0.9970009142843833\n"
     ]
    }
   ],
   "source": [
    "accuracy = accuracy_score(y_test, y_pred)\n",
    "count_sig = sum(y_test.to_numpy()).item()\n",
    "count_non_sig = len(y_test) - count_sig\n",
    "print(f'Portion SIG_SUB: {count_sig / len(y_test) * 100:.2f}%')\n",
    "print(f'Portion non-SIG_SUB: {count_non_sig / len(y_test) * 100:.2f}%')\n",
    "print(f'Accuracy: {accuracy}')\n",
    "\n",
    "f1 = f1_score(y_test, y_pred)\n",
    "precision = precision_score(y_test, y_pred)\n",
    "recall = recall_score(y_test, y_pred)\n",
    "\n",
    "print(f'Precision: {precision}\\nRecall: {recall}\\nF1: {f1}')"
   ]
  },
  {
   "cell_type": "code",
   "execution_count": null,
   "metadata": {
    "colab": {
     "base_uri": "https://localhost:8080/",
     "height": 295
    },
    "id": "X_NcCfZj05FM",
    "outputId": "4b29742c-3f11-4bbb-fee3-685463d9e4c3"
   },
   "outputs": [
    {
     "data": {
      "image/png": "[encoded data removed]",
      "text/plain": [
       "<Figure size 432x288 with 1 Axes>"
      ]
     },
     "metadata": {
      "needs_background": "light"
     },
     "output_type": "display_data"
    }
   ],
   "source": [
    "# summarize history for loss\n",
    "plt.plot(history.history['loss'])\n",
    "plt.plot(history.history['val_loss'])\n",
    "plt.title('model loss')\n",
    "plt.ylabel('loss')\n",
    "plt.xlabel('epoch')\n",
    "plt.legend(['train', 'test'], loc='upper left')\n",
    "plt.show()"
   ]
  }
 ],
 "metadata": {
  "colab": {
   "authorship_tag": "ABX9TyOy6IAzskCTKnJ5dw5sqpaV",
   "include_colab_link": true,
   "provenance": []
  },
  "kernelspec": {
   "display_name": "Python 3 (ipykernel)",
   "language": "python",
   "name": "python3"
  },
  "language_info": {
   "codemirror_mode": {
    "name": "ipython",
    "version": 3
   },
   "file_extension": ".py",
   "mimetype": "text/x-python",
   "name": "python",
   "nbconvert_exporter": "python",
   "pygments_lexer": "ipython3",
   "version": "3.9.13"
  }
 },
 "nbformat": 4,
 "nbformat_minor": 1
}
