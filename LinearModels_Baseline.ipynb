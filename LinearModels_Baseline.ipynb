{
  "nbformat": 4,
  "nbformat_minor": 0,
  "metadata": {
    "colab": {
      "provenance": [],
      "collapsed_sections": [],
      "authorship_tag": "ABX9TyOGAGnUyn15idlnz4EDOLu9",
      "include_colab_link": true
    },
    "kernelspec": {
      "name": "python3",
      "display_name": "Python 3"
    },
    "language_info": {
      "name": "python"
    }
  },
  "cells": [
    {
      "cell_type": "markdown",
      "metadata": {
        "id": "view-in-github",
        "colab_type": "text"
      },
      "source": [
        "<a href=\"https://colab.research.google.com/github/jacobdwatters/NIOSH-Project/blob/main/LinearModels_Baseline.ipynb\" target=\"_parent\"><img src=\"https://colab.research.google.com/assets/colab-badge.svg\" alt=\"Open In Colab\"/></a>"
      ]
    },
    {
      "cell_type": "code",
      "execution_count": 55,
      "metadata": {
        "id": "ekB0Ix6IYvoi"
      },
      "outputs": [],
      "source": [
        "import numpy as np\n",
        "import pandas as pd\n",
        "import seaborn as sns\n",
        "import matplotlib.pyplot as plt\n",
        "\n",
        "from sklearn.linear_model import LinearRegression\n",
        "from sklearn.preprocessing import StandardScaler\n",
        "from sklearn.preprocessing import OneHotEncoder\n",
        "from sklearn.model_selection import train_test_split\n",
        "from sklearn.linear_model import RANSACRegressor\n",
        "from sklearn.metrics import mean_absolute_error\n",
        "from sklearn.metrics import r2_score\n",
        "\n",
        "import scipy as sp\n",
        "from scipy import stats"
      ]
    },
    {
      "cell_type": "code",
      "source": [
        "from google.colab import drive\n",
        "drive.mount('/content/gdrive')"
      ],
      "metadata": {
        "colab": {
          "base_uri": "https://localhost:8080/"
        },
        "id": "D5xBDHi_aZhH",
        "outputId": "be95c00c-1845-43b5-fa1b-647ed2688f96"
      },
      "execution_count": 3,
      "outputs": [
        {
          "output_type": "stream",
          "name": "stdout",
          "text": [
            "Mounted at /content/gdrive\n"
          ]
        }
      ]
    },
    {
      "cell_type": "markdown",
      "source": [
        "## Load and proceses data"
      ],
      "metadata": {
        "id": "GuicPgXfaAH9"
      }
    },
    {
      "cell_type": "markdown",
      "source": [
        "#### Load data from csv"
      ],
      "metadata": {
        "id": "p6EWQRv3dLZn"
      }
    },
    {
      "cell_type": "code",
      "source": [
        "path_after_2010 = '/content/gdrive/My Drive/NIOSH Project/data/violations_processed_after_2010.csv'\n",
        "violation_data = pd.read_csv(path_after_2010)"
      ],
      "metadata": {
        "id": "zzkxoejnZHTu"
      },
      "execution_count": 4,
      "outputs": []
    },
    {
      "cell_type": "markdown",
      "source": [
        "#### Split into features and targets"
      ],
      "metadata": {
        "id": "LMpnBopCdOSD"
      }
    },
    {
      "cell_type": "code",
      "source": [
        "FEATURES = ['MINE_TYPE', 'COAL_METAL_IND', 'SIG_SUB', 'LIKELIHOOD', \n",
        "            'INJ_ILLNESS', 'NO_AFFECTED', 'NEGLIGENCE', 'VIOLATOR_VIOLATION_CNT',\n",
        "            'VIOLATOR_INSPECTION_DAY_CNT']\n",
        "TARGETS = ['PROPOSED_PENALTY']\n",
        "\n",
        "X = violation_data[FEATURES]\n",
        "y = violation_data[TARGETS]"
      ],
      "metadata": {
        "id": "kFB2mKZKahOt"
      },
      "execution_count": 16,
      "outputs": []
    },
    {
      "cell_type": "markdown",
      "source": [
        "#### Encode and scale features"
      ],
      "metadata": {
        "id": "-heZ96xddR9A"
      }
    },
    {
      "cell_type": "code",
      "source": [
        "# Define which columns should be encoded vs scaled\n",
        "columns_to_encode = ['MINE_TYPE', 'COAL_METAL_IND', 'LIKELIHOOD', 'INJ_ILLNESS', 'SIG_SUB', 'NEGLIGENCE']\n",
        "columns_to_scale  = ['VIOLATOR_VIOLATION_CNT', 'NO_AFFECTED', 'VIOLATOR_INSPECTION_DAY_CNT']\n",
        "\n",
        "# Instantiate encoder/scaler\n",
        "scaler = StandardScaler()\n",
        "ohe = OneHotEncoder(sparse=False)\n",
        "\n",
        "# Scale and Encode Separate Columns\n",
        "scaled_columns  = scaler.fit_transform(X[columns_to_scale])\n",
        "encoded_columns = ohe.fit_transform(X[columns_to_encode])\n",
        "\n",
        "# Concatenate (Column-Bind) Processed Columns Back Together\n",
        "X_pre = np.concatenate([scaled_columns, encoded_columns], axis=1)\n",
        "np.nan_to_num(X_pre, copy=False)\n",
        "\n",
        "print('Features shape:', X_pre.shape)"
      ],
      "metadata": {
        "colab": {
          "base_uri": "https://localhost:8080/"
        },
        "id": "s7I23o80bfIe",
        "outputId": "acabd857-07d1-4474-eefa-6d01d47293f1"
      },
      "execution_count": 20,
      "outputs": [
        {
          "output_type": "stream",
          "name": "stdout",
          "text": [
            "Features shape: (1429135, 24)\n"
          ]
        }
      ]
    },
    {
      "cell_type": "markdown",
      "source": [
        "#### Split data into training and testing datasets"
      ],
      "metadata": {
        "id": "n6z0SgrWdq_b"
      }
    },
    {
      "cell_type": "code",
      "source": [
        "X_train, X_test, y_train, y_test = train_test_split(X_pre, y, test_size = 0.25, random_state = 0)\n",
        "\n",
        "print('X_train shape:', X_train.shape)\n",
        "print('X_test shape:', X_test.shape)\n",
        "print('y_train shape:', y_train.shape)\n",
        "print('y_train shape:', y_test.shape)"
      ],
      "metadata": {
        "colab": {
          "base_uri": "https://localhost:8080/"
        },
        "id": "7EQnPj02dW4I",
        "outputId": "797799a8-aa3f-4eb1-81dd-af737f550fc2"
      },
      "execution_count": 26,
      "outputs": [
        {
          "output_type": "stream",
          "name": "stdout",
          "text": [
            "X_train shape: (1071851, 24)\n",
            "X_test shape: (357284, 24)\n",
            "y_train shape: (1071851, 1)\n",
            "y_train shape: (357284, 1)\n"
          ]
        }
      ]
    },
    {
      "cell_type": "markdown",
      "source": [
        "## Define and Fit Simple Linear Regression Model"
      ],
      "metadata": {
        "id": "AhYAmoLreB3G"
      }
    },
    {
      "cell_type": "code",
      "source": [
        "lin_reg = LinearRegression().fit(X_train, y_train)"
      ],
      "metadata": {
        "id": "iplwrboHeE_v"
      },
      "execution_count": 36,
      "outputs": []
    },
    {
      "cell_type": "code",
      "source": [
        "lin_reg_y_pred_train = lin_reg.predict(X_train)\n",
        "lin_reg_y_pred_test = lin_reg.predict(X_test)\n",
        "\n",
        "lin_reg_r_squared_train = r2_score(y_train, lin_reg_y_pred_train)\n",
        "lin_reg_r_squared_test = r2_score(y_test, lin_reg_y_pred_test)\n",
        "\n",
        "lin_reg_mae_train = mean_absolute_error(y_train, lin_reg_y_pred_train)\n",
        "lin_reg_mae_test = mean_absolute_error(y_test, lin_reg_y_pred_test)\n",
        "\n",
        "print('Simple Linear Regression Scores:')\n",
        "print('Training R^2 = %.3f' % lin_reg_r_squared_train)\n",
        "print('Training MAE = %.3f' % lin_reg_mae_train)\n",
        "\n",
        "print('\\nTesting R^2 = %.3f' % lin_reg_r_squared_test)\n",
        "print('Testing MAE = %.3f' % lin_reg_mae_test)"
      ],
      "metadata": {
        "colab": {
          "base_uri": "https://localhost:8080/"
        },
        "id": "ND7kRoBjh1tF",
        "outputId": "62027eed-709b-4956-a55a-1ac24db083f4"
      },
      "execution_count": 58,
      "outputs": [
        {
          "output_type": "stream",
          "name": "stdout",
          "text": [
            "Simple Linear Regression Scores:\n",
            "Training R^2 = 0.276\n",
            "Training MAE = 841.728\n",
            "\n",
            "Testing R^2 = 0.260\n",
            "Testing MAE = 837.038\n"
          ]
        }
      ]
    },
    {
      "cell_type": "markdown",
      "source": [
        "## Define and Fit RANSAC Regressor"
      ],
      "metadata": {
        "id": "to1YjmuRfgRd"
      }
    },
    {
      "cell_type": "code",
      "source": [
        "ransac_reg = RANSACRegressor().fit(X_train, y_train)"
      ],
      "metadata": {
        "id": "xeGAQ90Uffre"
      },
      "execution_count": 47,
      "outputs": []
    },
    {
      "cell_type": "code",
      "source": [
        "ransac_reg_y_pred_train = ransac_reg.predict(X_train)\n",
        "ransac_reg_y_pred_test = ransac_reg.predict(X_test)\n",
        "\n",
        "ransac_reg_r_squared_train = r2_score(y_train, ransac_reg_y_pred_train)\n",
        "ransac_reg_r_squared_test = r2_score(y_test, ransac_reg_y_pred_test)\n",
        "\n",
        "ransac_reg_mae_train = mean_absolute_error(y_train, ransac_reg_y_pred_train)\n",
        "ransac_reg_mae_test = mean_absolute_error(y_test, ransac_reg_y_pred_test)\n",
        "\n",
        "print('RANSAC Regression Scores:')\n",
        "print('Training R^2 = %.3f' % ransac_reg_r_squared_train)\n",
        "print('Training MAE = %.3f' % ransac_reg_mae_train)\n",
        "\n",
        "print('\\nTesting R^2 = %.3f' % ransac_reg_r_squared_test)\n",
        "print('Testing MAE = %.3f' % ransac_reg_mae_test)"
      ],
      "metadata": {
        "colab": {
          "base_uri": "https://localhost:8080/"
        },
        "id": "HbO5Sbuth5_8",
        "outputId": "f8deeb07-b2ad-45c7-853b-7714413749cf"
      },
      "execution_count": 59,
      "outputs": [
        {
          "output_type": "stream",
          "name": "stdout",
          "text": [
            "RANSAC Regression Scores:\n",
            "Training R^2 = 0.043\n",
            "Training MAE = 609.615\n",
            "\n",
            "Testing R^2 = 0.045\n",
            "Testing MAE = 600.971\n"
          ]
        }
      ]
    }
  ]
}