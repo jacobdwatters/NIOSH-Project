{
  "nbformat": 4,
  "nbformat_minor": 0,
  "metadata": {
    "colab": {
      "provenance": [],
      "collapsed_sections": [],
      "authorship_tag": "ABX9TyNjddCHj6BtF3CVyEFpLpKc",
      "include_colab_link": true
    },
    "kernelspec": {
      "name": "python3",
      "display_name": "Python 3"
    },
    "language_info": {
      "name": "python"
    }
  },
  "cells": [
    {
      "cell_type": "markdown",
      "metadata": {
        "id": "view-in-github",
        "colab_type": "text"
      },
      "source": [
        "<a href=\"https://colab.research.google.com/github/jacobdwatters/NIOSH-Project/blob/main/LinearModels_Baseline.ipynb\" target=\"_parent\"><img src=\"https://colab.research.google.com/assets/colab-badge.svg\" alt=\"Open In Colab\"/></a>"
      ]
    },
    {
      "cell_type": "markdown",
      "source": [
        "## Imports and setup"
      ],
      "metadata": {
        "id": "kjCUrngFsVEI"
      }
    },
    {
      "cell_type": "code",
      "execution_count": 55,
      "metadata": {
        "id": "ekB0Ix6IYvoi"
      },
      "outputs": [],
      "source": [
        "import numpy as np\n",
        "import pandas as pd\n",
        "import seaborn as sns\n",
        "import matplotlib.pyplot as plt\n",
        "\n",
        "from sklearn.linear_model import LinearRegression\n",
        "from sklearn.preprocessing import StandardScaler\n",
        "from sklearn.preprocessing import OneHotEncoder\n",
        "from sklearn.model_selection import train_test_split\n",
        "from sklearn.linear_model import RANSACRegressor\n",
        "from sklearn.metrics import mean_absolute_error\n",
        "from sklearn.metrics import r2_score\n",
        "\n",
        "import scipy as sp\n",
        "from scipy import stats"
      ]
    },
    {
      "cell_type": "code",
      "source": [
        "from google.colab import drive\n",
        "drive.mount('/content/gdrive')"
      ],
      "metadata": {
        "colab": {
          "base_uri": "https://localhost:8080/"
        },
        "id": "D5xBDHi_aZhH",
        "outputId": "be95c00c-1845-43b5-fa1b-647ed2688f96"
      },
      "execution_count": 3,
      "outputs": [
        {
          "output_type": "stream",
          "name": "stdout",
          "text": [
            "Mounted at /content/gdrive\n"
          ]
        }
      ]
    },
    {
      "cell_type": "markdown",
      "source": [
        "## Load and proceses data"
      ],
      "metadata": {
        "id": "GuicPgXfaAH9"
      }
    },
    {
      "cell_type": "markdown",
      "source": [
        "#### Load data from csv"
      ],
      "metadata": {
        "id": "p6EWQRv3dLZn"
      }
    },
    {
      "cell_type": "code",
      "source": [
        "path_after_2010 = '/content/gdrive/My Drive/NIOSH Project/data/violations_processed_after_2010.csv'\n",
        "violation_data = pd.read_csv(path_after_2010)"
      ],
      "metadata": {
        "id": "zzkxoejnZHTu"
      },
      "execution_count": 4,
      "outputs": []
    },
    {
      "cell_type": "markdown",
      "source": [
        "#### Split into features and targets"
      ],
      "metadata": {
        "id": "LMpnBopCdOSD"
      }
    },
    {
      "cell_type": "code",
      "source": [
        "FEATURES = ['MINE_TYPE', 'COAL_METAL_IND', 'SIG_SUB', 'LIKELIHOOD', \n",
        "            'INJ_ILLNESS', 'NO_AFFECTED', 'NEGLIGENCE', 'VIOLATOR_VIOLATION_CNT',\n",
        "            'VIOLATOR_INSPECTION_DAY_CNT']\n",
        "TARGETS = ['PROPOSED_PENALTY']\n",
        "\n",
        "X = violation_data[FEATURES]\n",
        "y = violation_data[TARGETS]"
      ],
      "metadata": {
        "id": "kFB2mKZKahOt"
      },
      "execution_count": 16,
      "outputs": []
    },
    {
      "cell_type": "markdown",
      "source": [
        "#### Encode and scale features"
      ],
      "metadata": {
        "id": "-heZ96xddR9A"
      }
    },
    {
      "cell_type": "code",
      "source": [
        "# Define which columns should be encoded vs scaled\n",
        "columns_to_encode = ['MINE_TYPE', 'COAL_METAL_IND', 'LIKELIHOOD', 'INJ_ILLNESS', 'SIG_SUB', 'NEGLIGENCE']\n",
        "columns_to_scale  = ['VIOLATOR_VIOLATION_CNT', 'NO_AFFECTED', 'VIOLATOR_INSPECTION_DAY_CNT']\n",
        "\n",
        "# Instantiate encoder/scaler\n",
        "scaler = StandardScaler()\n",
        "ohe = OneHotEncoder(sparse=False)\n",
        "\n",
        "# Scale and Encode Separate Columns\n",
        "scaled_columns  = scaler.fit_transform(X[columns_to_scale])\n",
        "encoded_columns = ohe.fit_transform(X[columns_to_encode])\n",
        "\n",
        "# Concatenate (Column-Bind) Processed Columns Back Together\n",
        "X_pre = np.concatenate([scaled_columns, encoded_columns], axis=1)\n",
        "np.nan_to_num(X_pre, copy=False)\n",
        "\n",
        "print('Features shape:', X_pre.shape)"
      ],
      "metadata": {
        "colab": {
          "base_uri": "https://localhost:8080/"
        },
        "id": "s7I23o80bfIe",
        "outputId": "acabd857-07d1-4474-eefa-6d01d47293f1"
      },
      "execution_count": 20,
      "outputs": [
        {
          "output_type": "stream",
          "name": "stdout",
          "text": [
            "Features shape: (1429135, 24)\n"
          ]
        }
      ]
    },
    {
      "cell_type": "markdown",
      "source": [
        "#### Split data into training and testing datasets"
      ],
      "metadata": {
        "id": "n6z0SgrWdq_b"
      }
    },
    {
      "cell_type": "code",
      "source": [
        "X_train, X_test, y_train, y_test = train_test_split(X_pre, y, test_size = 0.25, random_state = 0)\n",
        "\n",
        "print('X_train shape:', X_train.shape)\n",
        "print('X_test shape:', X_test.shape)\n",
        "print('y_train shape:', y_train.shape)\n",
        "print('y_train shape:', y_test.shape)"
      ],
      "metadata": {
        "colab": {
          "base_uri": "https://localhost:8080/"
        },
        "id": "7EQnPj02dW4I",
        "outputId": "797799a8-aa3f-4eb1-81dd-af737f550fc2"
      },
      "execution_count": 26,
      "outputs": [
        {
          "output_type": "stream",
          "name": "stdout",
          "text": [
            "X_train shape: (1071851, 24)\n",
            "X_test shape: (357284, 24)\n",
            "y_train shape: (1071851, 1)\n",
            "y_train shape: (357284, 1)\n"
          ]
        }
      ]
    },
    {
      "cell_type": "markdown",
      "source": [
        "## Define and Fit Simple Linear Regression Model"
      ],
      "metadata": {
        "id": "AhYAmoLreB3G"
      }
    },
    {
      "cell_type": "code",
      "source": [
        "lin_reg = LinearRegression().fit(X_train, y_train)"
      ],
      "metadata": {
        "id": "iplwrboHeE_v"
      },
      "execution_count": 36,
      "outputs": []
    },
    {
      "cell_type": "code",
      "source": [
        "lin_reg_y_pred_train = lin_reg.predict(X_train)\n",
        "lin_reg_y_pred_test = lin_reg.predict(X_test)\n",
        "\n",
        "lin_reg_r_squared_train = r2_score(y_train, lin_reg_y_pred_train)\n",
        "lin_reg_r_squared_test = r2_score(y_test, lin_reg_y_pred_test)\n",
        "\n",
        "lin_reg_mae_train = mean_absolute_error(y_train, lin_reg_y_pred_train)\n",
        "lin_reg_mae_test = mean_absolute_error(y_test, lin_reg_y_pred_test)\n",
        "\n",
        "print('Simple Linear Regression Scores:')\n",
        "print('Training R^2 = %.3f' % lin_reg_r_squared_train)\n",
        "print('Training MAE = %.3f' % lin_reg_mae_train)\n",
        "\n",
        "print('\\nTesting R^2 = %.3f' % lin_reg_r_squared_test)\n",
        "print('Testing MAE = %.3f' % lin_reg_mae_test)"
      ],
      "metadata": {
        "colab": {
          "base_uri": "https://localhost:8080/"
        },
        "id": "ND7kRoBjh1tF",
        "outputId": "62027eed-709b-4956-a55a-1ac24db083f4"
      },
      "execution_count": 58,
      "outputs": [
        {
          "output_type": "stream",
          "name": "stdout",
          "text": [
            "Simple Linear Regression Scores:\n",
            "Training R^2 = 0.276\n",
            "Training MAE = 841.728\n",
            "\n",
            "Testing R^2 = 0.260\n",
            "Testing MAE = 837.038\n"
          ]
        }
      ]
    },
    {
      "cell_type": "markdown",
      "source": [
        "## Define and Fit RANSAC Regressor"
      ],
      "metadata": {
        "id": "to1YjmuRfgRd"
      }
    },
    {
      "cell_type": "code",
      "source": [
        "ransac_reg = RANSACRegressor().fit(X_train, y_train)"
      ],
      "metadata": {
        "id": "xeGAQ90Uffre"
      },
      "execution_count": 47,
      "outputs": []
    },
    {
      "cell_type": "code",
      "source": [
        "ransac_reg_y_pred_train = ransac_reg.predict(X_train)\n",
        "ransac_reg_y_pred_test = ransac_reg.predict(X_test)\n",
        "\n",
        "ransac_reg_r_squared_train = r2_score(y_train, ransac_reg_y_pred_train)\n",
        "ransac_reg_r_squared_test = r2_score(y_test, ransac_reg_y_pred_test)\n",
        "\n",
        "ransac_reg_mae_train = mean_absolute_error(y_train, ransac_reg_y_pred_train)\n",
        "ransac_reg_mae_test = mean_absolute_error(y_test, ransac_reg_y_pred_test)\n",
        "\n",
        "print('RANSAC Regression Scores:')\n",
        "print('Training R^2 = %.3f' % ransac_reg_r_squared_train)\n",
        "print('Training MAE = %.3f' % ransac_reg_mae_train)\n",
        "\n",
        "print('\\nTesting R^2 = %.3f' % ransac_reg_r_squared_test)\n",
        "print('Testing MAE = %.3f' % ransac_reg_mae_test)"
      ],
      "metadata": {
        "colab": {
          "base_uri": "https://localhost:8080/"
        },
        "id": "HbO5Sbuth5_8",
        "outputId": "f8deeb07-b2ad-45c7-853b-7714413749cf"
      },
      "execution_count": 59,
      "outputs": [
        {
          "output_type": "stream",
          "name": "stdout",
          "text": [
            "RANSAC Regression Scores:\n",
            "Training R^2 = 0.043\n",
            "Training MAE = 609.615\n",
            "\n",
            "Testing R^2 = 0.045\n",
            "Testing MAE = 600.971\n"
          ]
        }
      ]
    },
    {
      "cell_type": "markdown",
      "source": [
        "# Removing Outliers in Target Data\n",
        "Most of the data in the PROPOSED_PENALTY column seems to be less than 500. So, let's try removing large values from the dataset."
      ],
      "metadata": {
        "id": "WijkEZAolRFr"
      }
    },
    {
      "cell_type": "code",
      "source": [
        "MAX_VALUE = 1000\n",
        "violations_cliped = violation_data[violation_data['PROPOSED_PENALTY'] <= MAX_VALUE]\n",
        "\n",
        "print('Total samples = %d' % len(violation_data))\n",
        "print('Total samples with PROPOSED_PENALTY <= %d: %d' % (MAX_VALUE, len(violations_cliped)))"
      ],
      "metadata": {
        "colab": {
          "base_uri": "https://localhost:8080/"
        },
        "id": "yjNm-iuMkRPd",
        "outputId": "da11041a-74ab-4621-e227-ea1aa845b243"
      },
      "execution_count": 120,
      "outputs": [
        {
          "output_type": "stream",
          "name": "stdout",
          "text": [
            "Total samples = 1429135\n",
            "Total samples with PROPOSED_PENALTY <= 1000: 1259626\n"
          ]
        }
      ]
    },
    {
      "cell_type": "code",
      "source": [
        "hist = violations_cliped.hist(figsize=(10,10), bins=40)"
      ],
      "metadata": {
        "colab": {
          "base_uri": "https://localhost:8080/",
          "height": 607
        },
        "id": "NFoAuX_ymW8t",
        "outputId": "bebb5397-9c8b-4216-df32-018ca8f3c3ab"
      },
      "execution_count": 102,
      "outputs": [
        {
          "output_type": "display_data",
          "data": {
            "text/plain": [
              "<Figure size 720x720 with 9 Axes>"
            ],
            "image/png": "[encoded data removed]"
          },
          "metadata": {
            "needs_background": "light"
          }
        }
      ]
    },
    {
      "cell_type": "markdown",
      "source": [
        "## Prepare Inlier Data"
      ],
      "metadata": {
        "id": "-VnILmiXnMug"
      }
    },
    {
      "cell_type": "code",
      "source": [
        "X_inliers = violations_cliped[FEATURES]\n",
        "y_inliers = violations_cliped[TARGETS]\n",
        "\n",
        "# Instantiate encoder/scaler\n",
        "scaler = StandardScaler()\n",
        "ohe = OneHotEncoder(sparse=False)\n",
        "\n",
        "# Scale and Encode Separate Columns\n",
        "scaled_columns_inliers  = scaler.fit_transform(X_inliers[columns_to_scale])\n",
        "encoded_columns_inliers = ohe.fit_transform(X_inliers[columns_to_encode])\n",
        "\n",
        "# Concatenate (Column-Bind) Processed Columns Back Together\n",
        "X_pre_inliers = np.concatenate([scaled_columns_inliers, encoded_columns_inliers], axis=1)\n",
        "np.nan_to_num(X_pre_inliers, copy=False)\n",
        "\n",
        "X_train_inliers, X_test_inliers, y_train_inliers, y_test_inliers = train_test_split(X_pre_inliers, y_inliers, test_size = 0.25, random_state = 0)"
      ],
      "metadata": {
        "id": "5omO5YwenL0r"
      },
      "execution_count": 103,
      "outputs": []
    },
    {
      "cell_type": "markdown",
      "source": [
        "## Inlier Linear Regression"
      ],
      "metadata": {
        "id": "ATp2SEDXn5x3"
      }
    },
    {
      "cell_type": "code",
      "source": [
        "lin_reg_inliers = LinearRegression().fit(X_train_inliers, y_train_inliers)"
      ],
      "metadata": {
        "id": "E6RnxsACn44s"
      },
      "execution_count": 104,
      "outputs": []
    },
    {
      "cell_type": "code",
      "source": [
        "lin_reg_inliers_y_pred_train = lin_reg_inliers.predict(X_train_inliers)\n",
        "lin_reg_inliers_y_pred_test = lin_reg_inliers.predict(X_test_inliers)\n",
        "\n",
        "lin_reg_inliers_r_squared_train = r2_score(y_train_inliers, lin_reg_inliers_y_pred_train)\n",
        "lin_reg_inliers_r_squared_test = r2_score(y_test_inliers, lin_reg_inliers_y_pred_test)\n",
        "\n",
        "lin_reg_inliers_mae_train = mean_absolute_error(y_train_inliers, lin_reg_inliers_y_pred_train)\n",
        "lin_reg_inliers_mae_test = mean_absolute_error(y_test_inliers, lin_reg_inliers_y_pred_test)\n",
        "\n",
        "print('Inlier Simple Linear Regression Scores:')\n",
        "print('Training R^2 = %.3f' % lin_reg_inliers_r_squared_train)\n",
        "print('Training MAE = %.3f' % lin_reg_inliers_mae_train)\n",
        "\n",
        "print('\\nTesting R^2 = %.3f' % lin_reg_inliers_r_squared_test)\n",
        "print('Testing MAE = %.3f' % lin_reg_inliers_mae_test)"
      ],
      "metadata": {
        "colab": {
          "base_uri": "https://localhost:8080/"
        },
        "id": "RZ5grPRAn_ua",
        "outputId": "dbdc4e42-295c-4ba5-b8c2-ca10d4df47c9"
      },
      "execution_count": 105,
      "outputs": [
        {
          "output_type": "stream",
          "name": "stdout",
          "text": [
            "Inlier Simple Linear Regression Scores:\n",
            "Training R^2 = 0.388\n",
            "Training MAE = 105.540\n",
            "\n",
            "Testing R^2 = 0.388\n",
            "Testing MAE = 105.501\n"
          ]
        }
      ]
    },
    {
      "cell_type": "markdown",
      "source": [
        "## Inlier RANSAC Regression"
      ],
      "metadata": {
        "id": "SKfYNjawoSZE"
      }
    },
    {
      "cell_type": "code",
      "source": [
        "ransac_reg_inliers = RANSACRegressor(random_state=35).fit(X_train_inliers, y_train_inliers)"
      ],
      "metadata": {
        "id": "SamR2uc9oYGi"
      },
      "execution_count": 116,
      "outputs": []
    },
    {
      "cell_type": "code",
      "source": [
        "ransac_reg_inliers_y_pred_train = ransac_reg_inliers.predict(X_train_inliers)\n",
        "ransac_reg_inliers_y_pred_test = ransac_reg_inliers.predict(X_test_inliers)\n",
        "\n",
        "ransac_reg_inliers_r_squared_train = r2_score(y_train_inliers, ransac_reg_inliers_y_pred_train)\n",
        "ransac_reg_inliers_r_squared_test = r2_score(y_test_inliers, ransac_reg_inliers_y_pred_test)\n",
        "\n",
        "ransac_reg_inliers_mae_train = mean_absolute_error(y_train_inliers, ransac_reg_inliers_y_pred_train)\n",
        "ransac_reg_inliers_mae_test = mean_absolute_error(y_test_inliers, ransac_reg_inliers_y_pred_test)\n",
        "\n",
        "print('Inlier RANSAC Regression Scores:')\n",
        "print('Training R^2 = %.3f' % ransac_reg_inliers_r_squared_train)\n",
        "print('Training MAE = %.3f' % ransac_reg_inliers_mae_train)\n",
        "\n",
        "print('\\nTesting R^2 = %.3f' % ransac_reg_inliers_r_squared_test)\n",
        "print('Testing MAE = %.3f' % ransac_reg_inliers_mae_test)"
      ],
      "metadata": {
        "colab": {
          "base_uri": "https://localhost:8080/"
        },
        "id": "Y7GGKXGmoZdM",
        "outputId": "257dae7d-0668-43e1-b805-cf9885a1e29e"
      },
      "execution_count": 117,
      "outputs": [
        {
          "output_type": "stream",
          "name": "stdout",
          "text": [
            "RANSAC Regression Scores:\n",
            "Training R^2 = 0.090\n",
            "Training MAE = 112.170\n",
            "\n",
            "Testing R^2 = 0.102\n",
            "Testing MAE = 111.643\n"
          ]
        }
      ]
    },
    {
      "cell_type": "markdown",
      "source": [
        "# Focusing on Outliers\n",
        "Now lets see if we can fit a model to the larger values."
      ],
      "metadata": {
        "id": "xaf0vu3gqhx1"
      }
    },
    {
      "cell_type": "code",
      "source": [
        "violations_outliers = violation_data[violation_data['PROPOSED_PENALTY'] > MAX_VALUE]\n",
        "\n",
        "print('Total samples = %d' % len(violation_data))\n",
        "print('Total samples with PROPOSED_PENALTY > %d: %d' % (MAX_VALUE, len(violations_outliers)))"
      ],
      "metadata": {
        "colab": {
          "base_uri": "https://localhost:8080/"
        },
        "id": "5CqDGMK4quNX",
        "outputId": "83990f9f-7ad0-4827-ec52-53c789039015"
      },
      "execution_count": 152,
      "outputs": [
        {
          "output_type": "stream",
          "name": "stdout",
          "text": [
            "Total samples = 1429135\n",
            "Total samples with PROPOSED_PENALTY > 1000: 169509\n"
          ]
        }
      ]
    },
    {
      "cell_type": "code",
      "source": [
        "hist = violations_outliers.hist(figsize=(10,10), bins=40)"
      ],
      "metadata": {
        "colab": {
          "base_uri": "https://localhost:8080/",
          "height": 607
        },
        "id": "MerpGeNFq-YG",
        "outputId": "897e62a4-b641-40ac-d894-ab09462d45bb"
      },
      "execution_count": 146,
      "outputs": [
        {
          "output_type": "display_data",
          "data": {
            "text/plain": [
              "<Figure size 720x720 with 9 Axes>"
            ],
            "image/png": "[encoded data removed]"
          },
          "metadata": {
            "needs_background": "light"
          }
        }
      ]
    },
    {
      "cell_type": "markdown",
      "source": [
        "## Process outlier data"
      ],
      "metadata": {
        "id": "y_vImwZqrmOd"
      }
    },
    {
      "cell_type": "code",
      "source": [
        "X_outliers = violations_outliers[FEATURES]\n",
        "y_outliers = violations_outliers[TARGETS]\n",
        "\n",
        "# Instantiate encoder/scaler\n",
        "scaler = StandardScaler()\n",
        "ohe = OneHotEncoder(sparse=False)\n",
        "\n",
        "# Scale and Encode Separate Columns\n",
        "scaled_columns_outliers  = scaler.fit_transform(X_outliers[columns_to_scale])\n",
        "encoded_columns_outliers = ohe.fit_transform(X_outliers[columns_to_encode])\n",
        "\n",
        "# Concatenate (Column-Bind) Processed Columns Back Together\n",
        "X_pre_outliers = np.concatenate([scaled_columns_outliers, encoded_columns_outliers], axis=1)\n",
        "np.nan_to_num(X_pre_outliers, copy=False)\n",
        "\n",
        "X_train_outliers, X_test_outliers, y_train_outliers, y_test_outliers = train_test_split(X_pre_outliers, y_outliers, test_size = 0.25, random_state = 0)"
      ],
      "metadata": {
        "id": "e1yYuaEDroxS"
      },
      "execution_count": 153,
      "outputs": []
    },
    {
      "cell_type": "markdown",
      "source": [
        "## Outlier Linear Regression"
      ],
      "metadata": {
        "id": "AvZEqFvWrgKh"
      }
    },
    {
      "cell_type": "code",
      "source": [
        "lin_reg_outliers = LinearRegression().fit(X_train_outliers, y_train_outliers)"
      ],
      "metadata": {
        "id": "aTSmMLB_r-cO"
      },
      "execution_count": 155,
      "outputs": []
    },
    {
      "cell_type": "code",
      "source": [
        "lin_reg_outliers_y_pred_train = lin_reg_outliers.predict(X_train_outliers)\n",
        "lin_reg_outliers_y_pred_test = lin_reg_outliers.predict(X_test_outliers)\n",
        "\n",
        "lin_reg_outliers_r_squared_train = r2_score(y_train_outliers, lin_reg_outliers_y_pred_train)\n",
        "lin_reg_outliers_r_squared_test = r2_score(y_test_outliers, lin_reg_outliers_y_pred_test)\n",
        "\n",
        "lin_reg_outliers_mae_train = mean_absolute_error(y_train_outliers, lin_reg_outliers_y_pred_train)\n",
        "lin_reg_outliers_mae_test = mean_absolute_error(y_test_outliers, lin_reg_outliers_y_pred_test)\n",
        "\n",
        "print('Outlier Simple Linear Regression Scores:')\n",
        "print('Training R^2 = %.3f' % lin_reg_outliers_r_squared_train)\n",
        "print('Training MAE = %.3f' % lin_reg_outliers_mae_train)\n",
        "\n",
        "print('\\nTesting R^2 = %.3f' % lin_reg_outliers_r_squared_test)\n",
        "print('Testing MAE = %.3f' % lin_reg_outliers_mae_test)"
      ],
      "metadata": {
        "colab": {
          "base_uri": "https://localhost:8080/"
        },
        "id": "usGZKXHBsASw",
        "outputId": "0d80db5a-6f43-4b87-e9cd-06a94d272d84"
      },
      "execution_count": 156,
      "outputs": [
        {
          "output_type": "stream",
          "name": "stdout",
          "text": [
            "Outlier Simple Linear Regression Scores:\n",
            "Training R^2 = 0.275\n",
            "Training MAE = 3416.393\n",
            "\n",
            "Testing R^2 = 0.285\n",
            "Testing MAE = 3416.473\n"
          ]
        }
      ]
    },
    {
      "cell_type": "markdown",
      "source": [
        "## Outlier RANSAC Regression"
      ],
      "metadata": {
        "id": "3M3z-DJLsd_L"
      }
    },
    {
      "cell_type": "code",
      "source": [
        "ransac_reg_outliers = RANSACRegressor(random_state=2).fit(X_train_outliers, y_train_outliers)"
      ],
      "metadata": {
        "id": "Fi_BMX9qsiNT"
      },
      "execution_count": 157,
      "outputs": []
    },
    {
      "cell_type": "code",
      "source": [
        "ransac_reg_outliers_y_pred_train = ransac_reg_outliers.predict(X_train_outliers)\n",
        "ransac_reg_outliers_y_pred_test = ransac_reg_outliers.predict(X_test_outliers)\n",
        "\n",
        "ransac_reg_outliers_r_squared_train = r2_score(y_train_outliers, ransac_reg_outliers_y_pred_train)\n",
        "ransac_reg_outliers_r_squared_test = r2_score(y_test_outliers, ransac_reg_outliers_y_pred_test)\n",
        "\n",
        "ransac_reg_outliers_mae_train = mean_absolute_error(y_train_outliers, ransac_reg_outliers_y_pred_train)\n",
        "ransac_reg_outliers_mae_test = mean_absolute_error(y_test_outliers, ransac_reg_outliers_y_pred_test)\n",
        "\n",
        "print('Outlier RANSAC Regression Scores:')\n",
        "print('Training R^2 = %.3f' % ransac_reg_outliers_r_squared_train)\n",
        "print('Training MAE = %.3f' % ransac_reg_outliers_mae_train)\n",
        "\n",
        "print('\\nTesting R^2 = %.3f' % ransac_reg_outliers_r_squared_test)\n",
        "print('Testing MAE = %.3f' % ransac_reg_outliers_mae_test)"
      ],
      "metadata": {
        "colab": {
          "base_uri": "https://localhost:8080/"
        },
        "id": "UXhq1BHAsk4h",
        "outputId": "0a55c371-fee9-4330-d192-ac99ed1c3b2f"
      },
      "execution_count": 159,
      "outputs": [
        {
          "output_type": "stream",
          "name": "stdout",
          "text": [
            "Outlier RANSAC Regression Scores:\n",
            "Training R^2 = 0.035\n",
            "Training MAE = 3127.516\n",
            "\n",
            "Testing R^2 = 0.025\n",
            "Testing MAE = 3135.479\n"
          ]
        }
      ]
    }
  ]
}